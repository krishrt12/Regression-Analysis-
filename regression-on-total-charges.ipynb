{
 "cells": [
  {
   "cell_type": "markdown",
   "metadata": {
    "id": "eY4UTeurAYe5",
    "papermill": {
     "duration": 0.046612,
     "end_time": "2020-09-11T16:25:51.342714",
     "exception": false,
     "start_time": "2020-09-11T16:25:51.296102",
     "status": "completed"
    },
    "tags": []
   },
   "source": [
    "# Abstract \n",
    "**Regression**\n",
    "\n",
    "This is a customer churn dataset. we have features ranging from customer demographics ,customer account information to services each customer has subscribed to.<br>\n",
    "This work is my attempt to predict the **Total Charges** inflicted to the customer depending on the services and all other factors from the dataset.<br>\n",
    "Linear Regression,Knn and Decision Tree algorithms are used to predict the Total Charges.The models accuracy is compared and the best is choosen.\n",
    "\n"
   ]
  },
  {
   "cell_type": "markdown",
   "metadata": {
    "id": "18RrhubPDsrw",
    "papermill": {
     "duration": 0.042158,
     "end_time": "2020-09-11T16:25:51.429101",
     "exception": false,
     "start_time": "2020-09-11T16:25:51.386943",
     "status": "completed"
    },
    "tags": []
   },
   "source": [
    "## Importing all the required packages"
   ]
  },
  {
   "cell_type": "code",
   "execution_count": 1,
   "metadata": {
    "execution": {
     "iopub.execute_input": "2020-09-11T16:25:51.522848Z",
     "iopub.status.busy": "2020-09-11T16:25:51.521943Z",
     "iopub.status.idle": "2020-09-11T16:25:54.742150Z",
     "shell.execute_reply": "2020-09-11T16:25:54.741177Z"
    },
    "id": "fx7t0MxdTPYm",
    "papermill": {
     "duration": 3.270782,
     "end_time": "2020-09-11T16:25:54.742332",
     "exception": false,
     "start_time": "2020-09-11T16:25:51.471550",
     "status": "completed"
    },
    "tags": []
   },
   "outputs": [],
   "source": [
    "import pandas as pd\n",
    "import numpy as np\n",
    "import statsmodels.api as sm\n",
    "import matplotlib.pyplot as plt\n",
    "import seaborn as sns\n",
    "import plotly.graph_objects as go\n",
    "import plotly.express as px\n",
    "from sklearn.model_selection import train_test_split\n",
    "from sklearn.linear_model import LinearRegression\n",
    "from sklearn.metrics import r2_score\n",
    "from sklearn.preprocessing import PolynomialFeatures\n",
    "from sklearn.preprocessing import MinMaxScaler\n",
    "from sklearn.neighbors import KNeighborsRegressor as Knn\n",
    "from sklearn.metrics import mean_squared_error as mse\n",
    "from sklearn.tree import DecisionTreeRegressor\n",
    "import math as m"
   ]
  },
  {
   "cell_type": "markdown",
   "metadata": {
    "id": "6d9SBPh4DnSF",
    "papermill": {
     "duration": 0.043709,
     "end_time": "2020-09-11T16:25:54.831939",
     "exception": false,
     "start_time": "2020-09-11T16:25:54.788230",
     "status": "completed"
    },
    "tags": []
   },
   "source": [
    "## Loading the dataset"
   ]
  },
  {
   "cell_type": "code",
   "execution_count": 2,
   "metadata": {
    "execution": {
     "iopub.execute_input": "2020-09-11T16:25:54.936115Z",
     "iopub.status.busy": "2020-09-11T16:25:54.935442Z",
     "iopub.status.idle": "2020-09-11T16:25:55.052956Z",
     "shell.execute_reply": "2020-09-11T16:25:55.053437Z"
    },
    "id": "x-eA5ng5UA2v",
    "outputId": "198d40a6-1b45-49ce-b855-cd97a8b857b8",
    "papermill": {
     "duration": 0.177945,
     "end_time": "2020-09-11T16:25:55.053583",
     "exception": false,
     "start_time": "2020-09-11T16:25:54.875638",
     "status": "completed"
    },
    "tags": []
   },
   "outputs": [
    {
     "data": {
      "text/html": [
       "<div>\n",
       "<style scoped>\n",
       "    .dataframe tbody tr th:only-of-type {\n",
       "        vertical-align: middle;\n",
       "    }\n",
       "\n",
       "    .dataframe tbody tr th {\n",
       "        vertical-align: top;\n",
       "    }\n",
       "\n",
       "    .dataframe thead th {\n",
       "        text-align: right;\n",
       "    }\n",
       "</style>\n",
       "<table border=\"1\" class=\"dataframe\">\n",
       "  <thead>\n",
       "    <tr style=\"text-align: right;\">\n",
       "      <th></th>\n",
       "      <th>customerID</th>\n",
       "      <th>gender</th>\n",
       "      <th>SeniorCitizen</th>\n",
       "      <th>Partner</th>\n",
       "      <th>Dependents</th>\n",
       "      <th>tenure</th>\n",
       "      <th>PhoneService</th>\n",
       "      <th>MultipleLines</th>\n",
       "      <th>InternetService</th>\n",
       "      <th>OnlineSecurity</th>\n",
       "      <th>...</th>\n",
       "      <th>DeviceProtection</th>\n",
       "      <th>TechSupport</th>\n",
       "      <th>StreamingTV</th>\n",
       "      <th>StreamingMovies</th>\n",
       "      <th>Contract</th>\n",
       "      <th>PaperlessBilling</th>\n",
       "      <th>PaymentMethod</th>\n",
       "      <th>MonthlyCharges</th>\n",
       "      <th>TotalCharges</th>\n",
       "      <th>Churn</th>\n",
       "    </tr>\n",
       "  </thead>\n",
       "  <tbody>\n",
       "    <tr>\n",
       "      <th>0</th>\n",
       "      <td>7590-VHVEG</td>\n",
       "      <td>Female</td>\n",
       "      <td>0</td>\n",
       "      <td>Yes</td>\n",
       "      <td>No</td>\n",
       "      <td>1</td>\n",
       "      <td>No</td>\n",
       "      <td>No phone service</td>\n",
       "      <td>DSL</td>\n",
       "      <td>No</td>\n",
       "      <td>...</td>\n",
       "      <td>No</td>\n",
       "      <td>No</td>\n",
       "      <td>No</td>\n",
       "      <td>No</td>\n",
       "      <td>Month-to-month</td>\n",
       "      <td>Yes</td>\n",
       "      <td>Electronic check</td>\n",
       "      <td>29.85</td>\n",
       "      <td>29.85</td>\n",
       "      <td>No</td>\n",
       "    </tr>\n",
       "    <tr>\n",
       "      <th>1</th>\n",
       "      <td>5575-GNVDE</td>\n",
       "      <td>Male</td>\n",
       "      <td>0</td>\n",
       "      <td>No</td>\n",
       "      <td>No</td>\n",
       "      <td>34</td>\n",
       "      <td>Yes</td>\n",
       "      <td>No</td>\n",
       "      <td>DSL</td>\n",
       "      <td>Yes</td>\n",
       "      <td>...</td>\n",
       "      <td>Yes</td>\n",
       "      <td>No</td>\n",
       "      <td>No</td>\n",
       "      <td>No</td>\n",
       "      <td>One year</td>\n",
       "      <td>No</td>\n",
       "      <td>Mailed check</td>\n",
       "      <td>56.95</td>\n",
       "      <td>1889.5</td>\n",
       "      <td>No</td>\n",
       "    </tr>\n",
       "    <tr>\n",
       "      <th>2</th>\n",
       "      <td>3668-QPYBK</td>\n",
       "      <td>Male</td>\n",
       "      <td>0</td>\n",
       "      <td>No</td>\n",
       "      <td>No</td>\n",
       "      <td>2</td>\n",
       "      <td>Yes</td>\n",
       "      <td>No</td>\n",
       "      <td>DSL</td>\n",
       "      <td>Yes</td>\n",
       "      <td>...</td>\n",
       "      <td>No</td>\n",
       "      <td>No</td>\n",
       "      <td>No</td>\n",
       "      <td>No</td>\n",
       "      <td>Month-to-month</td>\n",
       "      <td>Yes</td>\n",
       "      <td>Mailed check</td>\n",
       "      <td>53.85</td>\n",
       "      <td>108.15</td>\n",
       "      <td>Yes</td>\n",
       "    </tr>\n",
       "    <tr>\n",
       "      <th>3</th>\n",
       "      <td>7795-CFOCW</td>\n",
       "      <td>Male</td>\n",
       "      <td>0</td>\n",
       "      <td>No</td>\n",
       "      <td>No</td>\n",
       "      <td>45</td>\n",
       "      <td>No</td>\n",
       "      <td>No phone service</td>\n",
       "      <td>DSL</td>\n",
       "      <td>Yes</td>\n",
       "      <td>...</td>\n",
       "      <td>Yes</td>\n",
       "      <td>Yes</td>\n",
       "      <td>No</td>\n",
       "      <td>No</td>\n",
       "      <td>One year</td>\n",
       "      <td>No</td>\n",
       "      <td>Bank transfer (automatic)</td>\n",
       "      <td>42.30</td>\n",
       "      <td>1840.75</td>\n",
       "      <td>No</td>\n",
       "    </tr>\n",
       "    <tr>\n",
       "      <th>4</th>\n",
       "      <td>9237-HQITU</td>\n",
       "      <td>Female</td>\n",
       "      <td>0</td>\n",
       "      <td>No</td>\n",
       "      <td>No</td>\n",
       "      <td>2</td>\n",
       "      <td>Yes</td>\n",
       "      <td>No</td>\n",
       "      <td>Fiber optic</td>\n",
       "      <td>No</td>\n",
       "      <td>...</td>\n",
       "      <td>No</td>\n",
       "      <td>No</td>\n",
       "      <td>No</td>\n",
       "      <td>No</td>\n",
       "      <td>Month-to-month</td>\n",
       "      <td>Yes</td>\n",
       "      <td>Electronic check</td>\n",
       "      <td>70.70</td>\n",
       "      <td>151.65</td>\n",
       "      <td>Yes</td>\n",
       "    </tr>\n",
       "  </tbody>\n",
       "</table>\n",
       "<p>5 rows × 21 columns</p>\n",
       "</div>"
      ],
      "text/plain": [
       "   customerID  gender  SeniorCitizen Partner Dependents  tenure PhoneService  \\\n",
       "0  7590-VHVEG  Female              0     Yes         No       1           No   \n",
       "1  5575-GNVDE    Male              0      No         No      34          Yes   \n",
       "2  3668-QPYBK    Male              0      No         No       2          Yes   \n",
       "3  7795-CFOCW    Male              0      No         No      45           No   \n",
       "4  9237-HQITU  Female              0      No         No       2          Yes   \n",
       "\n",
       "      MultipleLines InternetService OnlineSecurity  ... DeviceProtection  \\\n",
       "0  No phone service             DSL             No  ...               No   \n",
       "1                No             DSL            Yes  ...              Yes   \n",
       "2                No             DSL            Yes  ...               No   \n",
       "3  No phone service             DSL            Yes  ...              Yes   \n",
       "4                No     Fiber optic             No  ...               No   \n",
       "\n",
       "  TechSupport StreamingTV StreamingMovies        Contract PaperlessBilling  \\\n",
       "0          No          No              No  Month-to-month              Yes   \n",
       "1          No          No              No        One year               No   \n",
       "2          No          No              No  Month-to-month              Yes   \n",
       "3         Yes          No              No        One year               No   \n",
       "4          No          No              No  Month-to-month              Yes   \n",
       "\n",
       "               PaymentMethod MonthlyCharges  TotalCharges Churn  \n",
       "0           Electronic check          29.85         29.85    No  \n",
       "1               Mailed check          56.95        1889.5    No  \n",
       "2               Mailed check          53.85        108.15   Yes  \n",
       "3  Bank transfer (automatic)          42.30       1840.75    No  \n",
       "4           Electronic check          70.70        151.65   Yes  \n",
       "\n",
       "[5 rows x 21 columns]"
      ]
     },
     "execution_count": 2,
     "metadata": {},
     "output_type": "execute_result"
    }
   ],
   "source": [
    "data = pd.read_csv('../input/telco-customer-churn/WA_Fn-UseC_-Telco-Customer-Churn.csv')\n",
    "data.head()\n"
   ]
  },
  {
   "cell_type": "markdown",
   "metadata": {
    "id": "S440_QTUDx0g",
    "papermill": {
     "duration": 0.044396,
     "end_time": "2020-09-11T16:25:55.142607",
     "exception": false,
     "start_time": "2020-09-11T16:25:55.098211",
     "status": "completed"
    },
    "tags": []
   },
   "source": [
    "## Exploratory Data Analysis"
   ]
  },
  {
   "cell_type": "code",
   "execution_count": 3,
   "metadata": {
    "execution": {
     "iopub.execute_input": "2020-09-11T16:25:55.235554Z",
     "iopub.status.busy": "2020-09-11T16:25:55.234893Z",
     "iopub.status.idle": "2020-09-11T16:25:55.239384Z",
     "shell.execute_reply": "2020-09-11T16:25:55.238749Z"
    },
    "id": "nGPj0DYS7oXB",
    "outputId": "e3cd4b14-49bf-4136-801a-3b97cc4412ba",
    "papermill": {
     "duration": 0.052548,
     "end_time": "2020-09-11T16:25:55.239496",
     "exception": false,
     "start_time": "2020-09-11T16:25:55.186948",
     "status": "completed"
    },
    "tags": []
   },
   "outputs": [
    {
     "data": {
      "text/plain": [
       "(7043, 21)"
      ]
     },
     "execution_count": 3,
     "metadata": {},
     "output_type": "execute_result"
    }
   ],
   "source": [
    "data.shape"
   ]
  },
  {
   "cell_type": "code",
   "execution_count": 4,
   "metadata": {
    "execution": {
     "iopub.execute_input": "2020-09-11T16:25:55.345949Z",
     "iopub.status.busy": "2020-09-11T16:25:55.345291Z",
     "iopub.status.idle": "2020-09-11T16:25:55.353792Z",
     "shell.execute_reply": "2020-09-11T16:25:55.354249Z"
    },
    "id": "Q2uxKyZbapu_",
    "outputId": "25ba240a-87f2-4d29-a4d2-7f0dfa20952d",
    "papermill": {
     "duration": 0.071244,
     "end_time": "2020-09-11T16:25:55.354424",
     "exception": false,
     "start_time": "2020-09-11T16:25:55.283180",
     "status": "completed"
    },
    "tags": []
   },
   "outputs": [
    {
     "data": {
      "text/plain": [
       "customerID           object\n",
       "gender               object\n",
       "SeniorCitizen         int64\n",
       "Partner              object\n",
       "Dependents           object\n",
       "tenure                int64\n",
       "PhoneService         object\n",
       "MultipleLines        object\n",
       "InternetService      object\n",
       "OnlineSecurity       object\n",
       "OnlineBackup         object\n",
       "DeviceProtection     object\n",
       "TechSupport          object\n",
       "StreamingTV          object\n",
       "StreamingMovies      object\n",
       "Contract             object\n",
       "PaperlessBilling     object\n",
       "PaymentMethod        object\n",
       "MonthlyCharges      float64\n",
       "TotalCharges         object\n",
       "Churn                object\n",
       "dtype: object"
      ]
     },
     "execution_count": 4,
     "metadata": {},
     "output_type": "execute_result"
    }
   ],
   "source": [
    "data.isna().sum()\n",
    "data.dtypes"
   ]
  },
  {
   "cell_type": "code",
   "execution_count": 5,
   "metadata": {
    "execution": {
     "iopub.execute_input": "2020-09-11T16:25:55.454481Z",
     "iopub.status.busy": "2020-09-11T16:25:55.453171Z",
     "iopub.status.idle": "2020-09-11T16:25:55.458978Z",
     "shell.execute_reply": "2020-09-11T16:25:55.458392Z"
    },
    "id": "rXd8OQT-hF4U",
    "papermill": {
     "duration": 0.059672,
     "end_time": "2020-09-11T16:25:55.459098",
     "exception": false,
     "start_time": "2020-09-11T16:25:55.399426",
     "status": "completed"
    },
    "tags": []
   },
   "outputs": [],
   "source": [
    "data.drop(columns=['customerID','Churn'],axis=1,inplace=True)"
   ]
  },
  {
   "cell_type": "code",
   "execution_count": 6,
   "metadata": {
    "execution": {
     "iopub.execute_input": "2020-09-11T16:25:55.556746Z",
     "iopub.status.busy": "2020-09-11T16:25:55.555943Z",
     "iopub.status.idle": "2020-09-11T16:25:55.572822Z",
     "shell.execute_reply": "2020-09-11T16:25:55.572054Z"
    },
    "id": "IWX-j280CMQa",
    "papermill": {
     "duration": 0.069295,
     "end_time": "2020-09-11T16:25:55.572941",
     "exception": false,
     "start_time": "2020-09-11T16:25:55.503646",
     "status": "completed"
    },
    "tags": []
   },
   "outputs": [],
   "source": [
    "data['SeniorCitizen'].replace([1],'Yes',inplace=True)\n",
    "data['SeniorCitizen'].replace([0],'No',inplace=True)     \n",
    "data['TotalCharges'] = pd.to_numeric(data['TotalCharges'],errors='coerce')\n",
    "data.drop(index=data.loc[data['TotalCharges'].isna()].index,axis=0,inplace=True)"
   ]
  },
  {
   "cell_type": "code",
   "execution_count": 7,
   "metadata": {
    "execution": {
     "iopub.execute_input": "2020-09-11T16:25:55.676841Z",
     "iopub.status.busy": "2020-09-11T16:25:55.667270Z",
     "iopub.status.idle": "2020-09-11T16:25:55.692451Z",
     "shell.execute_reply": "2020-09-11T16:25:55.691904Z"
    },
    "id": "9O5CA8RyDaw0",
    "outputId": "be5f30d3-a2bf-4a91-fcbb-a7fab8caf560",
    "papermill": {
     "duration": 0.074802,
     "end_time": "2020-09-11T16:25:55.692584",
     "exception": false,
     "start_time": "2020-09-11T16:25:55.617782",
     "status": "completed"
    },
    "tags": []
   },
   "outputs": [
    {
     "data": {
      "text/html": [
       "<div>\n",
       "<style scoped>\n",
       "    .dataframe tbody tr th:only-of-type {\n",
       "        vertical-align: middle;\n",
       "    }\n",
       "\n",
       "    .dataframe tbody tr th {\n",
       "        vertical-align: top;\n",
       "    }\n",
       "\n",
       "    .dataframe thead th {\n",
       "        text-align: right;\n",
       "    }\n",
       "</style>\n",
       "<table border=\"1\" class=\"dataframe\">\n",
       "  <thead>\n",
       "    <tr style=\"text-align: right;\">\n",
       "      <th></th>\n",
       "      <th>gender</th>\n",
       "      <th>SeniorCitizen</th>\n",
       "      <th>Partner</th>\n",
       "      <th>Dependents</th>\n",
       "      <th>tenure</th>\n",
       "      <th>PhoneService</th>\n",
       "      <th>MultipleLines</th>\n",
       "      <th>InternetService</th>\n",
       "      <th>OnlineSecurity</th>\n",
       "      <th>OnlineBackup</th>\n",
       "      <th>DeviceProtection</th>\n",
       "      <th>TechSupport</th>\n",
       "      <th>StreamingTV</th>\n",
       "      <th>StreamingMovies</th>\n",
       "      <th>Contract</th>\n",
       "      <th>PaperlessBilling</th>\n",
       "      <th>PaymentMethod</th>\n",
       "      <th>MonthlyCharges</th>\n",
       "      <th>TotalCharges</th>\n",
       "    </tr>\n",
       "  </thead>\n",
       "  <tbody>\n",
       "    <tr>\n",
       "      <th>0</th>\n",
       "      <td>Female</td>\n",
       "      <td>No</td>\n",
       "      <td>Yes</td>\n",
       "      <td>No</td>\n",
       "      <td>1</td>\n",
       "      <td>No</td>\n",
       "      <td>No phone service</td>\n",
       "      <td>DSL</td>\n",
       "      <td>No</td>\n",
       "      <td>Yes</td>\n",
       "      <td>No</td>\n",
       "      <td>No</td>\n",
       "      <td>No</td>\n",
       "      <td>No</td>\n",
       "      <td>Month-to-month</td>\n",
       "      <td>Yes</td>\n",
       "      <td>Electronic check</td>\n",
       "      <td>29.85</td>\n",
       "      <td>29.85</td>\n",
       "    </tr>\n",
       "    <tr>\n",
       "      <th>1</th>\n",
       "      <td>Male</td>\n",
       "      <td>No</td>\n",
       "      <td>No</td>\n",
       "      <td>No</td>\n",
       "      <td>34</td>\n",
       "      <td>Yes</td>\n",
       "      <td>No</td>\n",
       "      <td>DSL</td>\n",
       "      <td>Yes</td>\n",
       "      <td>No</td>\n",
       "      <td>Yes</td>\n",
       "      <td>No</td>\n",
       "      <td>No</td>\n",
       "      <td>No</td>\n",
       "      <td>One year</td>\n",
       "      <td>No</td>\n",
       "      <td>Mailed check</td>\n",
       "      <td>56.95</td>\n",
       "      <td>1889.50</td>\n",
       "    </tr>\n",
       "    <tr>\n",
       "      <th>2</th>\n",
       "      <td>Male</td>\n",
       "      <td>No</td>\n",
       "      <td>No</td>\n",
       "      <td>No</td>\n",
       "      <td>2</td>\n",
       "      <td>Yes</td>\n",
       "      <td>No</td>\n",
       "      <td>DSL</td>\n",
       "      <td>Yes</td>\n",
       "      <td>Yes</td>\n",
       "      <td>No</td>\n",
       "      <td>No</td>\n",
       "      <td>No</td>\n",
       "      <td>No</td>\n",
       "      <td>Month-to-month</td>\n",
       "      <td>Yes</td>\n",
       "      <td>Mailed check</td>\n",
       "      <td>53.85</td>\n",
       "      <td>108.15</td>\n",
       "    </tr>\n",
       "    <tr>\n",
       "      <th>3</th>\n",
       "      <td>Male</td>\n",
       "      <td>No</td>\n",
       "      <td>No</td>\n",
       "      <td>No</td>\n",
       "      <td>45</td>\n",
       "      <td>No</td>\n",
       "      <td>No phone service</td>\n",
       "      <td>DSL</td>\n",
       "      <td>Yes</td>\n",
       "      <td>No</td>\n",
       "      <td>Yes</td>\n",
       "      <td>Yes</td>\n",
       "      <td>No</td>\n",
       "      <td>No</td>\n",
       "      <td>One year</td>\n",
       "      <td>No</td>\n",
       "      <td>Bank transfer (automatic)</td>\n",
       "      <td>42.30</td>\n",
       "      <td>1840.75</td>\n",
       "    </tr>\n",
       "    <tr>\n",
       "      <th>4</th>\n",
       "      <td>Female</td>\n",
       "      <td>No</td>\n",
       "      <td>No</td>\n",
       "      <td>No</td>\n",
       "      <td>2</td>\n",
       "      <td>Yes</td>\n",
       "      <td>No</td>\n",
       "      <td>Fiber optic</td>\n",
       "      <td>No</td>\n",
       "      <td>No</td>\n",
       "      <td>No</td>\n",
       "      <td>No</td>\n",
       "      <td>No</td>\n",
       "      <td>No</td>\n",
       "      <td>Month-to-month</td>\n",
       "      <td>Yes</td>\n",
       "      <td>Electronic check</td>\n",
       "      <td>70.70</td>\n",
       "      <td>151.65</td>\n",
       "    </tr>\n",
       "  </tbody>\n",
       "</table>\n",
       "</div>"
      ],
      "text/plain": [
       "   gender SeniorCitizen Partner Dependents  tenure PhoneService  \\\n",
       "0  Female            No     Yes         No       1           No   \n",
       "1    Male            No      No         No      34          Yes   \n",
       "2    Male            No      No         No       2          Yes   \n",
       "3    Male            No      No         No      45           No   \n",
       "4  Female            No      No         No       2          Yes   \n",
       "\n",
       "      MultipleLines InternetService OnlineSecurity OnlineBackup  \\\n",
       "0  No phone service             DSL             No          Yes   \n",
       "1                No             DSL            Yes           No   \n",
       "2                No             DSL            Yes          Yes   \n",
       "3  No phone service             DSL            Yes           No   \n",
       "4                No     Fiber optic             No           No   \n",
       "\n",
       "  DeviceProtection TechSupport StreamingTV StreamingMovies        Contract  \\\n",
       "0               No          No          No              No  Month-to-month   \n",
       "1              Yes          No          No              No        One year   \n",
       "2               No          No          No              No  Month-to-month   \n",
       "3              Yes         Yes          No              No        One year   \n",
       "4               No          No          No              No  Month-to-month   \n",
       "\n",
       "  PaperlessBilling              PaymentMethod  MonthlyCharges  TotalCharges  \n",
       "0              Yes           Electronic check           29.85         29.85  \n",
       "1               No               Mailed check           56.95       1889.50  \n",
       "2              Yes               Mailed check           53.85        108.15  \n",
       "3               No  Bank transfer (automatic)           42.30       1840.75  \n",
       "4              Yes           Electronic check           70.70        151.65  "
      ]
     },
     "execution_count": 7,
     "metadata": {},
     "output_type": "execute_result"
    }
   ],
   "source": [
    "data1=data.copy(deep=True)\n",
    "data.head()"
   ]
  },
  {
   "cell_type": "code",
   "execution_count": 8,
   "metadata": {
    "execution": {
     "iopub.execute_input": "2020-09-11T16:25:55.793817Z",
     "iopub.status.busy": "2020-09-11T16:25:55.789802Z",
     "iopub.status.idle": "2020-09-11T16:25:55.814089Z",
     "shell.execute_reply": "2020-09-11T16:25:55.813001Z"
    },
    "id": "FwKEPiCy5kLW",
    "outputId": "72ce68d7-53d5-441a-c1b3-89dadd03667f",
    "papermill": {
     "duration": 0.075764,
     "end_time": "2020-09-11T16:25:55.814229",
     "exception": false,
     "start_time": "2020-09-11T16:25:55.738465",
     "status": "completed"
    },
    "tags": []
   },
   "outputs": [
    {
     "data": {
      "text/html": [
       "<div>\n",
       "<style scoped>\n",
       "    .dataframe tbody tr th:only-of-type {\n",
       "        vertical-align: middle;\n",
       "    }\n",
       "\n",
       "    .dataframe tbody tr th {\n",
       "        vertical-align: top;\n",
       "    }\n",
       "\n",
       "    .dataframe thead th {\n",
       "        text-align: right;\n",
       "    }\n",
       "</style>\n",
       "<table border=\"1\" class=\"dataframe\">\n",
       "  <thead>\n",
       "    <tr style=\"text-align: right;\">\n",
       "      <th></th>\n",
       "      <th>gender</th>\n",
       "      <th>SeniorCitizen</th>\n",
       "      <th>tenure</th>\n",
       "      <th>MonthlyCharges</th>\n",
       "      <th>TotalCharges</th>\n",
       "    </tr>\n",
       "  </thead>\n",
       "  <tbody>\n",
       "    <tr>\n",
       "      <th>0</th>\n",
       "      <td>Female</td>\n",
       "      <td>No</td>\n",
       "      <td>32.226415</td>\n",
       "      <td>62.119811</td>\n",
       "      <td>2174.707256</td>\n",
       "    </tr>\n",
       "    <tr>\n",
       "      <th>1</th>\n",
       "      <td>Female</td>\n",
       "      <td>Yes</td>\n",
       "      <td>32.621479</td>\n",
       "      <td>81.109771</td>\n",
       "      <td>2839.934067</td>\n",
       "    </tr>\n",
       "    <tr>\n",
       "      <th>2</th>\n",
       "      <td>Male</td>\n",
       "      <td>No</td>\n",
       "      <td>32.277647</td>\n",
       "      <td>61.656101</td>\n",
       "      <td>2187.343126</td>\n",
       "    </tr>\n",
       "    <tr>\n",
       "      <th>3</th>\n",
       "      <td>Male</td>\n",
       "      <td>Yes</td>\n",
       "      <td>33.963415</td>\n",
       "      <td>78.544425</td>\n",
       "      <td>2781.304355</td>\n",
       "    </tr>\n",
       "  </tbody>\n",
       "</table>\n",
       "</div>"
      ],
      "text/plain": [
       "   gender SeniorCitizen     tenure  MonthlyCharges  TotalCharges\n",
       "0  Female            No  32.226415       62.119811   2174.707256\n",
       "1  Female           Yes  32.621479       81.109771   2839.934067\n",
       "2    Male            No  32.277647       61.656101   2187.343126\n",
       "3    Male           Yes  33.963415       78.544425   2781.304355"
      ]
     },
     "execution_count": 8,
     "metadata": {},
     "output_type": "execute_result"
    }
   ],
   "source": [
    "sc = data.groupby(['gender','SeniorCitizen']).mean()\n",
    "sc.reset_index(inplace=True)\n",
    "sc\n",
    "#px.bar(sc,x='gender',y='TotalCharges',facet_col='SeniorCitizen',category_orders={'SeniorCitizen':['No','Yes']})"
   ]
  },
  {
   "cell_type": "code",
   "execution_count": 9,
   "metadata": {
    "execution": {
     "iopub.execute_input": "2020-09-11T16:25:55.919205Z",
     "iopub.status.busy": "2020-09-11T16:25:55.917525Z",
     "iopub.status.idle": "2020-09-11T16:25:57.093118Z",
     "shell.execute_reply": "2020-09-11T16:25:57.092555Z"
    },
    "id": "c_7015eMAsBB",
    "outputId": "5b5bbe09-aec4-4434-c236-c9bc085e8f16",
    "papermill": {
     "duration": 1.231308,
     "end_time": "2020-09-11T16:25:57.093242",
     "exception": false,
     "start_time": "2020-09-11T16:25:55.861934",
     "status": "completed"
    },
    "tags": []
   },
   "outputs": [
    {
     "data": {
      "text/html": [
       "        <script type=\"text/javascript\">\n",
       "        window.PlotlyConfig = {MathJaxConfig: 'local'};\n",
       "        if (window.MathJax) {MathJax.Hub.Config({SVG: {font: \"STIX-Web\"}});}\n",
       "        if (typeof require !== 'undefined') {\n",
       "        require.undef(\"plotly\");\n",
       "        requirejs.config({\n",
       "            paths: {\n",
       "                'plotly': ['https://cdn.plot.ly/plotly-latest.min']\n",
       "            }\n",
       "        });\n",
       "        require(['plotly'], function(Plotly) {\n",
       "            window._Plotly = Plotly;\n",
       "        });\n",
       "        }\n",
       "        </script>\n",
       "        "
      ]
     },
     "metadata": {},
     "output_type": "display_data"
    },
    {
     "data": {
      "text/html": [
       "<div>\n",
       "        \n",
       "        \n",
       "            <div id=\"bc849155-40a6-4093-8b50-68ebc4b0e100\" class=\"plotly-graph-div\" style=\"height:525px; width:100%;\"></div>\n",
       "            <script type=\"text/javascript\">\n",
       "                require([\"plotly\"], function(Plotly) {\n",
       "                    window.PLOTLYENV=window.PLOTLYENV || {};\n",
       "                    \n",
       "                if (document.getElementById(\"bc849155-40a6-4093-8b50-68ebc4b0e100\")) {\n",
       "                    Plotly.newPlot(\n",
       "                        'bc849155-40a6-4093-8b50-68ebc4b0e100',\n",
       "                        [{\"domain\": {\"x\": [0.0, 1.0], \"y\": [0.0, 1.0]}, \"hovertemplate\": \"label=%{label}<br>value=%{value}<extra></extra>\", \"labels\": [\"No\", \"Yes\"], \"legendgroup\": \"\", \"name\": \"\", \"showlegend\": true, \"type\": \"pie\", \"values\": [5767670.999999989, 10288497.700000029]}],\n",
       "                        {\"legend\": {\"tracegroupgap\": 0}, \"margin\": {\"t\": 60}, \"template\": {\"data\": {\"bar\": [{\"error_x\": {\"color\": \"#2a3f5f\"}, \"error_y\": {\"color\": \"#2a3f5f\"}, \"marker\": {\"line\": {\"color\": \"#E5ECF6\", \"width\": 0.5}}, \"type\": \"bar\"}], \"barpolar\": [{\"marker\": {\"line\": {\"color\": \"#E5ECF6\", \"width\": 0.5}}, \"type\": \"barpolar\"}], \"carpet\": [{\"aaxis\": {\"endlinecolor\": \"#2a3f5f\", \"gridcolor\": \"white\", \"linecolor\": \"white\", \"minorgridcolor\": \"white\", \"startlinecolor\": \"#2a3f5f\"}, \"baxis\": {\"endlinecolor\": \"#2a3f5f\", \"gridcolor\": \"white\", \"linecolor\": \"white\", \"minorgridcolor\": \"white\", \"startlinecolor\": \"#2a3f5f\"}, \"type\": \"carpet\"}], \"choropleth\": [{\"colorbar\": {\"outlinewidth\": 0, \"ticks\": \"\"}, \"type\": \"choropleth\"}], \"contour\": [{\"colorbar\": {\"outlinewidth\": 0, \"ticks\": \"\"}, \"colorscale\": [[0.0, \"#0d0887\"], [0.1111111111111111, \"#46039f\"], [0.2222222222222222, \"#7201a8\"], [0.3333333333333333, \"#9c179e\"], [0.4444444444444444, \"#bd3786\"], [0.5555555555555556, \"#d8576b\"], [0.6666666666666666, \"#ed7953\"], [0.7777777777777778, \"#fb9f3a\"], [0.8888888888888888, \"#fdca26\"], [1.0, \"#f0f921\"]], \"type\": \"contour\"}], \"contourcarpet\": [{\"colorbar\": {\"outlinewidth\": 0, \"ticks\": \"\"}, \"type\": \"contourcarpet\"}], \"heatmap\": [{\"colorbar\": {\"outlinewidth\": 0, \"ticks\": \"\"}, \"colorscale\": [[0.0, \"#0d0887\"], [0.1111111111111111, \"#46039f\"], [0.2222222222222222, \"#7201a8\"], [0.3333333333333333, \"#9c179e\"], [0.4444444444444444, \"#bd3786\"], [0.5555555555555556, \"#d8576b\"], [0.6666666666666666, \"#ed7953\"], [0.7777777777777778, \"#fb9f3a\"], [0.8888888888888888, \"#fdca26\"], [1.0, \"#f0f921\"]], \"type\": \"heatmap\"}], \"heatmapgl\": [{\"colorbar\": {\"outlinewidth\": 0, \"ticks\": \"\"}, \"colorscale\": [[0.0, \"#0d0887\"], [0.1111111111111111, \"#46039f\"], [0.2222222222222222, \"#7201a8\"], [0.3333333333333333, \"#9c179e\"], [0.4444444444444444, \"#bd3786\"], [0.5555555555555556, \"#d8576b\"], [0.6666666666666666, \"#ed7953\"], [0.7777777777777778, \"#fb9f3a\"], [0.8888888888888888, \"#fdca26\"], [1.0, \"#f0f921\"]], \"type\": \"heatmapgl\"}], \"histogram\": [{\"marker\": {\"colorbar\": {\"outlinewidth\": 0, \"ticks\": \"\"}}, \"type\": \"histogram\"}], \"histogram2d\": [{\"colorbar\": {\"outlinewidth\": 0, \"ticks\": \"\"}, \"colorscale\": [[0.0, \"#0d0887\"], [0.1111111111111111, \"#46039f\"], [0.2222222222222222, \"#7201a8\"], [0.3333333333333333, \"#9c179e\"], [0.4444444444444444, \"#bd3786\"], [0.5555555555555556, \"#d8576b\"], [0.6666666666666666, \"#ed7953\"], [0.7777777777777778, \"#fb9f3a\"], [0.8888888888888888, \"#fdca26\"], [1.0, \"#f0f921\"]], \"type\": \"histogram2d\"}], \"histogram2dcontour\": [{\"colorbar\": {\"outlinewidth\": 0, \"ticks\": \"\"}, \"colorscale\": [[0.0, \"#0d0887\"], [0.1111111111111111, \"#46039f\"], [0.2222222222222222, \"#7201a8\"], [0.3333333333333333, \"#9c179e\"], [0.4444444444444444, \"#bd3786\"], [0.5555555555555556, \"#d8576b\"], [0.6666666666666666, \"#ed7953\"], [0.7777777777777778, \"#fb9f3a\"], [0.8888888888888888, \"#fdca26\"], [1.0, \"#f0f921\"]], \"type\": \"histogram2dcontour\"}], \"mesh3d\": [{\"colorbar\": {\"outlinewidth\": 0, \"ticks\": \"\"}, \"type\": \"mesh3d\"}], \"parcoords\": [{\"line\": {\"colorbar\": {\"outlinewidth\": 0, \"ticks\": \"\"}}, \"type\": \"parcoords\"}], \"pie\": [{\"automargin\": true, \"type\": \"pie\"}], \"scatter\": [{\"marker\": {\"colorbar\": {\"outlinewidth\": 0, \"ticks\": \"\"}}, \"type\": \"scatter\"}], \"scatter3d\": [{\"line\": {\"colorbar\": {\"outlinewidth\": 0, \"ticks\": \"\"}}, \"marker\": {\"colorbar\": {\"outlinewidth\": 0, \"ticks\": \"\"}}, \"type\": \"scatter3d\"}], \"scattercarpet\": [{\"marker\": {\"colorbar\": {\"outlinewidth\": 0, \"ticks\": \"\"}}, \"type\": \"scattercarpet\"}], \"scattergeo\": [{\"marker\": {\"colorbar\": {\"outlinewidth\": 0, \"ticks\": \"\"}}, \"type\": \"scattergeo\"}], \"scattergl\": [{\"marker\": {\"colorbar\": {\"outlinewidth\": 0, \"ticks\": \"\"}}, \"type\": \"scattergl\"}], \"scattermapbox\": [{\"marker\": {\"colorbar\": {\"outlinewidth\": 0, \"ticks\": \"\"}}, \"type\": \"scattermapbox\"}], \"scatterpolar\": [{\"marker\": {\"colorbar\": {\"outlinewidth\": 0, \"ticks\": \"\"}}, \"type\": \"scatterpolar\"}], \"scatterpolargl\": [{\"marker\": {\"colorbar\": {\"outlinewidth\": 0, \"ticks\": \"\"}}, \"type\": \"scatterpolargl\"}], \"scatterternary\": [{\"marker\": {\"colorbar\": {\"outlinewidth\": 0, \"ticks\": \"\"}}, \"type\": \"scatterternary\"}], \"surface\": [{\"colorbar\": {\"outlinewidth\": 0, \"ticks\": \"\"}, \"colorscale\": [[0.0, \"#0d0887\"], [0.1111111111111111, \"#46039f\"], [0.2222222222222222, \"#7201a8\"], [0.3333333333333333, \"#9c179e\"], [0.4444444444444444, \"#bd3786\"], [0.5555555555555556, \"#d8576b\"], [0.6666666666666666, \"#ed7953\"], [0.7777777777777778, \"#fb9f3a\"], [0.8888888888888888, \"#fdca26\"], [1.0, \"#f0f921\"]], \"type\": \"surface\"}], \"table\": [{\"cells\": {\"fill\": {\"color\": \"#EBF0F8\"}, \"line\": {\"color\": \"white\"}}, \"header\": {\"fill\": {\"color\": \"#C8D4E3\"}, \"line\": {\"color\": \"white\"}}, \"type\": \"table\"}]}, \"layout\": {\"annotationdefaults\": {\"arrowcolor\": \"#2a3f5f\", \"arrowhead\": 0, \"arrowwidth\": 1}, \"coloraxis\": {\"colorbar\": {\"outlinewidth\": 0, \"ticks\": \"\"}}, \"colorscale\": {\"diverging\": [[0, \"#8e0152\"], [0.1, \"#c51b7d\"], [0.2, \"#de77ae\"], [0.3, \"#f1b6da\"], [0.4, \"#fde0ef\"], [0.5, \"#f7f7f7\"], [0.6, \"#e6f5d0\"], [0.7, \"#b8e186\"], [0.8, \"#7fbc41\"], [0.9, \"#4d9221\"], [1, \"#276419\"]], \"sequential\": [[0.0, \"#0d0887\"], [0.1111111111111111, \"#46039f\"], [0.2222222222222222, \"#7201a8\"], [0.3333333333333333, \"#9c179e\"], [0.4444444444444444, \"#bd3786\"], [0.5555555555555556, \"#d8576b\"], [0.6666666666666666, \"#ed7953\"], [0.7777777777777778, \"#fb9f3a\"], [0.8888888888888888, \"#fdca26\"], [1.0, \"#f0f921\"]], \"sequentialminus\": [[0.0, \"#0d0887\"], [0.1111111111111111, \"#46039f\"], [0.2222222222222222, \"#7201a8\"], [0.3333333333333333, \"#9c179e\"], [0.4444444444444444, \"#bd3786\"], [0.5555555555555556, \"#d8576b\"], [0.6666666666666666, \"#ed7953\"], [0.7777777777777778, \"#fb9f3a\"], [0.8888888888888888, \"#fdca26\"], [1.0, \"#f0f921\"]]}, \"colorway\": [\"#636efa\", \"#EF553B\", \"#00cc96\", \"#ab63fa\", \"#FFA15A\", \"#19d3f3\", \"#FF6692\", \"#B6E880\", \"#FF97FF\", \"#FECB52\"], \"font\": {\"color\": \"#2a3f5f\"}, \"geo\": {\"bgcolor\": \"white\", \"lakecolor\": \"white\", \"landcolor\": \"#E5ECF6\", \"showlakes\": true, \"showland\": true, \"subunitcolor\": \"white\"}, \"hoverlabel\": {\"align\": \"left\"}, \"hovermode\": \"closest\", \"mapbox\": {\"style\": \"light\"}, \"paper_bgcolor\": \"white\", \"plot_bgcolor\": \"#E5ECF6\", \"polar\": {\"angularaxis\": {\"gridcolor\": \"white\", \"linecolor\": \"white\", \"ticks\": \"\"}, \"bgcolor\": \"#E5ECF6\", \"radialaxis\": {\"gridcolor\": \"white\", \"linecolor\": \"white\", \"ticks\": \"\"}}, \"scene\": {\"xaxis\": {\"backgroundcolor\": \"#E5ECF6\", \"gridcolor\": \"white\", \"gridwidth\": 2, \"linecolor\": \"white\", \"showbackground\": true, \"ticks\": \"\", \"zerolinecolor\": \"white\"}, \"yaxis\": {\"backgroundcolor\": \"#E5ECF6\", \"gridcolor\": \"white\", \"gridwidth\": 2, \"linecolor\": \"white\", \"showbackground\": true, \"ticks\": \"\", \"zerolinecolor\": \"white\"}, \"zaxis\": {\"backgroundcolor\": \"#E5ECF6\", \"gridcolor\": \"white\", \"gridwidth\": 2, \"linecolor\": \"white\", \"showbackground\": true, \"ticks\": \"\", \"zerolinecolor\": \"white\"}}, \"shapedefaults\": {\"line\": {\"color\": \"#2a3f5f\"}}, \"ternary\": {\"aaxis\": {\"gridcolor\": \"white\", \"linecolor\": \"white\", \"ticks\": \"\"}, \"baxis\": {\"gridcolor\": \"white\", \"linecolor\": \"white\", \"ticks\": \"\"}, \"bgcolor\": \"#E5ECF6\", \"caxis\": {\"gridcolor\": \"white\", \"linecolor\": \"white\", \"ticks\": \"\"}}, \"title\": {\"x\": 0.05}, \"xaxis\": {\"automargin\": true, \"gridcolor\": \"white\", \"linecolor\": \"white\", \"ticks\": \"\", \"title\": {\"standoff\": 15}, \"zerolinecolor\": \"white\", \"zerolinewidth\": 2}, \"yaxis\": {\"automargin\": true, \"gridcolor\": \"white\", \"linecolor\": \"white\", \"ticks\": \"\", \"title\": {\"standoff\": 15}, \"zerolinecolor\": \"white\", \"zerolinewidth\": 2}}}},\n",
       "                        {\"responsive\": true}\n",
       "                    ).then(function(){\n",
       "                            \n",
       "var gd = document.getElementById('bc849155-40a6-4093-8b50-68ebc4b0e100');\n",
       "var x = new MutationObserver(function (mutations, observer) {{\n",
       "        var display = window.getComputedStyle(gd).display;\n",
       "        if (!display || display === 'none') {{\n",
       "            console.log([gd, 'removed!']);\n",
       "            Plotly.purge(gd);\n",
       "            observer.disconnect();\n",
       "        }}\n",
       "}});\n",
       "\n",
       "// Listen for the removal of the full notebook cells\n",
       "var notebookContainer = gd.closest('#notebook-container');\n",
       "if (notebookContainer) {{\n",
       "    x.observe(notebookContainer, {childList: true});\n",
       "}}\n",
       "\n",
       "// Listen for the clearing of the current output cell\n",
       "var outputEl = gd.closest('.output');\n",
       "if (outputEl) {{\n",
       "    x.observe(outputEl, {childList: true});\n",
       "}}\n",
       "\n",
       "                        })\n",
       "                };\n",
       "                });\n",
       "            </script>\n",
       "        </div>"
      ]
     },
     "metadata": {},
     "output_type": "display_data"
    }
   ],
   "source": [
    "part = data.groupby('Partner').sum()\n",
    "part.reset_index(inplace=True)\n",
    "part\n",
    "px.pie(names=part['Partner'],values=part['TotalCharges'])"
   ]
  },
  {
   "cell_type": "code",
   "execution_count": 10,
   "metadata": {
    "execution": {
     "iopub.execute_input": "2020-09-11T16:25:57.197797Z",
     "iopub.status.busy": "2020-09-11T16:25:57.197069Z",
     "iopub.status.idle": "2020-09-11T16:25:57.246954Z",
     "shell.execute_reply": "2020-09-11T16:25:57.246393Z"
    },
    "id": "YbKtShJZHWHw",
    "outputId": "9baecfa5-b372-4260-f4aa-cc4297e47bc8",
    "papermill": {
     "duration": 0.106033,
     "end_time": "2020-09-11T16:25:57.247074",
     "exception": false,
     "start_time": "2020-09-11T16:25:57.141041",
     "status": "completed"
    },
    "tags": []
   },
   "outputs": [
    {
     "data": {
      "text/html": [
       "<div>\n",
       "        \n",
       "        \n",
       "            <div id=\"6a7983ad-4d35-476a-9dcb-6c6238b0b9eb\" class=\"plotly-graph-div\" style=\"height:525px; width:100%;\"></div>\n",
       "            <script type=\"text/javascript\">\n",
       "                require([\"plotly\"], function(Plotly) {\n",
       "                    window.PLOTLYENV=window.PLOTLYENV || {};\n",
       "                    \n",
       "                if (document.getElementById(\"6a7983ad-4d35-476a-9dcb-6c6238b0b9eb\")) {\n",
       "                    Plotly.newPlot(\n",
       "                        '6a7983ad-4d35-476a-9dcb-6c6238b0b9eb',\n",
       "                        [{\"domain\": {\"x\": [0.0, 1.0], \"y\": [0.0, 1.0]}, \"hovertemplate\": \"label=%{label}<br>value=%{value}<extra></extra>\", \"labels\": [\"No\", \"Yes\"], \"legendgroup\": \"\", \"name\": \"\", \"showlegend\": true, \"type\": \"pie\", \"values\": [10791969.750000019, 5264198.949999998]}],\n",
       "                        {\"legend\": {\"tracegroupgap\": 0}, \"margin\": {\"t\": 60}, \"template\": {\"data\": {\"bar\": [{\"error_x\": {\"color\": \"#2a3f5f\"}, \"error_y\": {\"color\": \"#2a3f5f\"}, \"marker\": {\"line\": {\"color\": \"#E5ECF6\", \"width\": 0.5}}, \"type\": \"bar\"}], \"barpolar\": [{\"marker\": {\"line\": {\"color\": \"#E5ECF6\", \"width\": 0.5}}, \"type\": \"barpolar\"}], \"carpet\": [{\"aaxis\": {\"endlinecolor\": \"#2a3f5f\", \"gridcolor\": \"white\", \"linecolor\": \"white\", \"minorgridcolor\": \"white\", \"startlinecolor\": \"#2a3f5f\"}, \"baxis\": {\"endlinecolor\": \"#2a3f5f\", \"gridcolor\": \"white\", \"linecolor\": \"white\", \"minorgridcolor\": \"white\", \"startlinecolor\": \"#2a3f5f\"}, \"type\": \"carpet\"}], \"choropleth\": [{\"colorbar\": {\"outlinewidth\": 0, \"ticks\": \"\"}, \"type\": \"choropleth\"}], \"contour\": [{\"colorbar\": {\"outlinewidth\": 0, \"ticks\": \"\"}, \"colorscale\": [[0.0, \"#0d0887\"], [0.1111111111111111, \"#46039f\"], [0.2222222222222222, \"#7201a8\"], [0.3333333333333333, \"#9c179e\"], [0.4444444444444444, \"#bd3786\"], [0.5555555555555556, \"#d8576b\"], [0.6666666666666666, \"#ed7953\"], [0.7777777777777778, \"#fb9f3a\"], [0.8888888888888888, \"#fdca26\"], [1.0, \"#f0f921\"]], \"type\": \"contour\"}], \"contourcarpet\": [{\"colorbar\": {\"outlinewidth\": 0, \"ticks\": \"\"}, \"type\": \"contourcarpet\"}], \"heatmap\": [{\"colorbar\": {\"outlinewidth\": 0, \"ticks\": \"\"}, \"colorscale\": [[0.0, \"#0d0887\"], [0.1111111111111111, \"#46039f\"], [0.2222222222222222, \"#7201a8\"], [0.3333333333333333, \"#9c179e\"], [0.4444444444444444, \"#bd3786\"], [0.5555555555555556, \"#d8576b\"], [0.6666666666666666, \"#ed7953\"], [0.7777777777777778, \"#fb9f3a\"], [0.8888888888888888, \"#fdca26\"], [1.0, \"#f0f921\"]], \"type\": \"heatmap\"}], \"heatmapgl\": [{\"colorbar\": {\"outlinewidth\": 0, \"ticks\": \"\"}, \"colorscale\": [[0.0, \"#0d0887\"], [0.1111111111111111, \"#46039f\"], [0.2222222222222222, \"#7201a8\"], [0.3333333333333333, \"#9c179e\"], [0.4444444444444444, \"#bd3786\"], [0.5555555555555556, \"#d8576b\"], [0.6666666666666666, \"#ed7953\"], [0.7777777777777778, \"#fb9f3a\"], [0.8888888888888888, \"#fdca26\"], [1.0, \"#f0f921\"]], \"type\": \"heatmapgl\"}], \"histogram\": [{\"marker\": {\"colorbar\": {\"outlinewidth\": 0, \"ticks\": \"\"}}, \"type\": \"histogram\"}], \"histogram2d\": [{\"colorbar\": {\"outlinewidth\": 0, \"ticks\": \"\"}, \"colorscale\": [[0.0, \"#0d0887\"], [0.1111111111111111, \"#46039f\"], [0.2222222222222222, \"#7201a8\"], [0.3333333333333333, \"#9c179e\"], [0.4444444444444444, \"#bd3786\"], [0.5555555555555556, \"#d8576b\"], [0.6666666666666666, \"#ed7953\"], [0.7777777777777778, \"#fb9f3a\"], [0.8888888888888888, \"#fdca26\"], [1.0, \"#f0f921\"]], \"type\": \"histogram2d\"}], \"histogram2dcontour\": [{\"colorbar\": {\"outlinewidth\": 0, \"ticks\": \"\"}, \"colorscale\": [[0.0, \"#0d0887\"], [0.1111111111111111, \"#46039f\"], [0.2222222222222222, \"#7201a8\"], [0.3333333333333333, \"#9c179e\"], [0.4444444444444444, \"#bd3786\"], [0.5555555555555556, \"#d8576b\"], [0.6666666666666666, \"#ed7953\"], [0.7777777777777778, \"#fb9f3a\"], [0.8888888888888888, \"#fdca26\"], [1.0, \"#f0f921\"]], \"type\": \"histogram2dcontour\"}], \"mesh3d\": [{\"colorbar\": {\"outlinewidth\": 0, \"ticks\": \"\"}, \"type\": \"mesh3d\"}], \"parcoords\": [{\"line\": {\"colorbar\": {\"outlinewidth\": 0, \"ticks\": \"\"}}, \"type\": \"parcoords\"}], \"pie\": [{\"automargin\": true, \"type\": \"pie\"}], \"scatter\": [{\"marker\": {\"colorbar\": {\"outlinewidth\": 0, \"ticks\": \"\"}}, \"type\": \"scatter\"}], \"scatter3d\": [{\"line\": {\"colorbar\": {\"outlinewidth\": 0, \"ticks\": \"\"}}, \"marker\": {\"colorbar\": {\"outlinewidth\": 0, \"ticks\": \"\"}}, \"type\": \"scatter3d\"}], \"scattercarpet\": [{\"marker\": {\"colorbar\": {\"outlinewidth\": 0, \"ticks\": \"\"}}, \"type\": \"scattercarpet\"}], \"scattergeo\": [{\"marker\": {\"colorbar\": {\"outlinewidth\": 0, \"ticks\": \"\"}}, \"type\": \"scattergeo\"}], \"scattergl\": [{\"marker\": {\"colorbar\": {\"outlinewidth\": 0, \"ticks\": \"\"}}, \"type\": \"scattergl\"}], \"scattermapbox\": [{\"marker\": {\"colorbar\": {\"outlinewidth\": 0, \"ticks\": \"\"}}, \"type\": \"scattermapbox\"}], \"scatterpolar\": [{\"marker\": {\"colorbar\": {\"outlinewidth\": 0, \"ticks\": \"\"}}, \"type\": \"scatterpolar\"}], \"scatterpolargl\": [{\"marker\": {\"colorbar\": {\"outlinewidth\": 0, \"ticks\": \"\"}}, \"type\": \"scatterpolargl\"}], \"scatterternary\": [{\"marker\": {\"colorbar\": {\"outlinewidth\": 0, \"ticks\": \"\"}}, \"type\": \"scatterternary\"}], \"surface\": [{\"colorbar\": {\"outlinewidth\": 0, \"ticks\": \"\"}, \"colorscale\": [[0.0, \"#0d0887\"], [0.1111111111111111, \"#46039f\"], [0.2222222222222222, \"#7201a8\"], [0.3333333333333333, \"#9c179e\"], [0.4444444444444444, \"#bd3786\"], [0.5555555555555556, \"#d8576b\"], [0.6666666666666666, \"#ed7953\"], [0.7777777777777778, \"#fb9f3a\"], [0.8888888888888888, \"#fdca26\"], [1.0, \"#f0f921\"]], \"type\": \"surface\"}], \"table\": [{\"cells\": {\"fill\": {\"color\": \"#EBF0F8\"}, \"line\": {\"color\": \"white\"}}, \"header\": {\"fill\": {\"color\": \"#C8D4E3\"}, \"line\": {\"color\": \"white\"}}, \"type\": \"table\"}]}, \"layout\": {\"annotationdefaults\": {\"arrowcolor\": \"#2a3f5f\", \"arrowhead\": 0, \"arrowwidth\": 1}, \"coloraxis\": {\"colorbar\": {\"outlinewidth\": 0, \"ticks\": \"\"}}, \"colorscale\": {\"diverging\": [[0, \"#8e0152\"], [0.1, \"#c51b7d\"], [0.2, \"#de77ae\"], [0.3, \"#f1b6da\"], [0.4, \"#fde0ef\"], [0.5, \"#f7f7f7\"], [0.6, \"#e6f5d0\"], [0.7, \"#b8e186\"], [0.8, \"#7fbc41\"], [0.9, \"#4d9221\"], [1, \"#276419\"]], \"sequential\": [[0.0, \"#0d0887\"], [0.1111111111111111, \"#46039f\"], [0.2222222222222222, \"#7201a8\"], [0.3333333333333333, \"#9c179e\"], [0.4444444444444444, \"#bd3786\"], [0.5555555555555556, \"#d8576b\"], [0.6666666666666666, \"#ed7953\"], [0.7777777777777778, \"#fb9f3a\"], [0.8888888888888888, \"#fdca26\"], [1.0, \"#f0f921\"]], \"sequentialminus\": [[0.0, \"#0d0887\"], [0.1111111111111111, \"#46039f\"], [0.2222222222222222, \"#7201a8\"], [0.3333333333333333, \"#9c179e\"], [0.4444444444444444, \"#bd3786\"], [0.5555555555555556, \"#d8576b\"], [0.6666666666666666, \"#ed7953\"], [0.7777777777777778, \"#fb9f3a\"], [0.8888888888888888, \"#fdca26\"], [1.0, \"#f0f921\"]]}, \"colorway\": [\"#636efa\", \"#EF553B\", \"#00cc96\", \"#ab63fa\", \"#FFA15A\", \"#19d3f3\", \"#FF6692\", \"#B6E880\", \"#FF97FF\", \"#FECB52\"], \"font\": {\"color\": \"#2a3f5f\"}, \"geo\": {\"bgcolor\": \"white\", \"lakecolor\": \"white\", \"landcolor\": \"#E5ECF6\", \"showlakes\": true, \"showland\": true, \"subunitcolor\": \"white\"}, \"hoverlabel\": {\"align\": \"left\"}, \"hovermode\": \"closest\", \"mapbox\": {\"style\": \"light\"}, \"paper_bgcolor\": \"white\", \"plot_bgcolor\": \"#E5ECF6\", \"polar\": {\"angularaxis\": {\"gridcolor\": \"white\", \"linecolor\": \"white\", \"ticks\": \"\"}, \"bgcolor\": \"#E5ECF6\", \"radialaxis\": {\"gridcolor\": \"white\", \"linecolor\": \"white\", \"ticks\": \"\"}}, \"scene\": {\"xaxis\": {\"backgroundcolor\": \"#E5ECF6\", \"gridcolor\": \"white\", \"gridwidth\": 2, \"linecolor\": \"white\", \"showbackground\": true, \"ticks\": \"\", \"zerolinecolor\": \"white\"}, \"yaxis\": {\"backgroundcolor\": \"#E5ECF6\", \"gridcolor\": \"white\", \"gridwidth\": 2, \"linecolor\": \"white\", \"showbackground\": true, \"ticks\": \"\", \"zerolinecolor\": \"white\"}, \"zaxis\": {\"backgroundcolor\": \"#E5ECF6\", \"gridcolor\": \"white\", \"gridwidth\": 2, \"linecolor\": \"white\", \"showbackground\": true, \"ticks\": \"\", \"zerolinecolor\": \"white\"}}, \"shapedefaults\": {\"line\": {\"color\": \"#2a3f5f\"}}, \"ternary\": {\"aaxis\": {\"gridcolor\": \"white\", \"linecolor\": \"white\", \"ticks\": \"\"}, \"baxis\": {\"gridcolor\": \"white\", \"linecolor\": \"white\", \"ticks\": \"\"}, \"bgcolor\": \"#E5ECF6\", \"caxis\": {\"gridcolor\": \"white\", \"linecolor\": \"white\", \"ticks\": \"\"}}, \"title\": {\"x\": 0.05}, \"xaxis\": {\"automargin\": true, \"gridcolor\": \"white\", \"linecolor\": \"white\", \"ticks\": \"\", \"title\": {\"standoff\": 15}, \"zerolinecolor\": \"white\", \"zerolinewidth\": 2}, \"yaxis\": {\"automargin\": true, \"gridcolor\": \"white\", \"linecolor\": \"white\", \"ticks\": \"\", \"title\": {\"standoff\": 15}, \"zerolinecolor\": \"white\", \"zerolinewidth\": 2}}}},\n",
       "                        {\"responsive\": true}\n",
       "                    ).then(function(){\n",
       "                            \n",
       "var gd = document.getElementById('6a7983ad-4d35-476a-9dcb-6c6238b0b9eb');\n",
       "var x = new MutationObserver(function (mutations, observer) {{\n",
       "        var display = window.getComputedStyle(gd).display;\n",
       "        if (!display || display === 'none') {{\n",
       "            console.log([gd, 'removed!']);\n",
       "            Plotly.purge(gd);\n",
       "            observer.disconnect();\n",
       "        }}\n",
       "}});\n",
       "\n",
       "// Listen for the removal of the full notebook cells\n",
       "var notebookContainer = gd.closest('#notebook-container');\n",
       "if (notebookContainer) {{\n",
       "    x.observe(notebookContainer, {childList: true});\n",
       "}}\n",
       "\n",
       "// Listen for the clearing of the current output cell\n",
       "var outputEl = gd.closest('.output');\n",
       "if (outputEl) {{\n",
       "    x.observe(outputEl, {childList: true});\n",
       "}}\n",
       "\n",
       "                        })\n",
       "                };\n",
       "                });\n",
       "            </script>\n",
       "        </div>"
      ]
     },
     "metadata": {},
     "output_type": "display_data"
    }
   ],
   "source": [
    "dep = data.groupby('Dependents').sum()\n",
    "dep.reset_index(inplace=True)\n",
    "px.pie(names=dep['Dependents'],values=dep['TotalCharges'])"
   ]
  },
  {
   "cell_type": "code",
   "execution_count": 11,
   "metadata": {
    "execution": {
     "iopub.execute_input": "2020-09-11T16:25:57.352909Z",
     "iopub.status.busy": "2020-09-11T16:25:57.350974Z",
     "iopub.status.idle": "2020-09-11T16:25:57.465117Z",
     "shell.execute_reply": "2020-09-11T16:25:57.464576Z"
    },
    "id": "j7kdmTn1NVBO",
    "outputId": "e1b04307-7b17-4ff0-e61c-2f7e12550a1f",
    "papermill": {
     "duration": 0.169944,
     "end_time": "2020-09-11T16:25:57.465238",
     "exception": false,
     "start_time": "2020-09-11T16:25:57.295294",
     "status": "completed"
    },
    "tags": []
   },
   "outputs": [
    {
     "data": {
      "text/html": [
       "<div>\n",
       "        \n",
       "        \n",
       "            <div id=\"dcefcd54-142f-44ed-b369-8c83f82bd02c\" class=\"plotly-graph-div\" style=\"height:525px; width:100%;\"></div>\n",
       "            <script type=\"text/javascript\">\n",
       "                require([\"plotly\"], function(Plotly) {\n",
       "                    window.PLOTLYENV=window.PLOTLYENV || {};\n",
       "                    \n",
       "                if (document.getElementById(\"dcefcd54-142f-44ed-b369-8c83f82bd02c\")) {\n",
       "                    Plotly.newPlot(\n",
       "                        'dcefcd54-142f-44ed-b369-8c83f82bd02c',\n",
       "                        [{\"alignmentgroup\": \"True\", \"hovertemplate\": \"Dependents=No<br>Partner=%{x}<br>MonthlyCharges=%{y}<extra></extra>\", \"legendgroup\": \"\", \"marker\": {\"color\": \"#636efa\"}, \"name\": \"\", \"offsetgroup\": \"\", \"orientation\": \"v\", \"showlegend\": false, \"textposition\": \"auto\", \"type\": \"bar\", \"x\": [\"No\", \"Yes\"], \"xaxis\": \"x\", \"y\": [62.983734756097334, 74.97773744706612], \"yaxis\": \"y\"}, {\"alignmentgroup\": \"True\", \"hovertemplate\": \"Dependents=Yes<br>Partner=%{x}<br>MonthlyCharges=%{y}<extra></extra>\", \"legendgroup\": \"\", \"marker\": {\"color\": \"#636efa\"}, \"name\": \"\", \"offsetgroup\": \"\", \"orientation\": \"v\", \"showlegend\": false, \"textposition\": \"auto\", \"type\": \"bar\", \"x\": [\"No\", \"Yes\"], \"xaxis\": \"x2\", \"y\": [52.57089136490249, 61.07080459770112], \"yaxis\": \"y2\"}],\n",
       "                        {\"annotations\": [{\"font\": {}, \"showarrow\": false, \"text\": \"Dependents=No\", \"x\": 0.245, \"xanchor\": \"center\", \"xref\": \"paper\", \"y\": 1.0, \"yanchor\": \"bottom\", \"yref\": \"paper\"}, {\"font\": {}, \"showarrow\": false, \"text\": \"Dependents=Yes\", \"x\": 0.755, \"xanchor\": \"center\", \"xref\": \"paper\", \"y\": 1.0, \"yanchor\": \"bottom\", \"yref\": \"paper\"}], \"barmode\": \"relative\", \"legend\": {\"tracegroupgap\": 0}, \"margin\": {\"t\": 60}, \"template\": {\"data\": {\"bar\": [{\"error_x\": {\"color\": \"#2a3f5f\"}, \"error_y\": {\"color\": \"#2a3f5f\"}, \"marker\": {\"line\": {\"color\": \"#E5ECF6\", \"width\": 0.5}}, \"type\": \"bar\"}], \"barpolar\": [{\"marker\": {\"line\": {\"color\": \"#E5ECF6\", \"width\": 0.5}}, \"type\": \"barpolar\"}], \"carpet\": [{\"aaxis\": {\"endlinecolor\": \"#2a3f5f\", \"gridcolor\": \"white\", \"linecolor\": \"white\", \"minorgridcolor\": \"white\", \"startlinecolor\": \"#2a3f5f\"}, \"baxis\": {\"endlinecolor\": \"#2a3f5f\", \"gridcolor\": \"white\", \"linecolor\": \"white\", \"minorgridcolor\": \"white\", \"startlinecolor\": \"#2a3f5f\"}, \"type\": \"carpet\"}], \"choropleth\": [{\"colorbar\": {\"outlinewidth\": 0, \"ticks\": \"\"}, \"type\": \"choropleth\"}], \"contour\": [{\"colorbar\": {\"outlinewidth\": 0, \"ticks\": \"\"}, \"colorscale\": [[0.0, \"#0d0887\"], [0.1111111111111111, \"#46039f\"], [0.2222222222222222, \"#7201a8\"], [0.3333333333333333, \"#9c179e\"], [0.4444444444444444, \"#bd3786\"], [0.5555555555555556, \"#d8576b\"], [0.6666666666666666, \"#ed7953\"], [0.7777777777777778, \"#fb9f3a\"], [0.8888888888888888, \"#fdca26\"], [1.0, \"#f0f921\"]], \"type\": \"contour\"}], \"contourcarpet\": [{\"colorbar\": {\"outlinewidth\": 0, \"ticks\": \"\"}, \"type\": \"contourcarpet\"}], \"heatmap\": [{\"colorbar\": {\"outlinewidth\": 0, \"ticks\": \"\"}, \"colorscale\": [[0.0, \"#0d0887\"], [0.1111111111111111, \"#46039f\"], [0.2222222222222222, \"#7201a8\"], [0.3333333333333333, \"#9c179e\"], [0.4444444444444444, \"#bd3786\"], [0.5555555555555556, \"#d8576b\"], [0.6666666666666666, \"#ed7953\"], [0.7777777777777778, \"#fb9f3a\"], [0.8888888888888888, \"#fdca26\"], [1.0, \"#f0f921\"]], \"type\": \"heatmap\"}], \"heatmapgl\": [{\"colorbar\": {\"outlinewidth\": 0, \"ticks\": \"\"}, \"colorscale\": [[0.0, \"#0d0887\"], [0.1111111111111111, \"#46039f\"], [0.2222222222222222, \"#7201a8\"], [0.3333333333333333, \"#9c179e\"], [0.4444444444444444, \"#bd3786\"], [0.5555555555555556, \"#d8576b\"], [0.6666666666666666, \"#ed7953\"], [0.7777777777777778, \"#fb9f3a\"], [0.8888888888888888, \"#fdca26\"], [1.0, \"#f0f921\"]], \"type\": \"heatmapgl\"}], \"histogram\": [{\"marker\": {\"colorbar\": {\"outlinewidth\": 0, \"ticks\": \"\"}}, \"type\": \"histogram\"}], \"histogram2d\": [{\"colorbar\": {\"outlinewidth\": 0, \"ticks\": \"\"}, \"colorscale\": [[0.0, \"#0d0887\"], [0.1111111111111111, \"#46039f\"], [0.2222222222222222, \"#7201a8\"], [0.3333333333333333, \"#9c179e\"], [0.4444444444444444, \"#bd3786\"], [0.5555555555555556, \"#d8576b\"], [0.6666666666666666, \"#ed7953\"], [0.7777777777777778, \"#fb9f3a\"], [0.8888888888888888, \"#fdca26\"], [1.0, \"#f0f921\"]], \"type\": \"histogram2d\"}], \"histogram2dcontour\": [{\"colorbar\": {\"outlinewidth\": 0, \"ticks\": \"\"}, \"colorscale\": [[0.0, \"#0d0887\"], [0.1111111111111111, \"#46039f\"], [0.2222222222222222, \"#7201a8\"], [0.3333333333333333, \"#9c179e\"], [0.4444444444444444, \"#bd3786\"], [0.5555555555555556, \"#d8576b\"], [0.6666666666666666, \"#ed7953\"], [0.7777777777777778, \"#fb9f3a\"], [0.8888888888888888, \"#fdca26\"], [1.0, \"#f0f921\"]], \"type\": \"histogram2dcontour\"}], \"mesh3d\": [{\"colorbar\": {\"outlinewidth\": 0, \"ticks\": \"\"}, \"type\": \"mesh3d\"}], \"parcoords\": [{\"line\": {\"colorbar\": {\"outlinewidth\": 0, \"ticks\": \"\"}}, \"type\": \"parcoords\"}], \"pie\": [{\"automargin\": true, \"type\": \"pie\"}], \"scatter\": [{\"marker\": {\"colorbar\": {\"outlinewidth\": 0, \"ticks\": \"\"}}, \"type\": \"scatter\"}], \"scatter3d\": [{\"line\": {\"colorbar\": {\"outlinewidth\": 0, \"ticks\": \"\"}}, \"marker\": {\"colorbar\": {\"outlinewidth\": 0, \"ticks\": \"\"}}, \"type\": \"scatter3d\"}], \"scattercarpet\": [{\"marker\": {\"colorbar\": {\"outlinewidth\": 0, \"ticks\": \"\"}}, \"type\": \"scattercarpet\"}], \"scattergeo\": [{\"marker\": {\"colorbar\": {\"outlinewidth\": 0, \"ticks\": \"\"}}, \"type\": \"scattergeo\"}], \"scattergl\": [{\"marker\": {\"colorbar\": {\"outlinewidth\": 0, \"ticks\": \"\"}}, \"type\": \"scattergl\"}], \"scattermapbox\": [{\"marker\": {\"colorbar\": {\"outlinewidth\": 0, \"ticks\": \"\"}}, \"type\": \"scattermapbox\"}], \"scatterpolar\": [{\"marker\": {\"colorbar\": {\"outlinewidth\": 0, \"ticks\": \"\"}}, \"type\": \"scatterpolar\"}], \"scatterpolargl\": [{\"marker\": {\"colorbar\": {\"outlinewidth\": 0, \"ticks\": \"\"}}, \"type\": \"scatterpolargl\"}], \"scatterternary\": [{\"marker\": {\"colorbar\": {\"outlinewidth\": 0, \"ticks\": \"\"}}, \"type\": \"scatterternary\"}], \"surface\": [{\"colorbar\": {\"outlinewidth\": 0, \"ticks\": \"\"}, \"colorscale\": [[0.0, \"#0d0887\"], [0.1111111111111111, \"#46039f\"], [0.2222222222222222, \"#7201a8\"], [0.3333333333333333, \"#9c179e\"], [0.4444444444444444, \"#bd3786\"], [0.5555555555555556, \"#d8576b\"], [0.6666666666666666, \"#ed7953\"], [0.7777777777777778, \"#fb9f3a\"], [0.8888888888888888, \"#fdca26\"], [1.0, \"#f0f921\"]], \"type\": \"surface\"}], \"table\": [{\"cells\": {\"fill\": {\"color\": \"#EBF0F8\"}, \"line\": {\"color\": \"white\"}}, \"header\": {\"fill\": {\"color\": \"#C8D4E3\"}, \"line\": {\"color\": \"white\"}}, \"type\": \"table\"}]}, \"layout\": {\"annotationdefaults\": {\"arrowcolor\": \"#2a3f5f\", \"arrowhead\": 0, \"arrowwidth\": 1}, \"coloraxis\": {\"colorbar\": {\"outlinewidth\": 0, \"ticks\": \"\"}}, \"colorscale\": {\"diverging\": [[0, \"#8e0152\"], [0.1, \"#c51b7d\"], [0.2, \"#de77ae\"], [0.3, \"#f1b6da\"], [0.4, \"#fde0ef\"], [0.5, \"#f7f7f7\"], [0.6, \"#e6f5d0\"], [0.7, \"#b8e186\"], [0.8, \"#7fbc41\"], [0.9, \"#4d9221\"], [1, \"#276419\"]], \"sequential\": [[0.0, \"#0d0887\"], [0.1111111111111111, \"#46039f\"], [0.2222222222222222, \"#7201a8\"], [0.3333333333333333, \"#9c179e\"], [0.4444444444444444, \"#bd3786\"], [0.5555555555555556, \"#d8576b\"], [0.6666666666666666, \"#ed7953\"], [0.7777777777777778, \"#fb9f3a\"], [0.8888888888888888, \"#fdca26\"], [1.0, \"#f0f921\"]], \"sequentialminus\": [[0.0, \"#0d0887\"], [0.1111111111111111, \"#46039f\"], [0.2222222222222222, \"#7201a8\"], [0.3333333333333333, \"#9c179e\"], [0.4444444444444444, \"#bd3786\"], [0.5555555555555556, \"#d8576b\"], [0.6666666666666666, \"#ed7953\"], [0.7777777777777778, \"#fb9f3a\"], [0.8888888888888888, \"#fdca26\"], [1.0, \"#f0f921\"]]}, \"colorway\": [\"#636efa\", \"#EF553B\", \"#00cc96\", \"#ab63fa\", \"#FFA15A\", \"#19d3f3\", \"#FF6692\", \"#B6E880\", \"#FF97FF\", \"#FECB52\"], \"font\": {\"color\": \"#2a3f5f\"}, \"geo\": {\"bgcolor\": \"white\", \"lakecolor\": \"white\", \"landcolor\": \"#E5ECF6\", \"showlakes\": true, \"showland\": true, \"subunitcolor\": \"white\"}, \"hoverlabel\": {\"align\": \"left\"}, \"hovermode\": \"closest\", \"mapbox\": {\"style\": \"light\"}, \"paper_bgcolor\": \"white\", \"plot_bgcolor\": \"#E5ECF6\", \"polar\": {\"angularaxis\": {\"gridcolor\": \"white\", \"linecolor\": \"white\", \"ticks\": \"\"}, \"bgcolor\": \"#E5ECF6\", \"radialaxis\": {\"gridcolor\": \"white\", \"linecolor\": \"white\", \"ticks\": \"\"}}, \"scene\": {\"xaxis\": {\"backgroundcolor\": \"#E5ECF6\", \"gridcolor\": \"white\", \"gridwidth\": 2, \"linecolor\": \"white\", \"showbackground\": true, \"ticks\": \"\", \"zerolinecolor\": \"white\"}, \"yaxis\": {\"backgroundcolor\": \"#E5ECF6\", \"gridcolor\": \"white\", \"gridwidth\": 2, \"linecolor\": \"white\", \"showbackground\": true, \"ticks\": \"\", \"zerolinecolor\": \"white\"}, \"zaxis\": {\"backgroundcolor\": \"#E5ECF6\", \"gridcolor\": \"white\", \"gridwidth\": 2, \"linecolor\": \"white\", \"showbackground\": true, \"ticks\": \"\", \"zerolinecolor\": \"white\"}}, \"shapedefaults\": {\"line\": {\"color\": \"#2a3f5f\"}}, \"ternary\": {\"aaxis\": {\"gridcolor\": \"white\", \"linecolor\": \"white\", \"ticks\": \"\"}, \"baxis\": {\"gridcolor\": \"white\", \"linecolor\": \"white\", \"ticks\": \"\"}, \"bgcolor\": \"#E5ECF6\", \"caxis\": {\"gridcolor\": \"white\", \"linecolor\": \"white\", \"ticks\": \"\"}}, \"title\": {\"x\": 0.05}, \"xaxis\": {\"automargin\": true, \"gridcolor\": \"white\", \"linecolor\": \"white\", \"ticks\": \"\", \"title\": {\"standoff\": 15}, \"zerolinecolor\": \"white\", \"zerolinewidth\": 2}, \"yaxis\": {\"automargin\": true, \"gridcolor\": \"white\", \"linecolor\": \"white\", \"ticks\": \"\", \"title\": {\"standoff\": 15}, \"zerolinecolor\": \"white\", \"zerolinewidth\": 2}}}, \"xaxis\": {\"anchor\": \"y\", \"domain\": [0.0, 0.49], \"title\": {\"text\": \"Partner\"}}, \"xaxis2\": {\"anchor\": \"y2\", \"domain\": [0.51, 1.0], \"matches\": \"x\", \"title\": {\"text\": \"Partner\"}}, \"yaxis\": {\"anchor\": \"x\", \"domain\": [0.0, 1.0], \"title\": {\"text\": \"MonthlyCharges\"}}, \"yaxis2\": {\"anchor\": \"x2\", \"domain\": [0.0, 1.0], \"matches\": \"y\", \"showticklabels\": false}},\n",
       "                        {\"responsive\": true}\n",
       "                    ).then(function(){\n",
       "                            \n",
       "var gd = document.getElementById('dcefcd54-142f-44ed-b369-8c83f82bd02c');\n",
       "var x = new MutationObserver(function (mutations, observer) {{\n",
       "        var display = window.getComputedStyle(gd).display;\n",
       "        if (!display || display === 'none') {{\n",
       "            console.log([gd, 'removed!']);\n",
       "            Plotly.purge(gd);\n",
       "            observer.disconnect();\n",
       "        }}\n",
       "}});\n",
       "\n",
       "// Listen for the removal of the full notebook cells\n",
       "var notebookContainer = gd.closest('#notebook-container');\n",
       "if (notebookContainer) {{\n",
       "    x.observe(notebookContainer, {childList: true});\n",
       "}}\n",
       "\n",
       "// Listen for the clearing of the current output cell\n",
       "var outputEl = gd.closest('.output');\n",
       "if (outputEl) {{\n",
       "    x.observe(outputEl, {childList: true});\n",
       "}}\n",
       "\n",
       "                        })\n",
       "                };\n",
       "                });\n",
       "            </script>\n",
       "        </div>"
      ]
     },
     "metadata": {},
     "output_type": "display_data"
    }
   ],
   "source": [
    "deppat = data.groupby(['Partner','Dependents']).mean()\n",
    "deppat.reset_index(inplace=True)\n",
    "px.bar(deppat,x='Partner',y='MonthlyCharges',facet_col='Dependents')\n"
   ]
  },
  {
   "cell_type": "code",
   "execution_count": 12,
   "metadata": {
    "execution": {
     "iopub.execute_input": "2020-09-11T16:25:57.573865Z",
     "iopub.status.busy": "2020-09-11T16:25:57.573109Z",
     "iopub.status.idle": "2020-09-11T16:25:57.686232Z",
     "shell.execute_reply": "2020-09-11T16:25:57.685682Z"
    },
    "id": "aOc9uCHtINzF",
    "outputId": "2e1b4504-4152-4f59-d319-fda2637c2eff",
    "papermill": {
     "duration": 0.171424,
     "end_time": "2020-09-11T16:25:57.686374",
     "exception": false,
     "start_time": "2020-09-11T16:25:57.514950",
     "status": "completed"
    },
    "tags": []
   },
   "outputs": [
    {
     "data": {
      "text/html": [
       "<div>\n",
       "        \n",
       "        \n",
       "            <div id=\"2c6ca993-7b0c-4bc2-b55e-18de0d23e545\" class=\"plotly-graph-div\" style=\"height:525px; width:100%;\"></div>\n",
       "            <script type=\"text/javascript\">\n",
       "                require([\"plotly\"], function(Plotly) {\n",
       "                    window.PLOTLYENV=window.PLOTLYENV || {};\n",
       "                    \n",
       "                if (document.getElementById(\"2c6ca993-7b0c-4bc2-b55e-18de0d23e545\")) {\n",
       "                    Plotly.newPlot(\n",
       "                        '2c6ca993-7b0c-4bc2-b55e-18de0d23e545',\n",
       "                        [{\"alignmentgroup\": \"True\", \"hovertemplate\": \"Dependents=No<br>Partner=No<br>SeniorCitizen=No<br>gender=%{x}<br>TotalCharges=%{y}<extra></extra>\", \"legendgroup\": \"No\", \"marker\": {\"color\": \"#636efa\"}, \"name\": \"No\", \"offsetgroup\": \"No\", \"orientation\": \"v\", \"showlegend\": true, \"textposition\": \"auto\", \"type\": \"bar\", \"x\": [\"Female\", \"Male\"], \"xaxis\": \"x3\", \"y\": [1549.8485052316876, 1488.7280231716165], \"yaxis\": \"y3\"}, {\"alignmentgroup\": \"True\", \"hovertemplate\": \"Dependents=No<br>Partner=No<br>SeniorCitizen=Yes<br>gender=%{x}<br>TotalCharges=%{y}<extra></extra>\", \"legendgroup\": \"No\", \"marker\": {\"color\": \"#636efa\"}, \"name\": \"No\", \"offsetgroup\": \"No\", \"orientation\": \"v\", \"showlegend\": false, \"textposition\": \"auto\", \"type\": \"bar\", \"x\": [\"Female\", \"Male\"], \"xaxis\": \"x4\", \"y\": [2121.361829652996, 1971.3180327868854], \"yaxis\": \"y4\"}, {\"alignmentgroup\": \"True\", \"hovertemplate\": \"Dependents=No<br>Partner=Yes<br>SeniorCitizen=No<br>gender=%{x}<br>TotalCharges=%{y}<extra></extra>\", \"legendgroup\": \"No\", \"marker\": {\"color\": \"#636efa\"}, \"name\": \"No\", \"offsetgroup\": \"No\", \"orientation\": \"v\", \"showlegend\": false, \"textposition\": \"auto\", \"type\": \"bar\", \"x\": [\"Female\", \"Male\"], \"xaxis\": \"x\", \"y\": [3160.4454697986566, 3385.66366843033], \"yaxis\": \"y\"}, {\"alignmentgroup\": \"True\", \"hovertemplate\": \"Dependents=No<br>Partner=Yes<br>SeniorCitizen=Yes<br>gender=%{x}<br>TotalCharges=%{y}<extra></extra>\", \"legendgroup\": \"No\", \"marker\": {\"color\": \"#636efa\"}, \"name\": \"No\", \"offsetgroup\": \"No\", \"orientation\": \"v\", \"showlegend\": false, \"textposition\": \"auto\", \"type\": \"bar\", \"x\": [\"Female\", \"Male\"], \"xaxis\": \"x2\", \"y\": [3769.2669856459333, 3266.1642348754485], \"yaxis\": \"y2\"}, {\"alignmentgroup\": \"True\", \"hovertemplate\": \"Dependents=Yes<br>Partner=No<br>SeniorCitizen=No<br>gender=%{x}<br>TotalCharges=%{y}<extra></extra>\", \"legendgroup\": \"Yes\", \"marker\": {\"color\": \"#EF553B\"}, \"name\": \"Yes\", \"offsetgroup\": \"Yes\", \"orientation\": \"v\", \"showlegend\": true, \"textposition\": \"auto\", \"type\": \"bar\", \"x\": [\"Female\", \"Male\"], \"xaxis\": \"x3\", \"y\": [1245.79823943662, 1395.8399521531103], \"yaxis\": \"y3\"}, {\"alignmentgroup\": \"True\", \"hovertemplate\": \"Dependents=Yes<br>Partner=No<br>SeniorCitizen=Yes<br>gender=%{x}<br>TotalCharges=%{y}<extra></extra>\", \"legendgroup\": \"Yes\", \"marker\": {\"color\": \"#EF553B\"}, \"name\": \"Yes\", \"offsetgroup\": \"Yes\", \"orientation\": \"v\", \"showlegend\": false, \"textposition\": \"auto\", \"type\": \"bar\", \"x\": [\"Female\", \"Male\"], \"xaxis\": \"x4\", \"y\": [2170.1833333333334, 1884.5099999999998], \"yaxis\": \"y4\"}, {\"alignmentgroup\": \"True\", \"hovertemplate\": \"Dependents=Yes<br>Partner=Yes<br>SeniorCitizen=No<br>gender=%{x}<br>TotalCharges=%{y}<extra></extra>\", \"legendgroup\": \"Yes\", \"marker\": {\"color\": \"#EF553B\"}, \"name\": \"Yes\", \"offsetgroup\": \"Yes\", \"orientation\": \"v\", \"showlegend\": false, \"textposition\": \"auto\", \"type\": \"bar\", \"x\": [\"Female\", \"Male\"], \"xaxis\": \"x\", \"y\": [2628.1829558998797, 2738.3992053789725], \"yaxis\": \"y\"}, {\"alignmentgroup\": \"True\", \"hovertemplate\": \"Dependents=Yes<br>Partner=Yes<br>SeniorCitizen=Yes<br>gender=%{x}<br>TotalCharges=%{y}<extra></extra>\", \"legendgroup\": \"Yes\", \"marker\": {\"color\": \"#EF553B\"}, \"name\": \"Yes\", \"offsetgroup\": \"Yes\", \"orientation\": \"v\", \"showlegend\": false, \"textposition\": \"auto\", \"type\": \"bar\", \"x\": [\"Female\", \"Male\"], \"xaxis\": \"x2\", \"y\": [3751.884615384616, 4278.463636363637], \"yaxis\": \"y2\"}],\n",
       "                        {\"annotations\": [{\"font\": {}, \"showarrow\": false, \"text\": \"SeniorCitizen=No\", \"x\": 0.24, \"xanchor\": \"center\", \"xref\": \"paper\", \"y\": 1.0, \"yanchor\": \"bottom\", \"yref\": \"paper\"}, {\"font\": {}, \"showarrow\": false, \"text\": \"SeniorCitizen=Yes\", \"x\": 0.74, \"xanchor\": \"center\", \"xref\": \"paper\", \"y\": 1.0, \"yanchor\": \"bottom\", \"yref\": \"paper\"}, {\"font\": {}, \"showarrow\": false, \"text\": \"Partner=Yes\", \"textangle\": 90, \"x\": 0.98, \"xanchor\": \"left\", \"xref\": \"paper\", \"y\": 0.2425, \"yanchor\": \"middle\", \"yref\": \"paper\"}, {\"font\": {}, \"showarrow\": false, \"text\": \"Partner=No\", \"textangle\": 90, \"x\": 0.98, \"xanchor\": \"left\", \"xref\": \"paper\", \"y\": 0.7575000000000001, \"yanchor\": \"middle\", \"yref\": \"paper\"}], \"barmode\": \"group\", \"legend\": {\"title\": {\"text\": \"Dependents\"}, \"tracegroupgap\": 0}, \"margin\": {\"t\": 60}, \"template\": {\"data\": {\"bar\": [{\"error_x\": {\"color\": \"#2a3f5f\"}, \"error_y\": {\"color\": \"#2a3f5f\"}, \"marker\": {\"line\": {\"color\": \"#E5ECF6\", \"width\": 0.5}}, \"type\": \"bar\"}], \"barpolar\": [{\"marker\": {\"line\": {\"color\": \"#E5ECF6\", \"width\": 0.5}}, \"type\": \"barpolar\"}], \"carpet\": [{\"aaxis\": {\"endlinecolor\": \"#2a3f5f\", \"gridcolor\": \"white\", \"linecolor\": \"white\", \"minorgridcolor\": \"white\", \"startlinecolor\": \"#2a3f5f\"}, \"baxis\": {\"endlinecolor\": \"#2a3f5f\", \"gridcolor\": \"white\", \"linecolor\": \"white\", \"minorgridcolor\": \"white\", \"startlinecolor\": \"#2a3f5f\"}, \"type\": \"carpet\"}], \"choropleth\": [{\"colorbar\": {\"outlinewidth\": 0, \"ticks\": \"\"}, \"type\": \"choropleth\"}], \"contour\": [{\"colorbar\": {\"outlinewidth\": 0, \"ticks\": \"\"}, \"colorscale\": [[0.0, \"#0d0887\"], [0.1111111111111111, \"#46039f\"], [0.2222222222222222, \"#7201a8\"], [0.3333333333333333, \"#9c179e\"], [0.4444444444444444, \"#bd3786\"], [0.5555555555555556, \"#d8576b\"], [0.6666666666666666, \"#ed7953\"], [0.7777777777777778, \"#fb9f3a\"], [0.8888888888888888, \"#fdca26\"], [1.0, \"#f0f921\"]], \"type\": \"contour\"}], \"contourcarpet\": [{\"colorbar\": {\"outlinewidth\": 0, \"ticks\": \"\"}, \"type\": \"contourcarpet\"}], \"heatmap\": [{\"colorbar\": {\"outlinewidth\": 0, \"ticks\": \"\"}, \"colorscale\": [[0.0, \"#0d0887\"], [0.1111111111111111, \"#46039f\"], [0.2222222222222222, \"#7201a8\"], [0.3333333333333333, \"#9c179e\"], [0.4444444444444444, \"#bd3786\"], [0.5555555555555556, \"#d8576b\"], [0.6666666666666666, \"#ed7953\"], [0.7777777777777778, \"#fb9f3a\"], [0.8888888888888888, \"#fdca26\"], [1.0, \"#f0f921\"]], \"type\": \"heatmap\"}], \"heatmapgl\": [{\"colorbar\": {\"outlinewidth\": 0, \"ticks\": \"\"}, \"colorscale\": [[0.0, \"#0d0887\"], [0.1111111111111111, \"#46039f\"], [0.2222222222222222, \"#7201a8\"], [0.3333333333333333, \"#9c179e\"], [0.4444444444444444, \"#bd3786\"], [0.5555555555555556, \"#d8576b\"], [0.6666666666666666, \"#ed7953\"], [0.7777777777777778, \"#fb9f3a\"], [0.8888888888888888, \"#fdca26\"], [1.0, \"#f0f921\"]], \"type\": \"heatmapgl\"}], \"histogram\": [{\"marker\": {\"colorbar\": {\"outlinewidth\": 0, \"ticks\": \"\"}}, \"type\": \"histogram\"}], \"histogram2d\": [{\"colorbar\": {\"outlinewidth\": 0, \"ticks\": \"\"}, \"colorscale\": [[0.0, \"#0d0887\"], [0.1111111111111111, \"#46039f\"], [0.2222222222222222, \"#7201a8\"], [0.3333333333333333, \"#9c179e\"], [0.4444444444444444, \"#bd3786\"], [0.5555555555555556, \"#d8576b\"], [0.6666666666666666, \"#ed7953\"], [0.7777777777777778, \"#fb9f3a\"], [0.8888888888888888, \"#fdca26\"], [1.0, \"#f0f921\"]], \"type\": \"histogram2d\"}], \"histogram2dcontour\": [{\"colorbar\": {\"outlinewidth\": 0, \"ticks\": \"\"}, \"colorscale\": [[0.0, \"#0d0887\"], [0.1111111111111111, \"#46039f\"], [0.2222222222222222, \"#7201a8\"], [0.3333333333333333, \"#9c179e\"], [0.4444444444444444, \"#bd3786\"], [0.5555555555555556, \"#d8576b\"], [0.6666666666666666, \"#ed7953\"], [0.7777777777777778, \"#fb9f3a\"], [0.8888888888888888, \"#fdca26\"], [1.0, \"#f0f921\"]], \"type\": \"histogram2dcontour\"}], \"mesh3d\": [{\"colorbar\": {\"outlinewidth\": 0, \"ticks\": \"\"}, \"type\": \"mesh3d\"}], \"parcoords\": [{\"line\": {\"colorbar\": {\"outlinewidth\": 0, \"ticks\": \"\"}}, \"type\": \"parcoords\"}], \"pie\": [{\"automargin\": true, \"type\": \"pie\"}], \"scatter\": [{\"marker\": {\"colorbar\": {\"outlinewidth\": 0, \"ticks\": \"\"}}, \"type\": \"scatter\"}], \"scatter3d\": [{\"line\": {\"colorbar\": {\"outlinewidth\": 0, \"ticks\": \"\"}}, \"marker\": {\"colorbar\": {\"outlinewidth\": 0, \"ticks\": \"\"}}, \"type\": \"scatter3d\"}], \"scattercarpet\": [{\"marker\": {\"colorbar\": {\"outlinewidth\": 0, \"ticks\": \"\"}}, \"type\": \"scattercarpet\"}], \"scattergeo\": [{\"marker\": {\"colorbar\": {\"outlinewidth\": 0, \"ticks\": \"\"}}, \"type\": \"scattergeo\"}], \"scattergl\": [{\"marker\": {\"colorbar\": {\"outlinewidth\": 0, \"ticks\": \"\"}}, \"type\": \"scattergl\"}], \"scattermapbox\": [{\"marker\": {\"colorbar\": {\"outlinewidth\": 0, \"ticks\": \"\"}}, \"type\": \"scattermapbox\"}], \"scatterpolar\": [{\"marker\": {\"colorbar\": {\"outlinewidth\": 0, \"ticks\": \"\"}}, \"type\": \"scatterpolar\"}], \"scatterpolargl\": [{\"marker\": {\"colorbar\": {\"outlinewidth\": 0, \"ticks\": \"\"}}, \"type\": \"scatterpolargl\"}], \"scatterternary\": [{\"marker\": {\"colorbar\": {\"outlinewidth\": 0, \"ticks\": \"\"}}, \"type\": \"scatterternary\"}], \"surface\": [{\"colorbar\": {\"outlinewidth\": 0, \"ticks\": \"\"}, \"colorscale\": [[0.0, \"#0d0887\"], [0.1111111111111111, \"#46039f\"], [0.2222222222222222, \"#7201a8\"], [0.3333333333333333, \"#9c179e\"], [0.4444444444444444, \"#bd3786\"], [0.5555555555555556, \"#d8576b\"], [0.6666666666666666, \"#ed7953\"], [0.7777777777777778, \"#fb9f3a\"], [0.8888888888888888, \"#fdca26\"], [1.0, \"#f0f921\"]], \"type\": \"surface\"}], \"table\": [{\"cells\": {\"fill\": {\"color\": \"#EBF0F8\"}, \"line\": {\"color\": \"white\"}}, \"header\": {\"fill\": {\"color\": \"#C8D4E3\"}, \"line\": {\"color\": \"white\"}}, \"type\": \"table\"}]}, \"layout\": {\"annotationdefaults\": {\"arrowcolor\": \"#2a3f5f\", \"arrowhead\": 0, \"arrowwidth\": 1}, \"coloraxis\": {\"colorbar\": {\"outlinewidth\": 0, \"ticks\": \"\"}}, \"colorscale\": {\"diverging\": [[0, \"#8e0152\"], [0.1, \"#c51b7d\"], [0.2, \"#de77ae\"], [0.3, \"#f1b6da\"], [0.4, \"#fde0ef\"], [0.5, \"#f7f7f7\"], [0.6, \"#e6f5d0\"], [0.7, \"#b8e186\"], [0.8, \"#7fbc41\"], [0.9, \"#4d9221\"], [1, \"#276419\"]], \"sequential\": [[0.0, \"#0d0887\"], [0.1111111111111111, \"#46039f\"], [0.2222222222222222, \"#7201a8\"], [0.3333333333333333, \"#9c179e\"], [0.4444444444444444, \"#bd3786\"], [0.5555555555555556, \"#d8576b\"], [0.6666666666666666, \"#ed7953\"], [0.7777777777777778, \"#fb9f3a\"], [0.8888888888888888, \"#fdca26\"], [1.0, \"#f0f921\"]], \"sequentialminus\": [[0.0, \"#0d0887\"], [0.1111111111111111, \"#46039f\"], [0.2222222222222222, \"#7201a8\"], [0.3333333333333333, \"#9c179e\"], [0.4444444444444444, \"#bd3786\"], [0.5555555555555556, \"#d8576b\"], [0.6666666666666666, \"#ed7953\"], [0.7777777777777778, \"#fb9f3a\"], [0.8888888888888888, \"#fdca26\"], [1.0, \"#f0f921\"]]}, \"colorway\": [\"#636efa\", \"#EF553B\", \"#00cc96\", \"#ab63fa\", \"#FFA15A\", \"#19d3f3\", \"#FF6692\", \"#B6E880\", \"#FF97FF\", \"#FECB52\"], \"font\": {\"color\": \"#2a3f5f\"}, \"geo\": {\"bgcolor\": \"white\", \"lakecolor\": \"white\", \"landcolor\": \"#E5ECF6\", \"showlakes\": true, \"showland\": true, \"subunitcolor\": \"white\"}, \"hoverlabel\": {\"align\": \"left\"}, \"hovermode\": \"closest\", \"mapbox\": {\"style\": \"light\"}, \"paper_bgcolor\": \"white\", \"plot_bgcolor\": \"#E5ECF6\", \"polar\": {\"angularaxis\": {\"gridcolor\": \"white\", \"linecolor\": \"white\", \"ticks\": \"\"}, \"bgcolor\": \"#E5ECF6\", \"radialaxis\": {\"gridcolor\": \"white\", \"linecolor\": \"white\", \"ticks\": \"\"}}, \"scene\": {\"xaxis\": {\"backgroundcolor\": \"#E5ECF6\", \"gridcolor\": \"white\", \"gridwidth\": 2, \"linecolor\": \"white\", \"showbackground\": true, \"ticks\": \"\", \"zerolinecolor\": \"white\"}, \"yaxis\": {\"backgroundcolor\": \"#E5ECF6\", \"gridcolor\": \"white\", \"gridwidth\": 2, \"linecolor\": \"white\", \"showbackground\": true, \"ticks\": \"\", \"zerolinecolor\": \"white\"}, \"zaxis\": {\"backgroundcolor\": \"#E5ECF6\", \"gridcolor\": \"white\", \"gridwidth\": 2, \"linecolor\": \"white\", \"showbackground\": true, \"ticks\": \"\", \"zerolinecolor\": \"white\"}}, \"shapedefaults\": {\"line\": {\"color\": \"#2a3f5f\"}}, \"ternary\": {\"aaxis\": {\"gridcolor\": \"white\", \"linecolor\": \"white\", \"ticks\": \"\"}, \"baxis\": {\"gridcolor\": \"white\", \"linecolor\": \"white\", \"ticks\": \"\"}, \"bgcolor\": \"#E5ECF6\", \"caxis\": {\"gridcolor\": \"white\", \"linecolor\": \"white\", \"ticks\": \"\"}}, \"title\": {\"x\": 0.05}, \"xaxis\": {\"automargin\": true, \"gridcolor\": \"white\", \"linecolor\": \"white\", \"ticks\": \"\", \"title\": {\"standoff\": 15}, \"zerolinecolor\": \"white\", \"zerolinewidth\": 2}, \"yaxis\": {\"automargin\": true, \"gridcolor\": \"white\", \"linecolor\": \"white\", \"ticks\": \"\", \"title\": {\"standoff\": 15}, \"zerolinecolor\": \"white\", \"zerolinewidth\": 2}}}, \"xaxis\": {\"anchor\": \"y\", \"domain\": [0.0, 0.48], \"title\": {\"text\": \"gender\"}}, \"xaxis2\": {\"anchor\": \"y2\", \"domain\": [0.5, 0.98], \"matches\": \"x\", \"title\": {\"text\": \"gender\"}}, \"xaxis3\": {\"anchor\": \"y3\", \"domain\": [0.0, 0.48], \"matches\": \"x\", \"showticklabels\": false}, \"xaxis4\": {\"anchor\": \"y4\", \"domain\": [0.5, 0.98], \"matches\": \"x\", \"showticklabels\": false}, \"yaxis\": {\"anchor\": \"x\", \"domain\": [0.0, 0.485], \"title\": {\"text\": \"TotalCharges\"}}, \"yaxis2\": {\"anchor\": \"x2\", \"domain\": [0.0, 0.485], \"matches\": \"y\", \"showticklabels\": false}, \"yaxis3\": {\"anchor\": \"x3\", \"domain\": [0.515, 1.0], \"matches\": \"y\", \"title\": {\"text\": \"TotalCharges\"}}, \"yaxis4\": {\"anchor\": \"x4\", \"domain\": [0.515, 1.0], \"matches\": \"y\", \"showticklabels\": false}},\n",
       "                        {\"responsive\": true}\n",
       "                    ).then(function(){\n",
       "                            \n",
       "var gd = document.getElementById('2c6ca993-7b0c-4bc2-b55e-18de0d23e545');\n",
       "var x = new MutationObserver(function (mutations, observer) {{\n",
       "        var display = window.getComputedStyle(gd).display;\n",
       "        if (!display || display === 'none') {{\n",
       "            console.log([gd, 'removed!']);\n",
       "            Plotly.purge(gd);\n",
       "            observer.disconnect();\n",
       "        }}\n",
       "}});\n",
       "\n",
       "// Listen for the removal of the full notebook cells\n",
       "var notebookContainer = gd.closest('#notebook-container');\n",
       "if (notebookContainer) {{\n",
       "    x.observe(notebookContainer, {childList: true});\n",
       "}}\n",
       "\n",
       "// Listen for the clearing of the current output cell\n",
       "var outputEl = gd.closest('.output');\n",
       "if (outputEl) {{\n",
       "    x.observe(outputEl, {childList: true});\n",
       "}}\n",
       "\n",
       "                        })\n",
       "                };\n",
       "                });\n",
       "            </script>\n",
       "        </div>"
      ]
     },
     "metadata": {},
     "output_type": "display_data"
    }
   ],
   "source": [
    "gen = data.groupby(['gender','SeniorCitizen','Partner','Dependents']).mean()\n",
    "gen.reset_index(inplace=True)\n",
    "px.bar(gen,y='TotalCharges',x='gender',facet_col='SeniorCitizen',facet_row='Partner',color='Dependents',barmode='group')"
   ]
  },
  {
   "cell_type": "code",
   "execution_count": 13,
   "metadata": {
    "execution": {
     "iopub.execute_input": "2020-09-11T16:25:57.794799Z",
     "iopub.status.busy": "2020-09-11T16:25:57.794111Z",
     "iopub.status.idle": "2020-09-11T16:25:57.908991Z",
     "shell.execute_reply": "2020-09-11T16:25:57.908373Z"
    },
    "id": "yEIBhgQCLxKk",
    "outputId": "5f9a6233-31dd-456c-c427-fca537efc353",
    "papermill": {
     "duration": 0.172451,
     "end_time": "2020-09-11T16:25:57.909104",
     "exception": false,
     "start_time": "2020-09-11T16:25:57.736653",
     "status": "completed"
    },
    "tags": []
   },
   "outputs": [
    {
     "data": {
      "text/html": [
       "<div>\n",
       "        \n",
       "        \n",
       "            <div id=\"997b0993-ef30-4065-a000-5185d3da36b6\" class=\"plotly-graph-div\" style=\"height:525px; width:100%;\"></div>\n",
       "            <script type=\"text/javascript\">\n",
       "                require([\"plotly\"], function(Plotly) {\n",
       "                    window.PLOTLYENV=window.PLOTLYENV || {};\n",
       "                    \n",
       "                if (document.getElementById(\"997b0993-ef30-4065-a000-5185d3da36b6\")) {\n",
       "                    Plotly.newPlot(\n",
       "                        '997b0993-ef30-4065-a000-5185d3da36b6',\n",
       "                        [{\"hovertemplate\": \"tenure=%{x}<br>MonthlyCharges=%{y}<extra></extra>\", \"legendgroup\": \"\", \"marker\": {\"color\": \"#636efa\", \"symbol\": \"circle\"}, \"mode\": \"markers\", \"name\": \"\", \"showlegend\": false, \"type\": \"scattergl\", \"x\": [1, 34, 2, 45, 2, 8, 22, 10, 28, 62, 13, 16, 58, 49, 25, 69, 52, 71, 10, 21, 1, 12, 1, 58, 49, 30, 47, 1, 72, 17, 71, 2, 27, 1, 1, 72, 5, 46, 34, 11, 10, 70, 17, 63, 13, 49, 2, 2, 52, 69, 43, 15, 25, 8, 60, 18, 63, 66, 34, 72, 47, 60, 72, 18, 9, 3, 47, 31, 50, 10, 1, 52, 64, 62, 3, 56, 46, 8, 30, 45, 1, 11, 7, 42, 49, 9, 35, 48, 46, 29, 30, 1, 66, 65, 72, 12, 71, 5, 52, 25, 1, 1, 38, 66, 68, 5, 72, 32, 43, 72, 55, 52, 43, 37, 64, 3, 36, 10, 41, 27, 56, 6, 3, 7, 4, 33, 27, 72, 1, 71, 13, 25, 67, 1, 2, 43, 23, 64, 57, 1, 72, 8, 61, 64, 71, 65, 3, 1, 30, 15, 8, 7, 70, 62, 6, 14, 22, 22, 16, 10, 13, 20, 2, 53, 11, 69, 4, 72, 58, 16, 43, 2, 14, 53, 32, 34, 15, 7, 15, 61, 1, 1, 8, 33, 13, 1, 20, 3, 13, 40, 43, 6, 69, 72, 59, 20, 24, 59, 72, 1, 27, 14, 71, 13, 44, 33, 72, 1, 19, 64, 2, 1, 61, 29, 23, 57, 72, 66, 65, 8, 4, 71, 1, 4, 12, 24, 31, 1, 30, 47, 54, 50, 1, 72, 29, 2, 10, 18, 11, 16, 72, 72, 41, 65, 13, 4, 41, 15, 1, 42, 51, 2, 1, 32, 10, 67, 61, 50, 2, 29, 3, 13, 57, 31, 45, 61, 50, 19, 59, 71, 16, 57, 1, 20, 1, 5, 52, 21, 14, 5, 6, 10, 1, 68, 18, 22, 20, 1, 8, 10, 24, 35, 23, 6, 12, 1, 71, 35, 40, 1, 23, 4, 4, 68, 38, 52, 32, 29, 38, 48, 1, 22, 43, 5, 5, 51, 71, 38, 24, 35, 54, 72, 1, 9, 69, 52, 11, 2, 28, 17, 35, 8, 46, 7, 2, 68, 43, 68, 36, 63, 32, 71, 66, 63, 41, 1, 2, 70, 23, 64, 37, 17, 7, 4, 21, 10, 16, 64, 27, 42, 5, 41, 58, 47, 18, 5, 23, 1, 71, 72, 33, 2, 24, 56, 37, 43, 1, 25, 61, 17, 41, 1, 72, 1, 48, 11, 55, 42, 44, 1, 27, 27, 2, 19, 42, 66, 33, 34, 33, 23, 32, 11, 69, 68, 20, 72, 60, 32, 1, 1, 3, 46, 29, 51, 48, 16, 70, 40, 22, 1, 5, 7, 29, 44, 10, 55, 52, 10, 18, 68, 61, 72, 2, 12, 41, 26, 36, 72, 35, 1, 16, 49, 54, 18, 36, 60, 1, 52, 8, 72, 64, 22, 60, 28, 61, 24, 28, 30, 2, 1, 6, 24, 4, 7, 72, 70, 64, 72, 44, 13, 17, 1, 9, 24, 1, 24, 35, 7, 5, 15, 11, 48, 20, 72, 8, 72, 15, 72, 1, 63, 2, 2, 61, 1, 22, 28, 70, 5, 12, 34, 71, 70, 52, 69, 20, 11, 2, 6, 1, 20, 61, 5, 56, 30, 40, 28, 5, 27, 12, 67, 29, 55, 23, 34, 52, 72, 58, 35, 56, 24, 70, 2, 68, 1, 12, 63, 33, 69, 60, 72, 11, 1, 10, 13, 34, 39, 65, 50, 15, 72, 72, 55, 23, 32, 56, 1, 38, 11, 1, 56, 3, 7, 59, 7, 71, 15, 71, 35, 11, 60, 47, 11, 56, 28, 61, 31, 9, 35, 2, 12, 1, 4, 1, 3, 1, 52, 5, 72, 71, 72, 46, 63, 30, 1, 12, 16, 4, 51, 65, 16, 2, 66, 46, 32, 72, 38, 51, 72, 65, 9, 9, 66, 44, 50, 15, 8, 66, 57, 7, 10, 62, 40, 20, 7, 25, 23, 66, 72, 49, 43, 46, 72, 10, 40, 65, 31, 68, 56, 10, 68, 43, 1, 49, 15, 20, 1, 50, 2, 24, 3, 1, 35, 17, 8, 10, 68, 45, 2, 37, 4, 10, 1, 65, 57, 3, 2, 49, 4, 70, 53, 53, 1, 22, 52, 65, 48, 2, 3, 45, 1, 61, 3, 40, 1, 1, 51, 2, 52, 51, 1, 31, 47, 3, 22, 1, 72, 3, 47, 72, 66, 35, 29, 2, 4, 25, 65, 27, 29, 29, 1, 20, 58, 14, 72, 46, 71, 32, 26, 68, 2, 61, 4, 3, 33, 9, 22, 5, 30, 65, 45, 5, 25, 72, 27, 32, 30, 70, 42, 72, 47, 2, 10, 61, 5, 72, 72, 3, 48, 63, 27, 70, 7, 2, 20, 66, 3, 15, 72, 1, 22, 3, 72, 65, 11, 22, 14, 41, 17, 11, 15, 1, 5, 33, 72, 3, 2, 59, 2, 71, 5, 27, 1, 63, 46, 72, 34, 24, 72, 60, 68, 8, 34, 6, 2, 31, 20, 1, 62, 70, 10, 39, 46, 6, 72, 18, 71, 40, 1, 58, 70, 42, 34, 5, 25, 2, 55, 21, 70, 61, 43, 47, 5, 62, 16, 7, 14, 60, 34, 50, 38, 70, 37, 4, 60, 62, 1, 36, 44, 55, 72, 12, 13, 1, 15, 65, 12, 72, 72, 72, 52, 2, 5, 68, 62, 72, 1, 66, 72, 26, 64, 20, 3, 22, 4, 62, 5, 59, 3, 72, 57, 66, 60, 45, 3, 15, 51, 60, 33, 10, 26, 6, 67, 49, 1, 7, 27, 37, 63, 31, 50, 32, 1, 63, 30, 71, 53, 12, 50, 2, 9, 17, 56, 67, 9, 4, 19, 8, 71, 10, 15, 72, 12, 72, 1, 23, 72, 26, 21, 60, 12, 16, 63, 22, 32, 3, 13, 68, 30, 16, 33, 72, 4, 12, 4, 6, 65, 15, 24, 13, 24, 72, 54, 3, 4, 32, 35, 35, 2, 8, 22, 15, 22, 1, 71, 4, 25, 32, 7, 17, 8, 56, 1, 8, 7, 3, 71, 2, 1, 49, 58, 44, 59, 71, 1, 11, 62, 35, 20, 40, 39, 1, 72, 33, 12, 1, 27, 34, 56, 58, 22, 10, 13, 35, 34, 4, 72, 2, 7, 27, 4, 37, 21, 53, 18, 2, 32, 23, 3, 71, 9, 1, 18, 12, 71, 64, 4, 23, 39, 28, 5, 45, 37, 60, 8, 47, 26, 3, 50, 27, 8, 62, 71, 66, 68, 13, 56, 38, 14, 16, 14, 32, 8, 43, 52, 3, 29, 1, 12, 16, 40, 5, 40, 36, 5, 10, 2, 23, 26, 72, 34, 10, 14, 23, 47, 24, 49, 20, 2, 2, 22, 7, 1, 59, 58, 41, 59, 3, 32, 46, 2, 52, 13, 11, 32, 17, 16, 51, 29, 70, 71, 41, 1, 7, 25, 67, 5, 15, 20, 3, 54, 42, 9, 63, 69, 69, 40, 60, 4, 71, 37, 32, 39, 38, 52, 48, 70, 20, 50, 19, 25, 12, 39, 7, 23, 27, 47, 26, 14, 11, 2, 26, 72, 63, 71, 11, 14, 13, 6, 11, 18, 1, 32, 29, 3, 2, 13, 41, 1, 7, 52, 45, 70, 53, 62, 60, 3, 23, 1, 67, 12, 71, 25, 5, 26, 1, 70, 72, 60, 32, 1, 14, 13, 6, 46, 15, 43, 39, 21, 57, 53, 18, 1, 58, 71, 35, 3, 38, 35, 7, 47, 14, 20, 66, 15, 42, 17, 37, 12, 53, 60, 18, 1, 3, 9, 1, 56, 17, 11, 7, 69, 19, 3, 54, 62, 24, 62, 17, 9, 64, 2, 1, 16, 72, 30, 49, 61, 47, 20, 34, 70, 54, 61, 3, 13, 16, 3, 25, 30, 21, 1, 15, 23, 45, 24, 11, 1, 56, 1, 1, 7, 55, 2, 72, 45, 47, 46, 2, 2, 12, 68, 69, 56, 4, 64, 59, 62, 63, 53, 5, 49, 62, 55, 71, 72, 36, 25, 72, 36, 1, 72, 59, 7, 1, 30, 64, 63, 72, 8, 62, 67, 6, 70, 20, 5, 24, 11, 72, 66, 45, 69, 15, 28, 70, 36, 16, 18, 34, 42, 48, 47, 39, 11, 7, 3, 8, 1, 32, 60, 10, 71, 4, 1, 43, 59, 23, 72, 22, 1, 69, 50, 1, 2, 15, 31, 1, 66, 3, 8, 64, 28, 57, 14, 19, 10, 51, 67, 11, 72, 66, 18, 9, 9, 48, 10, 9, 13, 4, 4, 72, 51, 59, 10, 61, 54, 33, 27, 1, 23, 1, 45, 39, 5, 72, 58, 70, 61, 2, 46, 1, 22, 48, 64, 72, 12, 34, 72, 29, 33, 1, 62, 41, 64, 4, 24, 14, 3, 4, 18, 8, 35, 1, 66, 8, 71, 43, 2, 29, 15, 65, 35, 64, 58, 18, 67, 63, 60, 9, 70, 15, 48, 12, 71, 44, 1, 45, 23, 43, 35, 9, 12, 65, 2, 27, 40, 5, 8, 58, 52, 3, 41, 20, 1, 4, 23, 6, 8, 18, 52, 31, 29, 36, 16, 42, 1, 60, 5, 22, 36, 4, 9, 1, 12, 23, 62, 37, 8, 31, 13, 24, 45, 69, 2, 61, 41, 44, 39, 72, 13, 51, 71, 22, 2, 56, 1, 23, 66, 1, 19, 11, 8, 52, 3, 51, 15, 64, 37, 13, 49, 45, 18, 1, 68, 54, 23, 17, 71, 67, 14, 1, 63, 41, 17, 56, 5, 2, 3, 37, 29, 8, 63, 7, 3, 72, 19, 59, 2, 35, 14, 14, 69, 7, 69, 72, 8, 4, 63, 72, 46, 5, 30, 63, 60, 63, 25, 1, 6, 22, 31, 39, 26, 53, 1, 12, 16, 2, 39, 1, 7, 4, 10, 55, 72, 10, 11, 15, 23, 1, 3, 47, 15, 66, 68, 17, 7, 12, 21, 21, 56, 6, 65, 42, 68, 48, 50, 7, 63, 17, 42, 4, 62, 2, 2, 48, 27, 70, 1, 46, 30, 15, 69, 65, 72, 13, 17, 51, 51, 72, 67, 34, 67, 49, 53, 27, 23, 69, 2, 35, 46, 54, 56, 9, 20, 11, 30, 68, 38, 17, 48, 1, 63, 3, 48, 66, 68, 17, 7, 72, 29, 37, 34, 42, 59, 11, 60, 27, 1, 1, 17, 58, 1, 3, 53, 35, 50, 68, 47, 65, 5, 51, 46, 9, 8, 14, 45, 8, 1, 66, 72, 41, 23, 29, 4, 6, 67, 7, 56, 72, 72, 23, 35, 27, 26, 12, 40, 7, 70, 60, 39, 72, 1, 54, 3, 63, 71, 42, 47, 66, 21, 11, 1, 55, 69, 3, 4, 30, 5, 71, 29, 52, 68, 46, 8, 72, 17, 3, 2, 9, 51, 6, 3, 17, 30, 31, 45, 64, 1, 1, 61, 1, 9, 72, 1, 7, 66, 1, 40, 16, 2, 67, 41, 56, 72, 3, 54, 52, 50, 14, 27, 72, 62, 12, 44, 54, 68, 20, 50, 58, 35, 2, 63, 58, 27, 71, 63, 71, 41, 13, 2, 68, 1, 65, 72, 28, 72, 2, 18, 60, 26, 1, 4, 68, 38, 42, 57, 54, 12, 44, 42, 72, 71, 19, 23, 30, 35, 10, 1, 22, 7, 36, 34, 72, 36, 1, 23, 32, 71, 23, 17, 1, 12, 72, 1, 72, 60, 61, 6, 32, 31, 19, 72, 32, 65, 45, 42, 8, 32, 22, 57, 1, 1, 1, 24, 1, 54, 4, 65, 56, 45, 71, 59, 69, 19, 55, 38, 10, 47, 2, 1, 1, 1, 46, 38, 65, 19, 52, 71, 1, 52, 6, 26, 48, 64, 3, 1, 72, 1, 51, 41, 72, 43, 72, 47, 72, 3, 1, 2, 26, 29, 35, 27, 24, 67, 16, 23, 14, 1, 1, 4, 16, 46, 68, 38, 30, 5, 17, 4, 12, 72, 3, 56, 41, 40, 7, 69, 7, 5, 72, 44, 65, 3, 24, 44, 72, 24, 1, 22, 70, 25, 37, 22, 59, 49, 47, 31, 1, 3, 53, 1, 20, 3, 51, 51, 13, 1, 1, 63, 3, 46, 1, 8, 71, 55, 70, 2, 67, 65, 14, 20, 1, 1, 49, 72, 46, 24, 5, 33, 42, 23, 8, 66, 24, 24, 69, 53, 60, 7, 20, 23, 72, 11, 21, 1, 31, 57, 45, 10, 58, 14, 27, 14, 12, 69, 25, 58, 35, 16, 45, 17, 1, 22, 1, 67, 67, 2, 23, 9, 5, 54, 57, 24, 49, 5, 2, 4, 70, 5, 53, 47, 31, 13, 28, 10, 38, 1, 67, 52, 62, 16, 5, 12, 72, 71, 24, 15, 67, 2, 5, 15, 1, 41, 43, 1, 1, 26, 22, 71, 7, 28, 16, 7, 69, 1, 3, 21, 69, 71, 69, 48, 47, 2, 45, 51, 22, 72, 37, 71, 7, 66, 51, 30, 34, 64, 65, 47, 1, 49, 67, 39, 14, 43, 56, 14, 1, 16, 70, 72, 23, 21, 1, 1, 32, 17, 4, 36, 50, 48, 50, 72, 10, 18, 1, 1, 9, 2, 40, 69, 37, 18, 11, 8, 3, 55, 33, 46, 34, 3, 30, 33, 45, 40, 71, 1, 72, 22, 46, 55, 1, 12, 31, 5, 67, 1, 40, 41, 1, 51, 42, 23, 1, 1, 56, 15, 12, 54, 7, 33, 16, 21, 30, 3, 11, 62, 18, 6, 46, 21, 68, 1, 25, 24, 30, 2, 51, 57, 15, 72, 2, 28, 29, 70, 13, 59, 13, 7, 62, 21, 2, 1, 4, 19, 30, 67, 72, 53, 5, 71, 50, 56, 2, 2, 24, 46, 71, 29, 69, 71, 1, 56, 56, 1, 28, 19, 66, 17, 52, 19, 36, 7, 72, 67, 34, 57, 7, 1, 8, 69, 50, 10, 12, 14, 70, 64, 66, 71, 20, 72, 71, 38, 28, 17, 33, 23, 58, 70, 4, 45, 10, 36, 54, 23, 41, 5, 27, 1, 67, 72, 56, 44, 66, 34, 69, 1, 40, 30, 11, 15, 11, 64, 72, 72, 1, 15, 60, 56, 8, 3, 49, 2, 6, 70, 12, 52, 72, 40, 1, 3, 40, 1, 30, 23, 1, 44, 65, 7, 72, 8, 16, 66, 1, 3, 53, 8, 69, 5, 72, 13, 4, 54, 72, 12, 1, 1, 54, 69, 48, 48, 8, 71, 2, 67, 34, 3, 9, 71, 57, 72, 48, 18, 43, 72, 35, 4, 49, 71, 11, 63, 65, 49, 29, 15, 4, 72, 26, 35, 57, 28, 25, 47, 57, 16, 5, 17, 56, 72, 21, 48, 68, 30, 3, 14, 4, 71, 8, 61, 72, 5, 49, 8, 3, 9, 67, 46, 67, 55, 33, 62, 1, 49, 1, 14, 18, 1, 1, 72, 64, 69, 1, 71, 66, 2, 71, 11, 47, 35, 32, 60, 11, 29, 21, 48, 3, 43, 5, 1, 71, 8, 8, 20, 33, 71, 31, 38, 1, 2, 12, 9, 11, 6, 71, 42, 8, 5, 2, 45, 28, 43, 60, 42, 7, 25, 40, 27, 10, 27, 11, 4, 68, 1, 18, 57, 26, 17, 1, 38, 59, 30, 2, 50, 9, 3, 14, 31, 7, 8, 17, 32, 2, 7, 72, 31, 27, 18, 7, 14, 11, 72, 28, 15, 4, 71, 5, 47, 57, 50, 8, 48, 70, 1, 8, 1, 1, 60, 49, 4, 29, 67, 53, 67, 6, 47, 53, 69, 3, 4, 56, 59, 61, 2, 46, 12, 14, 28, 24, 31, 68, 39, 42, 13, 6, 35, 38, 18, 4, 27, 41, 50, 72, 70, 44, 2, 34, 72, 71, 64, 72, 1, 29, 23, 52, 25, 64, 16, 1, 24, 2, 34, 36, 53, 47, 72, 72, 1, 9, 8, 45, 7, 71, 41, 67, 69, 70, 25, 72, 34, 65, 70, 72, 35, 13, 12, 62, 25, 52, 8, 2, 56, 12, 47, 2, 18, 8, 45, 3, 38, 72, 46, 71, 66, 25, 18, 13, 65, 60, 15, 72, 30, 42, 71, 1, 39, 35, 53, 1, 31, 48, 30, 10, 12, 57, 58, 37, 44, 27, 8, 3, 25, 57, 12, 62, 65, 71, 21, 71, 7, 72, 1, 72, 64, 72, 29, 13, 31, 1, 7, 61, 39, 10, 14, 1, 67, 72, 6, 1, 25, 33, 18, 71, 28, 2, 17, 56, 60, 33, 1, 2, 63, 7, 55, 65, 1, 63, 70, 36, 52, 22, 22, 5, 47, 33, 18, 1, 56, 2, 35, 64, 15, 24, 1, 70, 1, 4, 39, 29, 14, 61, 13, 66, 2, 59, 62, 33, 66, 72, 1, 19, 51, 63, 27, 22, 4, 42, 29, 4, 30, 4, 71, 46, 4, 7, 69, 72, 19, 28, 5, 72, 8, 7, 22, 72, 8, 52, 68, 71, 2, 34, 35, 61, 1, 1, 53, 72, 2, 3, 13, 41, 24, 28, 8, 1, 54, 41, 19, 72, 62, 56, 15, 10, 32, 21, 62, 2, 27, 5, 25, 2, 49, 63, 4, 1, 11, 52, 60, 64, 43, 61, 1, 5, 66, 67, 42, 1, 31, 7, 4, 34, 3, 19, 31, 1, 3, 46, 1, 69, 5, 1, 26, 10, 25, 64, 30, 13, 64, 46, 12, 15, 17, 13, 67, 24, 6, 53, 16, 10, 13, 9, 25, 7, 38, 43, 4, 25, 27, 72, 71, 24, 50, 57, 15, 4, 28, 9, 55, 3, 10, 55, 20, 62, 32, 43, 9, 60, 58, 7, 2, 37, 65, 39, 66, 68, 62, 3, 72, 41, 29, 4, 53, 1, 41, 39, 63, 15, 13, 1, 1, 8, 60, 12, 40, 66, 42, 66, 49, 1, 41, 41, 23, 3, 4, 52, 4, 11, 2, 26, 24, 12, 60, 64, 66, 60, 17, 42, 1, 47, 10, 70, 67, 1, 7, 1, 4, 66, 12, 24, 26, 6, 57, 14, 42, 25, 64, 22, 19, 61, 22, 70, 12, 31, 11, 68, 72, 67, 60, 1, 1, 58, 47, 1, 1, 22, 48, 37, 13, 43, 6, 71, 1, 72, 6, 12, 25, 21, 6, 20, 18, 43, 35, 1, 32, 52, 32, 72, 51, 68, 8, 49, 72, 9, 28, 54, 11, 50, 69, 1, 68, 40, 31, 33, 55, 68, 12, 71, 40, 64, 53, 12, 53, 72, 46, 40, 12, 9, 51, 49, 41, 56, 4, 20, 26, 20, 7, 7, 51, 4, 1, 27, 22, 12, 3, 34, 24, 51, 14, 59, 3, 65, 5, 59, 72, 62, 28, 3, 19, 1, 24, 57, 72, 67, 52, 71, 26, 35, 55, 33, 72, 1, 10, 37, 12, 1, 62, 1, 18, 69, 2, 19, 12, 9, 27, 27, 1, 24, 14, 32, 11, 1, 38, 9, 54, 29, 44, 59, 3, 18, 67, 22, 33, 5, 2, 72, 9, 67, 16, 8, 5, 23, 1, 50, 17, 68, 1, 25, 67, 32, 67, 72, 71, 1, 46, 2, 1, 48, 61, 32, 2, 3, 5, 71, 37, 65, 67, 49, 50, 25, 17, 64, 25, 23, 24, 37, 21, 1, 10, 6, 51, 10, 6, 47, 61, 52, 35, 71, 6, 45, 2, 4, 2, 4, 51, 60, 9, 3, 17, 8, 46, 68, 1, 4, 1, 28, 39, 11, 71, 2, 30, 17, 55, 58, 5, 1, 9, 26, 50, 72, 43, 56, 1, 72, 72, 36, 5, 13, 44, 70, 44, 32, 69, 16, 68, 16, 68, 4, 26, 29, 5, 70, 24, 72, 1, 70, 36, 38, 17, 41, 1, 2, 14, 2, 1, 13, 6, 4, 5, 15, 47, 8, 17, 15, 26, 23, 4, 29, 25, 9, 18, 3, 69, 14, 19, 39, 31, 24, 14, 64, 50, 52, 28, 21, 25, 17, 58, 17, 51, 72, 52, 27, 3, 64, 45, 3, 71, 1, 58, 34, 8, 15, 66, 12, 58, 3, 43, 9, 3, 22, 40, 68, 54, 50, 1, 72, 40, 72, 6, 5, 48, 1, 64, 17, 40, 41, 51, 41, 1, 2, 68, 24, 70, 3, 2, 3, 7, 13, 7, 12, 53, 12, 63, 15, 36, 4, 24, 61, 16, 65, 26, 16, 54, 1, 5, 19, 10, 23, 3, 72, 10, 10, 11, 37, 17, 36, 17, 66, 61, 22, 1, 6, 31, 68, 34, 52, 10, 29, 72, 47, 24, 65, 4, 12, 1, 33, 34, 14, 4, 13, 65, 23, 55, 49, 60, 69, 40, 67, 35, 19, 13, 41, 4, 24, 5, 5, 1, 72, 24, 42, 4, 68, 33, 1, 31, 4, 69, 38, 3, 48, 15, 25, 1, 48, 1, 1, 37, 66, 26, 63, 10, 2, 18, 64, 9, 28, 1, 4, 38, 66, 1, 18, 51, 1, 12, 41, 12, 55, 7, 12, 68, 5, 49, 40, 16, 10, 72, 2, 23, 71, 11, 1, 16, 1, 12, 54, 68, 4, 1, 27, 21, 13, 64, 1, 57, 21, 19, 31, 52, 46, 11, 53, 11, 57, 2, 2, 71, 1, 68, 72, 2, 1, 41, 72, 6, 4, 12, 58, 7, 65, 1, 56, 4, 58, 62, 26, 62, 58, 68, 61, 42, 18, 56, 4, 4, 35, 64, 31, 67, 4, 70, 3, 53, 2, 29, 47, 68, 12, 8, 54, 69, 26, 72, 70, 1, 10, 28, 1, 21, 51, 53, 53, 24, 70, 61, 11, 2, 25, 41, 18, 72, 71, 34, 29, 40, 36, 46, 58, 39, 4, 52, 70, 65, 1, 70, 29, 1, 67, 1, 26, 30, 48, 55, 7, 37, 31, 4, 72, 5, 1, 15, 8, 35, 56, 42, 65, 2, 65, 18, 23, 4, 70, 4, 19, 18, 38, 2, 47, 52, 9, 26, 8, 44, 3, 2, 9, 1, 25, 2, 43, 1, 58, 59, 44, 66, 68, 9, 19, 4, 70, 1, 8, 53, 51, 11, 60, 17, 3, 70, 1, 43, 16, 57, 37, 72, 11, 50, 5, 1, 16, 2, 17, 16, 15, 10, 46, 64, 1, 25, 71, 8, 72, 49, 29, 72, 31, 50, 71, 70, 71, 61, 32, 1, 68, 62, 7, 20, 6, 33, 28, 27, 7, 26, 5, 30, 63, 1, 53, 14, 21, 17, 16, 35, 32, 28, 1, 59, 72, 36, 40, 40, 9, 63, 3, 40, 8, 34, 5, 9, 9, 31, 50, 2, 1, 8, 9, 2, 3, 25, 1, 45, 51, 55, 38, 2, 38, 34, 70, 13, 39, 61, 12, 41, 21, 55, 69, 26, 69, 18, 47, 72, 33, 2, 72, 37, 62, 71, 23, 16, 9, 17, 4, 1, 24, 1, 72, 72, 11, 9, 2, 60, 29, 49, 30, 53, 39, 9, 39, 8, 51, 71, 71, 70, 1, 38, 28, 32, 49, 37, 10, 67, 7, 51, 9, 9, 4, 71, 50, 24, 22, 44, 33, 1, 54, 42, 1, 1, 30, 1, 16, 1, 9, 46, 1, 71, 43, 50, 13, 19, 41, 1, 24, 40, 3, 37, 67, 32, 6, 32, 59, 30, 20, 27, 20, 9, 68, 69, 26, 69, 11, 1, 10, 55, 44, 46, 69, 11, 11, 29, 57, 28, 42, 2, 23, 18, 62, 1, 16, 3, 67, 62, 57, 2, 23, 25, 72, 2, 8, 5, 35, 24, 2, 72, 41, 4, 26, 7, 1, 4, 48, 2, 12, 60, 55, 1, 1, 4, 1, 42, 1, 7, 3, 72, 15, 4, 11, 5, 1, 72, 55, 40, 57, 1, 1, 1, 52, 41, 43, 47, 3, 66, 55, 29, 12, 66, 35, 10, 27, 58, 54, 9, 2, 6, 26, 9, 8, 12, 15, 43, 42, 31, 66, 18, 1, 61, 10, 1, 18, 24, 3, 50, 1, 2, 17, 69, 72, 3, 50, 53, 58, 46, 72, 1, 6, 72, 4, 52, 2, 65, 43, 4, 25, 51, 12, 57, 24, 64, 4, 26, 15, 64, 36, 27, 1, 35, 4, 8, 10, 2, 58, 51, 46, 1, 46, 50, 53, 61, 5, 47, 54, 19, 26, 70, 17, 30, 1, 19, 26, 21, 50, 68, 3, 9, 51, 9, 41, 22, 21, 71, 1, 26, 71, 4, 12, 18, 3, 72, 11, 1, 13, 72, 42, 17, 7, 68, 56, 38, 72, 48, 52, 35, 67, 1, 53, 34, 3, 1, 19, 60, 11, 47, 18, 60, 72, 39, 59, 2, 1, 20, 6, 71, 24, 67, 1, 48, 37, 11, 3, 18, 50, 67, 25, 2, 9, 10, 70, 9, 4, 2, 1, 19, 7, 1, 1, 9, 3, 9, 5, 56, 18, 49, 70, 72, 6, 17, 29, 6, 63, 16, 59, 3, 8, 7, 68, 68, 52, 72, 32, 72, 1, 42, 25, 45, 43, 37, 20, 4, 63, 3, 66, 28, 8, 71, 1, 72, 16, 66, 11, 51, 8, 14, 4, 70, 70, 54, 28, 24, 69, 42, 2, 39, 45, 72, 38, 72, 1, 72, 55, 51, 63, 1, 23, 1, 2, 52, 36, 1, 28, 7, 14, 72, 1, 10, 42, 7, 4, 72, 20, 63, 56, 5, 72, 68, 67, 8, 52, 18, 59, 60, 7, 59, 46, 5, 59, 70, 14, 44, 64, 58, 46, 58, 72, 30, 11, 34, 54, 3, 72, 40, 2, 54, 14, 1, 10, 1, 1, 56, 68, 14, 68, 55, 16, 9, 14, 58, 53, 70, 14, 22, 10, 29, 1, 49, 68, 1, 30, 72, 10, 7, 9, 1, 20, 1, 29, 1, 3, 20, 64, 1, 6, 50, 6, 7, 72, 8, 67, 24, 72, 33, 2, 70, 22, 59, 36, 51, 53, 20, 63, 40, 35, 26, 27, 53, 34, 19, 43, 6, 56, 57, 34, 10, 1, 13, 56, 55, 36, 47, 12, 1, 24, 63, 35, 67, 25, 21, 13, 35, 71, 29, 71, 7, 57, 65, 27, 6, 72, 1, 11, 39, 59, 26, 2, 72, 65, 72, 6, 32, 50, 61, 15, 72, 9, 1, 12, 37, 61, 18, 21, 68, 12, 2, 62, 29, 1, 5, 1, 62, 36, 28, 69, 11, 63, 23, 10, 71, 45, 70, 22, 52, 55, 65, 72, 10, 7, 5, 24, 72, 21, 69, 44, 61, 24, 1, 6, 4, 72, 72, 14, 7, 48, 55, 1, 45, 3, 71, 8, 3, 69, 1, 72, 11, 71, 1, 33, 16, 56, 1, 5, 57, 56, 8, 22, 1, 40, 46, 63, 68, 69, 56, 10, 63, 24, 19, 22, 29, 13, 70, 49, 43, 3, 42, 57, 2, 72, 46, 66, 62, 72, 35, 17, 72, 28, 56, 31, 45, 1, 2, 6, 48, 25, 64, 50, 52, 4, 32, 45, 9, 66, 3, 54, 1, 64, 31, 14, 12, 67, 35, 45, 10, 29, 24, 66, 51, 45, 49, 29, 40, 37, 25, 22, 72, 7, 33, 23, 24, 1, 69, 3, 56, 65, 71, 14, 2, 32, 40, 1, 1, 7, 15, 17, 19, 71, 54, 31, 11, 18, 72, 71, 5, 38, 5, 2, 52, 8, 68, 69, 42, 50, 1, 1, 33, 7, 64, 1, 59, 6, 3, 15, 13, 23, 31, 29, 49, 56, 63, 63, 24, 36, 9, 3, 21, 13, 1, 25, 71, 66, 45, 22, 67, 68, 49, 4, 63, 2, 21, 55, 1, 17, 30, 22, 9, 1, 21, 19, 69, 1, 72, 70, 66, 7, 46, 39, 32, 24, 6, 37, 8, 72, 71, 16, 57, 66, 17, 21, 66, 17, 1, 58, 8, 27, 34, 30, 33, 1, 14, 16, 49, 19, 70, 32, 18, 37, 4, 16, 17, 19, 60, 51, 28, 43, 42, 3, 1, 3, 63, 3, 68, 30, 60, 15, 45, 70, 10, 4, 1, 68, 22, 38, 1, 18, 29, 16, 1, 12, 31, 4, 48, 15, 50, 7, 41, 68, 26, 57, 3, 1, 19, 3, 59, 1, 42, 7, 67, 1, 66, 61, 4, 42, 64, 54, 1, 54, 18, 3, 1, 72, 60, 11, 12, 61, 39, 55, 17, 37, 72, 72, 8, 22, 1, 38, 17, 70, 72, 28, 15, 72, 11, 8, 57, 1, 46, 30, 10, 23, 32, 13, 39, 44, 9, 67, 9, 15, 71, 1, 30, 1, 17, 3, 67, 1, 1, 32, 41, 1, 1, 12, 62, 22, 17, 72, 56, 9, 72, 20, 19, 2, 53, 27, 6, 9, 8, 71, 10, 1, 71, 68, 34, 26, 22, 7, 20, 60, 72, 72, 4, 16, 62, 10, 31, 71, 58, 70, 71, 69, 1, 72, 26, 33, 10, 57, 10, 39, 11, 21, 68, 18, 6, 18, 52, 56, 45, 67, 3, 65, 63, 11, 1, 55, 25, 72, 72, 65, 54, 7, 72, 21, 2, 4, 3, 72, 6, 52, 69, 8, 8, 63, 60, 12, 13, 22, 5, 1, 72, 2, 40, 44, 71, 2, 26, 1, 1, 65, 3, 13, 33, 1, 4, 2, 72, 37, 15, 23, 30, 42, 32, 22, 42, 8, 65, 2, 70, 22, 4, 2, 67, 25, 20, 2, 51, 46, 25, 13, 25, 26, 43, 19, 10, 2, 72, 18, 9, 27, 24, 69, 46, 72, 22, 70, 2, 31, 56, 16, 52, 13, 35, 59, 72, 66, 49, 2, 21, 54, 24, 1, 6, 1, 49, 56, 56, 6, 32, 50, 58, 65, 64, 66, 38, 20, 36, 64, 1, 60, 1, 50, 1, 72, 60, 46, 69, 31, 19, 71, 12, 39, 44, 56, 72, 5, 11, 24, 15, 72, 56, 64, 34, 2, 35, 22, 5, 9, 11, 23, 4, 68, 33, 31, 1, 56, 1, 66, 72, 34, 58, 2, 37, 71, 1, 71, 35, 6, 3, 69, 44, 53, 24, 5, 2, 62, 19, 9, 53, 5, 71, 1, 18, 72, 4, 59, 1, 31, 3, 65, 49, 2, 53, 55, 72, 36, 10, 1, 72, 28, 38, 61, 52, 67, 34, 54, 1, 15, 4, 9, 46, 22, 38, 55, 1, 64, 53, 58, 56, 72, 1, 72, 22, 8, 16, 39, 12, 54, 18, 32, 41, 67, 65, 25, 1, 67, 7, 43, 24, 9, 69, 37, 20, 7, 37, 5, 41, 54, 3, 69, 53, 18, 64, 31, 20, 57, 63, 13, 48, 2, 57, 71, 7, 16, 34, 37, 16, 48, 58, 72, 7, 38, 48, 10, 30, 31, 46, 50, 28, 66, 8, 41, 72, 7, 38, 44, 47, 53, 4, 20, 2, 57, 44, 24, 15, 3, 4, 37, 1, 24, 5, 33, 58, 72, 71, 28, 51, 30, 72, 36, 14, 72, 22, 2, 15, 51, 70, 71, 39, 61, 52, 1, 64, 62, 30, 4, 63, 1, 15, 27, 4, 72, 45, 45, 36, 17, 1, 16, 3, 4, 71, 10, 20, 4, 26, 4, 5, 4, 29, 2, 29, 1, 1, 8, 13, 59, 1, 50, 18, 17, 47, 26, 6, 19, 3, 68, 2, 7, 18, 71, 13, 3, 72, 66, 24, 1, 56, 22, 14, 61, 40, 42, 72, 12, 71, 26, 7, 6, 58, 51, 72, 18, 7, 47, 2, 62, 16, 6, 19, 69, 11, 64, 39, 15, 25, 6, 66, 61, 43, 12, 23, 71, 34, 5, 41, 72, 14, 41, 23, 71, 1, 72, 6, 23, 10, 72, 7, 6, 9, 12, 1, 48, 20, 16, 2, 10, 2, 20, 20, 19, 19, 22, 35, 1, 39, 54, 1, 66, 56, 18, 16, 68, 53, 72, 9, 30, 36, 18, 55, 39, 21, 2, 33, 44, 30, 71, 4, 35, 1, 23, 22, 49, 42, 33, 7, 67, 15, 67, 53, 21, 40, 22, 39, 45, 2, 57, 8, 7, 6, 7, 49, 65, 55, 71, 35, 3, 11, 1, 17, 72, 28, 18, 40, 52, 47, 23, 66, 8, 47, 7, 71, 50, 46, 1, 66, 42, 5, 7, 29, 27, 15, 25, 11, 57, 67, 47, 13, 8, 44, 71, 24, 15, 1, 2, 55, 71, 50, 1, 5, 66, 49, 3, 66, 11, 28, 65, 62, 2, 2, 55, 41, 17, 30, 17, 16, 72, 9, 1, 23, 8, 19, 7, 1, 61, 57, 9, 15, 1, 12, 54, 4, 7, 20, 26, 36, 53, 3, 68, 72, 12, 34, 68, 50, 1, 41, 30, 1, 29, 23, 60, 72, 22, 72, 66, 72, 47, 51, 70, 9, 59, 3, 38, 37, 37, 24, 14, 72, 53, 8, 72, 17, 2, 8, 48, 10, 1, 29, 65, 8, 61, 45, 72, 12, 7, 9, 43, 58, 16, 2, 8, 40, 9, 41, 26, 33, 68, 65, 55, 20, 19, 45, 70, 2, 27, 12, 72, 12, 5, 71, 35, 70, 31, 52, 37, 69, 30, 33, 54, 59, 55, 69, 66, 37, 9, 69, 10, 40, 13, 6, 69, 66, 11, 46, 6, 56, 70, 33, 72, 3, 19, 5, 71, 8, 1, 1, 61, 71, 68, 46, 33, 53, 50, 57, 54, 60, 28, 1, 29, 10, 43, 13, 43, 19, 1, 69, 61, 43, 6, 1, 56, 70, 1, 49, 6, 32, 72, 37, 69, 26, 58, 24, 5, 15, 30, 55, 25, 10, 44, 47, 13, 49, 64, 1, 20, 37, 30, 38, 1, 37, 52, 71, 26, 66, 72, 25, 69, 53, 12, 26, 21, 1, 48, 26, 60, 18, 10, 5, 4, 65, 70, 18, 62, 66, 65, 3, 34, 16, 54, 50, 71, 10, 1, 18, 4, 58, 56, 2, 32, 56, 36, 4, 53, 10, 4, 1, 51, 12, 6, 63, 1, 48, 5, 35, 6, 2, 50, 33, 31, 9, 54, 46, 34, 71, 63, 51, 26, 64, 1, 61, 15, 64, 18, 57, 14, 18, 72, 70, 38, 68, 13, 65, 30, 51, 31, 9, 72, 10, 37, 2, 55, 33, 46, 1, 20, 9, 32, 19, 70, 61, 26, 45, 62, 1, 3, 41, 67, 1, 71, 37, 60, 1, 6, 13, 11, 7, 10, 34, 62, 64, 1, 25, 26, 10, 53, 7, 33, 71, 29, 24, 20, 1, 54, 5, 72, 52, 9, 1, 1, 33, 55, 69, 1, 54, 33, 45, 11, 6, 21, 65, 6, 8, 11, 43, 49, 1, 15, 60, 17, 16, 35, 44, 12, 1, 28, 70, 5, 18, 70, 9, 67, 1, 18, 4, 71, 30, 1, 55, 59, 1, 7, 45, 54, 51, 72, 44, 2, 66, 68, 31, 21, 21, 55, 9, 71, 1, 22, 1, 61, 67, 14, 59, 21, 4, 3, 70, 3, 21, 20, 22, 1, 63, 70, 13, 5, 72, 13, 61, 1, 56, 4, 35, 18, 72, 49, 44, 3, 37, 61, 70, 1, 41, 70, 1, 51, 42, 70, 48, 68, 48, 26, 11, 1, 27, 46, 1, 46, 25, 4, 13, 31, 23, 2, 65, 22, 55, 9, 7, 35, 6, 1, 17, 10, 15, 40, 13, 29, 3, 58, 45, 72, 68, 1, 38, 2, 11, 20, 72, 3, 23, 40, 62, 22, 11, 7, 13, 1, 39, 3, 58, 6, 1, 22, 14, 64, 1, 6, 1, 39, 20, 1, 1, 64, 1, 46, 28, 33, 39, 42, 1, 7, 70, 65, 1, 18, 24, 63, 44, 4, 1, 37, 10, 34, 35, 4, 39, 43, 17, 61, 49, 4, 64, 3, 1, 40, 1, 8, 1, 34, 1, 39, 58, 45, 6, 43, 41, 5, 72, 4, 9, 72, 33, 72, 22, 70, 21, 15, 29, 15, 71, 72, 19, 1, 1, 2, 11, 12, 70, 20, 23, 49, 4, 32, 2, 69, 6, 24, 32, 27, 27, 58, 1, 18, 47, 70, 13, 36, 67, 10, 19, 71, 72, 48, 1, 18, 1, 67, 69, 19, 72, 38, 40, 61, 10, 32, 21, 59, 13, 47, 69, 2, 22, 15, 53, 28, 22, 1, 16, 48, 30, 3, 57, 68, 23, 65, 44, 71, 37, 12, 69, 35, 5, 58, 72, 72, 1, 39, 53, 27, 1, 1, 18, 46, 72, 36, 4, 25, 40, 63, 15, 14, 72, 39, 47, 19, 5, 13, 17, 34, 42, 5, 71, 19, 2, 57, 72, 6, 17, 61, 1, 48, 16, 9, 3, 1, 65, 70, 60, 69, 35, 22, 66, 1, 1, 34, 72, 31, 30, 9, 20, 19, 65, 30, 6, 2, 53, 7, 61, 70, 13, 35, 2, 3, 3, 62, 72, 63, 20, 35, 21, 62, 15, 55, 11, 17, 61, 71, 2, 35, 17, 21, 47, 3, 3, 44, 1, 44, 5, 24, 1, 18, 10, 65, 1, 53, 3, 33, 3, 34, 14, 13, 46, 23, 47, 17, 49, 59, 69, 11, 10, 12, 45, 39, 71, 71, 33, 67, 37, 49, 9, 52, 70, 1, 14, 1, 1, 52, 6, 7, 47, 26, 25, 69, 72, 4, 59, 67, 26, 27, 72, 6, 62, 20, 6, 51, 61, 62, 72, 13, 5, 3, 26, 13, 38, 8, 34, 18, 56, 36, 9, 1, 12, 57, 42, 33, 70, 68, 1, 37, 4, 1, 20, 72, 31, 18, 11, 33, 62, 1, 16, 22, 49, 36, 42, 4, 12, 31, 5, 66, 15, 64, 10, 7, 29, 57, 46, 53, 17, 38, 15, 22, 14, 57, 11, 1, 12, 3, 36, 16, 65, 2, 42, 72, 62, 6, 48, 35, 52, 1, 6, 71, 67, 60, 23, 39, 15, 53, 24, 37, 5, 50, 54, 3, 68, 5, 33, 41, 34, 13, 20, 51, 3, 41, 13, 35, 12, 4, 43, 12, 68, 25, 7, 66, 53, 63, 70, 27, 1, 5, 37, 3, 12, 38, 9, 13, 29, 47, 61, 16, 41, 43, 36, 6, 58, 19, 11, 39, 8, 26, 53, 70, 1, 59, 2, 7, 12, 59, 61, 72, 13, 64, 1, 10, 65, 62, 55, 25, 1, 1, 59, 64, 36, 3, 61, 26, 1, 1, 68, 2, 72, 71, 57, 4, 1, 72, 21, 71, 29, 69, 64, 16, 4, 52, 2, 1, 18, 2, 19, 40, 66, 21, 8, 72, 48, 69, 72, 14, 6, 8, 17, 65, 57, 13, 19, 56, 14, 52, 58, 47, 67, 2, 6, 71, 46, 5, 67, 3, 3, 52, 42, 50, 23, 67, 25, 39, 69, 1, 32, 9, 16, 60, 72, 5, 26, 3, 2, 2, 36, 7, 60, 19, 45, 4, 31, 47, 1, 1, 1, 59, 10, 35, 4, 32, 43, 4, 54, 11, 66, 61, 72, 44, 41, 50, 47, 8, 18, 72, 1, 42, 18, 13, 68, 4, 69, 17, 25, 43, 59, 5, 21, 69, 13, 42, 52, 46, 61, 29, 25, 5, 15, 19, 44, 6, 58, 62, 70, 1, 10, 26, 66, 7, 51, 72, 65, 2, 70, 72, 1, 1, 5, 3, 58, 22, 33, 1, 54, 72, 1, 3, 72, 72, 54, 59, 54, 60, 60, 3, 69, 1, 50, 56, 60, 69, 1, 1, 3, 60, 13, 62, 45, 25, 44, 2, 33, 1, 22, 35, 29, 27, 54, 2, 57, 62, 15, 2, 70, 21, 23, 6, 4, 3, 23, 26, 8, 26, 2, 67, 71, 59, 39, 21, 1, 48, 31, 64, 46, 52, 67, 67, 5, 71, 9, 26, 71, 32, 2, 71, 60, 55, 54, 2, 6, 48, 63, 1, 12, 54, 30, 30, 4, 40, 9, 17, 62, 28, 70, 46, 23, 47, 68, 60, 67, 14, 57, 55, 1, 1, 23, 13, 47, 38, 38, 2, 1, 15, 26, 35, 3, 50, 42, 10, 61, 68, 10, 65, 72, 55, 1, 7, 2, 9, 27, 7, 64, 70, 2, 67, 45, 24, 4, 44, 72, 1, 66, 1, 13, 10, 65, 1, 38, 23, 10, 4, 72, 35, 1, 58, 70, 38, 60, 26, 8, 41, 36, 54, 71, 55, 72, 3, 54, 72, 52, 60, 39, 15, 69, 43, 63, 2, 72, 32, 40, 58, 67, 51, 31, 69, 32, 21, 52, 72, 72, 52, 41, 41, 6, 67, 16, 17, 35, 58, 1, 52, 70, 19, 1, 35, 32, 17, 67, 9, 31, 4, 58, 60, 58, 1, 27, 66, 15, 47, 41, 59, 50, 17, 6, 51, 44, 49, 2, 59, 50, 59, 18, 10, 14, 35, 8, 18, 60, 1, 6, 19, 53, 72, 60, 1, 13, 5, 1, 13, 37, 64, 5, 61, 1, 1, 26, 1, 24, 17, 26, 1, 40, 52, 1, 1, 21, 67, 44, 70, 3, 56, 13, 58, 42, 1, 46, 63, 11, 15, 72, 29, 1, 6, 1, 63, 2, 18, 43, 15, 10, 55, 49, 6, 70, 2, 63, 25, 18, 28, 53, 35, 1, 70, 2, 26, 34, 19, 15, 62, 42, 9, 24, 68, 31, 1, 21, 63, 2, 61, 1, 18, 6, 33, 16, 56, 23, 9, 14, 15, 5, 61, 70, 15, 8, 8, 4, 34, 68, 45, 9, 22, 2, 70, 10, 72, 49, 54, 71, 22, 50, 43, 45, 64, 23, 68, 1, 2, 26, 55, 14, 71, 64, 7, 57, 13, 3, 72, 40, 14, 2, 66, 38, 1, 22, 1, 5, 29, 1, 3, 71, 9, 43, 48, 26, 9, 1, 46, 2, 1, 64, 12, 6, 59, 7, 72, 16, 25, 34, 1, 10, 24, 10, 69, 57, 50, 28, 16, 25, 3, 61, 2, 51, 71, 20, 6, 6, 29, 36, 28, 7, 63, 48, 49, 27, 72, 1, 72, 47, 1, 36, 43, 27, 9, 38, 35, 59, 27, 2, 7, 36, 41, 13, 19, 60, 48, 3, 69, 43, 11, 45, 72, 2, 12, 67, 37, 39, 41, 25, 8, 71, 5, 30, 40, 54, 72, 28, 18, 2, 59, 22, 1, 72, 14, 50, 48, 49, 28, 68, 13, 11, 3, 57, 3, 72, 70, 49, 67, 46, 64, 37, 2, 13, 72, 68, 15, 24, 24, 27, 12, 71, 67, 63, 1, 4, 40, 12, 52, 10, 68, 54, 4, 52, 1, 70, 43, 52, 12, 56, 42, 22, 51, 27, 51, 4, 1, 35, 71, 1, 69, 14, 57, 72, 48, 4, 31, 38, 37, 1, 57, 62, 3, 72, 29, 13, 3, 11, 21, 19, 61, 11, 35, 25, 1, 67, 19, 56, 72, 43, 55, 2, 27, 13, 70, 14, 19, 20, 43, 5, 70, 40, 6, 39, 4, 15, 1, 45, 64, 57, 72, 1, 72, 3, 55, 59, 18, 32, 4, 66, 27, 4, 60, 8, 8, 35, 7, 53, 18, 15, 67, 6, 6, 13, 11, 1, 5, 13, 9, 29, 1, 1, 18, 2, 30, 66, 38, 44, 54, 2, 42, 58, 58, 25, 71, 37, 14, 4, 48, 3, 8, 1, 67, 13, 45, 49, 52, 63, 68, 31, 64, 62, 1, 6, 21, 72, 32, 71, 34, 3, 12, 8, 35, 3, 3, 53, 4, 48, 6, 3, 54, 1, 62, 22, 1, 51, 30, 56, 35, 64, 30, 25, 41, 9, 1, 70, 57, 9, 69, 43, 72, 44, 72, 33, 54, 27, 54, 3, 53, 1, 15, 56, 5, 48, 25, 3, 58, 10, 1, 71, 65, 5, 28, 67, 35, 72, 61, 68, 1, 3, 70, 48, 68, 47, 32, 5, 49, 48, 13, 15, 12, 67, 9, 13, 38, 42, 24, 27, 9, 49, 61, 50, 25, 22, 1, 4, 18, 56, 53, 51, 24, 62, 24, 70, 1, 16, 8, 72, 23, 31, 37, 30, 35, 23, 20, 36, 8, 71, 50, 43, 57, 41, 27, 13, 3, 67, 3, 64, 26, 38, 23, 40, 72, 3, 23, 1, 4, 62, 40, 41, 34, 1, 51, 1, 39, 12, 12, 72, 63, 44, 18, 9, 13, 68, 6, 2, 55, 1, 38, 67, 19, 12, 72, 24, 72, 11, 4, 66], \"xaxis\": \"x\", \"y\": [29.85, 56.95, 53.85, 42.3, 70.7, 99.65, 89.1, 29.75, 104.8, 56.15, 49.95, 18.95, 100.35, 103.7, 105.5, 113.25, 20.65, 106.7, 55.2, 90.05, 39.65, 19.8, 20.15, 59.9, 59.6, 55.3, 99.35, 30.2, 90.25, 64.7, 96.35, 95.5, 66.15, 20.2, 45.25, 99.9, 69.7, 74.8, 106.35, 97.85, 49.55, 69.2, 20.75, 79.85, 76.2, 84.5, 49.25, 80.65, 79.75, 64.15, 90.25, 99.1, 69.5, 80.65, 74.85, 95.45, 99.65, 108.45, 24.95, 107.5, 100.5, 89.9, 42.1, 54.4, 94.4, 75.3, 78.9, 79.2, 20.15, 79.85, 49.05, 20.4, 111.6, 24.25, 64.5, 110.5, 55.65, 54.65, 74.75, 25.9, 79.35, 50.55, 75.15, 103.8, 20.15, 99.3, 62.15, 20.65, 19.95, 33.75, 82.05, 74.7, 84.0, 111.05, 100.9, 78.95, 66.85, 21.05, 21.0, 98.5, 20.2, 19.45, 95.0, 45.55, 110.0, 24.3, 104.15, 30.15, 94.35, 19.4, 96.75, 57.95, 91.65, 76.5, 54.6, 89.85, 31.05, 100.25, 20.65, 85.2, 99.8, 20.7, 74.4, 50.7, 20.85, 88.95, 78.05, 23.55, 19.75, 56.45, 85.95, 58.6, 50.55, 35.45, 44.35, 25.7, 75.0, 20.2, 19.6, 70.45, 88.05, 71.15, 101.05, 84.3, 23.95, 99.05, 19.6, 45.65, 64.5, 69.5, 68.55, 95.0, 108.15, 86.1, 19.7, 80.9, 84.15, 20.15, 64.25, 25.7, 56.0, 82.4, 69.7, 73.9, 20.6, 19.9, 70.9, 89.05, 45.3, 20.4, 84.25, 104.4, 81.95, 94.85, 20.55, 24.7, 74.45, 76.45, 105.35, 20.55, 29.95, 45.3, 84.5, 74.75, 79.25, 24.8, 51.8, 30.4, 19.65, 56.6, 71.9, 91.0, 19.75, 109.7, 19.3, 96.55, 24.1, 111.35, 112.25, 20.75, 101.9, 80.05, 105.55, 78.3, 68.85, 79.95, 55.45, 79.9, 106.6, 102.45, 46.0, 25.25, 19.75, 20.0, 86.8, 58.75, 45.25, 56.6, 84.2, 80.0, 70.15, 24.75, 20.2, 50.05, 19.35, 50.6, 81.15, 55.2, 89.9, 85.3, 108.0, 93.5, 84.6, 20.25, 25.15, 54.4, 29.6, 73.15, 95.0, 19.75, 86.6, 109.2, 74.7, 94.4, 54.8, 75.35, 65.0, 74.4, 48.55, 99.0, 93.5, 70.4, 40.2, 83.7, 19.85, 59.55, 115.1, 114.35, 44.6, 45.0, 41.15, 106.9, 89.85, 49.85, 113.3, 88.1, 24.9, 105.0, 19.35, 24.25, 94.45, 59.75, 24.8, 107.05, 70.6, 85.4, 105.05, 64.95, 55.0, 50.55, 55.15, 51.2, 25.4, 54.45, 95.15, 76.0, 44.35, 70.0, 74.5, 44.85, 76.1, 61.2, 86.8, 89.35, 19.7, 20.25, 76.05, 100.8, 74.55, 73.6, 64.9, 95.45, 90.4, 60.3, 81.85, 24.8, 74.9, 75.55, 101.15, 78.75, 19.25, 89.05, 115.05, 69.35, 80.6, 110.05, 19.9, 80.3, 93.15, 91.5, 82.45, 60.0, 44.8, 48.6, 60.05, 102.7, 82.9, 70.35, 35.9, 82.65, 19.85, 19.2, 94.9, 73.85, 80.6, 75.8, 104.6, 88.15, 94.8, 103.4, 54.65, 85.75, 67.45, 20.5, 20.25, 72.1, 90.4, 19.45, 44.95, 97.0, 62.8, 44.6, 89.15, 84.8, 41.9, 80.25, 54.1, 105.25, 30.75, 97.1, 20.2, 98.8, 50.3, 20.55, 75.9, 96.5, 59.95, 19.15, 98.65, 112.6, 20.6, 85.65, 35.75, 99.75, 96.1, 85.1, 25.35, 104.95, 89.65, 86.75, 86.2, 50.65, 64.8, 90.85, 108.1, 19.95, 85.45, 54.75, 90.4, 44.0, 95.6, 84.8, 44.3, 19.9, 95.05, 90.05, 109.9, 73.95, 54.6, 20.05, 19.75, 20.05, 99.45, 55.9, 19.7, 19.8, 95.4, 93.95, 19.9, 19.6, 81.35, 24.45, 74.95, 87.35, 70.65, 73.25, 98.7, 24.8, 83.3, 75.3, 24.3, 69.85, 100.55, 25.7, 40.7, 51.65, 105.1, 85.95, 75.6, 58.25, 19.4, 65.2, 53.45, 45.4, 19.75, 44.45, 20.85, 114.05, 89.85, 55.05, 112.95, 101.55, 114.65, 64.8, 80.4, 105.9, 69.55, 25.05, 94.75, 105.5, 24.7, 69.75, 60.2, 81.05, 24.4, 104.15, 92.9, 80.8, 20.0, 75.1, 19.65, 69.45, 101.15, 99.8, 116.05, 40.05, 102.1, 89.7, 19.9, 55.95, 20.65, 55.0, 70.05, 53.6, 74.7, 80.25, 76.05, 75.7, 96.1, 69.0, 19.65, 45.3, 81.45, 108.5, 83.55, 84.5, 100.15, 88.6, 74.35, 104.8, 59.0, 74.4, 64.05, 20.4, 43.75, 60.9, 19.8, 28.45, 99.7, 116.25, 80.7, 65.2, 84.05, 79.45, 94.1, 78.0, 94.2, 80.5, 19.85, 94.3, 106.45, 74.35, 105.45, 95.0, 104.8, 54.3, 70.05, 75.2, 20.05, 105.4, 51.6, 85.5, 75.6, 100.05, 91.25, 115.75, 94.7, 19.6, 99.9, 21.1, 20.05, 79.95, 107.15, 85.0, 89.55, 81.55, 58.45, 95.65, 80.6, 113.1, 58.95, 19.55, 86.05, 45.55, 78.95, 86.3, 105.05, 101.9, 19.75, 110.3, 115.6, 19.35, 25.6, 80.35, 68.75, 19.9, 70.6, 70.2, 49.3, 107.25, 23.6, 69.7, 99.5, 64.3, 70.85, 101.9, 73.5, 100.25, 40.4, 19.25, 59.6, 64.9, 100.3, 110.85, 81.05, 98.05, 70.5, 94.55, 19.65, 19.0, 75.3, 89.2, 19.0, 20.0, 85.7, 63.25, 20.1, 99.15, 90.4, 111.9, 24.9, 83.5, 84.3, 45.6, 61.65, 54.85, 65.55, 90.35, 20.4, 74.55, 19.95, 74.25, 108.65, 109.55, 86.65, 81.0, 47.85, 114.55, 105.25, 29.95, 65.0, 20.55, 109.8, 69.5, 48.85, 25.25, 102.85, 87.55, 78.55, 34.55, 92.05, 85.05, 19.7, 20.0, 95.15, 84.25, 104.6, 111.65, 90.05, 110.75, 55.0, 89.85, 20.35, 54.55, 105.5, 99.45, 70.9, 104.55, 85.25, 25.4, 56.15, 89.55, 89.85, 25.25, 94.55, 45.7, 69.65, 89.5, 70.0, 69.55, 74.6, 20.1, 24.8, 19.65, 95.1, 88.85, 78.8, 19.85, 20.35, 24.25, 45.25, 20.05, 69.55, 19.5, 74.75, 69.65, 30.2, 45.65, 57.8, 19.85, 25.55, 75.05, 24.85, 49.15, 110.35, 24.55, 34.7, 107.95, 81.4, 80.0, 73.8, 64.4, 103.75, 71.1, 49.9, 24.6, 49.25, 30.1, 83.4, 20.45, 75.25, 20.55, 75.1, 20.05, 20.65, 85.15, 50.15, 84.95, 66.5, 63.3, 83.15, 84.9, 20.55, 49.25, 79.85, 59.6, 104.65, 75.3, 80.1, 19.55, 81.0, 24.7, 86.0, 25.4, 89.15, 58.25, 85.65, 50.35, 80.35, 20.2, 20.55, 85.95, 45.35, 94.5, 21.25, 26.25, 80.85, 91.7, 74.2, 87.25, 20.35, 75.5, 79.05, 90.15, 50.6, 110.45, 101.0, 79.35, 89.85, 65.0, 80.45, 98.55, 24.1, 44.05, 110.8, 114.95, 75.05, 19.25, 90.05, 56.7, 80.15, 71.35, 90.35, 98.55, 19.7, 19.85, 85.9, 90.35, 20.8, 89.25, 70.3, 66.85, 19.9, 35.8, 78.85, 20.4, 74.25, 64.8, 20.45, 93.35, 19.9, 88.9, 95.8, 110.65, 40.3, 82.0, 107.0, 45.35, 73.35, 44.8, 54.75, 52.2, 40.6, 110.0, 55.3, 60.85, 78.4, 69.65, 59.85, 76.9, 19.85, 67.65, 45.0, 64.2, 81.7, 25.55, 20.0, 96.75, 75.65, 98.5, 23.8, 64.2, 85.35, 76.8, 55.2, 108.55, 101.3, 69.55, 103.25, 104.0, 25.25, 30.4, 20.05, 84.6, 86.2, 103.7, 111.2, 88.0, 106.35, 79.15, 103.1, 63.95, 25.8, 89.45, 95.6, 25.55, 90.95, 44.85, 108.55, 25.05, 74.1, 88.8, 78.85, 93.25, 71.4, 44.4, 79.2, 20.4, 100.0, 105.0, 19.8, 30.85, 89.9, 20.55, 84.85, 33.15, 92.0, 89.8, 115.8, 85.15, 24.85, 64.35, 20.5, 100.15, 86.05, 50.8, 89.0, 64.8, 19.8, 93.4, 73.65, 95.1, 94.65, 80.6, 39.0, 20.5, 85.55, 26.4, 98.2, 97.55, 19.95, 50.8, 99.7, 34.8, 105.1, 60.15, 64.75, 54.65, 110.1, 19.3, 83.9, 111.25, 35.8, 20.05, 84.35, 110.5, 91.2, 100.55, 89.3, 103.85, 81.1, 24.6, 81.2, 94.3, 116.1, 105.55, 98.9, 94.4, 19.5, 98.3, 93.85, 105.6, 81.35, 100.5, 56.4, 65.35, 19.95, 111.25, 72.85, 89.0, 106.1, 20.05, 25.2, 73.55, 75.4, 65.55, 80.7, 104.55, 24.15, 20.45, 75.4, 79.7, 81.7, 76.3, 79.4, 81.15, 103.75, 86.45, 75.1, 80.6, 19.3, 84.6, 33.6, 83.25, 79.05, 108.05, 19.9, 21.05, 30.15, 79.85, 65.5, 104.1, 74.4, 20.5, 91.35, 99.05, 20.5, 44.95, 75.6, 55.1, 58.95, 95.1, 44.7, 25.45, 56.75, 81.75, 86.1, 29.8, 20.5, 60.9, 73.25, 45.7, 100.3, 19.25, 20.85, 77.35, 96.0, 90.55, 93.85, 70.1, 30.35, 75.95, 108.05, 69.9, 75.25, 103.75, 54.95, 19.5, 19.6, 47.85, 86.6, 23.75, 80.6, 43.8, 19.75, 19.15, 19.6, 80.3, 24.35, 25.25, 26.1, 20.0, 85.3, 70.0, 94.3, 20.7, 70.3, 95.35, 75.5, 69.55, 19.85, 20.0, 95.85, 90.1, 68.95, 99.55, 20.75, 50.15, 58.65, 95.9, 49.5, 57.45, 53.65, 80.1, 24.4, 40.05, 19.5, 51.05, 54.35, 84.7, 86.1, 70.35, 110.0, 100.6, 94.9, 83.75, 88.3, 69.75, 71.6, 92.1, 23.65, 81.85, 25.1, 114.7, 49.15, 80.9, 79.45, 90.45, 19.3, 70.2, 69.75, 54.25, 99.3, 74.0, 50.25, 19.8, 19.65, 43.65, 35.5, 80.75, 39.5, 97.1, 19.55, 80.0, 84.7, 89.55, 90.6, 20.05, 112.4, 50.2, 62.25, 55.7, 90.05, 19.65, 89.25, 99.05, 54.0, 69.75, 49.05, 56.75, 98.05, 21.1, 96.65, 24.5, 114.5, 79.2, 69.55, 20.05, 98.85, 80.95, 19.6, 74.3, 89.7, 87.65, 100.45, 74.75, 107.45, 75.35, 64.95, 100.45, 68.5, 80.55, 81.25, 90.4, 89.55, 55.7, 24.8, 20.0, 56.15, 105.2, 19.55, 79.75, 97.45, 24.25, 24.6, 50.15, 39.6, 94.4, 89.85, 78.95, 98.85, 53.85, 24.25, 89.45, 105.25, 59.5, 70.55, 82.5, 44.85, 61.6, 49.05, 105.65, 74.65, 66.25, 19.4, 86.05, 19.15, 64.7, 104.05, 19.25, 81.95, 114.65, 20.0, 19.8, 65.15, 19.65, 88.95, 20.2, 75.2, 56.8, 35.55, 75.5, 35.6, 60.25, 95.15, 96.65, 40.35, 18.85, 54.85, 64.3, 24.65, 76.1, 18.7, 97.95, 94.1, 80.4, 95.1, 31.35, 72.35, 89.75, 82.7, 19.9, 53.8, 51.55, 19.65, 44.05, 114.0, 94.4, 100.4, 19.85, 54.25, 80.0, 109.9, 79.2, 101.35, 94.3, 49.8, 60.05, 53.75, 93.45, 87.9, 60.15, 61.05, 104.05, 99.25, 85.7, 104.85, 69.15, 90.45, 74.45, 50.45, 60.0, 85.25, 19.45, 20.75, 78.9, 104.5, 49.4, 94.25, 25.0, 25.55, 74.9, 70.15, 69.4, 80.25, 93.15, 69.0, 66.35, 69.55, 20.2, 86.0, 80.3, 20.4, 23.75, 90.55, 70.45, 65.75, 24.6, 69.25, 75.9, 45.85, 49.95, 24.65, 90.4, 100.85, 75.35, 87.2, 64.4, 78.3, 24.7, 105.85, 98.3, 76.95, 19.45, 96.15, 58.7, 20.15, 64.5, 28.5, 45.3, 19.4, 90.45, 105.15, 83.15, 90.15, 45.05, 103.2, 75.8, 19.45, 79.3, 88.8, 30.9, 85.9, 34.2, 20.15, 95.25, 50.3, 80.15, 51.25, 89.6, 95.2, 94.8, 80.25, 76.1, 110.15, 115.55, 24.65, 53.6, 19.45, 88.2, 101.15, 56.8, 99.4, 20.1, 60.7, 20.95, 114.85, 19.25, 62.8, 105.5, 19.85, 89.5, 74.1, 107.5, 19.55, 68.8, 84.45, 75.0, 84.5, 111.2, 44.75, 80.6, 80.7, 75.6, 57.6, 44.05, 110.6, 58.2, 81.0, 19.7, 85.6, 59.55, 115.55, 75.55, 86.6, 85.2, 97.65, 45.1, 70.95, 109.55, 89.55, 20.9, 19.95, 24.6, 66.7, 19.45, 94.8, 65.85, 19.95, 24.65, 20.35, 69.25, 51.25, 99.5, 54.25, 19.4, 56.25, 25.15, 23.95, 35.4, 25.2, 45.0, 75.35, 20.4, 20.15, 105.0, 54.7, 20.0, 73.05, 20.5, 100.75, 87.25, 19.95, 79.95, 49.65, 65.65, 20.45, 60.95, 20.35, 88.35, 19.5, 75.2, 111.45, 70.15, 94.75, 95.05, 78.45, 70.2, 92.0, 85.5, 41.05, 85.6, 82.15, 84.4, 60.9, 20.25, 79.2, 95.3, 19.85, 84.35, 19.85, 70.0, 82.3, 66.8, 44.6, 98.45, 70.7, 24.95, 49.95, 69.25, 102.5, 86.55, 24.3, 58.35, 94.25, 68.75, 85.8, 20.1, 20.35, 110.8, 73.0, 100.05, 82.85, 84.35, 19.55, 19.95, 99.8, 35.0, 66.25, 23.3, 76.0, 25.3, 44.55, 104.1, 92.55, 93.85, 101.45, 84.3, 94.55, 95.5, 100.3, 55.5, 49.85, 89.55, 19.15, 99.8, 84.4, 113.05, 101.1, 19.95, 74.15, 92.0, 73.85, 50.45, 24.45, 24.8, 64.85, 20.75, 68.95, 99.95, 109.4, 91.4, 49.0, 50.25, 75.55, 19.9, 97.8, 100.3, 55.8, 111.15, 98.55, 50.05, 80.8, 20.85, 19.5, 19.35, 69.5, 48.8, 94.5, 20.65, 106.05, 100.0, 108.3, 20.55, 99.65, 85.3, 95.9, 20.0, 70.4, 64.95, 74.6, 49.2, 73.75, 92.3, 98.8, 19.2, 88.65, 74.4, 98.75, 95.95, 105.4, 20.25, 106.0, 104.7, 49.05, 35.55, 65.1, 96.85, 69.75, 99.2, 96.7, 55.05, 106.8, 51.25, 57.75, 70.85, 19.55, 88.2, 79.5, 19.75, 98.15, 20.25, 79.15, 75.65, 94.25, 40.2, 19.95, 55.35, 102.15, 71.1, 74.7, 54.1, 19.65, 88.45, 76.65, 80.4, 19.25, 84.8, 25.8, 19.5, 68.6, 92.6, 100.55, 20.55, 42.6, 19.6, 67.45, 68.85, 43.55, 109.85, 20.65, 95.4, 21.0, 56.2, 18.4, 90.0, 25.75, 19.6, 75.35, 19.8, 64.2, 75.75, 78.95, 100.85, 50.3, 80.3, 19.85, 21.1, 69.95, 50.0, 104.75, 19.85, 107.5, 85.9, 45.85, 80.8, 25.25, 80.55, 81.5, 20.9, 106.1, 91.7, 67.25, 95.6, 20.35, 45.05, 74.95, 34.65, 69.35, 95.35, 81.55, 75.4, 67.8, 111.4, 46.3, 20.4, 20.05, 45.0, 96.1, 19.65, 99.5, 60.65, 98.6, 59.5, 80.45, 71.7, 36.0, 65.2, 48.95, 53.5, 80.45, 109.05, 26.3, 106.8, 64.95, 19.35, 21.1, 77.95, 18.85, 26.0, 74.7, 70.35, 96.9, 19.55, 80.4, 88.8, 94.65, 90.25, 64.65, 95.75, 19.55, 104.1, 89.05, 20.1, 111.55, 60.5, 90.95, 87.4, 19.7, 50.95, 20.05, 19.4, 59.45, 94.75, 81.5, 29.05, 86.45, 70.6, 97.2, 98.25, 75.75, 59.2, 75.9, 90.05, 70.95, 102.6, 85.35, 106.1, 43.8, 59.0, 69.95, 24.35, 29.45, 84.4, 45.05, 20.65, 87.1, 19.85, 90.35, 109.8, 84.65, 65.5, 79.5, 80.95, 56.15, 85.8, 79.1, 34.4, 20.75, 18.8, 44.3, 90.8, 25.6, 105.95, 70.8, 25.4, 108.8, 69.75, 94.65, 96.05, 76.85, 20.25, 24.8, 115.65, 74.6, 50.15, 103.15, 72.1, 113.6, 25.1, 78.9, 80.15, 25.4, 105.4, 45.75, 24.45, 25.0, 85.25, 19.6, 50.15, 70.55, 60.05, 26.4, 20.15, 58.85, 97.55, 19.65, 25.25, 114.45, 34.7, 70.7, 85.3, 75.55, 84.8, 20.65, 20.45, 102.45, 104.4, 35.65, 99.75, 90.45, 97.65, 73.85, 74.4, 69.1, 82.75, 24.4, 55.25, 61.35, 76.75, 19.4, 54.75, 19.7, 19.9, 107.95, 83.8, 74.25, 56.4, 20.1, 94.9, 94.2, 49.9, 71.05, 81.65, 89.45, 59.85, 69.6, 99.0, 19.05, 45.4, 114.45, 19.5, 44.25, 90.55, 69.9, 20.4, 71.4, 87.15, 24.85, 104.45, 19.8, 116.45, 84.75, 20.05, 110.75, 89.7, 89.95, 48.7, 96.6, 74.3, 54.3, 74.85, 79.95, 20.05, 19.4, 54.9, 24.45, 89.65, 45.4, 75.7, 110.65, 20.55, 115.15, 58.55, 93.25, 113.2, 90.5, 79.0, 19.35, 48.75, 109.05, 25.0, 54.9, 24.75, 91.15, 20.15, 104.35, 66.05, 71.65, 20.35, 92.2, 84.25, 105.2, 19.6, 30.4, 78.1, 61.5, 69.4, 24.75, 91.05, 89.65, 73.65, 19.4, 26.2, 98.7, 43.85, 69.7, 38.55, 53.1, 20.65, 64.45, 25.1, 76.35, 79.15, 85.0, 95.15, 79.35, 96.65, 75.5, 19.7, 20.5, 19.2, 98.35, 74.35, 51.35, 45.65, 85.3, 86.55, 73.85, 20.3, 54.2, 90.65, 50.9, 25.05, 74.85, 20.5, 63.55, 44.85, 47.95, 45.1, 45.0, 96.0, 20.05, 90.05, 25.3, 108.65, 24.3, 75.95, 19.7, 66.4, 35.75, 18.8, 19.4, 19.3, 45.55, 67.45, 35.1, 46.2, 45.15, 43.3, 20.1, 57.15, 58.9, 73.2, 85.35, 19.45, 45.95, 50.5, 25.1, 60.7, 99.0, 104.4, 83.75, 44.05, 24.1, 45.55, 93.8, 19.7, 70.65, 86.45, 114.1, 95.2, 88.55, 20.75, 70.05, 86.0, 44.65, 60.2, 100.5, 55.45, 70.3, 60.4, 72.65, 55.8, 31.1, 21.0, 45.1, 50.95, 69.1, 43.95, 86.5, 69.95, 50.4, 78.95, 90.95, 19.9, 20.15, 90.6, 92.0, 94.45, 24.85, 36.0, 78.5, 19.95, 20.65, 30.5, 106.1, 20.5, 95.5, 64.6, 51.1, 84.8, 89.1, 54.95, 50.9, 20.45, 85.95, 60.35, 19.8, 85.35, 72.1, 99.8, 107.35, 19.55, 81.05, 20.5, 111.8, 20.2, 19.7, 79.1, 19.85, 60.5, 19.55, 20.9, 21.05, 71.5, 54.65, 19.2, 49.8, 25.5, 20.5, 90.4, 90.25, 80.75, 104.6, 91.85, 50.2, 95.5, 75.35, 75.45, 95.4, 101.3, 53.1, 84.85, 34.25, 88.6, 60.15, 99.95, 70.7, 54.8, 49.55, 54.8, 78.6, 100.3, 53.6, 81.1, 19.35, 85.6, 80.8, 74.95, 19.6, 93.55, 90.7, 69.75, 20.0, 95.25, 102.1, 19.95, 80.85, 90.9, 29.2, 93.3, 89.15, 108.85, 46.35, 84.75, 78.75, 83.55, 45.7, 19.6, 69.95, 67.85, 105.65, 44.6, 74.95, 75.5, 20.15, 45.2, 95.25, 89.85, 100.45, 47.15, 80.2, 87.1, 79.25, 75.9, 85.7, 98.75, 20.1, 61.8, 49.9, 86.45, 20.4, 45.3, 104.1, 75.4, 108.15, 86.25, 81.0, 95.7, 116.85, 105.75, 20.15, 19.6, 90.6, 60.95, 25.05, 88.15, 20.2, 60.3, 63.95, 74.3, 70.6, 90.8, 79.35, 90.55, 19.45, 64.45, 69.65, 19.5, 110.5, 24.7, 77.4, 96.8, 85.4, 47.6, 19.4, 103.85, 83.35, 49.4, 108.45, 81.0, 79.2, 86.65, 92.95, 90.35, 48.7, 25.15, 76.4, 19.55, 85.35, 24.8, 103.15, 100.75, 95.6, 59.75, 94.1, 19.35, 19.9, 108.15, 101.05, 59.1, 71.35, 55.85, 106.05, 84.1, 75.3, 24.7, 20.15, 69.75, 93.2, 80.85, 33.65, 55.8, 39.7, 29.5, 20.15, 79.55, 24.8, 19.65, 79.95, 19.3, 94.05, 90.75, 78.85, 99.5, 99.2, 80.55, 70.2, 85.2, 75.25, 59.45, 93.35, 44.95, 26.1, 20.2, 21.25, 59.4, 95.0, 61.9, 118.65, 54.35, 64.45, 80.15, 20.2, 21.0, 20.45, 75.85, 80.45, 24.95, 75.5, 44.45, 42.35, 74.55, 75.3, 94.8, 48.15, 19.65, 70.55, 20.15, 106.6, 91.0, 25.4, 69.95, 66.85, 86.15, 20.15, 64.85, 74.85, 50.5, 72.9, 115.05, 19.0, 19.55, 101.1, 84.1, 24.15, 50.1, 74.6, 19.75, 85.0, 80.55, 106.8, 84.5, 25.05, 83.7, 75.8, 96.6, 98.5, 101.1, 20.2, 94.05, 95.25, 74.4, 81.0, 60.25, 60.85, 43.95, 86.05, 20.25, 85.15, 19.4, 102.65, 19.9, 19.55, 95.5, 84.15, 103.2, 50.2, 88.55, 54.75, 19.95, 116.25, 31.2, 24.45, 84.2, 91.3, 85.65, 21.2, 79.5, 25.55, 20.2, 63.85, 61.95, 25.75, 58.2, 85.85, 70.1, 104.9, 111.3, 99.85, 95.25, 86.25, 100.8, 19.55, 104.0, 104.4, 19.5, 25.25, 86.3, 49.85, 108.95, 89.9, 82.0, 89.95, 79.35, 64.05, 101.15, 89.95, 76.45, 39.1, 34.6, 19.55, 104.45, 70.5, 20.35, 70.0, 19.45, 69.9, 59.7, 78.35, 71.45, 45.85, 95.85, 35.7, 89.55, 24.95, 24.85, 100.8, 64.4, 105.35, 102.45, 19.65, 54.45, 70.5, 20.1, 69.35, 19.8, 74.4, 93.05, 51.2, 65.6, 80.55, 52.7, 20.85, 80.1, 52.15, 80.2, 98.15, 114.95, 112.95, 104.45, 113.65, 20.6, 70.9, 86.85, 91.55, 49.85, 19.8, 99.85, 74.5, 104.15, 109.15, 48.2, 25.1, 100.15, 65.2, 99.5, 71.55, 55.9, 93.9, 64.4, 108.4, 85.3, 107.45, 48.75, 85.65, 91.3, 85.95, 106.7, 25.15, 45.2, 110.35, 79.2, 55.5, 103.25, 90.25, 91.25, 47.8, 100.9, 97.7, 69.85, 65.6, 104.65, 90.45, 63.7, 104.5, 20.1, 104.3, 93.25, 73.45, 20.7, 25.25, 100.5, 90.6, 89.4, 95.45, 20.45, 98.6, 83.05, 19.95, 109.15, 85.7, 102.05, 94.7, 64.4, 26.8, 66.05, 65.2, 85.05, 55.8, 70.4, 104.75, 19.95, 94.25, 45.0, 114.9, 106.4, 46.1, 39.7, 20.05, 95.75, 24.4, 33.6, 90.45, 84.0, 67.4, 19.7, 80.35, 19.6, 54.2, 45.2, 75.1, 19.7, 72.75, 20.05, 45.95, 39.2, 44.75, 82.65, 93.9, 70.15, 85.55, 117.15, 99.25, 112.55, 25.7, 90.3, 49.4, 19.4, 109.7, 61.25, 55.3, 70.3, 106.35, 103.75, 19.5, 39.5, 26.05, 91.05, 29.65, 50.2, 105.3, 55.45, 85.45, 19.8, 59.25, 90.7, 103.7, 79.05, 90.7, 95.0, 88.35, 30.25, 49.85, 93.0, 54.55, 19.7, 84.8, 94.45, 94.2, 96.25, 70.7, 20.85, 60.0, 80.45, 84.95, 33.55, 49.65, 20.2, 94.55, 100.5, 35.75, 86.45, 53.8, 38.55, 39.9, 70.05, 20.1, 112.95, 20.3, 35.65, 35.9, 99.25, 82.95, 55.65, 24.45, 25.2, 50.8, 19.65, 59.8, 73.55, 61.4, 103.35, 19.9, 19.45, 81.5, 84.8, 109.55, 99.95, 74.4, 90.0, 74.9, 104.85, 59.65, 110.45, 106.1, 74.2, 74.45, 24.55, 89.35, 24.55, 90.65, 105.05, 20.45, 19.55, 19.7, 70.45, 85.65, 77.15, 35.25, 20.55, 97.95, 48.55, 20.0, 25.25, 98.4, 70.9, 19.85, 106.35, 99.5, 84.7, 86.05, 44.55, 75.85, 93.85, 25.0, 45.0, 100.7, 20.5, 80.45, 90.45, 60.45, 55.25, 78.45, 100.55, 20.35, 54.45, 90.75, 75.35, 20.25, 20.05, 19.6, 53.8, 70.2, 75.5, 20.35, 26.05, 20.6, 75.7, 20.1, 24.3, 24.5, 110.5, 25.25, 74.25, 90.1, 68.75, 19.2, 89.7, 115.1, 96.4, 69.5, 99.65, 91.45, 84.75, 85.25, 78.75, 20.25, 19.9, 97.75, 19.4, 83.3, 80.1, 62.7, 100.4, 24.45, 101.1, 50.9, 107.2, 92.2, 25.3, 113.4, 40.55, 26.0, 111.95, 53.8, 72.1, 98.15, 78.85, 70.75, 76.15, 39.1, 69.95, 20.05, 20.05, 19.45, 26.9, 19.2, 50.0, 60.0, 84.55, 45.45, 20.05, 115.55, 93.7, 99.0, 50.55, 105.95, 82.0, 25.0, 91.55, 95.75, 19.35, 24.85, 94.05, 100.4, 25.0, 54.75, 95.65, 19.25, 108.25, 94.6, 98.9, 20.15, 101.3, 20.0, 105.3, 69.85, 65.25, 19.8, 19.6, 20.05, 49.4, 76.05, 88.4, 100.6, 19.45, 20.3, 107.65, 80.45, 58.85, 109.6, 75.15, 73.0, 70.1, 98.65, 111.45, 114.9, 100.55, 20.4, 104.35, 69.75, 34.5, 105.55, 30.1, 70.3, 80.45, 80.2, 94.35, 91.35, 44.6, 19.6, 19.9, 110.45, 68.35, 79.1, 51.0, 80.55, 66.7, 86.4, 50.05, 25.7, 83.4, 70.7, 84.65, 99.25, 64.75, 100.15, 84.8, 25.25, 113.0, 40.65, 105.0, 54.45, 94.95, 59.9, 85.3, 83.35, 33.5, 19.8, 81.8, 20.0, 59.6, 25.0, 84.35, 90.35, 55.55, 75.35, 90.75, 89.6, 59.3, 66.1, 18.8, 86.45, 52.1, 47.4, 49.25, 109.15, 94.95, 93.55, 79.5, 115.05, 19.75, 95.15, 95.15, 105.4, 20.1, 101.35, 20.05, 20.7, 20.35, 70.05, 19.7, 74.65, 85.45, 40.4, 50.4, 79.65, 105.2, 100.65, 79.85, 91.0, 78.75, 116.75, 80.45, 59.1, 49.8, 19.3, 19.65, 81.4, 38.9, 87.95, 19.85, 96.35, 24.15, 19.1, 44.0, 50.1, 60.6, 25.65, 76.4, 98.7, 100.8, 53.95, 20.4, 90.1, 29.35, 20.45, 95.1, 25.25, 44.9, 92.65, 43.7, 72.6, 51.55, 79.25, 18.95, 20.5, 19.95, 24.5, 20.6, 94.85, 61.05, 85.7, 106.65, 108.25, 20.4, 55.3, 20.25, 72.95, 89.45, 104.65, 75.2, 101.15, 44.4, 89.5, 68.75, 111.05, 99.0, 86.05, 21.0, 19.4, 44.55, 77.2, 19.45, 24.85, 35.4, 95.65, 41.35, 19.6, 20.95, 84.45, 20.25, 19.65, 20.65, 34.7, 99.3, 81.05, 67.6, 70.15, 115.0, 84.8, 19.7, 19.75, 92.55, 63.15, 74.0, 29.1, 50.05, 60.05, 74.3, 20.0, 74.65, 85.35, 74.3, 44.4, 85.4, 94.1, 98.1, 108.9, 56.2, 26.1, 85.45, 88.95, 109.65, 74.35, 48.85, 80.1, 56.05, 74.55, 89.8, 100.95, 94.9, 19.1, 20.35, 106.05, 104.9, 19.65, 24.1, 59.85, 86.1, 19.45, 97.1, 36.65, 103.9, 19.75, 104.05, 24.55, 48.7, 88.35, 109.55, 20.65, 94.65, 55.2, 24.05, 74.4, 79.9, 20.45, 19.25, 26.35, 43.8, 50.15, 20.45, 69.7, 61.4, 98.1, 70.75, 61.15, 20.25, 63.85, 98.7, 20.5, 20.0, 19.3, 84.4, 25.1, 48.25, 19.85, 99.6, 94.2, 62.15, 79.3, 56.25, 20.3, 99.0, 90.6, 85.9, 79.2, 70.35, 19.35, 50.15, 63.8, 20.55, 88.55, 101.4, 81.95, 69.35, 44.6, 63.75, 109.25, 84.6, 20.45, 85.75, 91.1, 107.95, 86.1, 22.95, 94.7, 19.45, 85.1, 19.7, 99.15, 87.0, 102.95, 79.95, 64.0, 64.9, 25.75, 90.15, 116.1, 104.95, 45.05, 71.0, 50.0, 70.55, 79.7, 20.45, 59.0, 60.35, 19.85, 19.95, 26.45, 63.4, 53.95, 69.25, 95.1, 74.1, 35.5, 70.95, 79.2, 48.8, 89.0, 99.4, 55.45, 25.4, 73.5, 93.5, 63.9, 64.85, 63.8, 44.45, 19.95, 43.35, 49.65, 85.1, 95.5, 92.35, 89.8, 74.55, 103.05, 116.0, 69.9, 95.1, 40.25, 25.75, 105.35, 113.6, 24.0, 19.4, 86.1, 102.65, 92.85, 97.75, 83.8, 54.45, 97.95, 19.95, 24.6, 50.95, 75.6, 80.75, 90.4, 99.8, 60.25, 20.2, 64.15, 20.25, 105.85, 75.45, 93.85, 99.0, 80.3, 19.55, 100.75, 100.75, 53.75, 31.0, 25.6, 58.35, 80.0, 46.35, 113.75, 90.4, 109.3, 70.25, 90.3, 65.25, 100.15, 94.5, 60.65, 24.1, 19.5, 85.95, 53.5, 25.45, 20.5, 20.85, 89.9, 26.0, 113.2, 69.05, 20.1, 109.65, 19.2, 33.9, 90.0, 34.0, 20.4, 38.6, 25.25, 60.6, 89.95, 74.75, 20.6, 84.45, 20.4, 81.7, 79.5, 89.15, 20.3, 74.95, 74.4, 20.0, 25.0, 80.45, 19.75, 65.65, 71.0, 89.2, 86.75, 55.3, 61.5, 25.1, 55.15, 34.05, 19.95, 19.95, 89.7, 20.4, 26.3, 84.95, 20.7, 43.25, 48.35, 79.55, 71.05, 19.45, 110.8, 84.5, 69.3, 49.35, 20.35, 105.6, 64.45, 108.6, 49.9, 30.3, 30.4, 45.4, 65.65, 103.3, 84.15, 44.45, 19.75, 85.4, 89.9, 55.05, 104.1, 106.6, 75.2, 70.5, 19.6, 55.85, 24.05, 38.1, 106.4, 34.25, 100.05, 68.65, 45.8, 75.75, 84.4, 96.4, 20.55, 50.95, 90.5, 79.4, 58.75, 59.45, 105.7, 56.25, 53.3, 85.55, 68.65, 24.3, 77.85, 59.9, 23.95, 20.15, 105.35, 95.65, 87.05, 81.0, 82.45, 53.5, 20.5, 25.1, 54.4, 58.6, 84.8, 61.4, 20.4, 79.65, 20.15, 94.45, 79.8, 54.2, 19.45, 74.05, 49.15, 19.4, 113.65, 106.0, 25.95, 19.1, 103.4, 100.55, 95.4, 75.15, 84.45, 89.15, 107.9, 19.5, 85.95, 24.95, 59.4, 19.5, 69.95, 82.85, 19.0, 38.85, 30.6, 20.35, 95.0, 74.4, 78.45, 74.3, 51.05, 19.2, 99.55, 70.0, 109.1, 45.3, 29.85, 76.45, 95.1, 19.8, 72.8, 18.95, 76.65, 99.15, 101.75, 75.45, 64.1, 25.65, 75.1, 95.85, 54.4, 72.75, 19.85, 19.05, 44.95, 49.55, 94.85, 46.25, 19.35, 69.6, 90.7, 101.4, 20.25, 48.8, 74.35, 19.35, 68.75, 100.2, 20.85, 95.9, 19.35, 45.0, 81.5, 25.5, 48.9, 84.1, 19.6, 20.0, 81.3, 95.2, 36.45, 83.3, 25.05, 20.3, 89.85, 49.85, 19.8, 54.65, 29.35, 19.15, 19.1, 55.55, 80.55, 20.25, 69.5, 106.0, 25.5, 104.3, 79.6, 55.25, 88.05, 20.4, 117.6, 20.0, 19.65, 70.55, 93.85, 65.8, 20.05, 80.0, 35.4, 79.6, 80.25, 50.45, 20.45, 79.6, 24.7, 77.3, 29.75, 44.9, 29.8, 74.65, 71.95, 20.75, 56.3, 105.25, 94.2, 19.55, 84.45, 53.65, 29.9, 19.7, 43.7, 55.3, 19.85, 19.65, 49.45, 106.55, 20.1, 20.45, 39.7, 54.5, 83.8, 55.15, 111.6, 86.65, 55.55, 20.55, 106.75, 62.1, 104.5, 101.8, 110.6, 84.9, 93.2, 24.4, 70.55, 78.45, 85.0, 87.45, 85.8, 91.1, 70.75, 20.1, 20.05, 74.8, 24.8, 100.85, 101.35, 81.7, 68.25, 105.1, 20.4, 79.15, 20.0, 79.4, 57.2, 58.6, 94.8, 102.5, 20.35, 84.9, 69.2, 95.45, 100.95, 20.85, 88.5, 35.0, 55.15, 50.95, 64.0, 69.1, 80.2, 49.3, 84.35, 20.05, 117.2, 20.1, 69.6, 103.45, 77.95, 109.95, 94.75, 80.0, 79.65, 25.2, 19.9, 78.45, 44.8, 20.3, 19.2, 80.05, 107.35, 47.85, 70.8, 29.5, 70.75, 59.1, 25.55, 84.45, 20.25, 75.55, 85.65, 70.15, 95.3, 70.25, 50.3, 97.8, 46.3, 19.35, 106.3, 25.0, 20.3, 75.35, 89.4, 88.0, 83.15, 43.8, 62.05, 20.1, 74.15, 101.35, 84.05, 20.9, 105.9, 99.5, 44.15, 53.9, 85.45, 85.05, 44.1, 90.2, 50.85, 59.2, 53.45, 19.95, 83.2, 74.65, 54.9, 57.5, 103.9, 19.65, 93.8, 89.25, 94.15, 55.6, 48.7, 19.25, 104.9, 75.45, 54.85, 19.9, 19.4, 25.05, 84.45, 19.3, 95.1, 79.85, 25.55, 75.5, 73.75, 96.05, 68.4, 20.65, 55.15, 70.6, 19.95, 19.0, 44.1, 107.6, 61.55, 90.7, 99.25, 91.7, 100.7, 78.45, 84.3, 19.55, 88.95, 20.45, 55.6, 86.8, 20.95, 20.05, 50.7, 113.65, 53.4, 101.9, 59.5, 87.8, 41.9, 83.0, 69.85, 56.3, 109.55, 92.15, 69.5, 97.0, 58.35, 50.6, 89.5, 70.4, 69.8, 94.3, 93.8, 19.55, 95.95, 101.05, 94.8, 107.75, 54.6, 71.3, 19.5, 56.3, 94.7, 104.15, 90.55, 60.8, 98.8, 98.15, 35.35, 103.15, 107.75, 81.4, 61.45, 95.7, 104.8, 70.95, 44.95, 97.65, 35.65, 90.55, 85.25, 19.5, 88.8, 25.1, 100.05, 55.7, 85.2, 91.15, 83.85, 45.9, 25.1, 91.4, 19.7, 91.5, 51.3, 21.1, 104.75, 106.15, 85.75, 20.3, 100.75, 74.15, 78.55, 45.3, 19.85, 50.7, 45.0, 77.8, 83.45, 73.25, 94.8, 20.1, 59.9, 90.1, 51.05, 70.95, 29.2, 46.6, 85.35, 75.35, 74.3, 69.3, 75.2, 20.9, 94.3, 76.45, 54.0, 104.25, 19.95, 24.95, 84.75, 19.75, 113.65, 44.9, 75.25, 24.6, 25.0, 20.95, 110.6, 55.5, 43.3, 109.5, 19.45, 84.85, 19.6, 53.45, 19.8, 112.1, 84.8, 95.05, 50.35, 74.6, 19.7, 74.2, 69.0, 19.35, 59.45, 19.8, 105.2, 109.2, 79.15, 53.65, 100.2, 45.15, 108.65, 40.65, 55.35, 105.6, 93.8, 95.7, 83.2, 90.05, 97.65, 68.05, 96.2, 79.6, 102.1, 23.4, 71.05, 85.25, 19.45, 59.45, 92.2, 19.85, 43.9, 80.5, 89.8, 90.5, 90.45, 50.75, 84.6, 89.65, 99.15, 19.95, 20.5, 62.1, 79.5, 19.55, 20.35, 51.7, 23.3, 65.4, 65.1, 81.2, 72.9, 74.5, 80.5, 60.3, 75.0, 90.15, 40.0, 99.45, 69.05, 59.7, 19.85, 86.25, 45.65, 70.1, 40.75, 70.2, 55.35, 95.7, 46.3, 81.3, 84.2, 20.0, 66.15, 45.85, 19.6, 49.8, 101.75, 55.15, 75.25, 103.95, 100.15, 99.65, 73.7, 50.05, 60.25, 105.75, 87.3, 48.35, 54.25, 85.3, 50.0, 24.4, 90.95, 72.25, 96.1, 19.85, 55.3, 20.1, 69.5, 25.15, 20.95, 49.55, 79.65, 71.25, 113.8, 24.55, 19.7, 20.25, 50.15, 100.5, 95.9, 74.45, 104.1, 19.05, 25.0, 19.05, 81.9, 69.7, 90.15, 25.35, 24.65, 19.55, 25.25, 60.0, 89.9, 19.4, 49.8, 24.1, 54.25, 109.9, 35.5, 87.55, 45.15, 88.4, 50.8, 99.0, 84.4, 96.55, 59.75, 111.5, 24.25, 75.1, 70.15, 101.75, 45.8, 20.5, 70.4, 30.55, 84.9, 20.1, 40.65, 101.0, 69.1, 54.5, 75.35, 44.45, 75.0, 100.0, 98.05, 71.15, 54.15, 63.9, 69.15, 64.65, 108.75, 98.85, 49.15, 89.6, 83.25, 70.25, 19.4, 24.5, 79.15, 20.1, 73.0, 61.4, 84.3, 19.9, 20.4, 50.75, 20.45, 75.75, 65.4, 80.4, 59.75, 78.5, 102.0, 48.95, 99.65, 18.25, 54.55, 20.65, 40.65, 20.45, 24.8, 70.8, 89.05, 96.6, 88.8, 20.05, 104.5, 69.8, 77.15, 35.05, 108.1, 84.05, 20.2, 50.6, 49.2, 24.6, 71.65, 104.9, 106.5, 49.35, 75.5, 94.25, 68.95, 58.5, 78.9, 93.85, 79.2, 109.45, 59.2, 29.15, 20.05, 76.05, 24.45, 66.5, 49.55, 89.35, 73.6, 82.65, 49.0, 80.35, 25.2, 25.45, 55.8, 110.9, 77.75, 26.2, 19.9, 79.05, 95.0, 25.2, 80.85, 98.4, 56.35, 19.3, 50.4, 79.4, 55.25, 19.1, 84.05, 105.2, 101.4, 89.8, 75.75, 95.3, 109.75, 19.85, 19.3, 69.1, 91.25, 20.25, 54.75, 81.45, 49.1, 80.2, 100.3, 65.25, 90.95, 85.45, 20.0, 94.1, 79.85, 71.65, 73.55, 104.65, 19.3, 20.15, 44.55, 54.45, 19.65, 105.0, 88.7, 74.25, 75.15, 20.25, 109.1, 30.75, 112.9, 74.2, 94.05, 78.85, 55.3, 19.35, 20.45, 19.35, 101.0, 100.2, 89.05, 78.65, 74.75, 70.1, 19.9, 58.35, 105.65, 100.5, 20.05, 25.65, 96.5, 95.0, 70.85, 85.95, 73.9, 45.45, 20.0, 49.2, 109.45, 83.25, 19.25, 19.65, 72.8, 109.65, 65.0, 114.1, 20.65, 86.95, 94.75, 25.35, 105.45, 25.4, 102.55, 100.2, 24.0, 25.6, 73.5, 74.05, 98.25, 54.4, 101.55, 103.1, 34.2, 43.75, 111.95, 100.65, 55.95, 116.05, 45.75, 82.0, 65.15, 44.8, 79.8, 88.85, 74.95, 106.85, 74.95, 80.15, 19.3, 109.25, 56.1, 19.7, 51.3, 118.6, 24.15, 20.3, 115.5, 25.05, 109.1, 19.65, 111.3, 29.9, 80.6, 20.8, 35.2, 78.8, 89.95, 116.05, 19.55, 106.4, 49.4, 115.25, 24.8, 19.9, 81.25, 69.95, 69.1, 90.2, 93.55, 86.4, 66.3, 94.65, 80.85, 82.05, 72.1, 34.7, 20.55, 95.95, 44.8, 109.4, 71.05, 78.55, 19.7, 40.25, 19.85, 68.25, 20.15, 50.95, 78.65, 25.15, 20.25, 42.9, 44.0, 20.25, 34.25, 58.5, 55.8, 88.9, 57.65, 96.2, 79.15, 108.05, 74.4, 94.8, 45.9, 105.3, 102.6, 73.85, 61.35, 57.55, 29.25, 84.55, 19.6, 111.75, 106.5, 107.7, 19.3, 20.05, 69.95, 63.7, 24.75, 50.9, 60.4, 79.25, 85.8, 24.45, 110.1, 90.7, 25.3, 105.7, 85.2, 24.35, 24.25, 25.1, 54.55, 96.6, 76.5, 81.15, 38.5, 92.9, 93.5, 84.7, 66.0, 101.5, 74.9, 20.75, 61.45, 54.5, 69.6, 99.75, 109.75, 80.85, 20.3, 67.8, 24.05, 19.8, 25.7, 56.15, 86.7, 20.4, 19.65, 50.55, 54.35, 108.1, 54.45, 45.35, 59.0, 69.45, 100.55, 64.95, 20.5, 18.85, 19.8, 25.05, 74.8, 114.3, 24.45, 109.2, 45.05, 51.0, 110.45, 84.65, 60.05, 44.65, 93.25, 20.25, 25.45, 20.6, 94.1, 34.8, 60.75, 51.35, 64.05, 84.8, 71.0, 50.15, 94.6, 59.75, 100.25, 98.9, 97.7, 40.3, 60.25, 56.25, 46.2, 50.6, 24.9, 84.85, 65.7, 63.35, 50.1, 70.5, 94.85, 50.15, 19.75, 64.65, 79.6, 19.5, 99.55, 74.0, 38.9, 79.55, 65.45, 98.7, 46.3, 99.35, 95.8, 67.5, 78.15, 26.1, 69.6, 84.35, 100.2, 78.05, 40.35, 79.2, 20.9, 73.6, 74.75, 49.9, 68.9, 20.25, 76.0, 74.0, 82.3, 89.4, 99.15, 20.2, 29.45, 19.8, 59.15, 44.75, 90.8, 49.55, 106.7, 93.55, 94.45, 19.45, 25.05, 67.95, 65.25, 99.45, 20.35, 19.95, 77.4, 19.7, 99.7, 74.8, 19.15, 78.95, 95.55, 62.85, 71.55, 94.95, 86.1, 19.55, 24.8, 39.3, 84.05, 36.25, 20.25, 23.9, 98.6, 103.65, 92.9, 19.9, 20.1, 85.45, 80.5, 99.9, 39.85, 60.5, 84.8, 103.85, 67.8, 75.2, 24.85, 19.35, 49.35, 89.0, 55.0, 76.15, 20.3, 74.9, 117.35, 19.75, 45.2, 25.2, 89.75, 75.0, 49.95, 65.7, 67.05, 110.9, 87.95, 19.8, 75.7, 62.15, 101.25, 115.15, 18.95, 19.5, 86.55, 28.6, 20.4, 19.8, 45.65, 56.4, 73.3, 24.35, 101.35, 98.65, 33.6, 79.9, 20.7, 104.05, 20.25, 103.3, 73.7, 96.2, 108.75, 20.15, 19.75, 25.95, 70.05, 24.05, 84.75, 23.05, 104.15, 59.95, 19.55, 19.6, 20.05, 85.55, 78.6, 116.8, 43.55, 60.8, 54.9, 65.2, 102.95, 90.6, 50.8, 90.05, 108.2, 92.0, 75.1, 25.05, 75.15, 19.5, 19.3, 112.2, 70.3, 19.6, 20.25, 75.85, 80.65, 68.5, 115.75, 73.5, 80.6, 69.95, 59.55, 19.05, 95.65, 19.95, 70.05, 19.4, 36.1, 94.0, 61.15, 19.75, 64.1, 19.75, 19.7, 110.2, 106.35, 90.55, 65.9, 104.5, 52.5, 56.1, 88.75, 84.45, 75.3, 26.0, 99.4, 109.55, 19.6, 73.15, 54.65, 66.4, 115.55, 104.45, 100.05, 102.0, 91.15, 89.7, 90.2, 92.4, 19.9, 25.15, 79.85, 18.85, 25.75, 49.6, 20.95, 97.05, 25.4, 19.7, 35.0, 101.25, 70.2, 90.95, 73.85, 88.05, 105.95, 91.85, 20.1, 40.1, 110.3, 73.9, 89.8, 85.15, 60.95, 72.25, 73.55, 46.0, 58.55, 24.6, 19.75, 86.35, 25.5, 19.0, 19.55, 110.1, 96.55, 69.75, 50.6, 65.6, 40.1, 82.1, 79.1, 101.25, 79.55, 90.65, 20.55, 75.75, 110.0, 20.85, 80.35, 70.15, 84.05, 67.45, 20.75, 89.1, 69.9, 51.1, 94.4, 78.25, 25.55, 60.0, 90.55, 76.4, 84.95, 110.1, 99.65, 45.4, 69.0, 48.65, 44.15, 59.85, 75.75, 80.65, 20.55, 66.4, 100.2, 19.1, 80.3, 44.55, 20.35, 91.8, 74.9, 20.2, 50.35, 18.8, 20.45, 64.75, 98.7, 89.45, 58.75, 20.7, 85.6, 80.3, 79.8, 79.85, 54.1, 80.85, 24.75, 80.9, 24.5, 20.15, 20.05, 19.6, 114.3, 100.3, 80.0, 20.85, 89.95, 90.85, 48.75, 80.0, 79.7, 20.35, 57.55, 20.25, 19.4, 100.4, 57.95, 59.5, 19.2, 86.5, 59.55, 103.95, 25.1, 103.95, 68.95, 103.1, 24.7, 110.2, 48.95, 62.45, 89.55, 83.55, 78.9, 20.35, 71.45, 46.35, 94.65, 49.9, 25.45, 89.15, 20.75, 66.1, 75.4, 70.45, 60.3, 21.05, 69.35, 88.85, 97.0, 66.4, 24.75, 69.2, 79.5, 100.65, 103.3, 79.7, 61.4, 69.8, 40.55, 75.65, 90.7, 80.5, 60.6, 101.15, 24.95, 20.3, 60.0, 20.25, 78.5, 44.75, 19.85, 98.0, 79.9, 107.7, 99.7, 104.7, 58.6, 93.9, 86.45, 98.5, 19.4, 50.45, 24.95, 75.0, 94.65, 100.25, 78.2, 94.2, 88.45, 69.85, 81.7, 50.05, 79.9, 69.55, 25.4, 90.1, 44.65, 83.75, 80.35, 98.1, 53.35, 19.55, 20.9, 48.95, 54.2, 24.45, 69.4, 40.15, 74.9, 25.6, 70.35, 91.7, 89.2, 24.1, 74.15, 53.85, 115.6, 19.75, 24.05, 25.3, 84.3, 70.1, 89.75, 97.95, 20.0, 78.3, 103.9, 20.7, 96.8, 94.4, 20.15, 26.0, 77.35, 66.05, 19.9, 84.3, 68.15, 80.85, 75.5, 92.45, 80.6, 83.2, 87.55, 99.55, 81.25, 109.4, 19.95, 45.55, 20.7, 75.3, 99.25, 93.4, 73.75, 80.45, 88.15, 49.2, 19.65, 79.35, 79.75, 105.15, 49.0, 100.05, 69.35, 49.8, 85.8, 79.7, 20.95, 50.55, 79.3, 19.5, 80.55, 44.15, 84.5, 105.5, 84.3, 92.7, 26.25, 96.95, 20.45, 115.8, 108.2, 20.2, 67.75, 54.9, 85.25, 20.15, 90.35, 55.75, 114.6, 80.05, 20.0, 66.8, 100.3, 105.35, 85.2, 48.8, 18.95, 69.8, 106.15, 20.55, 105.75, 25.25, 19.75, 104.85, 60.95, 81.15, 19.1, 20.8, 90.15, 90.1, 74.1, 85.05, 118.75, 85.9, 95.0, 20.15, 101.3, 21.2, 24.2, 20.3, 102.8, 85.3, 89.6, 99.95, 56.25, 50.95, 115.85, 103.65, 26.1, 35.1, 99.1, 67.25, 25.0, 59.55, 77.8, 55.1, 117.8, 24.15, 45.25, 79.5, 20.25, 64.75, 54.6, 20.7, 94.75, 79.65, 115.8, 49.45, 83.8, 95.35, 94.7, 74.05, 89.6, 116.6, 54.2, 19.3, 65.05, 92.5, 19.45, 24.05, 18.75, 20.15, 20.0, 71.0, 75.55, 93.6, 70.0, 24.4, 74.8, 65.25, 50.55, 104.4, 70.7, 45.25, 70.3, 108.95, 26.45, 86.2, 19.65, 51.2, 19.05, 74.75, 75.8, 25.1, 44.45, 104.3, 19.5, 89.0, 20.15, 74.9, 74.9, 36.15, 19.2, 19.25, 61.2, 20.45, 35.05, 100.25, 44.0, 102.8, 50.35, 100.0, 20.0, 99.85, 94.2, 86.4, 58.4, 83.85, 88.3, 94.1, 104.05, 108.9, 107.4, 94.7, 90.85, 19.9, 66.4, 100.65, 100.7, 25.6, 19.85, 20.75, 95.8, 94.65, 80.55, 106.65, 45.85, 104.35, 55.45, 78.85, 61.15, 78.95, 44.45, 109.2, 61.3, 96.85, 40.55, 19.8, 108.25, 105.05, 90.45, 86.4, 66.9, 110.7, 20.0, 84.9, 102.1, 20.25, 70.15, 74.35, 80.05, 62.05, 49.2, 20.5, 38.25, 54.95, 96.6, 19.9, 19.9, 84.6, 80.0, 85.25, 81.25, 115.5, 104.1, 79.0, 39.1, 94.65, 20.8, 59.5, 20.05, 100.45, 76.5, 20.6, 20.3, 49.2, 39.55, 23.15, 20.45, 80.85, 25.25, 91.25, 72.45, 60.1, 19.7, 78.95, 75.1, 25.0, 69.15, 91.55, 45.15, 35.8, 113.15, 19.85, 19.8, 19.9, 19.7, 79.4, 59.1, 53.95, 91.15, 99.3, 68.95, 51.55, 24.4, 96.8, 70.05, 19.5, 78.75, 69.2, 19.55, 80.65, 103.65, 54.7, 54.15, 71.1, 84.85, 20.0, 106.25, 99.25, 19.35, 20.8, 94.75, 114.05, 74.9, 19.8, 94.0, 80.85, 54.65, 91.7, 118.6, 24.55, 19.45, 116.15, 80.6, 20.3, 89.85, 46.0, 66.25, 99.8, 90.0, 70.45, 75.0, 19.9, 80.3, 19.75, 84.3, 54.05, 104.9, 53.95, 97.25, 83.05, 105.5, 81.0, 41.1, 45.0, 74.55, 40.2, 70.5, 19.75, 24.65, 104.25, 78.35, 69.8, 109.7, 73.75, 33.45, 94.6, 54.55, 20.2, 20.3, 39.4, 69.15, 76.25, 93.9, 51.35, 100.05, 70.4, 20.3, 94.45, 46.4, 104.05, 91.15, 24.9, 59.6, 108.5, 40.55, 58.95, 70.95, 20.75, 113.15, 48.8, 63.05, 100.85, 99.5, 80.55, 64.4, 75.2, 84.9, 19.3, 83.9, 117.45, 104.4, 74.65, 59.05, 69.1, 20.55, 76.55, 62.5, 29.4, 94.9, 111.65, 19.9, 20.45, 106.05, 113.45, 92.55, 65.6, 84.35, 44.65, 71.1, 85.15, 49.7, 30.2, 25.25, 84.05, 85.7, 74.7, 56.35, 90.8, 107.55, 19.85, 95.9, 23.85, 106.15, 83.85, 85.35, 84.8, 90.85, 76.1, 74.55, 39.2, 79.55, 19.6, 19.55, 39.15, 20.1, 99.95, 59.8, 49.75, 35.75, 108.5, 60.15, 19.05, 46.0, 84.0, 44.55, 103.45, 80.65, 57.2, 110.75, 24.7, 97.05, 76.35, 89.4, 18.9, 74.45, 19.8, 50.9, 84.4, 24.4, 20.05, 81.0, 98.35, 55.5, 51.0, 91.65, 84.3, 100.2, 19.4, 90.85, 69.4, 94.45, 20.4, 94.75, 20.15, 95.7, 44.35, 74.55, 73.6, 74.95, 47.95, 50.1, 63.6, 53.0, 19.85, 24.35, 19.55, 25.05, 93.8, 36.85, 103.75, 56.75, 20.8, 44.1, 24.45, 25.6, 50.75, 104.4, 39.3, 59.65, 83.3, 79.55, 24.45, 19.2, 29.8, 45.5, 106.45, 30.05, 65.65, 96.05, 75.1, 74.05, 44.7, 110.75, 19.7, 49.5, 55.0, 43.95, 74.35, 111.15, 104.7, 55.7, 20.6, 19.65, 115.8, 88.65, 94.5, 20.1, 34.65, 52.3, 65.0, 19.85, 35.45, 19.7, 95.6, 19.85, 81.85, 109.3, 70.3, 25.4, 69.8, 20.0, 85.55, 109.9, 50.3, 94.5, 101.5, 89.15, 19.4, 29.9, 78.8, 85.35, 79.65, 19.3, 79.6, 96.8, 20.65, 19.8, 90.6, 104.6, 80.05, 45.15, 73.15, 99.1, 20.2, 106.05, 105.35, 45.65, 79.95, 54.45, 25.1, 84.7, 75.85, 48.8, 99.15, 35.2, 76.25, 55.9, 82.35, 40.4, 24.9, 54.3, 66.3, 20.9, 75.35, 85.15, 75.35, 104.45, 49.45, 19.45, 92.15, 93.8, 19.85, 100.25, 95.7, 93.15, 69.7, 19.8, 71.35, 20.75, 40.6, 20.4, 20.35, 19.75, 54.4, 94.7, 30.5, 20.45, 66.15, 89.85, 45.05, 86.85, 96.75, 77.0, 20.1, 75.3, 106.65, 110.15, 82.85, 20.1, 99.2, 59.45, 58.6, 49.7, 65.85, 73.5, 85.5, 20.05, 113.65, 83.4, 65.65, 70.4, 61.35, 85.9, 75.65, 49.75, 70.9, 49.85, 75.3, 20.1, 94.0, 103.05, 118.35, 99.7, 81.9, 30.45, 96.1, 66.2, 104.25, 80.2, 19.75, 72.6, 116.5, 106.8, 24.95, 89.25, 19.25, 104.55, 87.2, 30.75, 25.7, 86.2, 30.1, 99.35, 19.2, 20.1, 20.35, 25.65, 94.55, 104.2, 94.4, 56.1, 68.25, 24.75, 76.25, 74.35, 54.15, 19.45, 34.95, 53.65, 69.65, 104.0, 70.35, 80.8, 64.85, 19.65, 45.9, 20.0, 44.8, 80.3, 20.35, 45.8, 84.1, 108.95, 69.35, 64.35, 90.8, 24.95, 79.6, 84.7, 70.8, 36.45, 104.4, 101.5, 54.3, 103.95, 91.1, 19.95, 26.45, 89.4, 75.1, 108.1, 110.15, 80.35, 111.5, 106.5, 19.9, 111.1, 70.7, 24.85, 91.2, 65.6, 40.65, 59.45, 109.95, 60.45, 84.9, 38.5, 92.55, 73.55, 20.15, 34.7, 24.5, 20.6, 58.0, 107.45, 65.5, 25.45, 100.15, 104.45, 21.15, 96.2, 44.4, 107.55, 94.35, 98.75, 20.3, 101.15, 105.75, 81.15, 89.55, 54.75, 53.75, 105.75, 105.85, 64.2, 88.7, 87.7, 89.3, 20.15, 79.75, 94.55, 20.05, 67.2, 94.55, 69.05, 107.5, 73.0, 114.75, 76.05, 96.25, 101.1, 104.7, 77.9, 90.65, 110.45, 68.7, 44.85, 29.8, 88.9, 58.75, 19.85, 86.9, 59.65, 55.25, 66.4, 90.1, 20.15, 108.1, 53.75, 56.9, 89.3, 109.6, 25.15, 79.15, 66.75, 95.2, 48.8, 45.7, 80.7, 74.5, 20.55, 79.65, 115.1, 59.7, 86.45, 33.7, 80.1, 104.05, 108.75, 41.1, 20.35, 105.9, 101.3, 80.05, 89.2, 65.5, 40.45, 70.45, 78.8, 83.65, 90.1, 82.45, 20.25, 66.25, 19.5, 51.25, 89.7, 64.55, 45.6, 93.65, 49.65, 73.6, 109.75, 61.45, 106.4, 81.9, 105.2, 54.6, 20.55, 20.0, 19.7, 66.05, 34.0, 92.5, 54.05, 58.9, 88.35, 107.95, 96.9, 19.1, 50.0, 45.4, 85.45, 84.1, 74.45, 64.75, 66.25, 76.9, 89.8, 74.6, 116.95, 40.65, 114.35, 69.7, 95.5, 98.65, 61.65, 89.35, 95.4, 35.4, 19.95, 19.25, 29.65, 84.5, 20.4, 24.75, 25.35, 90.7, 20.0, 59.75, 82.5, 70.3, 20.35, 90.8, 103.95, 104.95, 105.25, 74.75, 50.8, 23.75, 61.3, 75.8, 98.0, 80.25, 78.9, 52.0, 84.75, 64.4, 85.45, 45.8, 30.5, 19.9, 69.15, 99.45, 49.25, 39.35, 70.6, 105.1, 81.0, 20.1, 84.85, 19.75, 19.75, 70.4, 20.45, 20.35, 86.2, 95.65, 103.8, 97.2, 63.55, 24.95, 89.15, 99.0, 24.8, 85.55, 94.0, 105.65, 50.3, 95.0, 61.4, 80.55, 78.5, 114.3, 20.05, 62.65, 80.85, 92.7, 100.45, 75.2, 84.75, 89.45, 79.5, 72.15, 19.8, 76.4, 100.9, 95.3, 90.95, 54.5, 61.6, 79.9, 96.15, 49.6, 65.3, 25.0, 45.45, 107.75, 89.1, 19.65, 44.75, 101.6, 103.15, 84.65, 95.65, 75.1, 61.35, 69.55, 19.7, 31.05, 51.0, 51.0, 88.85, 20.05, 65.1, 70.15, 44.35, 20.75, 56.05, 19.95, 98.6, 79.7, 79.0, 89.45, 74.2, 81.0, 49.6, 84.6, 55.0, 84.85, 84.2, 106.3, 69.05, 45.4, 73.65, 73.9, 77.75, 99.35, 50.75, 87.1, 20.15, 98.7, 25.2, 55.7, 65.35, 25.3, 84.35, 84.95, 73.85, 24.25, 51.8, 46.0, 79.4, 60.5, 25.1, 71.8, 20.05, 88.4, 30.25, 20.2, 59.9, 25.15, 46.0, 101.3, 76.95, 55.3, 92.45, 48.45, 19.35, 51.75, 86.7, 94.4, 55.7, 84.25, 64.65, 70.15, 69.2, 54.65, 24.75, 23.95, 105.0, 59.85, 20.05, 92.15, 44.8, 20.9, 95.4, 80.35, 85.1, 34.7, 115.05, 81.1, 19.95, 20.55, 106.6, 86.15, 78.85, 106.75, 86.55, 42.4, 89.45, 24.25, 97.9, 20.5, 19.6, 20.25, 55.7, 20.6, 19.8, 79.8, 80.2, 116.4, 31.65, 94.15, 20.65, 76.85, 20.15, 55.25, 39.05, 82.15, 103.0, 95.1, 83.9, 95.15, 79.8, 74.8, 69.85, 20.45, 78.35, 53.55, 19.1, 20.0, 93.9, 19.95, 113.15, 24.0, 84.95, 80.5, 19.3, 19.15, 91.3, 49.65, 54.35, 19.15, 88.45, 19.75, 75.5, 83.75, 19.4, 26.5, 90.5, 19.15, 94.85, 69.95, 40.9, 80.25, 48.6, 70.8, 60.2, 55.2, 55.8, 54.15, 80.15, 75.5, 100.4, 62.55, 70.45, 85.5, 20.2, 54.5, 20.75, 20.35, 91.0, 104.8, 74.75, 104.05, 51.1, 89.8, 20.55, 64.05, 74.85, 96.65, 20.05, 103.45, 25.0, 20.3, 26.35, 19.9, 54.7, 46.35, 90.25, 19.95, 20.65, 79.6, 25.45, 19.5, 75.9, 76.2, 66.15, 19.25, 69.1, 39.1, 20.05, 59.8, 84.3, 48.6, 79.0, 105.35, 25.1, 49.75, 94.75, 93.0, 71.9, 77.55, 19.85, 70.25, 95.25, 84.6, 25.05, 53.15, 20.15, 101.25, 100.55, 24.1, 25.3, 71.8, 19.7, 49.85, 69.6, 19.75, 80.8, 60.0, 86.55, 20.85, 64.2, 35.0, 50.75, 105.5, 19.2, 85.15, 90.65, 20.0, 74.65, 61.2, 19.95, 54.8, 73.45, 51.45, 80.45, 54.2, 109.5, 104.4, 85.3, 79.3, 76.5, 105.1, 25.4, 86.85, 19.65, 75.7, 45.55, 78.1, 19.3, 110.5, 90.8, 20.3, 81.35, 97.95, 108.15, 55.3, 56.55, 80.5, 19.7, 104.05, 52.85, 104.3, 80.65, 71.35, 24.65, 21.3, 110.2, 89.4, 51.05, 19.8, 19.9, 87.3, 19.85, 89.4, 20.0, 20.05, 83.25, 20.6, 102.9, 39.1, 99.95, 114.5, 20.2, 55.8, 24.2, 81.0, 72.8, 99.85, 99.5, 70.15, 20.25, 26.0, 19.9, 19.05, 96.5, 19.85, 25.7, 20.3, 70.15, 91.55, 39.4, 105.7, 70.25, 93.75, 96.55, 60.0, 59.8, 90.65, 109.0, 68.1, 20.4, 81.95, 60.55, 65.6, 82.5, 82.3, 68.15, 20.3, 95.55, 20.2, 89.2, 69.65, 89.3, 74.8, 20.2, 84.4, 87.55, 25.15, 19.8, 50.85, 102.4, 96.3, 55.5, 109.75, 106.4, 60.0, 88.8, 85.2, 35.1, 80.05, 75.55, 49.55, 81.3, 23.9, 66.4, 19.6, 18.8, 108.4, 85.95, 85.45, 80.9, 71.0, 111.8, 20.6, 85.05, 44.6, 44.4, 105.1, 115.15, 59.8, 26.3, 70.55, 20.05, 79.85, 70.3, 79.35, 90.05, 24.45, 59.95, 25.35, 90.8, 70.45, 34.3, 105.05, 19.3, 19.15, 51.4, 71.85, 75.4, 49.7, 45.25, 78.75, 81.6, 70.4, 75.8, 76.1, 94.0, 103.95, 19.95, 71.3, 110.8, 69.1, 96.1, 48.8, 50.55, 44.65, 88.25, 19.45, 89.3, 70.0, 19.25, 70.5, 97.35, 19.65, 20.85, 19.65, 19.35, 44.0, 94.4, 25.9, 55.65, 69.65, 75.4, 100.6, 71.0, 86.0, 106.95, 21.2, 61.05, 29.6, 79.95, 19.7, 20.3, 59.9, 24.35, 19.75, 50.3, 95.6, 50.25, 85.35, 41.6, 51.65, 24.0, 100.85, 59.85, 25.45, 23.9, 24.15, 75.7, 40.2, 84.5, 50.85, 91.6, 98.9, 85.0, 78.95, 44.3, 20.2, 80.2, 60.9, 34.2, 85.2, 87.15, 54.3, 19.1, 112.75, 19.95, 19.5, 65.55, 78.8, 78.2, 105.25, 89.25, 20.65, 68.7, 78.65, 24.75, 19.75, 89.1, 84.7, 98.0, 94.45, 105.0, 93.85, 59.9, 19.95, 84.0, 108.9, 33.6, 85.85, 34.85, 48.75, 84.85, 56.65, 95.3, 73.9, 24.5, 84.6, 44.95, 24.7, 100.3, 25.45, 50.7, 55.0, 68.4, 89.9, 78.55, 55.05, 19.8, 84.45, 35.9, 80.75, 78.65, 61.75, 63.7, 99.45, 25.2, 74.05, 87.6, 89.15, 20.0, 55.0, 104.4, 20.05, 89.75, 34.3, 20.65, 84.25, 19.65, 79.85, 20.2, 19.8, 50.35, 85.15, 74.6, 79.15, 20.35, 21.05, 94.6, 94.7, 94.25, 72.45, 74.95, 105.2, 111.95, 19.85, 89.75, 20.05, 108.95, 19.65, 24.9, 82.85, 93.2, 84.8, 71.75, 30.35, 54.85, 19.5, 103.85, 24.2, 19.35, 83.6, 100.65, 94.1, 74.55, 108.45, 56.15, 20.35, 80.55, 61.25, 20.45, 18.9, 19.6, 91.5, 45.2, 19.45, 25.45, 80.85, 94.9, 49.05, 29.3, 105.3, 88.95, 20.25, 110.85, 110.5, 109.4, 114.2, 36.5, 70.75, 19.95, 19.6, 40.15, 76.6, 19.6, 85.3, 65.85, 94.45, 20.05, 99.4, 20.0, 78.45, 25.1, 97.35, 55.0, 71.1, 61.55, 45.9, 40.3, 87.1, 49.5, 73.8, 19.2, 45.3, 25.0, 94.95, 35.3, 44.55, 76.75, 81.0, 105.55, 18.8, 24.9, 23.45, 64.9, 61.35, 113.95, 90.15, 54.1, 29.7, 49.8, 101.1, 24.4, 95.0, 50.65, 69.9, 39.95, 55.4, 90.6, 103.25, 86.85, 94.25, 47.05, 20.55, 19.65, 70.2, 81.0, 75.9, 24.7, 99.05, 110.25, 85.0, 19.75, 23.9, 111.25, 55.1, 19.95, 25.15, 54.15, 59.8, 83.85, 104.9, 75.3, 66.65, 109.5, 73.85, 19.3, 118.2, 51.45, 59.45, 19.5, 19.55, 93.55, 59.3, 102.25, 95.9, 109.8, 78.1, 39.9, 64.9, 95.05, 53.4, 24.9, 44.7, 114.0, 20.25, 53.85, 83.85, 20.2, 19.95, 104.2, 50.25, 20.35, 90.0, 54.2, 99.5, 99.1, 66.9, 25.85, 91.05, 71.0, 93.2, 20.95, 109.2, 19.35, 85.8, 19.85, 19.65, 20.5, 89.65, 74.35, 49.45, 89.1, 75.15, 70.65, 104.2, 90.05, 79.25, 44.9, 19.4, 88.75, 70.1, 91.0, 29.65, 90.8, 77.85, 54.3, 18.95, 95.15, 102.4, 99.9, 88.7, 54.3, 55.7, 103.95, 110.85, 20.15, 20.05, 91.95, 80.5, 55.65, 74.7, 104.15, 83.65, 72.2, 110.05, 51.5, 25.5, 89.55, 19.5, 80.7, 77.5, 105.1, 25.15, 95.25, 95.65, 85.0, 80.8, 24.85, 54.75, 85.75, 50.75, 20.15, 20.05, 98.25, 71.6, 81.45, 58.4, 25.7, 53.7, 19.6, 89.4, 69.0, 84.2, 106.1, 25.75, 46.05, 64.95, 85.45, 20.05, 76.4, 100.5, 20.7, 25.3, 40.05, 100.6, 69.95, 74.0, 99.4, 93.3, 49.15, 107.45, 83.6, 99.05, 80.1, 65.3, 89.55, 60.8, 74.5, 99.15, 19.25, 39.45, 44.85, 97.2, 110.55, 35.05, 73.0, 19.9, 76.95, 35.4, 20.45, 96.75, 54.2, 100.1, 45.25, 83.85, 70.1, 20.85, 33.45, 20.2, 85.9, 61.0, 70.65, 86.9, 69.4, 20.35, 20.35, 104.3, 44.95, 49.45, 20.6, 19.55, 99.0, 93.5, 54.55, 20.05, 83.95, 79.45, 116.2, 93.7, 79.85, 100.0, 19.6, 19.7, 20.2, 50.4, 113.35, 80.0, 80.95, 24.9, 54.9, 75.55, 109.25, 77.65, 95.0, 116.3, 19.9, 70.35, 25.6, 44.45, 100.15, 105.4, 95.85, 73.85, 70.1, 25.25, 79.15, 21.05, 24.95, 64.5, 19.65, 79.0, 105.95, 75.85, 91.85, 43.6, 91.25, 89.75, 104.4, 90.15, 40.3, 105.25, 106.0, 104.0, 69.65, 74.3, 100.9, 20.25, 49.9, 96.9, 100.35, 104.1, 20.1, 74.95, 56.55, 49.25, 68.6, 69.05, 19.7, 20.05, 103.7, 94.4, 54.95, 93.7, 110.25, 98.9, 89.75, 80.45, 79.4, 20.3, 62.8, 74.9, 74.85, 25.85, 101.95, 68.3, 48.4, 94.0, 105.05, 89.3, 25.15, 19.5, 92.95, 20.7, 74.3, 19.35, 44.65, 84.05, 80.7, 104.35, 19.55, 74.05, 40.1, 20.1, 101.7, 83.55, 56.85, 20.4, 19.55, 106.15, 78.95, 49.75, 92.4, 58.2, 102.6, 91.95, 65.25, 106.0, 73.1, 59.75, 55.1, 59.8, 116.6, 109.3, 101.4, 50.65, 56.15, 106.5, 19.2, 83.0, 70.1, 108.3, 91.05, 25.25, 45.35, 43.9, 77.5, 79.3, 84.9, 79.25, 71.05, 53.75, 24.25, 54.2, 44.25, 50.05, 20.15, 69.25, 69.35, 19.35, 19.15, 61.0, 20.5, 50.5, 50.2, 79.6, 24.9, 74.4, 106.9, 101.35, 55.35, 50.55, 19.5, 79.45, 90.65, 89.85, 79.0, 104.65, 19.55, 19.9, 116.25, 87.75, 100.05, 81.3, 44.3, 70.35, 44.45, 49.15, 29.45, 100.55, 85.3, 95.65, 69.1, 70.35, 20.6, 74.15, 75.05, 44.6, 21.45, 43.45, 20.05, 94.15, 94.4, 19.55, 75.9, 64.15, 109.55, 110.8, 55.0, 53.45, 69.95, 101.45, 97.0, 90.6, 73.55, 67.95, 94.35, 69.5, 18.85, 19.4, 69.2, 19.75, 54.6, 29.8, 69.65, 101.85, 103.05, 82.3, 20.3, 35.1, 105.7, 56.25, 60.35, 79.25, 59.8, 84.6, 93.4, 94.2, 25.05, 99.65, 50.65, 60.9, 59.65, 64.7, 25.1, 48.95, 54.85, 45.3, 91.35, 85.85, 25.1, 34.0, 45.9, 95.2, 20.5, 100.6, 55.3, 20.35, 74.85, 36.1, 65.8, 20.35, 105.8, 96.75, 102.35, 24.4, 115.65, 79.85, 73.05, 64.35, 20.5, 76.0, 54.75, 104.75, 74.65, 51.15, 41.95, 54.35, 56.25, 106.1, 96.0, 79.75, 61.45, 68.65, 19.65, 19.0, 100.0, 20.25, 98.7, 19.8, 73.8, 100.2, 74.9, 20.05, 106.2, 116.55, 99.7, 19.7, 19.5, 29.15, 55.0, 90.8, 51.0, 90.1, 59.05, 20.3, 72.95, 73.55, 84.3, 78.0, 72.1, 106.75, 19.25, 20.55, 20.0, 24.65, 103.5, 23.85, 25.8, 70.85, 69.8, 59.45, 54.55, 20.05, 82.55, 81.25, 70.75, 74.3, 94.1, 29.7, 109.7, 96.35, 66.6, 44.5, 110.9, 105.0, 25.3, 55.15, 20.1, 80.1, 69.05, 69.9, 20.4, 19.7, 50.1, 101.4, 83.45, 86.65, 20.15, 80.8, 19.4, 62.05, 76.45, 60.05, 91.3, 95.75, 20.35, 94.05, 84.1, 78.75, 55.55, 62.65, 74.5, 102.1, 20.1, 70.3, 53.65, 20.75, 103.4, 50.8, 50.15, 79.0, 74.6, 96.5, 20.1, 19.4, 77.55, 20.05, 19.85, 20.2, 67.45, 18.55, 29.75, 86.5, 24.2, 23.55, 20.45, 81.45, 92.3, 69.15, 53.65, 39.65, 54.65, 104.8, 29.3, 83.85, 79.55, 103.65, 99.05, 100.05, 20.35, 43.95, 23.5, 70.7, 94.3, 29.15, 20.85, 37.7, 95.5, 91.05, 92.45, 44.15, 36.05, 50.25, 109.75, 79.2, 20.3, 112.35, 94.3, 41.15, 74.65, 48.25, 76.15, 71.1, 96.55, 79.3, 89.6, 20.5, 106.3, 100.35, 85.6, 45.25, 106.15, 51.1, 19.9, 25.7, 74.3, 99.4, 69.7, 98.35, 85.45, 95.9, 100.75, 89.2, 74.1, 100.6, 75.0, 25.75, 84.1, 79.3, 107.05, 20.05, 70.2, 19.5, 70.75, 45.3, 115.15, 72.95, 19.65, 19.55, 89.55, 50.35, 50.25, 87.25, 20.8, 109.25, 20.35, 55.9, 79.2, 96.0, 79.2, 24.0, 101.35, 100.1, 56.5, 35.45, 85.0, 79.4, 35.2, 19.65, 49.85, 68.75, 79.9, 89.75, 59.3, 19.4, 93.65, 49.4, 19.9, 55.0, 72.9, 69.2, 25.6, 19.75, 55.7, 117.5, 19.85, 78.9, 20.65, 62.3, 92.5, 19.65, 79.75, 79.95, 29.9, 19.75, 45.0, 44.8, 69.65, 51.1, 53.15, 24.7, 111.6, 48.55, 109.95, 20.8, 20.2, 25.6, 39.65, 24.9, 108.4, 19.55, 85.1, 56.7, 69.05, 70.15, 111.15, 105.95, 89.35, 89.1, 91.25, 90.35, 105.55, 19.1, 20.4, 100.45, 74.95, 29.7, 50.35, 85.7, 47.85, 94.0, 69.85, 70.3, 25.85, 71.1, 98.8, 93.35, 99.85, 80.3, 50.55, 80.45, 81.3, 20.7, 79.05, 19.05, 19.6, 20.2, 86.8, 20.9, 103.6, 38.8, 88.4, 84.2, 79.7, 99.0, 100.75, 19.3, 55.75, 19.95, 91.75, 89.65, 45.85, 79.55, 55.95, 69.0, 83.55, 65.7, 94.9, 61.9, 111.1, 20.0, 67.7, 25.15, 92.85, 89.1, 111.3, 101.9, 91.65, 88.85, 60.6, 25.3, 65.5, 95.45, 19.95, 91.1, 54.15, 74.6, 94.6, 81.15, 89.05, 49.2, 19.45, 104.3, 69.7, 89.5, 86.05, 25.2, 35.15, 99.65, 105.35, 35.15, 73.75, 101.35, 24.3, 80.7, 89.85, 61.1, 29.05, 99.7, 55.9, 105.9, 46.0, 43.95, 80.4, 100.05, 45.1, 94.0, 68.95, 68.45, 69.0, 43.85, 44.5, 18.7, 70.25, 55.35, 53.55, 114.6, 20.1, 85.5, 108.75, 103.0, 97.85, 19.55, 84.05, 103.75, 89.4, 19.7, 79.85, 74.45, 74.1, 69.35, 18.8, 73.85, 64.4, 55.8, 20.05, 75.15, 99.15, 56.75, 69.6, 104.15, 110.8, 80.15, 35.75, 69.9, 89.2, 55.65, 50.7, 20.0, 30.5, 19.1, 98.3, 45.55, 101.05, 103.7, 36.25, 49.4, 19.9, 107.4, 82.0, 19.8, 45.05, 64.55, 86.25, 19.75, 89.1, 95.55, 75.4, 101.25, 102.6, 56.3, 94.2, 43.05, 89.5, 74.4, 20.5, 74.35, 99.75, 111.95, 94.0, 98.85, 64.35, 72.0, 49.7, 80.7, 24.2, 39.0, 65.45, 74.35, 83.2, 25.0, 40.2, 94.1, 108.35, 69.5, 76.0, 93.6, 95.65, 100.55, 88.05, 24.45, 89.55, 66.5, 76.1, 80.5, 35.45, 20.55, 49.9, 105.4, 35.75, 95.1, 19.3, 104.5, 63.1, 75.05, 81.0, 74.45, 60.4, 84.95, 93.4, 89.2, 85.2, 49.95, 20.65, 70.65, 20.15, 19.2, 59.8, 104.95, 103.5, 84.8, 95.05, 44.2, 73.35, 64.1, 44.4, 20.05, 60.0, 75.75, 69.5, 102.95, 78.7, 60.65, 21.15, 84.8, 103.2, 29.6, 74.4, 105.65], \"yaxis\": \"y\"}],\n",
       "                        {\"legend\": {\"tracegroupgap\": 0}, \"margin\": {\"t\": 60}, \"template\": {\"data\": {\"bar\": [{\"error_x\": {\"color\": \"#2a3f5f\"}, \"error_y\": {\"color\": \"#2a3f5f\"}, \"marker\": {\"line\": {\"color\": \"#E5ECF6\", \"width\": 0.5}}, \"type\": \"bar\"}], \"barpolar\": [{\"marker\": {\"line\": {\"color\": \"#E5ECF6\", \"width\": 0.5}}, \"type\": \"barpolar\"}], \"carpet\": [{\"aaxis\": {\"endlinecolor\": \"#2a3f5f\", \"gridcolor\": \"white\", \"linecolor\": \"white\", \"minorgridcolor\": \"white\", \"startlinecolor\": \"#2a3f5f\"}, \"baxis\": {\"endlinecolor\": \"#2a3f5f\", \"gridcolor\": \"white\", \"linecolor\": \"white\", \"minorgridcolor\": \"white\", \"startlinecolor\": \"#2a3f5f\"}, \"type\": \"carpet\"}], \"choropleth\": [{\"colorbar\": {\"outlinewidth\": 0, \"ticks\": \"\"}, \"type\": \"choropleth\"}], \"contour\": [{\"colorbar\": {\"outlinewidth\": 0, \"ticks\": \"\"}, \"colorscale\": [[0.0, \"#0d0887\"], [0.1111111111111111, \"#46039f\"], [0.2222222222222222, \"#7201a8\"], [0.3333333333333333, \"#9c179e\"], [0.4444444444444444, \"#bd3786\"], [0.5555555555555556, \"#d8576b\"], [0.6666666666666666, \"#ed7953\"], [0.7777777777777778, \"#fb9f3a\"], [0.8888888888888888, \"#fdca26\"], [1.0, \"#f0f921\"]], \"type\": \"contour\"}], \"contourcarpet\": [{\"colorbar\": {\"outlinewidth\": 0, \"ticks\": \"\"}, \"type\": \"contourcarpet\"}], \"heatmap\": [{\"colorbar\": {\"outlinewidth\": 0, \"ticks\": \"\"}, \"colorscale\": [[0.0, \"#0d0887\"], [0.1111111111111111, \"#46039f\"], [0.2222222222222222, \"#7201a8\"], [0.3333333333333333, \"#9c179e\"], [0.4444444444444444, \"#bd3786\"], [0.5555555555555556, \"#d8576b\"], [0.6666666666666666, \"#ed7953\"], [0.7777777777777778, \"#fb9f3a\"], [0.8888888888888888, \"#fdca26\"], [1.0, \"#f0f921\"]], \"type\": \"heatmap\"}], \"heatmapgl\": [{\"colorbar\": {\"outlinewidth\": 0, \"ticks\": \"\"}, \"colorscale\": [[0.0, \"#0d0887\"], [0.1111111111111111, \"#46039f\"], [0.2222222222222222, \"#7201a8\"], [0.3333333333333333, \"#9c179e\"], [0.4444444444444444, \"#bd3786\"], [0.5555555555555556, \"#d8576b\"], [0.6666666666666666, \"#ed7953\"], [0.7777777777777778, \"#fb9f3a\"], [0.8888888888888888, \"#fdca26\"], [1.0, \"#f0f921\"]], \"type\": \"heatmapgl\"}], \"histogram\": [{\"marker\": {\"colorbar\": {\"outlinewidth\": 0, \"ticks\": \"\"}}, \"type\": \"histogram\"}], \"histogram2d\": [{\"colorbar\": {\"outlinewidth\": 0, \"ticks\": \"\"}, \"colorscale\": [[0.0, \"#0d0887\"], [0.1111111111111111, \"#46039f\"], [0.2222222222222222, \"#7201a8\"], [0.3333333333333333, \"#9c179e\"], [0.4444444444444444, \"#bd3786\"], [0.5555555555555556, \"#d8576b\"], [0.6666666666666666, \"#ed7953\"], [0.7777777777777778, \"#fb9f3a\"], [0.8888888888888888, \"#fdca26\"], [1.0, \"#f0f921\"]], \"type\": \"histogram2d\"}], \"histogram2dcontour\": [{\"colorbar\": {\"outlinewidth\": 0, \"ticks\": \"\"}, \"colorscale\": [[0.0, \"#0d0887\"], [0.1111111111111111, \"#46039f\"], [0.2222222222222222, \"#7201a8\"], [0.3333333333333333, \"#9c179e\"], [0.4444444444444444, \"#bd3786\"], [0.5555555555555556, \"#d8576b\"], [0.6666666666666666, \"#ed7953\"], [0.7777777777777778, \"#fb9f3a\"], [0.8888888888888888, \"#fdca26\"], [1.0, \"#f0f921\"]], \"type\": \"histogram2dcontour\"}], \"mesh3d\": [{\"colorbar\": {\"outlinewidth\": 0, \"ticks\": \"\"}, \"type\": \"mesh3d\"}], \"parcoords\": [{\"line\": {\"colorbar\": {\"outlinewidth\": 0, \"ticks\": \"\"}}, \"type\": \"parcoords\"}], \"pie\": [{\"automargin\": true, \"type\": \"pie\"}], \"scatter\": [{\"marker\": {\"colorbar\": {\"outlinewidth\": 0, \"ticks\": \"\"}}, \"type\": \"scatter\"}], \"scatter3d\": [{\"line\": {\"colorbar\": {\"outlinewidth\": 0, \"ticks\": \"\"}}, \"marker\": {\"colorbar\": {\"outlinewidth\": 0, \"ticks\": \"\"}}, \"type\": \"scatter3d\"}], \"scattercarpet\": [{\"marker\": {\"colorbar\": {\"outlinewidth\": 0, \"ticks\": \"\"}}, \"type\": \"scattercarpet\"}], \"scattergeo\": [{\"marker\": {\"colorbar\": {\"outlinewidth\": 0, \"ticks\": \"\"}}, \"type\": \"scattergeo\"}], \"scattergl\": [{\"marker\": {\"colorbar\": {\"outlinewidth\": 0, \"ticks\": \"\"}}, \"type\": \"scattergl\"}], \"scattermapbox\": [{\"marker\": {\"colorbar\": {\"outlinewidth\": 0, \"ticks\": \"\"}}, \"type\": \"scattermapbox\"}], \"scatterpolar\": [{\"marker\": {\"colorbar\": {\"outlinewidth\": 0, \"ticks\": \"\"}}, \"type\": \"scatterpolar\"}], \"scatterpolargl\": [{\"marker\": {\"colorbar\": {\"outlinewidth\": 0, \"ticks\": \"\"}}, \"type\": \"scatterpolargl\"}], \"scatterternary\": [{\"marker\": {\"colorbar\": {\"outlinewidth\": 0, \"ticks\": \"\"}}, \"type\": \"scatterternary\"}], \"surface\": [{\"colorbar\": {\"outlinewidth\": 0, \"ticks\": \"\"}, \"colorscale\": [[0.0, \"#0d0887\"], [0.1111111111111111, \"#46039f\"], [0.2222222222222222, \"#7201a8\"], [0.3333333333333333, \"#9c179e\"], [0.4444444444444444, \"#bd3786\"], [0.5555555555555556, \"#d8576b\"], [0.6666666666666666, \"#ed7953\"], [0.7777777777777778, \"#fb9f3a\"], [0.8888888888888888, \"#fdca26\"], [1.0, \"#f0f921\"]], \"type\": \"surface\"}], \"table\": [{\"cells\": {\"fill\": {\"color\": \"#EBF0F8\"}, \"line\": {\"color\": \"white\"}}, \"header\": {\"fill\": {\"color\": \"#C8D4E3\"}, \"line\": {\"color\": \"white\"}}, \"type\": \"table\"}]}, \"layout\": {\"annotationdefaults\": {\"arrowcolor\": \"#2a3f5f\", \"arrowhead\": 0, \"arrowwidth\": 1}, \"coloraxis\": {\"colorbar\": {\"outlinewidth\": 0, \"ticks\": \"\"}}, \"colorscale\": {\"diverging\": [[0, \"#8e0152\"], [0.1, \"#c51b7d\"], [0.2, \"#de77ae\"], [0.3, \"#f1b6da\"], [0.4, \"#fde0ef\"], [0.5, \"#f7f7f7\"], [0.6, \"#e6f5d0\"], [0.7, \"#b8e186\"], [0.8, \"#7fbc41\"], [0.9, \"#4d9221\"], [1, \"#276419\"]], \"sequential\": [[0.0, \"#0d0887\"], [0.1111111111111111, \"#46039f\"], [0.2222222222222222, \"#7201a8\"], [0.3333333333333333, \"#9c179e\"], [0.4444444444444444, \"#bd3786\"], [0.5555555555555556, \"#d8576b\"], [0.6666666666666666, \"#ed7953\"], [0.7777777777777778, \"#fb9f3a\"], [0.8888888888888888, \"#fdca26\"], [1.0, \"#f0f921\"]], \"sequentialminus\": [[0.0, \"#0d0887\"], [0.1111111111111111, \"#46039f\"], [0.2222222222222222, \"#7201a8\"], [0.3333333333333333, \"#9c179e\"], [0.4444444444444444, \"#bd3786\"], [0.5555555555555556, \"#d8576b\"], [0.6666666666666666, \"#ed7953\"], [0.7777777777777778, \"#fb9f3a\"], [0.8888888888888888, \"#fdca26\"], [1.0, \"#f0f921\"]]}, \"colorway\": [\"#636efa\", \"#EF553B\", \"#00cc96\", \"#ab63fa\", \"#FFA15A\", \"#19d3f3\", \"#FF6692\", \"#B6E880\", \"#FF97FF\", \"#FECB52\"], \"font\": {\"color\": \"#2a3f5f\"}, \"geo\": {\"bgcolor\": \"white\", \"lakecolor\": \"white\", \"landcolor\": \"#E5ECF6\", \"showlakes\": true, \"showland\": true, \"subunitcolor\": \"white\"}, \"hoverlabel\": {\"align\": \"left\"}, \"hovermode\": \"closest\", \"mapbox\": {\"style\": \"light\"}, \"paper_bgcolor\": \"white\", \"plot_bgcolor\": \"#E5ECF6\", \"polar\": {\"angularaxis\": {\"gridcolor\": \"white\", \"linecolor\": \"white\", \"ticks\": \"\"}, \"bgcolor\": \"#E5ECF6\", \"radialaxis\": {\"gridcolor\": \"white\", \"linecolor\": \"white\", \"ticks\": \"\"}}, \"scene\": {\"xaxis\": {\"backgroundcolor\": \"#E5ECF6\", \"gridcolor\": \"white\", \"gridwidth\": 2, \"linecolor\": \"white\", \"showbackground\": true, \"ticks\": \"\", \"zerolinecolor\": \"white\"}, \"yaxis\": {\"backgroundcolor\": \"#E5ECF6\", \"gridcolor\": \"white\", \"gridwidth\": 2, \"linecolor\": \"white\", \"showbackground\": true, \"ticks\": \"\", \"zerolinecolor\": \"white\"}, \"zaxis\": {\"backgroundcolor\": \"#E5ECF6\", \"gridcolor\": \"white\", \"gridwidth\": 2, \"linecolor\": \"white\", \"showbackground\": true, \"ticks\": \"\", \"zerolinecolor\": \"white\"}}, \"shapedefaults\": {\"line\": {\"color\": \"#2a3f5f\"}}, \"ternary\": {\"aaxis\": {\"gridcolor\": \"white\", \"linecolor\": \"white\", \"ticks\": \"\"}, \"baxis\": {\"gridcolor\": \"white\", \"linecolor\": \"white\", \"ticks\": \"\"}, \"bgcolor\": \"#E5ECF6\", \"caxis\": {\"gridcolor\": \"white\", \"linecolor\": \"white\", \"ticks\": \"\"}}, \"title\": {\"x\": 0.05}, \"xaxis\": {\"automargin\": true, \"gridcolor\": \"white\", \"linecolor\": \"white\", \"ticks\": \"\", \"title\": {\"standoff\": 15}, \"zerolinecolor\": \"white\", \"zerolinewidth\": 2}, \"yaxis\": {\"automargin\": true, \"gridcolor\": \"white\", \"linecolor\": \"white\", \"ticks\": \"\", \"title\": {\"standoff\": 15}, \"zerolinecolor\": \"white\", \"zerolinewidth\": 2}}}, \"xaxis\": {\"anchor\": \"y\", \"domain\": [0.0, 1.0], \"title\": {\"text\": \"tenure\"}}, \"yaxis\": {\"anchor\": \"x\", \"domain\": [0.0, 1.0], \"title\": {\"text\": \"MonthlyCharges\"}}},\n",
       "                        {\"responsive\": true}\n",
       "                    ).then(function(){\n",
       "                            \n",
       "var gd = document.getElementById('997b0993-ef30-4065-a000-5185d3da36b6');\n",
       "var x = new MutationObserver(function (mutations, observer) {{\n",
       "        var display = window.getComputedStyle(gd).display;\n",
       "        if (!display || display === 'none') {{\n",
       "            console.log([gd, 'removed!']);\n",
       "            Plotly.purge(gd);\n",
       "            observer.disconnect();\n",
       "        }}\n",
       "}});\n",
       "\n",
       "// Listen for the removal of the full notebook cells\n",
       "var notebookContainer = gd.closest('#notebook-container');\n",
       "if (notebookContainer) {{\n",
       "    x.observe(notebookContainer, {childList: true});\n",
       "}}\n",
       "\n",
       "// Listen for the clearing of the current output cell\n",
       "var outputEl = gd.closest('.output');\n",
       "if (outputEl) {{\n",
       "    x.observe(outputEl, {childList: true});\n",
       "}}\n",
       "\n",
       "                        })\n",
       "                };\n",
       "                });\n",
       "            </script>\n",
       "        </div>"
      ]
     },
     "metadata": {},
     "output_type": "display_data"
    }
   ],
   "source": [
    "px.scatter(x=data['tenure'],y=data['MonthlyCharges'],labels={'x':'tenure','y':'MonthlyCharges'})"
   ]
  },
  {
   "cell_type": "code",
   "execution_count": 14,
   "metadata": {
    "execution": {
     "iopub.execute_input": "2020-09-11T16:25:58.019704Z",
     "iopub.status.busy": "2020-09-11T16:25:58.018691Z",
     "iopub.status.idle": "2020-09-11T16:25:58.069944Z",
     "shell.execute_reply": "2020-09-11T16:25:58.070488Z"
    },
    "id": "ZGthpiMzJGGe",
    "outputId": "22f43ee2-f90d-45c4-cef4-d750db7f683d",
    "papermill": {
     "duration": 0.108436,
     "end_time": "2020-09-11T16:25:58.070638",
     "exception": false,
     "start_time": "2020-09-11T16:25:57.962202",
     "status": "completed"
    },
    "tags": []
   },
   "outputs": [
    {
     "data": {
      "text/html": [
       "<div>\n",
       "        \n",
       "        \n",
       "            <div id=\"9bd39ba2-4a51-4297-8836-0006f17bb8b8\" class=\"plotly-graph-div\" style=\"height:525px; width:100%;\"></div>\n",
       "            <script type=\"text/javascript\">\n",
       "                require([\"plotly\"], function(Plotly) {\n",
       "                    window.PLOTLYENV=window.PLOTLYENV || {};\n",
       "                    \n",
       "                if (document.getElementById(\"9bd39ba2-4a51-4297-8836-0006f17bb8b8\")) {\n",
       "                    Plotly.newPlot(\n",
       "                        '9bd39ba2-4a51-4297-8836-0006f17bb8b8',\n",
       "                        [{\"domain\": {\"x\": [0.0, 1.0], \"y\": [0.0, 1.0]}, \"hovertemplate\": \"label=%{label}<br>value=%{value}<extra></extra>\", \"labels\": [\"No\", \"Yes\"], \"legendgroup\": \"\", \"name\": \"\", \"showlegend\": true, \"type\": \"pie\", \"values\": [1020294.9499999995, 15035873.75000004]}],\n",
       "                        {\"legend\": {\"tracegroupgap\": 0}, \"margin\": {\"t\": 60}, \"template\": {\"data\": {\"bar\": [{\"error_x\": {\"color\": \"#2a3f5f\"}, \"error_y\": {\"color\": \"#2a3f5f\"}, \"marker\": {\"line\": {\"color\": \"#E5ECF6\", \"width\": 0.5}}, \"type\": \"bar\"}], \"barpolar\": [{\"marker\": {\"line\": {\"color\": \"#E5ECF6\", \"width\": 0.5}}, \"type\": \"barpolar\"}], \"carpet\": [{\"aaxis\": {\"endlinecolor\": \"#2a3f5f\", \"gridcolor\": \"white\", \"linecolor\": \"white\", \"minorgridcolor\": \"white\", \"startlinecolor\": \"#2a3f5f\"}, \"baxis\": {\"endlinecolor\": \"#2a3f5f\", \"gridcolor\": \"white\", \"linecolor\": \"white\", \"minorgridcolor\": \"white\", \"startlinecolor\": \"#2a3f5f\"}, \"type\": \"carpet\"}], \"choropleth\": [{\"colorbar\": {\"outlinewidth\": 0, \"ticks\": \"\"}, \"type\": \"choropleth\"}], \"contour\": [{\"colorbar\": {\"outlinewidth\": 0, \"ticks\": \"\"}, \"colorscale\": [[0.0, \"#0d0887\"], [0.1111111111111111, \"#46039f\"], [0.2222222222222222, \"#7201a8\"], [0.3333333333333333, \"#9c179e\"], [0.4444444444444444, \"#bd3786\"], [0.5555555555555556, \"#d8576b\"], [0.6666666666666666, \"#ed7953\"], [0.7777777777777778, \"#fb9f3a\"], [0.8888888888888888, \"#fdca26\"], [1.0, \"#f0f921\"]], \"type\": \"contour\"}], \"contourcarpet\": [{\"colorbar\": {\"outlinewidth\": 0, \"ticks\": \"\"}, \"type\": \"contourcarpet\"}], \"heatmap\": [{\"colorbar\": {\"outlinewidth\": 0, \"ticks\": \"\"}, \"colorscale\": [[0.0, \"#0d0887\"], [0.1111111111111111, \"#46039f\"], [0.2222222222222222, \"#7201a8\"], [0.3333333333333333, \"#9c179e\"], [0.4444444444444444, \"#bd3786\"], [0.5555555555555556, \"#d8576b\"], [0.6666666666666666, \"#ed7953\"], [0.7777777777777778, \"#fb9f3a\"], [0.8888888888888888, \"#fdca26\"], [1.0, \"#f0f921\"]], \"type\": \"heatmap\"}], \"heatmapgl\": [{\"colorbar\": {\"outlinewidth\": 0, \"ticks\": \"\"}, \"colorscale\": [[0.0, \"#0d0887\"], [0.1111111111111111, \"#46039f\"], [0.2222222222222222, \"#7201a8\"], [0.3333333333333333, \"#9c179e\"], [0.4444444444444444, \"#bd3786\"], [0.5555555555555556, \"#d8576b\"], [0.6666666666666666, \"#ed7953\"], [0.7777777777777778, \"#fb9f3a\"], [0.8888888888888888, \"#fdca26\"], [1.0, \"#f0f921\"]], \"type\": \"heatmapgl\"}], \"histogram\": [{\"marker\": {\"colorbar\": {\"outlinewidth\": 0, \"ticks\": \"\"}}, \"type\": \"histogram\"}], \"histogram2d\": [{\"colorbar\": {\"outlinewidth\": 0, \"ticks\": \"\"}, \"colorscale\": [[0.0, \"#0d0887\"], [0.1111111111111111, \"#46039f\"], [0.2222222222222222, \"#7201a8\"], [0.3333333333333333, \"#9c179e\"], [0.4444444444444444, \"#bd3786\"], [0.5555555555555556, \"#d8576b\"], [0.6666666666666666, \"#ed7953\"], [0.7777777777777778, \"#fb9f3a\"], [0.8888888888888888, \"#fdca26\"], [1.0, \"#f0f921\"]], \"type\": \"histogram2d\"}], \"histogram2dcontour\": [{\"colorbar\": {\"outlinewidth\": 0, \"ticks\": \"\"}, \"colorscale\": [[0.0, \"#0d0887\"], [0.1111111111111111, \"#46039f\"], [0.2222222222222222, \"#7201a8\"], [0.3333333333333333, \"#9c179e\"], [0.4444444444444444, \"#bd3786\"], [0.5555555555555556, \"#d8576b\"], [0.6666666666666666, \"#ed7953\"], [0.7777777777777778, \"#fb9f3a\"], [0.8888888888888888, \"#fdca26\"], [1.0, \"#f0f921\"]], \"type\": \"histogram2dcontour\"}], \"mesh3d\": [{\"colorbar\": {\"outlinewidth\": 0, \"ticks\": \"\"}, \"type\": \"mesh3d\"}], \"parcoords\": [{\"line\": {\"colorbar\": {\"outlinewidth\": 0, \"ticks\": \"\"}}, \"type\": \"parcoords\"}], \"pie\": [{\"automargin\": true, \"type\": \"pie\"}], \"scatter\": [{\"marker\": {\"colorbar\": {\"outlinewidth\": 0, \"ticks\": \"\"}}, \"type\": \"scatter\"}], \"scatter3d\": [{\"line\": {\"colorbar\": {\"outlinewidth\": 0, \"ticks\": \"\"}}, \"marker\": {\"colorbar\": {\"outlinewidth\": 0, \"ticks\": \"\"}}, \"type\": \"scatter3d\"}], \"scattercarpet\": [{\"marker\": {\"colorbar\": {\"outlinewidth\": 0, \"ticks\": \"\"}}, \"type\": \"scattercarpet\"}], \"scattergeo\": [{\"marker\": {\"colorbar\": {\"outlinewidth\": 0, \"ticks\": \"\"}}, \"type\": \"scattergeo\"}], \"scattergl\": [{\"marker\": {\"colorbar\": {\"outlinewidth\": 0, \"ticks\": \"\"}}, \"type\": \"scattergl\"}], \"scattermapbox\": [{\"marker\": {\"colorbar\": {\"outlinewidth\": 0, \"ticks\": \"\"}}, \"type\": \"scattermapbox\"}], \"scatterpolar\": [{\"marker\": {\"colorbar\": {\"outlinewidth\": 0, \"ticks\": \"\"}}, \"type\": \"scatterpolar\"}], \"scatterpolargl\": [{\"marker\": {\"colorbar\": {\"outlinewidth\": 0, \"ticks\": \"\"}}, \"type\": \"scatterpolargl\"}], \"scatterternary\": [{\"marker\": {\"colorbar\": {\"outlinewidth\": 0, \"ticks\": \"\"}}, \"type\": \"scatterternary\"}], \"surface\": [{\"colorbar\": {\"outlinewidth\": 0, \"ticks\": \"\"}, \"colorscale\": [[0.0, \"#0d0887\"], [0.1111111111111111, \"#46039f\"], [0.2222222222222222, \"#7201a8\"], [0.3333333333333333, \"#9c179e\"], [0.4444444444444444, \"#bd3786\"], [0.5555555555555556, \"#d8576b\"], [0.6666666666666666, \"#ed7953\"], [0.7777777777777778, \"#fb9f3a\"], [0.8888888888888888, \"#fdca26\"], [1.0, \"#f0f921\"]], \"type\": \"surface\"}], \"table\": [{\"cells\": {\"fill\": {\"color\": \"#EBF0F8\"}, \"line\": {\"color\": \"white\"}}, \"header\": {\"fill\": {\"color\": \"#C8D4E3\"}, \"line\": {\"color\": \"white\"}}, \"type\": \"table\"}]}, \"layout\": {\"annotationdefaults\": {\"arrowcolor\": \"#2a3f5f\", \"arrowhead\": 0, \"arrowwidth\": 1}, \"coloraxis\": {\"colorbar\": {\"outlinewidth\": 0, \"ticks\": \"\"}}, \"colorscale\": {\"diverging\": [[0, \"#8e0152\"], [0.1, \"#c51b7d\"], [0.2, \"#de77ae\"], [0.3, \"#f1b6da\"], [0.4, \"#fde0ef\"], [0.5, \"#f7f7f7\"], [0.6, \"#e6f5d0\"], [0.7, \"#b8e186\"], [0.8, \"#7fbc41\"], [0.9, \"#4d9221\"], [1, \"#276419\"]], \"sequential\": [[0.0, \"#0d0887\"], [0.1111111111111111, \"#46039f\"], [0.2222222222222222, \"#7201a8\"], [0.3333333333333333, \"#9c179e\"], [0.4444444444444444, \"#bd3786\"], [0.5555555555555556, \"#d8576b\"], [0.6666666666666666, \"#ed7953\"], [0.7777777777777778, \"#fb9f3a\"], [0.8888888888888888, \"#fdca26\"], [1.0, \"#f0f921\"]], \"sequentialminus\": [[0.0, \"#0d0887\"], [0.1111111111111111, \"#46039f\"], [0.2222222222222222, \"#7201a8\"], [0.3333333333333333, \"#9c179e\"], [0.4444444444444444, \"#bd3786\"], [0.5555555555555556, \"#d8576b\"], [0.6666666666666666, \"#ed7953\"], [0.7777777777777778, \"#fb9f3a\"], [0.8888888888888888, \"#fdca26\"], [1.0, \"#f0f921\"]]}, \"colorway\": [\"#636efa\", \"#EF553B\", \"#00cc96\", \"#ab63fa\", \"#FFA15A\", \"#19d3f3\", \"#FF6692\", \"#B6E880\", \"#FF97FF\", \"#FECB52\"], \"font\": {\"color\": \"#2a3f5f\"}, \"geo\": {\"bgcolor\": \"white\", \"lakecolor\": \"white\", \"landcolor\": \"#E5ECF6\", \"showlakes\": true, \"showland\": true, \"subunitcolor\": \"white\"}, \"hoverlabel\": {\"align\": \"left\"}, \"hovermode\": \"closest\", \"mapbox\": {\"style\": \"light\"}, \"paper_bgcolor\": \"white\", \"plot_bgcolor\": \"#E5ECF6\", \"polar\": {\"angularaxis\": {\"gridcolor\": \"white\", \"linecolor\": \"white\", \"ticks\": \"\"}, \"bgcolor\": \"#E5ECF6\", \"radialaxis\": {\"gridcolor\": \"white\", \"linecolor\": \"white\", \"ticks\": \"\"}}, \"scene\": {\"xaxis\": {\"backgroundcolor\": \"#E5ECF6\", \"gridcolor\": \"white\", \"gridwidth\": 2, \"linecolor\": \"white\", \"showbackground\": true, \"ticks\": \"\", \"zerolinecolor\": \"white\"}, \"yaxis\": {\"backgroundcolor\": \"#E5ECF6\", \"gridcolor\": \"white\", \"gridwidth\": 2, \"linecolor\": \"white\", \"showbackground\": true, \"ticks\": \"\", \"zerolinecolor\": \"white\"}, \"zaxis\": {\"backgroundcolor\": \"#E5ECF6\", \"gridcolor\": \"white\", \"gridwidth\": 2, \"linecolor\": \"white\", \"showbackground\": true, \"ticks\": \"\", \"zerolinecolor\": \"white\"}}, \"shapedefaults\": {\"line\": {\"color\": \"#2a3f5f\"}}, \"ternary\": {\"aaxis\": {\"gridcolor\": \"white\", \"linecolor\": \"white\", \"ticks\": \"\"}, \"baxis\": {\"gridcolor\": \"white\", \"linecolor\": \"white\", \"ticks\": \"\"}, \"bgcolor\": \"#E5ECF6\", \"caxis\": {\"gridcolor\": \"white\", \"linecolor\": \"white\", \"ticks\": \"\"}}, \"title\": {\"x\": 0.05}, \"xaxis\": {\"automargin\": true, \"gridcolor\": \"white\", \"linecolor\": \"white\", \"ticks\": \"\", \"title\": {\"standoff\": 15}, \"zerolinecolor\": \"white\", \"zerolinewidth\": 2}, \"yaxis\": {\"automargin\": true, \"gridcolor\": \"white\", \"linecolor\": \"white\", \"ticks\": \"\", \"title\": {\"standoff\": 15}, \"zerolinecolor\": \"white\", \"zerolinewidth\": 2}}}},\n",
       "                        {\"responsive\": true}\n",
       "                    ).then(function(){\n",
       "                            \n",
       "var gd = document.getElementById('9bd39ba2-4a51-4297-8836-0006f17bb8b8');\n",
       "var x = new MutationObserver(function (mutations, observer) {{\n",
       "        var display = window.getComputedStyle(gd).display;\n",
       "        if (!display || display === 'none') {{\n",
       "            console.log([gd, 'removed!']);\n",
       "            Plotly.purge(gd);\n",
       "            observer.disconnect();\n",
       "        }}\n",
       "}});\n",
       "\n",
       "// Listen for the removal of the full notebook cells\n",
       "var notebookContainer = gd.closest('#notebook-container');\n",
       "if (notebookContainer) {{\n",
       "    x.observe(notebookContainer, {childList: true});\n",
       "}}\n",
       "\n",
       "// Listen for the clearing of the current output cell\n",
       "var outputEl = gd.closest('.output');\n",
       "if (outputEl) {{\n",
       "    x.observe(outputEl, {childList: true});\n",
       "}}\n",
       "\n",
       "                        })\n",
       "                };\n",
       "                });\n",
       "            </script>\n",
       "        </div>"
      ]
     },
     "metadata": {},
     "output_type": "display_data"
    }
   ],
   "source": [
    "ps = data.groupby('PhoneService').sum()\n",
    "ps.reset_index(inplace=True)\n",
    "px.pie(names=ps['PhoneService'],values=ps['TotalCharges'])"
   ]
  },
  {
   "cell_type": "code",
   "execution_count": 15,
   "metadata": {
    "execution": {
     "iopub.execute_input": "2020-09-11T16:25:58.184808Z",
     "iopub.status.busy": "2020-09-11T16:25:58.184099Z",
     "iopub.status.idle": "2020-09-11T16:25:58.230106Z",
     "shell.execute_reply": "2020-09-11T16:25:58.230602Z"
    },
    "id": "MQ6Qe113KA_1",
    "outputId": "6f8231a2-9eea-48d9-bad6-a712dacdea5c",
    "papermill": {
     "duration": 0.10676,
     "end_time": "2020-09-11T16:25:58.230801",
     "exception": false,
     "start_time": "2020-09-11T16:25:58.124041",
     "status": "completed"
    },
    "tags": []
   },
   "outputs": [
    {
     "data": {
      "text/html": [
       "<div>\n",
       "        \n",
       "        \n",
       "            <div id=\"bf69ba53-ec5a-4e69-bf81-8f4e39fdec17\" class=\"plotly-graph-div\" style=\"height:525px; width:100%;\"></div>\n",
       "            <script type=\"text/javascript\">\n",
       "                require([\"plotly\"], function(Plotly) {\n",
       "                    window.PLOTLYENV=window.PLOTLYENV || {};\n",
       "                    \n",
       "                if (document.getElementById(\"bf69ba53-ec5a-4e69-bf81-8f4e39fdec17\")) {\n",
       "                    Plotly.newPlot(\n",
       "                        'bf69ba53-ec5a-4e69-bf81-8f4e39fdec17',\n",
       "                        [{\"domain\": {\"x\": [0.0, 1.0], \"y\": [0.0, 1.0]}, \"hovertemplate\": \"label=%{label}<br>value=%{value}<extra></extra>\", \"labels\": [\"No\", \"No phone service\", \"Yes\"], \"legendgroup\": \"\", \"name\": \"\", \"showlegend\": true, \"type\": \"pie\", \"values\": [4569184.899999993, 1020294.9499999995, 10466688.850000016]}],\n",
       "                        {\"legend\": {\"tracegroupgap\": 0}, \"margin\": {\"t\": 60}, \"template\": {\"data\": {\"bar\": [{\"error_x\": {\"color\": \"#2a3f5f\"}, \"error_y\": {\"color\": \"#2a3f5f\"}, \"marker\": {\"line\": {\"color\": \"#E5ECF6\", \"width\": 0.5}}, \"type\": \"bar\"}], \"barpolar\": [{\"marker\": {\"line\": {\"color\": \"#E5ECF6\", \"width\": 0.5}}, \"type\": \"barpolar\"}], \"carpet\": [{\"aaxis\": {\"endlinecolor\": \"#2a3f5f\", \"gridcolor\": \"white\", \"linecolor\": \"white\", \"minorgridcolor\": \"white\", \"startlinecolor\": \"#2a3f5f\"}, \"baxis\": {\"endlinecolor\": \"#2a3f5f\", \"gridcolor\": \"white\", \"linecolor\": \"white\", \"minorgridcolor\": \"white\", \"startlinecolor\": \"#2a3f5f\"}, \"type\": \"carpet\"}], \"choropleth\": [{\"colorbar\": {\"outlinewidth\": 0, \"ticks\": \"\"}, \"type\": \"choropleth\"}], \"contour\": [{\"colorbar\": {\"outlinewidth\": 0, \"ticks\": \"\"}, \"colorscale\": [[0.0, \"#0d0887\"], [0.1111111111111111, \"#46039f\"], [0.2222222222222222, \"#7201a8\"], [0.3333333333333333, \"#9c179e\"], [0.4444444444444444, \"#bd3786\"], [0.5555555555555556, \"#d8576b\"], [0.6666666666666666, \"#ed7953\"], [0.7777777777777778, \"#fb9f3a\"], [0.8888888888888888, \"#fdca26\"], [1.0, \"#f0f921\"]], \"type\": \"contour\"}], \"contourcarpet\": [{\"colorbar\": {\"outlinewidth\": 0, \"ticks\": \"\"}, \"type\": \"contourcarpet\"}], \"heatmap\": [{\"colorbar\": {\"outlinewidth\": 0, \"ticks\": \"\"}, \"colorscale\": [[0.0, \"#0d0887\"], [0.1111111111111111, \"#46039f\"], [0.2222222222222222, \"#7201a8\"], [0.3333333333333333, \"#9c179e\"], [0.4444444444444444, \"#bd3786\"], [0.5555555555555556, \"#d8576b\"], [0.6666666666666666, \"#ed7953\"], [0.7777777777777778, \"#fb9f3a\"], [0.8888888888888888, \"#fdca26\"], [1.0, \"#f0f921\"]], \"type\": \"heatmap\"}], \"heatmapgl\": [{\"colorbar\": {\"outlinewidth\": 0, \"ticks\": \"\"}, \"colorscale\": [[0.0, \"#0d0887\"], [0.1111111111111111, \"#46039f\"], [0.2222222222222222, \"#7201a8\"], [0.3333333333333333, \"#9c179e\"], [0.4444444444444444, \"#bd3786\"], [0.5555555555555556, \"#d8576b\"], [0.6666666666666666, \"#ed7953\"], [0.7777777777777778, \"#fb9f3a\"], [0.8888888888888888, \"#fdca26\"], [1.0, \"#f0f921\"]], \"type\": \"heatmapgl\"}], \"histogram\": [{\"marker\": {\"colorbar\": {\"outlinewidth\": 0, \"ticks\": \"\"}}, \"type\": \"histogram\"}], \"histogram2d\": [{\"colorbar\": {\"outlinewidth\": 0, \"ticks\": \"\"}, \"colorscale\": [[0.0, \"#0d0887\"], [0.1111111111111111, \"#46039f\"], [0.2222222222222222, \"#7201a8\"], [0.3333333333333333, \"#9c179e\"], [0.4444444444444444, \"#bd3786\"], [0.5555555555555556, \"#d8576b\"], [0.6666666666666666, \"#ed7953\"], [0.7777777777777778, \"#fb9f3a\"], [0.8888888888888888, \"#fdca26\"], [1.0, \"#f0f921\"]], \"type\": \"histogram2d\"}], \"histogram2dcontour\": [{\"colorbar\": {\"outlinewidth\": 0, \"ticks\": \"\"}, \"colorscale\": [[0.0, \"#0d0887\"], [0.1111111111111111, \"#46039f\"], [0.2222222222222222, \"#7201a8\"], [0.3333333333333333, \"#9c179e\"], [0.4444444444444444, \"#bd3786\"], [0.5555555555555556, \"#d8576b\"], [0.6666666666666666, \"#ed7953\"], [0.7777777777777778, \"#fb9f3a\"], [0.8888888888888888, \"#fdca26\"], [1.0, \"#f0f921\"]], \"type\": \"histogram2dcontour\"}], \"mesh3d\": [{\"colorbar\": {\"outlinewidth\": 0, \"ticks\": \"\"}, \"type\": \"mesh3d\"}], \"parcoords\": [{\"line\": {\"colorbar\": {\"outlinewidth\": 0, \"ticks\": \"\"}}, \"type\": \"parcoords\"}], \"pie\": [{\"automargin\": true, \"type\": \"pie\"}], \"scatter\": [{\"marker\": {\"colorbar\": {\"outlinewidth\": 0, \"ticks\": \"\"}}, \"type\": \"scatter\"}], \"scatter3d\": [{\"line\": {\"colorbar\": {\"outlinewidth\": 0, \"ticks\": \"\"}}, \"marker\": {\"colorbar\": {\"outlinewidth\": 0, \"ticks\": \"\"}}, \"type\": \"scatter3d\"}], \"scattercarpet\": [{\"marker\": {\"colorbar\": {\"outlinewidth\": 0, \"ticks\": \"\"}}, \"type\": \"scattercarpet\"}], \"scattergeo\": [{\"marker\": {\"colorbar\": {\"outlinewidth\": 0, \"ticks\": \"\"}}, \"type\": \"scattergeo\"}], \"scattergl\": [{\"marker\": {\"colorbar\": {\"outlinewidth\": 0, \"ticks\": \"\"}}, \"type\": \"scattergl\"}], \"scattermapbox\": [{\"marker\": {\"colorbar\": {\"outlinewidth\": 0, \"ticks\": \"\"}}, \"type\": \"scattermapbox\"}], \"scatterpolar\": [{\"marker\": {\"colorbar\": {\"outlinewidth\": 0, \"ticks\": \"\"}}, \"type\": \"scatterpolar\"}], \"scatterpolargl\": [{\"marker\": {\"colorbar\": {\"outlinewidth\": 0, \"ticks\": \"\"}}, \"type\": \"scatterpolargl\"}], \"scatterternary\": [{\"marker\": {\"colorbar\": {\"outlinewidth\": 0, \"ticks\": \"\"}}, \"type\": \"scatterternary\"}], \"surface\": [{\"colorbar\": {\"outlinewidth\": 0, \"ticks\": \"\"}, \"colorscale\": [[0.0, \"#0d0887\"], [0.1111111111111111, \"#46039f\"], [0.2222222222222222, \"#7201a8\"], [0.3333333333333333, \"#9c179e\"], [0.4444444444444444, \"#bd3786\"], [0.5555555555555556, \"#d8576b\"], [0.6666666666666666, \"#ed7953\"], [0.7777777777777778, \"#fb9f3a\"], [0.8888888888888888, \"#fdca26\"], [1.0, \"#f0f921\"]], \"type\": \"surface\"}], \"table\": [{\"cells\": {\"fill\": {\"color\": \"#EBF0F8\"}, \"line\": {\"color\": \"white\"}}, \"header\": {\"fill\": {\"color\": \"#C8D4E3\"}, \"line\": {\"color\": \"white\"}}, \"type\": \"table\"}]}, \"layout\": {\"annotationdefaults\": {\"arrowcolor\": \"#2a3f5f\", \"arrowhead\": 0, \"arrowwidth\": 1}, \"coloraxis\": {\"colorbar\": {\"outlinewidth\": 0, \"ticks\": \"\"}}, \"colorscale\": {\"diverging\": [[0, \"#8e0152\"], [0.1, \"#c51b7d\"], [0.2, \"#de77ae\"], [0.3, \"#f1b6da\"], [0.4, \"#fde0ef\"], [0.5, \"#f7f7f7\"], [0.6, \"#e6f5d0\"], [0.7, \"#b8e186\"], [0.8, \"#7fbc41\"], [0.9, \"#4d9221\"], [1, \"#276419\"]], \"sequential\": [[0.0, \"#0d0887\"], [0.1111111111111111, \"#46039f\"], [0.2222222222222222, \"#7201a8\"], [0.3333333333333333, \"#9c179e\"], [0.4444444444444444, \"#bd3786\"], [0.5555555555555556, \"#d8576b\"], [0.6666666666666666, \"#ed7953\"], [0.7777777777777778, \"#fb9f3a\"], [0.8888888888888888, \"#fdca26\"], [1.0, \"#f0f921\"]], \"sequentialminus\": [[0.0, \"#0d0887\"], [0.1111111111111111, \"#46039f\"], [0.2222222222222222, \"#7201a8\"], [0.3333333333333333, \"#9c179e\"], [0.4444444444444444, \"#bd3786\"], [0.5555555555555556, \"#d8576b\"], [0.6666666666666666, \"#ed7953\"], [0.7777777777777778, \"#fb9f3a\"], [0.8888888888888888, \"#fdca26\"], [1.0, \"#f0f921\"]]}, \"colorway\": [\"#636efa\", \"#EF553B\", \"#00cc96\", \"#ab63fa\", \"#FFA15A\", \"#19d3f3\", \"#FF6692\", \"#B6E880\", \"#FF97FF\", \"#FECB52\"], \"font\": {\"color\": \"#2a3f5f\"}, \"geo\": {\"bgcolor\": \"white\", \"lakecolor\": \"white\", \"landcolor\": \"#E5ECF6\", \"showlakes\": true, \"showland\": true, \"subunitcolor\": \"white\"}, \"hoverlabel\": {\"align\": \"left\"}, \"hovermode\": \"closest\", \"mapbox\": {\"style\": \"light\"}, \"paper_bgcolor\": \"white\", \"plot_bgcolor\": \"#E5ECF6\", \"polar\": {\"angularaxis\": {\"gridcolor\": \"white\", \"linecolor\": \"white\", \"ticks\": \"\"}, \"bgcolor\": \"#E5ECF6\", \"radialaxis\": {\"gridcolor\": \"white\", \"linecolor\": \"white\", \"ticks\": \"\"}}, \"scene\": {\"xaxis\": {\"backgroundcolor\": \"#E5ECF6\", \"gridcolor\": \"white\", \"gridwidth\": 2, \"linecolor\": \"white\", \"showbackground\": true, \"ticks\": \"\", \"zerolinecolor\": \"white\"}, \"yaxis\": {\"backgroundcolor\": \"#E5ECF6\", \"gridcolor\": \"white\", \"gridwidth\": 2, \"linecolor\": \"white\", \"showbackground\": true, \"ticks\": \"\", \"zerolinecolor\": \"white\"}, \"zaxis\": {\"backgroundcolor\": \"#E5ECF6\", \"gridcolor\": \"white\", \"gridwidth\": 2, \"linecolor\": \"white\", \"showbackground\": true, \"ticks\": \"\", \"zerolinecolor\": \"white\"}}, \"shapedefaults\": {\"line\": {\"color\": \"#2a3f5f\"}}, \"ternary\": {\"aaxis\": {\"gridcolor\": \"white\", \"linecolor\": \"white\", \"ticks\": \"\"}, \"baxis\": {\"gridcolor\": \"white\", \"linecolor\": \"white\", \"ticks\": \"\"}, \"bgcolor\": \"#E5ECF6\", \"caxis\": {\"gridcolor\": \"white\", \"linecolor\": \"white\", \"ticks\": \"\"}}, \"title\": {\"x\": 0.05}, \"xaxis\": {\"automargin\": true, \"gridcolor\": \"white\", \"linecolor\": \"white\", \"ticks\": \"\", \"title\": {\"standoff\": 15}, \"zerolinecolor\": \"white\", \"zerolinewidth\": 2}, \"yaxis\": {\"automargin\": true, \"gridcolor\": \"white\", \"linecolor\": \"white\", \"ticks\": \"\", \"title\": {\"standoff\": 15}, \"zerolinecolor\": \"white\", \"zerolinewidth\": 2}}}},\n",
       "                        {\"responsive\": true}\n",
       "                    ).then(function(){\n",
       "                            \n",
       "var gd = document.getElementById('bf69ba53-ec5a-4e69-bf81-8f4e39fdec17');\n",
       "var x = new MutationObserver(function (mutations, observer) {{\n",
       "        var display = window.getComputedStyle(gd).display;\n",
       "        if (!display || display === 'none') {{\n",
       "            console.log([gd, 'removed!']);\n",
       "            Plotly.purge(gd);\n",
       "            observer.disconnect();\n",
       "        }}\n",
       "}});\n",
       "\n",
       "// Listen for the removal of the full notebook cells\n",
       "var notebookContainer = gd.closest('#notebook-container');\n",
       "if (notebookContainer) {{\n",
       "    x.observe(notebookContainer, {childList: true});\n",
       "}}\n",
       "\n",
       "// Listen for the clearing of the current output cell\n",
       "var outputEl = gd.closest('.output');\n",
       "if (outputEl) {{\n",
       "    x.observe(outputEl, {childList: true});\n",
       "}}\n",
       "\n",
       "                        })\n",
       "                };\n",
       "                });\n",
       "            </script>\n",
       "        </div>"
      ]
     },
     "metadata": {},
     "output_type": "display_data"
    }
   ],
   "source": [
    "ml=data.groupby('MultipleLines').sum()\n",
    "ml.reset_index(inplace=True)\n",
    "px.pie(names=ml['MultipleLines'],values=ml['TotalCharges'])"
   ]
  },
  {
   "cell_type": "code",
   "execution_count": 16,
   "metadata": {
    "execution": {
     "iopub.execute_input": "2020-09-11T16:25:58.342912Z",
     "iopub.status.busy": "2020-09-11T16:25:58.342186Z",
     "iopub.status.idle": "2020-09-11T16:25:58.394451Z",
     "shell.execute_reply": "2020-09-11T16:25:58.393776Z"
    },
    "id": "GDKDlOkgSxxr",
    "outputId": "a0dc6b60-7142-4c01-f776-754414baba05",
    "papermill": {
     "duration": 0.109458,
     "end_time": "2020-09-11T16:25:58.394570",
     "exception": false,
     "start_time": "2020-09-11T16:25:58.285112",
     "status": "completed"
    },
    "tags": []
   },
   "outputs": [
    {
     "data": {
      "text/html": [
       "<div>\n",
       "        \n",
       "        \n",
       "            <div id=\"b23aa40a-7cb7-4666-9f16-d56ee22de828\" class=\"plotly-graph-div\" style=\"height:525px; width:100%;\"></div>\n",
       "            <script type=\"text/javascript\">\n",
       "                require([\"plotly\"], function(Plotly) {\n",
       "                    window.PLOTLYENV=window.PLOTLYENV || {};\n",
       "                    \n",
       "                if (document.getElementById(\"b23aa40a-7cb7-4666-9f16-d56ee22de828\")) {\n",
       "                    Plotly.newPlot(\n",
       "                        'b23aa40a-7cb7-4666-9f16-d56ee22de828',\n",
       "                        [{\"domain\": {\"x\": [0.0, 1.0], \"y\": [0.0, 1.0]}, \"hovertemplate\": \"label=%{label}<br>value=%{value}<extra></extra>\", \"labels\": [\"DSL\", \"Fiber optic\", \"No\"], \"legendgroup\": \"\", \"name\": \"\", \"showlegend\": true, \"type\": \"pie\", \"values\": [5121410.849999995, 9923622.949999992, 1011134.9000000008]}],\n",
       "                        {\"legend\": {\"tracegroupgap\": 0}, \"margin\": {\"t\": 60}, \"template\": {\"data\": {\"bar\": [{\"error_x\": {\"color\": \"#2a3f5f\"}, \"error_y\": {\"color\": \"#2a3f5f\"}, \"marker\": {\"line\": {\"color\": \"#E5ECF6\", \"width\": 0.5}}, \"type\": \"bar\"}], \"barpolar\": [{\"marker\": {\"line\": {\"color\": \"#E5ECF6\", \"width\": 0.5}}, \"type\": \"barpolar\"}], \"carpet\": [{\"aaxis\": {\"endlinecolor\": \"#2a3f5f\", \"gridcolor\": \"white\", \"linecolor\": \"white\", \"minorgridcolor\": \"white\", \"startlinecolor\": \"#2a3f5f\"}, \"baxis\": {\"endlinecolor\": \"#2a3f5f\", \"gridcolor\": \"white\", \"linecolor\": \"white\", \"minorgridcolor\": \"white\", \"startlinecolor\": \"#2a3f5f\"}, \"type\": \"carpet\"}], \"choropleth\": [{\"colorbar\": {\"outlinewidth\": 0, \"ticks\": \"\"}, \"type\": \"choropleth\"}], \"contour\": [{\"colorbar\": {\"outlinewidth\": 0, \"ticks\": \"\"}, \"colorscale\": [[0.0, \"#0d0887\"], [0.1111111111111111, \"#46039f\"], [0.2222222222222222, \"#7201a8\"], [0.3333333333333333, \"#9c179e\"], [0.4444444444444444, \"#bd3786\"], [0.5555555555555556, \"#d8576b\"], [0.6666666666666666, \"#ed7953\"], [0.7777777777777778, \"#fb9f3a\"], [0.8888888888888888, \"#fdca26\"], [1.0, \"#f0f921\"]], \"type\": \"contour\"}], \"contourcarpet\": [{\"colorbar\": {\"outlinewidth\": 0, \"ticks\": \"\"}, \"type\": \"contourcarpet\"}], \"heatmap\": [{\"colorbar\": {\"outlinewidth\": 0, \"ticks\": \"\"}, \"colorscale\": [[0.0, \"#0d0887\"], [0.1111111111111111, \"#46039f\"], [0.2222222222222222, \"#7201a8\"], [0.3333333333333333, \"#9c179e\"], [0.4444444444444444, \"#bd3786\"], [0.5555555555555556, \"#d8576b\"], [0.6666666666666666, \"#ed7953\"], [0.7777777777777778, \"#fb9f3a\"], [0.8888888888888888, \"#fdca26\"], [1.0, \"#f0f921\"]], \"type\": \"heatmap\"}], \"heatmapgl\": [{\"colorbar\": {\"outlinewidth\": 0, \"ticks\": \"\"}, \"colorscale\": [[0.0, \"#0d0887\"], [0.1111111111111111, \"#46039f\"], [0.2222222222222222, \"#7201a8\"], [0.3333333333333333, \"#9c179e\"], [0.4444444444444444, \"#bd3786\"], [0.5555555555555556, \"#d8576b\"], [0.6666666666666666, \"#ed7953\"], [0.7777777777777778, \"#fb9f3a\"], [0.8888888888888888, \"#fdca26\"], [1.0, \"#f0f921\"]], \"type\": \"heatmapgl\"}], \"histogram\": [{\"marker\": {\"colorbar\": {\"outlinewidth\": 0, \"ticks\": \"\"}}, \"type\": \"histogram\"}], \"histogram2d\": [{\"colorbar\": {\"outlinewidth\": 0, \"ticks\": \"\"}, \"colorscale\": [[0.0, \"#0d0887\"], [0.1111111111111111, \"#46039f\"], [0.2222222222222222, \"#7201a8\"], [0.3333333333333333, \"#9c179e\"], [0.4444444444444444, \"#bd3786\"], [0.5555555555555556, \"#d8576b\"], [0.6666666666666666, \"#ed7953\"], [0.7777777777777778, \"#fb9f3a\"], [0.8888888888888888, \"#fdca26\"], [1.0, \"#f0f921\"]], \"type\": \"histogram2d\"}], \"histogram2dcontour\": [{\"colorbar\": {\"outlinewidth\": 0, \"ticks\": \"\"}, \"colorscale\": [[0.0, \"#0d0887\"], [0.1111111111111111, \"#46039f\"], [0.2222222222222222, \"#7201a8\"], [0.3333333333333333, \"#9c179e\"], [0.4444444444444444, \"#bd3786\"], [0.5555555555555556, \"#d8576b\"], [0.6666666666666666, \"#ed7953\"], [0.7777777777777778, \"#fb9f3a\"], [0.8888888888888888, \"#fdca26\"], [1.0, \"#f0f921\"]], \"type\": \"histogram2dcontour\"}], \"mesh3d\": [{\"colorbar\": {\"outlinewidth\": 0, \"ticks\": \"\"}, \"type\": \"mesh3d\"}], \"parcoords\": [{\"line\": {\"colorbar\": {\"outlinewidth\": 0, \"ticks\": \"\"}}, \"type\": \"parcoords\"}], \"pie\": [{\"automargin\": true, \"type\": \"pie\"}], \"scatter\": [{\"marker\": {\"colorbar\": {\"outlinewidth\": 0, \"ticks\": \"\"}}, \"type\": \"scatter\"}], \"scatter3d\": [{\"line\": {\"colorbar\": {\"outlinewidth\": 0, \"ticks\": \"\"}}, \"marker\": {\"colorbar\": {\"outlinewidth\": 0, \"ticks\": \"\"}}, \"type\": \"scatter3d\"}], \"scattercarpet\": [{\"marker\": {\"colorbar\": {\"outlinewidth\": 0, \"ticks\": \"\"}}, \"type\": \"scattercarpet\"}], \"scattergeo\": [{\"marker\": {\"colorbar\": {\"outlinewidth\": 0, \"ticks\": \"\"}}, \"type\": \"scattergeo\"}], \"scattergl\": [{\"marker\": {\"colorbar\": {\"outlinewidth\": 0, \"ticks\": \"\"}}, \"type\": \"scattergl\"}], \"scattermapbox\": [{\"marker\": {\"colorbar\": {\"outlinewidth\": 0, \"ticks\": \"\"}}, \"type\": \"scattermapbox\"}], \"scatterpolar\": [{\"marker\": {\"colorbar\": {\"outlinewidth\": 0, \"ticks\": \"\"}}, \"type\": \"scatterpolar\"}], \"scatterpolargl\": [{\"marker\": {\"colorbar\": {\"outlinewidth\": 0, \"ticks\": \"\"}}, \"type\": \"scatterpolargl\"}], \"scatterternary\": [{\"marker\": {\"colorbar\": {\"outlinewidth\": 0, \"ticks\": \"\"}}, \"type\": \"scatterternary\"}], \"surface\": [{\"colorbar\": {\"outlinewidth\": 0, \"ticks\": \"\"}, \"colorscale\": [[0.0, \"#0d0887\"], [0.1111111111111111, \"#46039f\"], [0.2222222222222222, \"#7201a8\"], [0.3333333333333333, \"#9c179e\"], [0.4444444444444444, \"#bd3786\"], [0.5555555555555556, \"#d8576b\"], [0.6666666666666666, \"#ed7953\"], [0.7777777777777778, \"#fb9f3a\"], [0.8888888888888888, \"#fdca26\"], [1.0, \"#f0f921\"]], \"type\": \"surface\"}], \"table\": [{\"cells\": {\"fill\": {\"color\": \"#EBF0F8\"}, \"line\": {\"color\": \"white\"}}, \"header\": {\"fill\": {\"color\": \"#C8D4E3\"}, \"line\": {\"color\": \"white\"}}, \"type\": \"table\"}]}, \"layout\": {\"annotationdefaults\": {\"arrowcolor\": \"#2a3f5f\", \"arrowhead\": 0, \"arrowwidth\": 1}, \"coloraxis\": {\"colorbar\": {\"outlinewidth\": 0, \"ticks\": \"\"}}, \"colorscale\": {\"diverging\": [[0, \"#8e0152\"], [0.1, \"#c51b7d\"], [0.2, \"#de77ae\"], [0.3, \"#f1b6da\"], [0.4, \"#fde0ef\"], [0.5, \"#f7f7f7\"], [0.6, \"#e6f5d0\"], [0.7, \"#b8e186\"], [0.8, \"#7fbc41\"], [0.9, \"#4d9221\"], [1, \"#276419\"]], \"sequential\": [[0.0, \"#0d0887\"], [0.1111111111111111, \"#46039f\"], [0.2222222222222222, \"#7201a8\"], [0.3333333333333333, \"#9c179e\"], [0.4444444444444444, \"#bd3786\"], [0.5555555555555556, \"#d8576b\"], [0.6666666666666666, \"#ed7953\"], [0.7777777777777778, \"#fb9f3a\"], [0.8888888888888888, \"#fdca26\"], [1.0, \"#f0f921\"]], \"sequentialminus\": [[0.0, \"#0d0887\"], [0.1111111111111111, \"#46039f\"], [0.2222222222222222, \"#7201a8\"], [0.3333333333333333, \"#9c179e\"], [0.4444444444444444, \"#bd3786\"], [0.5555555555555556, \"#d8576b\"], [0.6666666666666666, \"#ed7953\"], [0.7777777777777778, \"#fb9f3a\"], [0.8888888888888888, \"#fdca26\"], [1.0, \"#f0f921\"]]}, \"colorway\": [\"#636efa\", \"#EF553B\", \"#00cc96\", \"#ab63fa\", \"#FFA15A\", \"#19d3f3\", \"#FF6692\", \"#B6E880\", \"#FF97FF\", \"#FECB52\"], \"font\": {\"color\": \"#2a3f5f\"}, \"geo\": {\"bgcolor\": \"white\", \"lakecolor\": \"white\", \"landcolor\": \"#E5ECF6\", \"showlakes\": true, \"showland\": true, \"subunitcolor\": \"white\"}, \"hoverlabel\": {\"align\": \"left\"}, \"hovermode\": \"closest\", \"mapbox\": {\"style\": \"light\"}, \"paper_bgcolor\": \"white\", \"plot_bgcolor\": \"#E5ECF6\", \"polar\": {\"angularaxis\": {\"gridcolor\": \"white\", \"linecolor\": \"white\", \"ticks\": \"\"}, \"bgcolor\": \"#E5ECF6\", \"radialaxis\": {\"gridcolor\": \"white\", \"linecolor\": \"white\", \"ticks\": \"\"}}, \"scene\": {\"xaxis\": {\"backgroundcolor\": \"#E5ECF6\", \"gridcolor\": \"white\", \"gridwidth\": 2, \"linecolor\": \"white\", \"showbackground\": true, \"ticks\": \"\", \"zerolinecolor\": \"white\"}, \"yaxis\": {\"backgroundcolor\": \"#E5ECF6\", \"gridcolor\": \"white\", \"gridwidth\": 2, \"linecolor\": \"white\", \"showbackground\": true, \"ticks\": \"\", \"zerolinecolor\": \"white\"}, \"zaxis\": {\"backgroundcolor\": \"#E5ECF6\", \"gridcolor\": \"white\", \"gridwidth\": 2, \"linecolor\": \"white\", \"showbackground\": true, \"ticks\": \"\", \"zerolinecolor\": \"white\"}}, \"shapedefaults\": {\"line\": {\"color\": \"#2a3f5f\"}}, \"ternary\": {\"aaxis\": {\"gridcolor\": \"white\", \"linecolor\": \"white\", \"ticks\": \"\"}, \"baxis\": {\"gridcolor\": \"white\", \"linecolor\": \"white\", \"ticks\": \"\"}, \"bgcolor\": \"#E5ECF6\", \"caxis\": {\"gridcolor\": \"white\", \"linecolor\": \"white\", \"ticks\": \"\"}}, \"title\": {\"x\": 0.05}, \"xaxis\": {\"automargin\": true, \"gridcolor\": \"white\", \"linecolor\": \"white\", \"ticks\": \"\", \"title\": {\"standoff\": 15}, \"zerolinecolor\": \"white\", \"zerolinewidth\": 2}, \"yaxis\": {\"automargin\": true, \"gridcolor\": \"white\", \"linecolor\": \"white\", \"ticks\": \"\", \"title\": {\"standoff\": 15}, \"zerolinecolor\": \"white\", \"zerolinewidth\": 2}}}},\n",
       "                        {\"responsive\": true}\n",
       "                    ).then(function(){\n",
       "                            \n",
       "var gd = document.getElementById('b23aa40a-7cb7-4666-9f16-d56ee22de828');\n",
       "var x = new MutationObserver(function (mutations, observer) {{\n",
       "        var display = window.getComputedStyle(gd).display;\n",
       "        if (!display || display === 'none') {{\n",
       "            console.log([gd, 'removed!']);\n",
       "            Plotly.purge(gd);\n",
       "            observer.disconnect();\n",
       "        }}\n",
       "}});\n",
       "\n",
       "// Listen for the removal of the full notebook cells\n",
       "var notebookContainer = gd.closest('#notebook-container');\n",
       "if (notebookContainer) {{\n",
       "    x.observe(notebookContainer, {childList: true});\n",
       "}}\n",
       "\n",
       "// Listen for the clearing of the current output cell\n",
       "var outputEl = gd.closest('.output');\n",
       "if (outputEl) {{\n",
       "    x.observe(outputEl, {childList: true});\n",
       "}}\n",
       "\n",
       "                        })\n",
       "                };\n",
       "                });\n",
       "            </script>\n",
       "        </div>"
      ]
     },
     "metadata": {},
     "output_type": "display_data"
    }
   ],
   "source": [
    "Is = data.groupby('InternetService').sum()\n",
    "Is.reset_index(inplace=True)\n",
    "px.pie(names=Is['InternetService'],values=Is['TotalCharges'])"
   ]
  },
  {
   "cell_type": "code",
   "execution_count": 17,
   "metadata": {
    "execution": {
     "iopub.execute_input": "2020-09-11T16:25:58.512495Z",
     "iopub.status.busy": "2020-09-11T16:25:58.510934Z",
     "iopub.status.idle": "2020-09-11T16:25:58.528490Z",
     "shell.execute_reply": "2020-09-11T16:25:58.527869Z"
    },
    "id": "th1QxTQOL_PY",
    "outputId": "4c473c2e-376f-4803-e718-99c3cb3cb349",
    "papermill": {
     "duration": 0.078807,
     "end_time": "2020-09-11T16:25:58.528606",
     "exception": false,
     "start_time": "2020-09-11T16:25:58.449799",
     "status": "completed"
    },
    "tags": []
   },
   "outputs": [
    {
     "data": {
      "text/html": [
       "<div>\n",
       "<style scoped>\n",
       "    .dataframe tbody tr th:only-of-type {\n",
       "        vertical-align: middle;\n",
       "    }\n",
       "\n",
       "    .dataframe tbody tr th {\n",
       "        vertical-align: top;\n",
       "    }\n",
       "\n",
       "    .dataframe thead th {\n",
       "        text-align: right;\n",
       "    }\n",
       "</style>\n",
       "<table border=\"1\" class=\"dataframe\">\n",
       "  <thead>\n",
       "    <tr style=\"text-align: right;\">\n",
       "      <th></th>\n",
       "      <th>PhoneService</th>\n",
       "      <th>InternetService</th>\n",
       "      <th>tenure</th>\n",
       "      <th>MonthlyCharges</th>\n",
       "      <th>TotalCharges</th>\n",
       "    </tr>\n",
       "  </thead>\n",
       "  <tbody>\n",
       "    <tr>\n",
       "      <th>0</th>\n",
       "      <td>No</td>\n",
       "      <td>DSL</td>\n",
       "      <td>21645</td>\n",
       "      <td>28554.90</td>\n",
       "      <td>1020294.95</td>\n",
       "    </tr>\n",
       "    <tr>\n",
       "      <th>1</th>\n",
       "      <td>Yes</td>\n",
       "      <td>DSL</td>\n",
       "      <td>57816</td>\n",
       "      <td>111785.75</td>\n",
       "      <td>4101115.90</td>\n",
       "    </tr>\n",
       "    <tr>\n",
       "      <th>2</th>\n",
       "      <td>Yes</td>\n",
       "      <td>Fiber optic</td>\n",
       "      <td>101914</td>\n",
       "      <td>283284.40</td>\n",
       "      <td>9923622.95</td>\n",
       "    </tr>\n",
       "    <tr>\n",
       "      <th>3</th>\n",
       "      <td>Yes</td>\n",
       "      <td>No</td>\n",
       "      <td>46615</td>\n",
       "      <td>32035.95</td>\n",
       "      <td>1011134.90</td>\n",
       "    </tr>\n",
       "  </tbody>\n",
       "</table>\n",
       "</div>"
      ],
      "text/plain": [
       "  PhoneService InternetService  tenure  MonthlyCharges  TotalCharges\n",
       "0           No             DSL   21645        28554.90    1020294.95\n",
       "1          Yes             DSL   57816       111785.75    4101115.90\n",
       "2          Yes     Fiber optic  101914       283284.40    9923622.95\n",
       "3          Yes              No   46615        32035.95    1011134.90"
      ]
     },
     "execution_count": 17,
     "metadata": {},
     "output_type": "execute_result"
    }
   ],
   "source": [
    "npi = data.groupby(['PhoneService','InternetService']).sum()\n",
    "#npi.get_group(('No','Fiber optic'))['Total Charges'].sum()\n",
    "npi.reset_index(inplace=True)\n",
    "npi"
   ]
  },
  {
   "cell_type": "code",
   "execution_count": 18,
   "metadata": {
    "execution": {
     "iopub.execute_input": "2020-09-11T16:25:58.648073Z",
     "iopub.status.busy": "2020-09-11T16:25:58.647431Z",
     "iopub.status.idle": "2020-09-11T16:25:58.652743Z",
     "shell.execute_reply": "2020-09-11T16:25:58.653345Z"
    },
    "id": "WBsxW4_gYECx",
    "outputId": "5d1a24a1-5919-45f6-a8f1-18ff1cbfdde4",
    "papermill": {
     "duration": 0.068818,
     "end_time": "2020-09-11T16:25:58.653508",
     "exception": false,
     "start_time": "2020-09-11T16:25:58.584690",
     "status": "completed"
    },
    "tags": []
   },
   "outputs": [
    {
     "data": {
      "text/plain": [
       "Month-to-month    3875\n",
       "Two year          1685\n",
       "One year          1472\n",
       "Name: Contract, dtype: int64"
      ]
     },
     "execution_count": 18,
     "metadata": {},
     "output_type": "execute_result"
    }
   ],
   "source": [
    "data['Contract'].value_counts()"
   ]
  },
  {
   "cell_type": "code",
   "execution_count": 19,
   "metadata": {
    "execution": {
     "iopub.execute_input": "2020-09-11T16:25:58.769735Z",
     "iopub.status.busy": "2020-09-11T16:25:58.769045Z",
     "iopub.status.idle": "2020-09-11T16:25:58.889062Z",
     "shell.execute_reply": "2020-09-11T16:25:58.888502Z"
    },
    "id": "Iv3vCLHXYbmX",
    "outputId": "908372c9-9b73-4bab-fdaf-58312b11248c",
    "papermill": {
     "duration": 0.179207,
     "end_time": "2020-09-11T16:25:58.889183",
     "exception": false,
     "start_time": "2020-09-11T16:25:58.709976",
     "status": "completed"
    },
    "tags": []
   },
   "outputs": [
    {
     "data": {
      "text/html": [
       "<div>\n",
       "        \n",
       "        \n",
       "            <div id=\"6f03af22-851d-487c-823e-4e3c4b3a17ab\" class=\"plotly-graph-div\" style=\"height:525px; width:100%;\"></div>\n",
       "            <script type=\"text/javascript\">\n",
       "                require([\"plotly\"], function(Plotly) {\n",
       "                    window.PLOTLYENV=window.PLOTLYENV || {};\n",
       "                    \n",
       "                if (document.getElementById(\"6f03af22-851d-487c-823e-4e3c4b3a17ab\")) {\n",
       "                    Plotly.newPlot(\n",
       "                        '6f03af22-851d-487c-823e-4e3c4b3a17ab',\n",
       "                        [{\"hovertemplate\": \"Contract=Month-to-month<br>TotalCharges=%{x}<br>tenure=%{y}<extra></extra>\", \"legendgroup\": \"\", \"marker\": {\"color\": \"#636efa\", \"symbol\": \"circle\"}, \"mode\": \"markers\", \"name\": \"\", \"showlegend\": false, \"type\": \"scattergl\", \"x\": [29.85, 108.15, 151.65, 820.5, 1949.4, 301.9, 3046.05, 587.45, 5036.3, 2686.05, 528.35, 1862.9, 39.65, 20.15, 2970.3, 1530.6, 4749.15, 30.2, 1093.1, 181.65, 20.2, 45.25, 316.9, 3548.3, 3549.25, 1105.4, 981.45, 3906.7, 97.0, 144.15, 3838.75, 1426.4, 1752.65, 633.3, 1752.55, 4707.1, 5450.7, 857.25, 244.1, 887.35, 49.05, 177.4, 482.25, 2111.3, 79.35, 565.35, 496.9, 4327.5, 918.75, 1009.25, 2570.2, 74.7, 7107.0, 927.35, 113.85, 2514.5, 20.2, 19.45, 100.2, 5238.9, 3954.1, 2868.15, 248.4, 1064.65, 2151.6, 112.75, 229.55, 350.35, 62.9, 2135.5, 19.75, 1215.65, 1502.65, 35.45, 81.25, 1778.5, 70.45, 563.65, 45.65, 1071.4, 564.35, 655.5, 113.5, 1152.8, 1821.95, 764.55, 1592.35, 135.2, 273.0, 2651.2, 321.4, 242.8, 780.2, 1145.7, 503.6, 1559.25, 29.95, 45.3, 662.65, 1111.65, 24.8, 1023.85, 82.15, 2379.1, 531.0, 1901.65, 6519.75, 20.75, 1112.3, 1033.95, 2958.95, 79.9, 1934.45, 84.5, 25.25, 1975.85, 3437.45, 624.6, 268.35, 179.35, 55.2, 2723.15, 4747.5, 84.6, 702.0, 114.1, 1305.95, 1120.3, 6126.15, 731.3, 273.4, 1074.3, 48.55, 147.15, 40.2, 193.05, 80.55, 1228.65, 132.2, 1364.3, 4925.35, 2007.25, 1511.2, 24.8, 2172.05, 70.6, 401.1, 5624.85, 1339.8, 771.95, 244.75, 322.9, 498.25, 25.4, 3687.75, 1779.95, 927.15, 70.0, 606.55, 435.4, 1712.7, 567.8, 220.35, 20.25, 3437.5, 3015.75, 73.6, 396.1, 356.65, 3141.7, 2303.35, 3741.85, 19.25, 1886.25, 341.6, 415.55, 2231.05, 3236.35, 44.8, 5138.1, 880.05, 139.05, 973.65, 1470.05, 511.25, 155.8, 3565.65, 6603.0, 1830.1, 4508.65, 72.1, 168.2, 996.85, 574.35, 371.9, 840.1, 846.0, 889.0, 805.1, 83.75, 1373.05, 492.55, 1406.0, 19.15, 181.5, 3646.8, 25.35, 2566.5, 50.65, 90.85, 214.75, 4874.7, 4063.0, 44.0, 2595.25, 2309.55, 89.3, 367.55, 3944.5, 3694.7, 2524.45, 1803.7, 7007.6, 2861.45, 19.9, 19.6, 233.7, 2149.05, 4473.0, 3545.05, 1195.75, 1845.9, 75.3, 132.25, 515.45, 449.3, 2838.55, 858.6, 1395.05, 1182.55, 119.5, 518.9, 1183.8, 3161.2, 55.05, 1882.55, 5070.4, 1166.7, 2937.65, 6396.45, 69.55, 759.55, 1545.4, 3582.4, 2227.1, 2494.65, 38.0, 75.1, 100.9, 1614.05, 385.9, 673.25, 734.35, 55.0, 564.4, 1315.35, 74.7, 1861.5, 2747.2, 554.05, 453.4, 994.8, 2145.0, 1671.6, 680.05, 1415.0, 74.35, 114.15, 139.4, 20.4, 1785.65, 131.05, 1238.45, 4326.8, 1782.4, 851.8, 167.5, 502.85, 19.85, 6300.15, 334.8, 5916.95, 2852.4, 4131.95, 302.6, 1929.35, 265.45, 1442.0, 4713.4, 1758.6, 3480.0, 174.45, 85.0, 1021.75, 5029.05, 601.6, 19.55, 834.1, 597.0, 3266.0, 311.6, 2596.15, 19.9, 760.05, 49.3, 89.05, 516.15, 445.95, 3527.6, 3204.4, 597.9, 3365.4, 38.8, 233.55, 75.3, 346.2, 19.0, 61.7, 85.7, 2438.6, 45.6, 713.75, 237.2, 1170.5, 6786.4, 248.95, 663.05, 631.4, 186.3, 4884.85, 522.95, 362.6, 137.6, 2395.7, 1968.1, 4547.25, 4687.9, 2473.95, 6985.65, 855.3, 2499.3, 89.55, 394.85, 1899.65, 45.7, 161.5, 1732.6, 222.3, 74.6, 475.25, 164.3, 865.1, 697.65, 96.05, 428.7, 20.05, 238.1, 145.15, 1453.1, 191.05, 75.05, 493.4, 2550.9, 62.25, 313.6, 3775.85, 80.0, 195.65, 71.1, 49.9, 91.1, 4149.45, 20.45, 270.7, 20.65, 168.15, 2848.45, 2516.2, 33.6, 208.45, 2015.35, 2263.4, 2211.8, 19.55, 1683.7, 1164.05, 4245.55, 2664.3, 1277.5, 5589.3, 381.3, 141.5, 3105.55, 204.55, 356.1, 2758.15, 3941.7, 92.75, 1901.05, 2423.4, 1653.45, 3344.1, 137.1, 1008.55, 202.15, 202.9, 1652.95, 515.75, 190.5, 1842.8, 57.2, 1269.55, 20.8, 1907.85, 208.85, 363.15, 1600.25, 3089.1, 237.3, 1444.65, 19.9, 454.15, 92.5, 184.65, 89.5, 220.45, 1510.3, 52.2, 2003.6, 298.7, 143.65, 507.4, 20.0, 1058.25, 489.45, 1058.1, 4113.1, 69.55, 94.15, 2088.05, 178.7, 2317.1, 6751.35, 318.1, 1430.25, 644.35, 372.45, 1442.6, 3340.55, 292.8, 5774.55, 44.4, 2854.95, 394.1, 89.9, 62.0, 352.65, 50.8, 1463.5, 307.4, 2104.55, 319.15, 104.3, 3027.4, 113.95, 1582.75, 1665.2, 1043.3, 497.55, 20.05, 609.65, 6215.35, 2823.0, 5017.9, 2619.25, 24.6, 2679.7, 1120.95, 4914.9, 27.55, 923.5, 1625.65, 918.6, 234.85, 170.9, 688.65, 1288.3, 73.55, 1643.55, 2193.0, 255.35, 1189.4, 1820.9, 2404.15, 205.05, 952.3, 1212.85, 360.1, 308.05, 434.5, 320.45, 382.2, 2001.0, 5645.8, 215.8, 77.6, 2896.55, 3395.8, 85.15, 535.55, 1253.15, 955.15, 2162.6, 44.7, 245.15, 2028.8, 2723.75, 220.45, 551.95, 45.7, 832.35, 112.3, 60.65, 174.8, 90.55, 4733.1, 1359.7, 69.9, 888.65, 413.0, 86.6, 2656.5, 540.95, 19.75, 537.35, 2917.5, 2416.1, 424.45, 132.4, 660.9, 1893.95, 284.9, 417.7, 1612.75, 119.75, 3204.65, 160.85, 827.45, 49.5, 990.85, 162.45, 470.2, 2066.0, 392.5, 3861.45, 2552.9, 819.4, 2070.6, 273.75, 3557.7, 1957.1, 729.95, 649.4, 3013.05, 1266.1, 1046.5, 2347.9, 4209.95, 152.3, 19.65, 526.95, 552.7, 210.75, 3706.95, 412.5, 832.05, 185.55, 1943.2, 1815.3, 612.95, 2169.8, 2210.2, 4853.75, 144.55, 91.1, 713.0, 21.1, 5580.8, 4527.45, 200.2, 4564.9, 171.15, 940.35, 1047.7, 2766.4, 1622.45, 1129.35, 80.55, 580.1, 259.4, 324.15, 417.65, 168.15, 769.1, 2058.5, 387.2, 2839.65, 3145.9, 4997.5, 1493.55, 593.05, 4284.8, 544.55, 529.8, 3865.6, 941.0, 1133.65, 48.35, 2070.05, 723.35, 98.35, 775.3, 1074.65, 35.55, 2324.7, 170.5, 196.9, 1162.85, 1677.85, 18.85, 370.4, 5475.9, 224.05, 2326.05, 31.35, 1052.4, 283.95, 3217.65, 19.85, 1029.35, 669.45, 1553.95, 3953.15, 1236.15, 3196.0, 1500.5, 60.15, 256.75, 593.45, 765.45, 1259.35, 340.85, 1348.95, 611.65, 467.85, 74.9, 194.2, 571.45, 80.25, 1149.65, 740.8, 521.35, 1532.45, 250.05, 2282.55, 4300.45, 1111.2, 190.1, 143.35, 45.85, 810.2, 4847.35, 4017.45, 1398.6, 2564.3, 228.4, 1529.2, 168.6, 536.35, 1888.45, 629.35, 45.3, 289.3, 2117.25, 4730.9, 987.95, 45.05, 75.8, 19.45, 523.15, 59.05, 92.75, 194.55, 612.1, 6127.6, 303.7, 86.05, 4159.45, 62.8, 676.7, 3242.5, 632.95, 270.95, 1614.2, 402.5, 483.7, 1345.55, 1646.45, 1281.0, 1553.9, 3207.55, 5124.55, 147.5, 86.35, 579.0, 19.45, 187.75, 76.35, 69.25, 1221.55, 25.15, 25.2, 96.45, 1114.55, 20.15, 7133.25, 169.45, 563.05, 1258.6, 857.2, 2553.35, 250.8, 1639.3, 178.85, 633.85, 5315.1, 735.5, 889.9, 1290.0, 330.05, 237.95, 2452.7, 813.85, 4904.85, 2033.85, 79.2, 2192.9, 19.85, 3970.4, 129.2, 49.95, 1554.0, 740.55, 3217.55, 2440.25, 20.35, 319.6, 1938.05, 58.3, 442.85, 553.0, 546.45, 76.0, 4039.0, 170.85, 2948.6, 1308.4, 3418.2, 865.75, 6373.1, 5985.75, 732.5, 1504.05, 741.4, 3122.4, 50.45, 739.9, 593.85, 1132.75, 7227.45, 193.6, 1291.35, 349.65, 154.55, 2031.95, 50.05, 332.45, 473.9, 106.8, 152.6, 1199.4, 2555.05, 2979.2, 654.85, 1534.75, 20.55, 424.15, 2234.95, 281.0, 547.8, 74.6, 571.15, 3475.55, 156.85, 2683.2, 896.75, 2407.3, 4456.65, 36.8, 4346.4, 1235.55, 2082.95, 102.75, 51.25, 19.55, 1775.8, 795.65, 4993.4, 61.45, 4018.55, 1146.65, 6081.4, 1478.85, 1247.75, 74.7, 2130.55, 1313.55, 1203.9, 25.8, 1579.7, 96.1, 72.4, 55.25, 1970.5, 335.4, 7002.95, 158.95, 293.15, 1093.4, 190.05, 882.55, 300.4, 1025.95, 475.0, 819.55, 217.1, 4896.35, 330.15, 1474.9, 2199.05, 45.85, 457.1, 3107.3, 518.3, 91.7, 832.3, 1555.65, 45.3, 74.95, 246.6, 261.65, 898.35, 4509.5, 653.15, 1183.05, 639.45, 20.05, 127.1, 6710.5, 415.95, 950.2, 780.15, 273.25, 493.65, 385.55, 3384.0, 84.2, 165.4, 120.25, 88.8, 2755.35, 994.55, 1169.35, 675.6, 1611.65, 2293.6, 44.75, 3029.1, 655.9, 1191.2, 866.4, 2627.2, 4009.2, 1463.45, 43.8, 770.6, 573.05, 3419.3, 3587.25, 3541.35, 868.5, 4859.1, 1439.35, 85.8, 79.1, 592.75, 134.5, 4921.2, 901.25, 5341.8, 1139.2, 7082.45, 324.6, 4812.75, 4399.5, 663.55, 5125.5, 548.9, 50.15, 4594.95, 2384.15, 319.85, 344.2, 1655.35, 1943.9, 1616.15, 465.7, 6669.05, 34.7, 264.8, 2200.25, 425.1, 99.75, 5044.8, 196.4, 299.7, 417.75, 3169.55, 438.05, 318.6, 163.7, 639.65, 273.2, 1608.15, 1441.95, 2168.15, 59.85, 69.6, 19.05, 418.8, 19.5, 313.45, 69.9, 745.3, 1212.1, 183.75, 264.85, 5832.0, 1178.4, 654.5, 415.4, 3161.6, 80.95, 6669.45, 4689.5, 1201.15, 143.65, 48.75, 1505.15, 168.5, 1652.4, 71.65, 77.5, 3264.5, 1621.35, 947.3, 3058.3, 1761.05, 1642.75, 973.25, 43.85, 1490.4, 716.4, 76.35, 1676.95, 2642.05, 1835.3, 75.5, 19.2, 4453.3, 323.45, 2661.1, 2697.4, 1424.5, 1739.6, 5931.0, 2333.85, 572.45, 1381.8, 2572.95, 47.95, 45.1, 45.0, 2122.45, 20.05, 4931.8, 3273.8, 402.6, 3252.0, 68.75, 46.2, 45.15, 43.3, 2250.65, 1441.1, 4338.6, 45.95, 2566.3, 247.25, 44.05, 45.55, 4539.35, 67.1, 70.05, 165.45, 1156.55, 1834.15, 3653.35, 1706.45, 1194.3, 419.7, 21.0, 45.1, 207.35, 1083.7, 2007.85, 2657.55, 1527.5, 378.4, 1612.2, 266.8, 5124.6, 571.05, 167.2, 174.2, 1269.6, 3862.55, 1348.5, 50.9, 471.55, 1404.65, 1961.6, 4872.45, 5118.95, 658.95, 81.05, 76.95, 20.2, 246.5, 20.9, 21.05, 189.1, 49.8, 215.2, 5099.15, 159.45, 5940.85, 668.85, 1916.2, 75.35, 75.45, 4613.95, 2459.8, 2048.8, 163.55, 2888.7, 553.4, 1210.4, 1291.3, 576.65, 1868.4, 825.7, 93.55, 2845.15, 1021.55, 5885.4, 268.4, 1259.0, 309.1, 2257.75, 1350.15, 1329.15, 45.7, 69.95, 97.1, 1710.45, 637.4, 117.95, 2165.05, 223.15, 181.1, 341.45, 357.75, 4616.1, 4533.7, 750.1, 1410.25, 830.85, 45.3, 1340.1, 371.65, 134.6, 125.5, 1390.6, 20.2, 2737.05, 74.3, 70.6, 2361.8, 1730.35, 1867.6, 1043.3, 24.7, 206.15, 2030.3, 5869.4, 4946.05, 4065.0, 106.55, 4964.7, 4085.75, 1742.75, 3415.25, 340.25, 2896.6, 4669.2, 95.6, 2934.3, 283.75, 4600.7, 5594.0, 71.35, 7554.05, 1702.9, 467.15, 20.15, 69.75, 2931.0, 1400.85, 137.85, 1423.05, 223.9, 391.7, 79.95, 19.3, 811.65, 174.75, 3126.85, 1406.65, 834.7, 627.4, 242.0, 3092.0, 2168.9, 65.95, 2647.1, 54.35, 1790.65, 20.45, 2429.1, 100.4, 44.45, 3023.55, 75.3, 70.55, 20.15, 5893.95, 1430.05, 458.1, 2745.7, 341.35, 147.75, 818.45, 348.8, 128.6, 1737.45, 50.1, 1797.75, 2624.25, 184.1, 160.75, 2684.35, 3004.15, 1233.65, 527.9, 111.4, 43.95, 308.1, 2555.9, 109.25, 179.25, 1338.15, 926.2, 91.3, 79.5, 382.2, 4264.6, 467.55, 5427.05, 587.1, 100.8, 161.15, 1180.95, 7111.3, 1648.45, 3956.7, 2625.55, 1233.4, 294.2, 740.0, 3883.3, 371.6, 95.85, 6690.75, 102.45, 1588.7, 829.3, 712.25, 51.2, 217.55, 2583.75, 146.05, 567.45, 1384.75, 70.9, 220.95, 3673.6, 49.85, 2331.3, 74.5, 4495.65, 6941.2, 340.35, 908.55, 1043.35, 6822.15, 71.55, 157.55, 5029.2, 581.7, 420.45, 633.4, 321.65, 1253.9, 25.15, 45.2, 743.75, 92.45, 3410.0, 199.85, 5068.05, 73.05, 1020.2, 6223.3, 2933.2, 1258.3, 82.9, 2067.0, 3452.55, 1802.15, 3687.85, 1391.15, 274.35, 1214.05, 1973.75, 3211.9, 130.15, 85.5, 2117.2, 424.75, 168.9, 253.8, 2065.15, 2447.45, 45.95, 1838.15, 44.75, 1185.0, 1743.9, 70.15, 85.55, 25.7, 50.6, 2654.05, 2416.55, 3520.75, 5969.95, 565.75, 4370.75, 90.05, 2169.4, 550.6, 55.45, 436.6, 1781.35, 88.35, 63.75, 617.15, 870.25, 601.25, 111.65, 777.3, 512.45, 141.45, 3398.9, 3640.45, 389.8, 2401.05, 156.1, 2796.35, 70.05, 511.25, 646.05, 35.9, 3777.15, 47.5, 60.65, 824.85, 2094.65, 438.9, 847.3, 674.55, 162.55, 546.95, 3186.65, 1972.35, 1527.35, 490.55, 1531.4, 683.25, 1133.9, 294.45, 461.7, 162.3, 70.45, 659.45, 77.15, 35.25, 201.0, 5149.5, 119.3, 4849.1, 244.85, 220.75, 5574.75, 89.75, 4541.2, 255.5, 1072.0, 1440.75, 1715.65, 869.9, 706.85, 512.25, 2636.05, 93.45, 1389.85, 189.2, 74.25, 2187.55, 1581.2, 69.5, 2404.85, 171.45, 3132.75, 19.4, 803.3, 679.3, 715.0, 1230.25, 1992.95, 562.7, 33.7, 227.45, 37.2, 892.7, 487.75, 3713.95, 141.7, 4154.8, 2655.25, 5742.9, 2866.45, 54.75, 3759.05, 617.65, 5935.1, 94.6, 2911.3, 2974.5, 198.7, 1275.65, 3791.6, 780.25, 408.25, 231.8, 2191.15, 5611.7, 246.25, 525.0, 70.1, 2878.75, 3205.6, 69.75, 279.25, 6281.45, 1131.3, 738.2, 1137.05, 80.2, 260.8, 19.6, 3655.45, 1299.8, 188.1, 1077.05, 4922.4, 83.4, 140.7, 665.45, 84.8, 1127.35, 2142.8, 287.85, 4045.65, 2757.85, 600.0, 19.8, 40.9, 2094.9, 1302.65, 2238.5, 55.55, 90.75, 365.65, 1912.15, 670.65, 90.35, 19.75, 1789.25, 6713.2, 2317.1, 91.45, 266.9, 301.4, 206.6, 604.7, 1471.75, 2626.15, 412.1, 583.45, 1049.05, 169.75, 51.6, 3190.25, 812.5, 44.0, 50.1, 151.8, 293.65, 1308.1, 2215.4, 216.45, 20.45, 996.45, 839.65, 765.5, 793.55, 402.85, 46.4, 462.8, 169.8, 6780.1, 94.5, 55.3, 208.0, 3829.75, 5294.6, 44.4, 477.7, 86.05, 168.65, 174.3, 434.8, 1077.5, 95.65, 107.25, 851.2, 20.95, 109.8, 19.65, 329.8, 5135.35, 2000.2, 931.75, 3958.85, 297.3, 1515.1, 816.8, 688.0, 288.35, 1178.25, 185.4, 758.6, 265.8, 4107.3, 396.3, 2072.75, 736.8, 336.15, 1522.65, 622.9, 4959.6, 329.95, 1048.85, 442.6, 3351.55, 184.15, 1315.0, 262.05, 2649.15, 220.65, 74.4, 3326.2, 378.6, 50.15, 560.85, 1060.2, 4920.55, 20.5, 1936.85, 79.8, 202.25, 347.65, 999.9, 113.1, 2015.8, 246.7, 6017.9, 50.15, 252.75, 6841.05, 81.95, 451.1, 44.6, 226.2, 1017.35, 2146.5, 455.3, 1235.55, 2362.1, 1873.7, 6010.05, 1850.65, 7101.5, 1043.4, 716.1, 6236.75, 45.05, 71.0, 3309.25, 79.7, 20.45, 1254.7, 69.25, 450.9, 432.25, 1767.35, 297.35, 1820.45, 1742.95, 73.5, 2970.8, 2181.55, 371.4, 829.1, 2602.9, 4667.0, 824.75, 69.9, 3465.05, 198.1, 4108.15, 1029.75, 2854.55, 605.75, 661.55, 4116.9, 4494.65, 4259.3, 55.7, 493.95, 2239.65, 480.75, 635.6, 5038.15, 324.2, 19.55, 2793.55, 2095.0, 648.65, 95.05, 4242.35, 672.7, 268.45, 331.9, 6283.3, 2659.4, 196.9, 439.2, 19.5, 2107.15, 19.2, 298.45, 3371.75, 442.45, 25.25, 1156.35, 6143.15, 144.8, 414.95, 1059.55, 181.8, 2180.55, 89.15, 459.95, 1036.75, 2276.95, 25.0, 3162.65, 4040.2, 196.15, 1206.05, 107.05, 38.15, 184.1, 1378.25, 137.6, 219.0, 79.55, 3444.85, 84.5, 1813.1, 49.9, 1380.1, 78.65, 45.4, 2585.95, 82.7, 58.85, 425.9, 2030.75, 3678.3, 2483.5, 828.2, 3810.55, 1493.2, 45.8, 777.3, 556.35, 187.35, 307.6, 2136.9, 389.1, 187.45, 261.25, 38.45, 299.2, 323.25, 1640.0, 762.1, 53.5, 25.1, 888.75, 42.9, 2365.15, 5073.1, 4526.85, 308.25, 19.45, 678.45, 1237.3, 19.1, 3474.2, 392.65, 1058.6, 2628.6, 1023.9, 1205.5, 78.9, 1025.15, 856.35, 122.0, 74.3, 702.9, 3734.25, 1144.5, 45.3, 75.6, 1117.55, 180.25, 19.8, 930.05, 110.15, 333.6, 465.05, 1669.4, 3545.1, 504.05, 440.2, 1151.55, 1249.25, 317.75, 461.3, 431.0, 878.35, 335.75, 1394.55, 3413.25, 3143.65, 664.4, 2448.75, 1329.2, 4348.65, 63.6, 93.7, 25.05, 3091.75, 365.55, 272.95, 381.2, 2342.2, 653.9, 5278.15, 55.25, 109.2, 92.05, 93.85, 3168.75, 3439.0, 50.45, 42.45, 96.85, 111.05, 94.4, 521.1, 923.85, 141.1, 628.65, 1046.1, 1287.85, 118.25, 875.35, 799.0, 20.1, 710.05, 568.2, 1900.25, 159.15, 856.65, 551.3, 4056.75, 3684.95, 1752.45, 2157.3, 24.4, 433.95, 2435.15, 2874.15, 4433.3, 964.35, 1974.8, 399.25, 1218.55, 81.7, 2171.15, 3634.8, 317.25, 3369.05, 3474.05, 3645.05, 135.75, 1319.85, 229.4, 370.25, 69.1, 1233.25, 83.3, 69.6, 305.55, 3653.0, 241.3, 78.45, 2104.55, 20.3, 19.2, 255.25, 146.9, 1011.05, 762.5, 535.35, 75.55, 338.9, 70.25, 908.75, 4913.3, 46.3, 4443.45, 316.2, 564.65, 1095.65, 446.05, 2106.05, 811.8, 186.05, 1056.95, 44.15, 834.15, 85.45, 999.8, 239.55, 59.2, 1461.45, 416.4, 1060.6, 4869.35, 54.9, 2254.2, 580.8, 2495.2, 180.3, 5913.95, 158.4, 104.2, 19.4, 44.4, 95.1, 438.0, 325.45, 1148.1, 155.9, 3673.15, 70.6, 73.45, 5586.45, 1537.9, 355.2, 82.85, 5327.25, 151.3, 188.7, 5549.4, 2621.75, 837.5, 401.5, 6118.95, 1800.05, 50.6, 863.1, 69.8, 1948.35, 4750.95, 2391.8, 157.75, 1687.95, 2807.1, 229.55, 44.95, 1025.15, 90.55, 19.5, 2274.35, 4834.0, 3131.8, 602.55, 3369.25, 2674.15, 199.75, 449.75, 19.7, 1400.3, 411.6, 5841.35, 4512.7, 5688.45, 1345.75, 196.95, 214.55, 865.85, 1358.6, 3147.15, 131.05, 542.4, 415.05, 98.5, 87.9, 754.65, 75.35, 1952.25, 153.8, 3198.6, 20.9, 190.25, 1651.95, 78.3, 44.9, 576.7, 267.35, 934.15, 123.65, 19.45, 3645.6, 314.45, 906.85, 4888.7, 237.25, 74.6, 342.4, 140.1, 1108.0, 892.65, 79.15, 438.4, 2070.75, 3019.5, 4729.75, 3183.4, 79.6, 472.65, 1734.5, 1884.65, 278.4, 2088.8, 502.6, 2595.85, 50.75, 1208.35, 1956.4, 2096.1, 2665.0, 543.8, 20.35, 3005.8, 2586.0, 3292.3, 651.4, 232.35, 658.1, 223.45, 919.4, 653.95, 1825.5, 181.65, 45.65, 551.35, 359.4, 115.95, 165.2, 2338.35, 46.3, 3541.1, 4146.05, 1087.25, 2522.4, 81.0, 717.3, 1734.2, 3017.65, 1164.3, 1558.7, 2710.25, 810.7, 2538.2, 1750.85, 36.55, 2575.45, 6019.35, 1284.2, 653.25, 85.5, 49.55, 1928.7, 71.25, 216.2, 178.5, 115.1, 2745.2, 3121.1, 157.65, 572.85, 25.25, 2433.5, 641.15, 583.0, 416.45, 788.6, 202.3, 4116.15, 4915.15, 838.5, 75.1, 4273.45, 45.8, 20.5, 30.55, 1398.25, 20.1, 328.95, 4680.05, 69.1, 3161.4, 999.45, 3990.6, 71.15, 1240.25, 235.0, 3089.6, 270.8, 2901.8, 4949.1, 374.5, 1520.9, 2281.6, 50.75, 3605.2, 874.2, 1145.35, 1323.7, 5497.05, 2455.05, 38.7, 357.0, 70.8, 1448.6, 291.9, 5921.35, 146.65, 134.05, 249.95, 1701.65, 135.75, 4282.4, 219.65, 669.0, 68.95, 224.85, 196.75, 6572.85, 29.15, 20.05, 318.9, 24.45, 49.55, 631.85, 232.5, 749.25, 307.4, 134.75, 55.8, 4266.4, 1077.5, 79.05, 95.0, 25.2, 4187.75, 137.25, 966.55, 6936.85, 3496.3, 914.3, 1929.0, 5817.7, 178.8, 435.0, 2351.8, 186.15, 445.85, 912.0, 679.55, 4222.95, 1994.3, 1505.85, 20.0, 797.25, 71.65, 1359.45, 2542.45, 54.7, 44.55, 87.3, 210.3, 8061.5, 74.2, 518.75, 238.5, 4388.4, 420.2, 827.05, 2599.95, 284.3, 3436.1, 2462.55, 70.85, 280.85, 411.75, 198.6, 103.7, 19.65, 3249.4, 5405.8, 3363.8, 7132.15, 93.55, 566.1, 1742.5, 2983.8, 24.0, 1565.7, 298.35, 970.45, 405.7, 2415.95, 45.75, 176.2, 1001.2, 1594.75, 212.4, 815.5, 80.15, 340.35, 419.35, 5647.95, 29.9, 4348.1, 635.9, 108.95, 78.8, 1682.4, 5127.95, 874.8, 143.9, 69.1, 1776.55, 536.4, 1559.45, 6079.0, 80.85, 383.55, 51.15, 1745.5, 1837.7, 149.55, 180.7, 576.95, 68.45, 123.05, 78.65, 468.35, 174.7, 42.9, 44.0, 139.35, 539.85, 300.4, 992.7, 4718.25, 434.1, 1563.9, 1332.4, 545.2, 1284.2, 161.45, 226.95, 646.85, 69.95, 2298.55, 1727.5, 86.6, 237.65, 2979.5, 695.75, 24.25, 825.1, 837.95, 330.8, 1337.45, 362.2, 2068.55, 2301.15, 131.65, 4036.0, 24.05, 20.4, 50.55, 117.05, 5839.3, 45.35, 1415.55, 20.5, 163.2, 189.95, 321.9, 482.8, 286.8, 5683.6, 369.15, 4631.7, 401.95, 701.3, 262.3, 914.0, 2139.1, 5780.7, 1172.95, 662.95, 1765.95, 155.35, 3303.05, 134.35, 709.5, 70.5, 953.45, 50.15, 19.75, 4052.4, 664.4, 718.55, 937.6, 5812.6, 2546.85, 1346.3, 765.15, 69.6, 6851.65, 78.05, 247.0, 520.0, 706.6, 49.9, 1370.35, 20.25, 2215.25, 74.0, 214.4, 1871.15, 6171.2, 20.2, 161.45, 336.7, 333.65, 393.45, 2264.05, 56.35, 5623.7, 2971.7, 2510.2, 2427.35, 1760.25, 3551.65, 122.9, 2111.45, 2909.95, 374.0, 20.25, 300.8, 5581.05, 5676.65, 232.4, 85.45, 2088.45, 1434.6, 2043.45, 2215.0, 842.25, 2576.2, 601.6, 605.45, 3094.05, 469.8, 19.75, 492.0, 5496.9, 107.1, 522.35, 1457.25, 185.6, 19.5, 1066.9, 973.55, 985.05, 828.05, 41.85, 6164.7, 2862.75, 33.6, 343.95, 20.7, 2890.65, 1222.05, 6871.7, 208.25, 3062.45, 1816.75, 408.5, 1011.5, 2549.1, 2496.7, 90.6, 288.05, 368.1, 1013.35, 152.95, 19.3, 220.4, 158.35, 256.6, 68.5, 791.75, 69.95, 19.95, 346.4, 773.65, 1422.05, 19.75, 2460.35, 5116.6, 1033.9, 1885.15, 2467.1, 5025.0, 59.75, 94.55, 4863.85, 6871.9, 1454.15, 2404.15, 25.75, 114.7, 109.5, 546.85, 1782.4, 280.35, 2897.95, 801.3, 257.05, 40.1, 2217.15, 1129.1, 2568.55, 492.1, 1718.95, 4469.1, 3580.3, 1729.35, 1073.3, 293.3, 1783.75, 2440.15, 79.55, 1058.1, 123.8, 2731.0, 20.75, 89.1, 497.3, 711.15, 1607.2, 1490.95, 2929.75, 838.7, 1443.65, 6951.15, 214.75, 235.2, 92.65, 606.25, 2727.8, 19.1, 80.3, 1462.6, 150.6, 5960.5, 74.9, 314.55, 56.0, 330.8, 2249.1, 2807.65, 4902.8, 1857.75, 751.65, 66.95, 20.15, 1706.45, 4515.85, 179.85, 165.0, 20.25, 2936.25, 1271.8, 530.05, 19.2, 1808.7, 1144.6, 7446.9, 25.1, 6595.0, 149.05, 4972.1, 1880.85, 2045.55, 2187.15, 477.55, 2976.95, 178.7, 1461.15, 2782.4, 1496.9, 452.2, 1322.55, 70.45, 139.75, 3000.25, 2245.4, 24.75, 944.65, 2012.7, 1864.65, 1221.65, 302.35, 1374.9, 1336.9, 1297.8, 242.05, 44.75, 63.75, 260.9, 7320.9, 2967.35, 939.7, 4200.25, 1037.75, 93.4, 50.45, 1573.95, 3624.3, 100.25, 1468.75, 2607.6, 1422.1, 69.85, 858.6, 324.3, 399.6, 322.5, 3273.55, 2510.7, 61.05, 20.9, 140.4, 69.4, 1626.05, 541.15, 70.35, 5500.6, 3229.4, 19.75, 235.05, 70.1, 909.25, 5283.95, 1617.5, 574.5, 400.3, 84.3, 2656.3, 2244.95, 1130.0, 1131.2, 585.95, 19.95, 2062.15, 720.45, 2186.4, 2979.3, 956.65, 3973.2, 447.9, 661.25, 1111.85, 49.0, 3046.15, 69.35, 836.35, 272.2, 20.95, 50.55, 2570.0, 80.55, 44.15, 916.9, 6487.2, 1855.65, 1556.85, 5432.2, 147.55, 2203.7, 116.65, 2287.25, 130.5, 446.8, 830.7, 20.0, 3540.65, 1054.6, 130.55, 1540.35, 6411.25, 101.9, 313.4, 629.55, 2640.55, 85.05, 2196.45, 3008.15, 222.65, 246.3, 2110.15, 547.65, 969.85, 4747.85, 101.1, 6496.15, 59.55, 4370.25, 144.35, 1125.2, 39.85, 422.4, 251.75, 314.6, 4331.4, 6382.0, 740.3, 600.15, 5538.8, 690.5, 279.3, 1427.55, 452.7, 19.45, 53.15, 166.3, 2404.1, 70.0, 24.4, 209.9, 610.75, 3409.6, 70.7, 155.35, 144.0, 911.6, 1270.2, 1561.5, 1615.1, 1097.15, 369.3, 31.55, 432.5, 321.75, 147.15, 532.1, 375.25, 125.95, 1620.25, 2387.75, 659.35, 2660.2, 377.55, 990.9, 193.8, 964.9, 790.15, 2467.75, 2322.85, 1914.9, 6470.1, 57.4, 2019.8, 5688.05, 1522.7, 252.0, 6747.35, 105.6, 2271.85, 1772.25, 61.15, 494.95, 44.45, 5219.65, 3067.2, 20.25, 74.35, 62.05, 2877.95, 959.9, 541.9, 929.3, 971.3, 1285.05, 3414.65, 162.45, 216.9, 245.2, 302.75, 2964.05, 2156.25, 60.1, 78.95, 2275.1, 5511.65, 98.5, 244.65, 2431.35, 351.5, 106.2, 1743.05, 657.5, 426.35, 19.55, 1451.9, 235.05, 71.1, 2633.4, 49.65, 46.35, 2659.45, 196.75, 94.0, 1517.5, 3479.05, 20.3, 1424.95, 193.6, 620.55, 4391.25, 1993.8, 19.9, 53.95, 1799.3, 829.55, 1312.15, 1597.05, 524.35, 6812.95, 1837.9, 69.8, 545.15, 1500.25, 2283.15, 494.05, 488.65, 2841.55, 486.85, 204.7, 2995.45, 505.95, 137.95, 349.8, 1067.05, 3527.3, 3762.0, 1248.9, 144.95, 3233.6, 5438.9, 1081.45, 1882.8, 2065.4, 221.9, 3848.0, 781.25, 4779.45, 250.1, 1745.2, 74.9, 3670.5, 1167.8, 469.65, 58.9, 333.55, 3171.15, 74.7, 1381.2, 455.5, 3645.5, 3152.5, 3186.7, 849.9, 151.75, 299.4, 3767.4, 3641.5, 2535.55, 35.75, 181.6, 44.55, 1539.8, 223.75, 4385.05, 1539.45, 18.9, 1261.35, 58.15, 225.6, 253.9, 340.85, 2515.3, 227.35, 305.95, 365.4, 2357.75, 198.5, 90.85, 69.4, 742.95, 251.65, 5597.65, 20.15, 4816.7, 768.05, 1215.8, 1834.95, 305.1, 910.45, 155.65, 52.0, 389.25, 1261.0, 108.7, 44.1, 712.75, 1637.4, 2536.55, 958.25, 201.95, 285.2, 1529.45, 1740.7, 552.95, 93.7, 312.7, 1046.5, 834.2, 6953.4, 899.8, 541.5, 4156.8, 223.6, 768.45, 3765.05, 2157.5, 108.05, 1273.3, 70.3, 377.85, 851.75, 355.1, 575.45, 906.85, 1057.55, 19.4, 1641.3, 1375.15, 152.7, 195.05, 1826.7, 1660.0, 2180.55, 2835.9, 45.15, 2730.85, 20.2, 5794.45, 747.2, 1267.95, 724.65, 1536.75, 3615.6, 607.3, 2184.35, 1852.85, 77.15, 1923.5, 338.1, 75.35, 2184.85, 3875.4, 1451.1, 2847.2, 1494.5, 41.85, 475.1, 673.1, 208.7, 150.75, 3403.4, 237.75, 221.35, 75.3, 1672.1, 3043.7, 2723.4, 1081.25, 632.2, 4042.3, 164.85, 4113.7, 70.4, 3729.75, 399.45, 1336.15, 1147.45, 1078.9, 5925.75, 4747.2, 1028.9, 226.45, 4364.1, 2433.9, 1217.25, 19.75, 154.3, 6382.55, 89.25, 86.05, 82.85, 893.2, 810.85, 43.15, 35.1, 3851.45, 1743.5, 684.85, 74.35, 1312.45, 159.2, 610.2, 404.35, 69.65, 713.1, 19.65, 505.95, 169.65, 526.7, 1147.0, 3021.6, 191.35, 2718.3, 36.45, 4133.95, 2917.65, 54.3, 2964.8, 2001.5, 3825.85, 225.65, 955.75, 3382.3, 933.3, 780.85, 764.95, 1614.7, 145.4, 156.25, 270.15, 20.6, 573.15, 306.05, 639.7, 348.15, 1587.55, 40.25, 842.9, 784.45, 1406.9, 1761.45, 4192.15, 164.5, 2724.6, 1173.55, 318.5, 7713.55, 2227.8, 3744.05, 2351.45, 2989.6, 2479.05, 638.95, 2139.2, 831.75, 521.3, 608.0, 577.6, 5953.0, 292.85, 953.65, 198.0, 609.9, 20.55, 79.65, 5431.9, 6401.25, 2812.2, 80.05, 2698.35, 616.9, 1912.85, 849.1, 1465.75, 90.1, 2907.35, 146.3, 51.25, 4952.95, 45.6, 267.35, 2078.55, 288.05, 853.0, 934.1, 1222.8, 19.1, 1003.05, 2509.95, 74.45, 2345.2, 2335.3, 2537.0, 1393.6, 89.35, 4445.3, 331.35, 291.4, 453.75, 1597.25, 235.5, 673.2, 1442.2, 5222.35, 799.65, 50.8, 249.4, 144.55, 2447.95, 3050.15, 253.0, 4517.25, 436.2, 118.4, 19.9, 3649.6, 1200.15, 70.6, 5083.55, 389.6, 523.5, 39.3, 2406.1, 4524.05, 2277.65, 24.8, 1505.45, 913.3, 1411.65, 1008.7, 3096.9, 2613.4, 853.1, 794.25, 160.8, 3275.15, 54.5, 1174.35, 741.7, 3019.25, 962.9, 1233.15, 4882.8, 19.65, 148.05, 84.65, 69.55, 129.55, 347.25, 581.7, 354.05, 929.45, 44.35, 586.05, 2576.8, 1993.25, 1923.85, 939.8, 84.6, 3092.65, 415.55, 651.5, 45.4, 73.65, 4458.15, 50.75, 321.05, 335.65, 1424.4, 474.9, 668.4, 926.25, 46.0, 1156.1, 382.8, 1167.8, 20.2, 221.7, 1794.65, 501.2, 48.45, 201.1, 2838.7, 55.7, 3735.45, 70.15, 477.55, 42.7, 2025.1, 1747.2, 296.1, 81.1, 20.55, 1043.8, 6252.9, 1857.25, 146.4, 240.45, 315.3, 356.15, 55.7, 973.45, 384.25, 389.95, 5731.85, 20.65, 4275.75, 84.5, 669.85, 4060.55, 267.4, 3532.85, 69.85, 775.6, 53.55, 2169.75, 896.9, 19.3, 49.65, 477.6, 370.65, 1849.95, 61.05, 1910.6, 890.6, 529.5, 48.6, 1207.0, 563.5, 2109.35, 2265.25, 220.6, 5749.8, 20.2, 2076.05, 44.2, 215.25, 229.5, 2470.1, 2092.9, 5629.55, 469.85, 733.95, 485.25, 1244.5, 20.05, 3994.45, 78.25, 184.05, 19.9, 1178.75, 667.7, 19.95, 109.3, 79.6, 75.9, 76.2, 19.25, 3168.0, 669.45, 3588.4, 48.6, 522.95, 49.75, 1691.9, 2248.05, 63.0, 70.25, 3314.15, 865.55, 852.7, 91.4, 3949.15, 409.9, 207.4, 19.75, 60.0, 649.65, 20.85, 35.0, 2011.4, 503.6, 383.65, 452.8, 1152.7, 2157.95, 1219.85, 2414.55, 1155.6, 7548.1, 1564.4, 19.65, 75.7, 84.4, 864.85, 1951.0, 470.6, 384.5, 3432.9, 108.65, 463.05, 2867.75, 4807.35, 71.35, 1132.35, 1815.0, 199.45, 1637.3, 20.05, 1611.15, 20.6, 1931.75, 818.05, 1992.55, 916.75, 33.7, 454.05, 1392.25, 734.6, 70.15, 1540.05, 3181.8, 229.7, 266.6, 1982.6, 339.9, 20.3, 2383.6, 69.65, 89.3, 1438.05, 3078.1, 99.95, 2036.55, 6444.05, 1426.75, 767.55, 4040.65, 1672.35, 474.8, 446.1, 1345.65, 2425.4, 2077.95, 416.3, 1286.05, 35.85, 514.6, 1451.6, 71.0, 330.25, 746.5, 122.7, 44.4, 2419.0, 470.2, 70.3, 79.35, 3097.0, 809.75, 1470.95, 577.15, 6914.95, 96.8, 3827.9, 533.05, 995.35, 154.8, 246.3, 257.6, 1389.2, 1474.75, 720.1, 2832.75, 472.25, 1460.65, 153.05, 1165.6, 2119.5, 72.0, 68.35, 44.0, 135.0, 1400.55, 69.65, 1380.4, 1060.2, 86.0, 79.45, 275.4, 846.8, 4783.5, 2997.45, 524.5, 4740.0, 2341.5, 5060.85, 1448.8, 4254.85, 466.6, 85.0, 1101.85, 44.3, 20.2, 414.1, 256.6, 3969.35, 1296.8, 59.25, 2006.1, 487.05, 483.3, 5618.3, 1237.85, 498.1, 294.45, 2381.55, 788.35, 613.4, 3625.2, 550.35, 1267.2, 442.2, 84.85, 654.85, 5567.45, 3085.35, 24.7, 3541.4, 84.2, 50.7, 1165.55, 2806.9, 1422.65, 608.15, 35.9, 1321.3, 3024.15, 4138.05, 102.5, 2724.25, 413.25, 757.1, 218.5, 608.8, 1004.75, 3847.6, 1098.85, 1139.2, 827.7, 279.55, 3512.5, 1483.25, 151.75, 4400.75, 552.65, 24.9, 460.25, 678.75, 5485.5, 683.75, 404.2, 233.65, 291.45, 254.5, 347.65, 242.95, 1841.9, 232.1, 866.45, 360.55, 2076.2, 355.9, 7299.65, 2291.2, 7031.45, 1032.0, 70.75, 109.6, 130.75, 893.0, 781.4, 902.25, 2653.65, 5943.65, 275.7, 3457.9, 340.4, 1093.2, 521.9, 713.6, 1265.65, 4003.85, 45.3, 178.1, 480.6, 251.25, 23.45, 1373.0, 29.7, 49.8, 6039.9, 3440.25, 151.3, 55.4, 90.6, 156.35, 67.55, 70.2, 2952.85, 294.9, 113.35, 19.95, 476.8, 101.65, 1130.85, 3532.25, 1570.7, 520.95, 357.6, 1359.0, 1777.9, 1122.4, 2020.9, 4504.55, 3579.15, 49.7, 276.5, 259.8, 5588.8, 50.6, 58.0, 5568.35, 2203.65, 2024.1, 2369.05, 2871.5, 672.55, 1573.7, 126.05, 2193.65, 64.55, 31.2, 533.6, 1620.8, 293.85, 3243.45, 4137.2, 79.25, 44.9, 19.4, 5348.65, 659.65, 3180.5, 118.5, 3365.85, 195.3, 997.65, 2237.55, 358.5, 80.5, 2421.75, 1294.6, 305.55, 900.5, 3856.75, 374.8, 331.85, 3959.35, 5088.4, 3969.4, 470.95, 560.6, 25.7, 5976.9, 506.9, 80.35, 20.05, 76.4, 514.0, 57.5, 880.2, 3270.25, 69.95, 3919.15, 93.3, 169.05, 5295.7, 217.45, 19.25, 2021.35, 2564.95, 35.05, 73.0, 45.75, 74.2, 2716.3, 70.1, 1175.85, 142.35, 33.2, 926.25, 287.4, 2341.55, 163.6, 2254.2, 145.15, 19.7, 3769.7, 3725.5, 413.65, 714.15, 2497.2, 601.55, 139.25, 197.7, 401.3, 79.15, 235.8, 1364.75, 655.85, 303.15, 647.5, 1574.45, 2044.95, 921.4, 4018.35, 20.25, 49.9, 2085.45, 1358.85, 5135.15, 2869.85, 118.25, 49.25, 1108.6, 1815.65, 75.45, 5071.05, 4014.6, 568.85, 4238.45, 20.3, 418.3, 136.05, 708.2, 700.85, 181.7, 4016.85, 4122.9, 74.3, 44.65, 1095.3, 788.8, 6578.55, 19.55, 364.55, 1861.1, 20.4, 3069.45, 2349.8, 3301.05, 4144.9, 154.65, 1905.4, 141.65, 2954.5, 3807.35, 5785.65, 418.4, 275.9, 2130.45, 50.5, 74.4, 3756.45, 3334.9, 920.5, 150.35, 367.95, 19.55, 1242.2, 4871.05, 3190.65, 2666.75, 295.65, 1459.35, 4398.15, 4297.95, 167.3, 3454.6, 1387.0, 786.3, 94.4, 1375.6, 55.0, 718.1, 320.4, 101.45, 1334.45, 4764.0, 350.3, 69.5, 18.85, 69.2, 786.5, 69.65, 4086.3, 5364.8, 82.3, 20.3, 2419.55, 267.6, 1115.2, 5435.6, 4186.3, 25.05, 688.5, 867.1, 712.85, 48.95, 355.1, 45.3, 167.3, 1505.35, 930.4, 324.25, 156.4, 1679.65, 2998.0, 24.4, 152.45, 1959.5, 1130.85, 4323.45, 703.55, 1275.7, 1647.0, 56.25, 2249.95, 159.4, 68.65, 3320.6, 327.45, 5669.5, 704.3, 1369.8, 1107.25, 95.55, 6375.2, 1566.75, 110.05, 816.8, 1253.5, 41.2, 6548.65, 70.85, 134.7, 2978.3, 299.3, 450.8, 1215.6, 91.7, 3915.4, 979.5, 90.05, 4026.4, 25.3, 20.1, 398.55, 69.9, 63.15, 484.05, 4528.0, 2208.75, 238.15, 80.8, 118.3, 76.45, 1094.5, 573.75, 1218.25, 1405.3, 2274.9, 74.5, 1068.85, 762.25, 1902.0, 239.05, 39.8, 406.05, 138.85, 123.65, 1801.1, 790.7, 582.5, 2122.05, 69.15, 54.65, 1224.05, 2310.2, 723.4, 3988.5, 3554.6, 85.1, 173.0, 3893.6, 357.15, 289.1, 2221.55, 172.85, 3090.65, 1293.8, 500.1, 1601.5, 85.5, 1232.9, 19.9, 1096.25, 4889.2, 2289.9, 6503.2, 1313.25, 990.3, 228.0, 5746.15, 209.1, 805.2, 154.85, 528.45, 2259.35, 1411.35, 593.75, 20.35, 238.5, 3233.85, 1062.1, 226.55, 5440.9, 235.1, 85.0, 3313.4, 1938.9, 460.25, 184.4, 19.9, 2010.55, 69.2, 3171.6, 299.75, 702.05, 3473.4, 19.65, 92.25, 1242.45, 559.2, 220.1, 531.15, 465.85, 501.0, 3782.4, 460.2, 20.2, 733.35, 4600.95, 113.55, 1793.25, 886.7, 1879.25, 434.5, 308.7, 438.25, 50.35, 3778.1, 5438.95, 70.3, 5617.75, 5386.5, 1776.95, 2483.05, 235.65, 5224.35, 2272.8, 83.75, 4663.4, 620.35, 1806.35, 519.15, 497.6, 1301.7, 1129.75, 19.3, 266.95, 865.8, 2623.65, 45.85, 79.55, 1082.8, 147.8, 2570.2, 2924.05, 6014.85, 32.7, 5305.05, 2368.4, 3545.35, 1301.0, 372.45, 77.75, 95.45, 1135.7, 3720.35, 5025.8, 1498.55, 69.7, 573.3, 1818.9, 1051.05, 3688.6, 99.75, 871.4, 780.5, 239.45, 244.45, 129.6, 365.35, 334.65, 43.95, 4981.15, 45.1, 2751.0, 1307.8, 2868.05, 449.75, 53.55, 791.7, 4414.3, 4869.5, 4308.25, 221.1, 69.35, 4092.85, 316.9, 471.7, 216.75, 503.25, 69.6, 385.0, 961.4, 30.5, 53.05, 2108.35, 232.55, 5121.3, 1127.2, 309.4, 523.1, 770.5, 3930.6, 1747.85, 2754.45, 897.75, 5895.45, 2196.15, 1692.6, 20.5, 265.35, 1836.25, 1218.25, 24.2, 679.85, 554.45, 2032.3, 789.2, 2804.45, 1652.1, 3366.05, 778.1, 4367.35, 2093.4, 1011.8, 106.85, 130.1, 1022.5, 3691.2, 4036.85, 256.25, 1917.1, 74.45, 272.15, 3756.4, 3645.75, 2874.45, 49.95, 70.65, 239.0, 6479.4, 3626.35, 1679.4, 403.35, 931.55, 263.05, 39.25, 75.75, 2625.25, 6886.25, 1495.1, 346.45, 306.6], \"xaxis\": \"x\", \"y\": [1, 2, 2, 8, 22, 10, 28, 13, 49, 25, 10, 21, 1, 1, 49, 30, 47, 1, 17, 2, 1, 1, 5, 46, 34, 11, 13, 49, 2, 2, 43, 15, 25, 8, 18, 47, 60, 9, 3, 10, 1, 3, 8, 30, 1, 11, 7, 42, 9, 29, 30, 1, 65, 12, 5, 25, 1, 1, 5, 55, 43, 37, 3, 10, 27, 6, 3, 7, 4, 27, 1, 13, 25, 1, 2, 23, 1, 8, 1, 15, 8, 7, 6, 14, 22, 13, 20, 2, 4, 58, 16, 2, 34, 15, 7, 15, 1, 1, 8, 13, 1, 20, 3, 40, 6, 20, 59, 1, 14, 13, 44, 1, 19, 2, 1, 23, 57, 8, 4, 4, 1, 30, 50, 1, 29, 2, 18, 11, 65, 13, 4, 15, 1, 2, 1, 10, 2, 29, 3, 13, 57, 19, 16, 1, 20, 1, 5, 52, 21, 14, 5, 6, 10, 1, 68, 18, 20, 1, 8, 10, 24, 6, 12, 1, 35, 40, 1, 4, 4, 38, 32, 38, 1, 22, 5, 5, 24, 35, 1, 52, 11, 2, 28, 17, 7, 2, 36, 63, 32, 66, 1, 2, 23, 7, 4, 21, 10, 16, 27, 5, 18, 5, 23, 1, 2, 37, 1, 25, 1, 1, 11, 55, 44, 1, 27, 27, 2, 19, 42, 33, 34, 33, 69, 32, 1, 1, 3, 29, 51, 48, 16, 22, 1, 5, 7, 10, 55, 10, 18, 61, 2, 12, 26, 35, 1, 16, 49, 18, 36, 60, 1, 8, 22, 60, 28, 24, 2, 1, 6, 24, 4, 7, 13, 1, 9, 24, 1, 24, 35, 7, 5, 15, 48, 20, 8, 15, 1, 2, 2, 1, 28, 5, 12, 52, 20, 11, 2, 6, 1, 61, 5, 56, 30, 40, 5, 27, 12, 29, 55, 23, 34, 2, 1, 12, 63, 11, 1, 10, 13, 39, 15, 32, 1, 11, 1, 3, 7, 7, 35, 28, 9, 35, 2, 12, 1, 4, 1, 3, 1, 30, 1, 12, 4, 16, 65, 9, 9, 15, 8, 57, 7, 10, 7, 25, 23, 49, 43, 46, 65, 10, 43, 1, 15, 20, 1, 2, 24, 3, 1, 17, 8, 10, 37, 4, 10, 1, 3, 2, 49, 4, 1, 22, 52, 2, 3, 45, 1, 3, 1, 1, 2, 51, 1, 3, 1, 3, 35, 29, 2, 4, 25, 29, 29, 1, 20, 14, 46, 32, 26, 68, 4, 3, 33, 9, 5, 30, 45, 5, 25, 27, 32, 42, 2, 10, 5, 3, 27, 7, 2, 20, 3, 15, 1, 22, 3, 11, 22, 41, 11, 15, 1, 5, 3, 2, 2, 5, 27, 1, 34, 6, 2, 20, 1, 10, 6, 18, 40, 1, 5, 25, 2, 21, 61, 5, 16, 7, 14, 34, 37, 4, 60, 1, 36, 13, 1, 2, 5, 1, 20, 3, 22, 4, 5, 60, 3, 15, 33, 10, 6, 1, 7, 63, 31, 50, 32, 1, 30, 12, 50, 2, 9, 17, 9, 4, 8, 10, 15, 1, 23, 26, 12, 16, 22, 32, 3, 13, 16, 4, 4, 6, 15, 13, 24, 54, 3, 4, 32, 35, 2, 8, 22, 15, 22, 1, 4, 25, 32, 7, 8, 1, 8, 7, 3, 2, 1, 49, 44, 1, 11, 20, 1, 33, 12, 1, 27, 35, 34, 4, 2, 7, 27, 4, 21, 18, 2, 32, 3, 9, 1, 18, 4, 23, 39, 5, 45, 37, 8, 26, 3, 50, 27, 8, 13, 38, 14, 14, 32, 43, 3, 1, 12, 16, 5, 40, 5, 10, 2, 23, 34, 10, 23, 24, 49, 2, 2, 7, 1, 59, 41, 3, 46, 2, 13, 11, 32, 17, 16, 1, 7, 5, 15, 20, 3, 9, 40, 4, 37, 32, 48, 20, 12, 39, 7, 27, 47, 14, 11, 2, 26, 11, 6, 11, 18, 1, 32, 3, 2, 13, 41, 1, 7, 60, 3, 23, 1, 12, 5, 32, 1, 13, 6, 15, 43, 21, 57, 18, 1, 3, 7, 14, 20, 15, 17, 12, 18, 1, 3, 9, 1, 17, 11, 7, 19, 3, 24, 62, 17, 9, 2, 1, 16, 49, 47, 20, 34, 3, 16, 3, 25, 30, 21, 1, 15, 23, 45, 11, 1, 1, 1, 7, 2, 2, 2, 12, 68, 4, 5, 49, 1, 7, 30, 8, 6, 20, 5, 11, 15, 28, 16, 18, 34, 47, 7, 3, 8, 1, 10, 4, 1, 23, 1, 1, 2, 15, 1, 66, 3, 28, 14, 10, 51, 11, 18, 9, 9, 48, 10, 9, 13, 4, 4, 59, 10, 61, 33, 1, 23, 1, 58, 2, 1, 22, 12, 34, 29, 1, 4, 24, 3, 4, 18, 8, 1, 43, 2, 29, 15, 35, 18, 67, 60, 9, 15, 12, 44, 1, 35, 9, 12, 65, 2, 27, 5, 3, 20, 1, 4, 23, 6, 8, 18, 52, 31, 29, 16, 1, 5, 22, 4, 9, 1, 12, 37, 8, 31, 13, 24, 45, 2, 41, 13, 22, 2, 1, 1, 19, 11, 52, 3, 51, 15, 64, 37, 18, 1, 23, 17, 14, 1, 17, 5, 2, 3, 29, 8, 63, 7, 3, 19, 2, 35, 14, 14, 7, 8, 4, 63, 5, 30, 25, 1, 6, 39, 26, 1, 12, 16, 2, 1, 7, 4, 10, 55, 10, 11, 15, 1, 3, 66, 7, 12, 21, 6, 7, 17, 42, 4, 2, 2, 1, 30, 15, 13, 34, 27, 23, 2, 35, 9, 20, 11, 30, 38, 17, 1, 17, 29, 37, 34, 42, 11, 60, 27, 1, 1, 17, 3, 53, 35, 50, 47, 65, 5, 51, 46, 9, 45, 8, 1, 41, 29, 4, 7, 35, 27, 26, 7, 70, 1, 3, 21, 11, 1, 55, 3, 4, 5, 52, 8, 3, 2, 9, 3, 17, 30, 31, 1, 1, 1, 9, 1, 7, 1, 40, 16, 2, 3, 52, 14, 12, 20, 35, 2, 71, 41, 13, 2, 1, 28, 2, 26, 1, 4, 38, 54, 12, 42, 19, 23, 10, 1, 22, 34, 1, 23, 32, 23, 1, 1, 60, 6, 32, 31, 19, 32, 65, 45, 8, 22, 57, 1, 1, 1, 24, 1, 54, 45, 10, 47, 2, 1, 1, 1, 38, 19, 52, 1, 52, 3, 1, 1, 51, 3, 1, 2, 26, 29, 35, 24, 16, 14, 1, 1, 4, 16, 46, 38, 30, 5, 17, 3, 56, 7, 5, 3, 24, 44, 24, 1, 22, 25, 22, 49, 47, 31, 1, 3, 1, 3, 1, 1, 3, 1, 8, 55, 2, 65, 14, 20, 1, 1, 49, 46, 24, 5, 33, 8, 24, 24, 7, 23, 11, 1, 31, 10, 58, 14, 14, 12, 25, 16, 17, 1, 1, 2, 23, 9, 5, 24, 5, 2, 4, 5, 53, 47, 13, 28, 10, 1, 16, 5, 2, 5, 15, 1, 43, 1, 1, 26, 22, 28, 16, 1, 3, 21, 69, 48, 47, 2, 45, 51, 22, 37, 7, 34, 47, 1, 49, 14, 43, 56, 1, 70, 23, 21, 1, 1, 32, 17, 4, 48, 10, 18, 1, 1, 9, 2, 40, 18, 11, 8, 3, 33, 46, 3, 40, 1, 22, 1, 31, 5, 1, 41, 1, 1, 1, 56, 15, 7, 33, 16, 3, 11, 18, 6, 21, 1, 25, 30, 2, 2, 28, 29, 13, 7, 2, 1, 4, 30, 2, 2, 24, 29, 1, 1, 19, 66, 7, 57, 7, 1, 8, 14, 64, 20, 38, 28, 17, 4, 10, 54, 5, 1, 66, 1, 30, 11, 11, 1, 3, 49, 2, 6, 12, 1, 3, 40, 1, 23, 1, 44, 65, 7, 8, 16, 66, 1, 3, 53, 8, 5, 13, 4, 12, 1, 1, 8, 2, 34, 3, 48, 4, 11, 65, 29, 15, 4, 26, 35, 28, 57, 16, 5, 17, 21, 30, 3, 4, 61, 5, 8, 3, 46, 33, 1, 49, 1, 14, 18, 1, 1, 1, 2, 47, 35, 32, 60, 21, 48, 3, 43, 5, 1, 8, 20, 1, 2, 12, 9, 11, 6, 8, 5, 2, 43, 40, 10, 27, 4, 68, 1, 26, 17, 1, 38, 2, 3, 14, 31, 7, 8, 32, 2, 7, 31, 27, 18, 7, 14, 11, 15, 4, 5, 8, 1, 8, 1, 1, 4, 53, 6, 47, 3, 4, 59, 2, 46, 12, 14, 24, 31, 42, 13, 6, 35, 4, 27, 2, 1, 25, 16, 1, 24, 2, 36, 1, 9, 8, 7, 13, 25, 8, 2, 12, 2, 18, 8, 45, 3, 46, 25, 60, 30, 1, 39, 35, 53, 1, 31, 30, 10, 12, 58, 44, 8, 3, 25, 57, 12, 7, 1, 29, 31, 1, 7, 61, 39, 10, 14, 1, 6, 1, 33, 18, 2, 17, 56, 1, 2, 7, 1, 22, 22, 5, 47, 33, 18, 1, 2, 35, 15, 24, 1, 1, 4, 29, 13, 2, 1, 19, 63, 22, 4, 4, 4, 4, 7, 19, 28, 5, 8, 22, 8, 2, 34, 35, 1, 1, 2, 3, 13, 41, 8, 1, 41, 19, 15, 10, 21, 2, 5, 2, 63, 4, 1, 11, 52, 60, 1, 5, 1, 7, 4, 19, 31, 1, 3, 46, 1, 5, 1, 10, 64, 30, 13, 46, 15, 17, 13, 24, 6, 16, 10, 9, 7, 43, 4, 24, 15, 4, 28, 9, 55, 3, 10, 20, 32, 2, 37, 3, 29, 4, 1, 41, 15, 1, 8, 12, 49, 1, 23, 3, 4, 4, 11, 2, 26, 12, 60, 1, 10, 67, 1, 7, 1, 4, 12, 26, 6, 14, 25, 22, 61, 22, 70, 12, 11, 60, 1, 1, 47, 1, 1, 22, 1, 6, 12, 25, 6, 20, 18, 1, 32, 51, 8, 9, 28, 54, 11, 1, 33, 12, 40, 12, 53, 12, 9, 51, 49, 41, 4, 26, 20, 7, 7, 51, 4, 1, 27, 22, 12, 3, 51, 14, 3, 5, 62, 28, 3, 19, 1, 24, 1, 10, 37, 12, 1, 18, 69, 2, 19, 12, 9, 27, 1, 24, 14, 32, 1, 38, 44, 3, 22, 5, 2, 9, 16, 8, 5, 1, 50, 1, 25, 1, 46, 2, 1, 32, 2, 3, 5, 37, 49, 23, 24, 37, 21, 1, 10, 6, 10, 6, 35, 6, 2, 4, 2, 4, 3, 17, 8, 1, 1, 11, 2, 30, 55, 58, 5, 1, 9, 26, 1, 36, 5, 13, 32, 16, 16, 4, 26, 29, 5, 1, 36, 38, 17, 1, 2, 14, 2, 1, 13, 6, 4, 5, 15, 47, 8, 17, 15, 23, 4, 25, 9, 18, 3, 19, 39, 31, 14, 25, 17, 52, 3, 3, 1, 34, 8, 15, 12, 43, 9, 54, 1, 6, 5, 1, 40, 41, 1, 2, 3, 2, 3, 7, 13, 7, 12, 12, 15, 4, 16, 16, 1, 19, 10, 23, 3, 10, 10, 37, 36, 17, 22, 1, 6, 31, 34, 52, 10, 29, 4, 12, 1, 33, 34, 4, 40, 35, 41, 4, 24, 5, 5, 1, 24, 4, 1, 4, 38, 3, 1, 48, 1, 1, 10, 2, 18, 9, 28, 1, 4, 1, 18, 51, 1, 41, 12, 7, 12, 5, 49, 10, 2, 11, 1, 16, 1, 12, 4, 1, 27, 21, 13, 64, 1, 21, 11, 53, 11, 57, 2, 2, 1, 2, 1, 6, 4, 12, 7, 65, 1, 4, 62, 18, 4, 4, 64, 4, 3, 53, 29, 12, 8, 54, 26, 1, 10, 1, 21, 51, 24, 2, 18, 29, 4, 1, 29, 1, 1, 26, 48, 55, 7, 37, 31, 4, 5, 1, 15, 8, 56, 42, 65, 18, 4, 4, 19, 18, 38, 2, 9, 8, 3, 2, 9, 1, 25, 2, 43, 1, 9, 19, 4, 1, 8, 11, 17, 3, 1, 43, 16, 11, 50, 5, 1, 16, 2, 17, 15, 1, 8, 49, 31, 50, 32, 1, 7, 20, 33, 7, 26, 5, 30, 1, 14, 21, 35, 32, 28, 1, 59, 40, 40, 9, 3, 8, 5, 9, 9, 31, 2, 1, 8, 9, 2, 3, 25, 1, 45, 51, 55, 38, 2, 38, 34, 39, 12, 21, 26, 18, 47, 33, 2, 37, 62, 23, 9, 4, 1, 24, 1, 11, 9, 2, 29, 30, 9, 8, 1, 28, 32, 10, 9, 9, 4, 50, 44, 33, 1, 42, 1, 1, 1, 16, 1, 9, 46, 1, 43, 13, 41, 1, 24, 3, 32, 6, 32, 59, 20, 20, 26, 1, 46, 11, 11, 29, 57, 42, 2, 18, 1, 16, 3, 57, 2, 2, 5, 35, 2, 41, 4, 7, 1, 4, 2, 60, 1, 1, 4, 1, 1, 7, 3, 15, 4, 5, 1, 55, 40, 1, 1, 1, 41, 3, 12, 66, 35, 10, 27, 58, 9, 6, 26, 9, 8, 12, 15, 42, 31, 18, 1, 10, 1, 18, 24, 3, 1, 2, 3, 72, 1, 6, 4, 43, 4, 12, 26, 15, 36, 27, 1, 4, 8, 10, 2, 1, 46, 50, 53, 61, 5, 19, 17, 30, 1, 21, 3, 9, 9, 22, 1, 4, 12, 18, 3, 11, 1, 17, 7, 52, 1, 53, 34, 3, 1, 19, 47, 18, 2, 1, 20, 6, 24, 67, 1, 11, 3, 18, 25, 2, 9, 9, 4, 2, 1, 19, 7, 1, 1, 3, 9, 5, 18, 49, 6, 17, 29, 6, 16, 3, 8, 7, 1, 45, 20, 4, 3, 28, 8, 1, 16, 11, 8, 14, 4, 28, 42, 2, 39, 1, 1, 1, 2, 52, 1, 14, 1, 10, 7, 4, 20, 5, 68, 8, 52, 18, 7, 5, 14, 44, 58, 30, 11, 34, 3, 40, 2, 14, 1, 10, 1, 1, 55, 16, 9, 14, 58, 53, 14, 10, 1, 68, 1, 10, 7, 9, 1, 20, 1, 29, 1, 3, 20, 64, 1, 6, 6, 7, 8, 24, 2, 59, 40, 27, 34, 19, 43, 6, 57, 34, 10, 1, 13, 56, 55, 12, 1, 24, 35, 25, 21, 13, 35, 29, 7, 57, 6, 1, 11, 59, 2, 6, 15, 9, 1, 12, 37, 21, 12, 2, 62, 29, 1, 5, 1, 28, 11, 63, 10, 45, 22, 5, 21, 44, 24, 1, 6, 4, 14, 7, 1, 3, 8, 3, 1, 11, 1, 1, 5, 8, 22, 1, 40, 56, 19, 22, 29, 49, 3, 2, 46, 66, 17, 31, 1, 2, 6, 25, 50, 4, 32, 9, 3, 1, 31, 14, 35, 10, 29, 40, 37, 25, 22, 7, 23, 24, 1, 14, 2, 40, 1, 1, 7, 15, 17, 19, 31, 11, 18, 71, 5, 5, 2, 8, 42, 1, 1, 33, 7, 64, 1, 6, 3, 15, 23, 31, 56, 24, 9, 3, 1, 22, 49, 4, 2, 1, 30, 22, 9, 1, 21, 19, 69, 1, 66, 7, 46, 39, 32, 24, 6, 37, 8, 16, 57, 17, 21, 17, 1, 8, 34, 33, 1, 14, 19, 32, 18, 4, 16, 17, 19, 3, 1, 3, 3, 68, 30, 15, 45, 10, 4, 1, 22, 38, 1, 18, 29, 16, 1, 12, 4, 15, 7, 41, 26, 3, 1, 3, 1, 42, 7, 1, 61, 42, 1, 3, 1, 12, 55, 17, 8, 22, 1, 38, 28, 15, 11, 8, 1, 46, 10, 23, 32, 13, 44, 9, 9, 15, 1, 30, 1, 17, 3, 1, 1, 32, 1, 1, 12, 62, 22, 17, 56, 9, 20, 2, 27, 6, 8, 10, 1, 34, 22, 7, 20, 60, 4, 16, 10, 31, 1, 26, 33, 10, 11, 21, 6, 18, 45, 3, 65, 1, 54, 7, 21, 2, 4, 3, 6, 52, 69, 8, 8, 63, 12, 13, 22, 5, 1, 2, 2, 26, 1, 1, 3, 13, 33, 1, 4, 2, 37, 15, 30, 22, 42, 8, 2, 22, 4, 2, 25, 20, 2, 46, 25, 13, 25, 19, 10, 2, 18, 9, 27, 24, 22, 70, 2, 31, 56, 16, 13, 72, 2, 21, 24, 1, 6, 1, 56, 36, 1, 1, 1, 31, 12, 5, 11, 24, 15, 34, 2, 5, 11, 4, 33, 31, 1, 1, 34, 58, 2, 3, 24, 5, 2, 19, 9, 5, 1, 18, 4, 1, 31, 3, 2, 36, 10, 1, 28, 38, 1, 15, 4, 9, 46, 22, 1, 1, 22, 8, 16, 39, 12, 65, 25, 1, 7, 43, 24, 9, 7, 37, 5, 3, 31, 20, 2, 7, 16, 34, 37, 16, 7, 38, 48, 10, 31, 28, 8, 41, 38, 53, 4, 20, 2, 44, 24, 15, 3, 4, 37, 1, 24, 5, 33, 28, 36, 22, 2, 15, 39, 61, 52, 1, 4, 1, 15, 4, 45, 17, 1, 16, 3, 4, 10, 4, 26, 4, 5, 4, 29, 2, 1, 1, 8, 13, 59, 1, 50, 18, 17, 26, 6, 19, 3, 2, 18, 13, 3, 1, 14, 40, 42, 12, 7, 6, 51, 18, 7, 2, 6, 19, 11, 64, 15, 25, 43, 12, 23, 71, 34, 5, 14, 1, 6, 10, 7, 6, 9, 12, 1, 20, 16, 2, 2, 20, 19, 22, 35, 1, 39, 1, 56, 18, 16, 9, 30, 36, 18, 39, 21, 2, 30, 4, 1, 23, 42, 15, 40, 39, 2, 8, 7, 6, 7, 35, 3, 11, 1, 17, 52, 47, 23, 8, 47, 7, 50, 1, 42, 5, 27, 15, 11, 57, 47, 13, 8, 44, 24, 15, 1, 2, 55, 1, 5, 3, 11, 28, 2, 2, 41, 17, 9, 1, 23, 8, 19, 7, 1, 9, 1, 12, 4, 7, 26, 36, 3, 34, 1, 41, 30, 1, 29, 22, 47, 3, 38, 37, 24, 14, 8, 17, 2, 8, 10, 1, 8, 12, 7, 9, 16, 2, 8, 9, 26, 20, 45, 2, 27, 12, 5, 71, 31, 37, 30, 33, 55, 10, 40, 13, 6, 11, 6, 56, 3, 19, 5, 8, 1, 1, 50, 60, 28, 1, 29, 10, 43, 13, 19, 1, 43, 6, 1, 56, 1, 6, 26, 15, 25, 10, 13, 1, 20, 30, 1, 37, 26, 26, 21, 1, 48, 18, 10, 5, 18, 3, 34, 16, 50, 10, 1, 4, 2, 32, 36, 4, 53, 10, 4, 1, 51, 12, 1, 48, 5, 6, 2, 33, 54, 26, 1, 15, 18, 18, 13, 30, 31, 9, 10, 2, 33, 1, 20, 9, 32, 19, 26, 45, 1, 3, 1, 1, 6, 13, 11, 7, 10, 1, 7, 33, 29, 24, 20, 1, 54, 5, 9, 1, 1, 55, 1, 11, 6, 21, 6, 8, 11, 1, 15, 17, 16, 1, 5, 18, 9, 1, 4, 30, 1, 59, 1, 7, 2, 21, 21, 9, 1, 1, 14, 59, 21, 4, 3, 3, 20, 1, 13, 5, 13, 61, 1, 56, 4, 18, 44, 3, 37, 1, 41, 1, 26, 11, 1, 1, 25, 4, 23, 2, 22, 9, 7, 1, 17, 10, 40, 29, 3, 58, 1, 38, 2, 11, 3, 23, 40, 62, 22, 11, 7, 13, 1, 39, 3, 6, 1, 22, 14, 1, 6, 1, 1, 1, 1, 46, 33, 42, 1, 7, 1, 18, 24, 4, 1, 37, 10, 34, 4, 39, 17, 3, 1, 1, 8, 1, 1, 39, 6, 5, 9, 22, 21, 15, 29, 15, 71, 19, 1, 1, 2, 11, 20, 23, 4, 32, 2, 6, 27, 58, 1, 13, 36, 10, 19, 1, 18, 1, 19, 10, 21, 13, 2, 22, 15, 28, 1, 16, 30, 3, 12, 35, 5, 1, 27, 1, 1, 18, 36, 4, 40, 63, 15, 14, 39, 19, 5, 13, 17, 34, 42, 5, 19, 2, 6, 17, 1, 16, 9, 3, 1, 35, 22, 1, 1, 34, 9, 20, 19, 65, 2, 53, 7, 13, 2, 3, 3, 20, 21, 15, 55, 11, 17, 2, 17, 21, 3, 3, 1, 5, 24, 1, 18, 10, 1, 3, 13, 17, 49, 59, 10, 45, 39, 67, 37, 49, 9, 1, 14, 1, 1, 6, 7, 47, 25, 4, 26, 6, 6, 62, 13, 5, 3, 26, 13, 8, 34, 18, 36, 9, 1, 12, 57, 68, 1, 37, 4, 1, 20, 31, 18, 11, 1, 16, 49, 42, 4, 31, 5, 15, 10, 7, 29, 46, 22, 14, 11, 3, 36, 16, 2, 42, 6, 1, 6, 23, 53, 37, 5, 3, 5, 13, 20, 3, 41, 13, 12, 4, 43, 12, 68, 25, 63, 27, 1, 5, 3, 12, 9, 13, 29, 61, 16, 36, 6, 19, 11, 8, 26, 53, 1, 2, 12, 13, 1, 25, 1, 1, 59, 36, 3, 1, 1, 2, 4, 1, 29, 16, 2, 1, 18, 2, 19, 40, 21, 8, 6, 13, 19, 14, 52, 47, 67, 2, 6, 5, 67, 3, 3, 52, 42, 23, 25, 32, 9, 16, 5, 26, 3, 2, 7, 19, 4, 31, 47, 1, 1, 1, 59, 10, 35, 4, 43, 4, 11, 41, 18, 1, 42, 18, 4, 17, 43, 5, 13, 42, 52, 46, 5, 6, 1, 66, 7, 2, 1, 1, 5, 3, 22, 33, 1, 54, 1, 3, 54, 3, 1, 50, 56, 1, 1, 3, 2, 33, 1, 35, 2, 2, 21, 3, 23, 8, 26, 2, 1, 46, 67, 5, 9, 26, 32, 2, 2, 6, 1, 12, 54, 30, 4, 9, 17, 23, 14, 57, 1, 1, 23, 13, 47, 38, 2, 1, 15, 26, 3, 50, 42, 10, 55, 1, 7, 2, 9, 7, 2, 45, 44, 1, 1, 13, 10, 65, 1, 4, 35, 1, 60, 26, 36, 55, 3, 39, 2, 32, 51, 69, 6, 16, 35, 1, 1, 35, 32, 17, 9, 4, 1, 15, 47, 41, 59, 6, 51, 44, 49, 2, 50, 18, 10, 1, 19, 1, 13, 5, 1, 13, 64, 5, 1, 1, 1, 26, 1, 40, 52, 1, 1, 44, 3, 13, 58, 42, 1, 11, 15, 29, 1, 6, 1, 2, 43, 10, 6, 2, 25, 28, 1, 2, 26, 15, 42, 9, 24, 31, 1, 21, 2, 1, 33, 16, 56, 9, 14, 15, 5, 61, 15, 4, 9, 22, 2, 64, 1, 2, 55, 14, 7, 13, 3, 40, 14, 2, 38, 1, 1, 5, 1, 3, 9, 43, 26, 9, 1, 2, 1, 12, 6, 16, 25, 34, 1, 10, 16, 25, 3, 2, 20, 6, 6, 29, 28, 7, 27, 1, 1, 43, 27, 9, 38, 35, 2, 7, 41, 13, 3, 45, 2, 41, 25, 5, 18, 2, 22, 1, 14, 49, 28, 68, 13, 11, 3, 57, 3, 37, 2, 13, 24, 27, 12, 1, 4, 40, 12, 10, 54, 4, 1, 42, 22, 27, 4, 1, 35, 1, 57, 4, 31, 37, 1, 3, 29, 13, 3, 11, 19, 11, 35, 25, 1, 19, 55, 2, 27, 13, 20, 5, 4, 15, 1, 45, 57, 1, 55, 59, 18, 32, 4, 66, 27, 4, 60, 7, 18, 6, 6, 13, 11, 1, 5, 9, 29, 1, 1, 18, 2, 30, 44, 54, 2, 58, 25, 37, 14, 4, 3, 1, 13, 49, 52, 31, 1, 6, 21, 32, 34, 3, 12, 8, 3, 3, 4, 6, 3, 1, 62, 1, 64, 30, 41, 9, 1, 9, 43, 54, 54, 3, 1, 56, 5, 25, 3, 10, 1, 5, 28, 1, 3, 48, 5, 48, 13, 15, 12, 9, 42, 24, 27, 9, 61, 25, 22, 1, 4, 18, 24, 1, 16, 8, 23, 31, 30, 23, 36, 8, 50, 27, 13, 3, 3, 26, 38, 40, 3, 23, 1, 4, 40, 41, 34, 1, 1, 12, 63, 44, 18, 9, 13, 6, 2, 1, 38, 67, 19, 11, 4], \"yaxis\": \"y\"}, {\"hovertemplate\": \"Contract=One year<br>TotalCharges=%{x}<br>tenure=%{y}<extra></extra>\", \"legendgroup\": \"\", \"marker\": {\"color\": \"#636efa\", \"symbol\": \"circle\"}, \"mode\": \"markers\", \"name\": \"\", \"showlegend\": false, \"type\": \"scattergl\", \"x\": [1889.5, 1840.75, 3487.95, 5681.1, 1022.95, 202.25, 1874.45, 475.7, 418.25, 4456.35, 6311.2, 7076.35, 957.1, 3650.35, 1090.65, 6139.5, 2688.85, 1216.6, 2215.45, 4748.7, 3605.6, 3027.25, 7303.05, 927.65, 3921.3, 3042.25, 5515.45, 3985.35, 5289.05, 61.35, 1929.95, 7930.55, 419.9, 233.9, 3539.25, 5000.2, 654.55, 1252.0, 2453.3, 244.8, 3173.35, 2681.15, 2684.85, 6654.1, 540.05, 20.2, 219.35, 1288.75, 2545.75, 3187.65, 2531.8, 4298.45, 4619.55, 2633.3, 5791.1, 5032.25, 1783.6, 2021.2, 1940.8, 1509.8, 3682.45, 5686.4, 3058.65, 4350.1, 422.3, 161.95, 4422.95, 5293.95, 1328.15, 865.0, 6430.9, 681.4, 4016.75, 2878.55, 6962.85, 690.25, 5608.4, 3662.25, 1410.25, 3339.05, 2348.45, 415.1, 624.15, 237.7, 3848.8, 5812.0, 1066.15, 2830.45, 1110.5, 5376.4, 3975.7, 720.05, 6049.5, 1642.75, 2768.35, 6588.95, 330.6, 8003.8, 3902.6, 903.6, 3899.05, 4543.15, 1818.3, 1546.3, 6989.45, 4738.3, 5430.35, 7379.8, 1955.4, 6744.2, 2647.2, 6744.25, 5265.5, 3808.0, 2708.2, 6033.3, 1667.25, 422.6, 697.25, 5614.45, 3082.1, 85.1, 1174.8, 4614.55, 47.7, 4859.25, 3608.0, 2356.75, 4860.35, 6976.75, 5755.8, 3355.65, 6819.45, 176.3, 2236.2, 5794.65, 4287.2, 3442.15, 3597.5, 35.9, 1039.45, 1203.95, 4188.4, 1266.4, 1623.4, 2344.5, 1013.05, 417.0, 4018.05, 2964.0, 34.75, 3327.05, 5817.0, 275.7, 1175.6, 3036.75, 6152.3, 2588.95, 4874.8, 1832.4, 5023.0, 2548.65, 6125.4, 6017.65, 938.65, 5656.75, 4889.3, 5453.4, 5610.7, 5222.3, 4487.3, 5509.3, 229.6, 295.95, 444.75, 6413.65, 5898.6, 457.3, 5084.65, 5598.0, 3077.0, 4039.5, 504.2, 7511.65, 1782.0, 2857.6, 3247.55, 4965.1, 6068.65, 1231.85, 7848.5, 267.0, 2239.4, 1505.9, 4786.15, 2538.05, 435.45, 7118.9, 531.55, 365.8, 6383.35, 1916.0, 1886.4, 678.8, 5016.25, 485.2, 696.35, 1601.2, 1426.45, 4615.25, 4557.5, 360.35, 447.75, 3877.65, 572.2, 3208.65, 620.75, 505.9, 795.15, 1055.9, 1497.9, 1012.4, 5680.9, 2243.9, 2839.95, 2178.6, 6038.55, 5637.85, 839.4, 914.4, 4179.1, 893.55, 1611.0, 1533.8, 228.65, 1072.6, 3410.6, 5936.55, 4991.5, 510.8, 1295.4, 19.65, 3011.65, 5610.25, 773.2, 4872.2, 3478.75, 3532.0, 3887.25, 3778.0, 4867.95, 5253.95, 1446.8, 2820.65, 5826.65, 6066.55, 270.2, 2033.05, 1596.6, 4424.2, 5264.3, 6448.05, 2879.2, 2234.55, 495.15, 679.8, 74.1, 4111.35, 1367.75, 8127.6, 2680.15, 2049.05, 3629.2, 3474.45, 3131.55, 3928.3, 2151.6, 5961.1, 1292.2, 1748.9, 4688.65, 5985.0, 1359.5, 4484.05, 347.4, 6145.2, 1165.9, 620.55, 6840.95, 3001.2, 6254.2, 294.5, 7412.25, 6603.8, 936.7, 6585.2, 615.35, 2908.2, 2023.55, 153.95, 5458.8, 5244.45, 4586.15, 666.75, 1756.6, 5731.45, 6547.7, 2265.0, 1309.15, 3562.5, 5914.4, 1282.85, 4738.85, 145.0, 2633.95, 4735.35, 2877.05, 5514.95, 2443.3, 6873.75, 5769.75, 1790.6, 4391.45, 270.6, 3975.9, 1704.95, 1497.05, 3512.15, 3375.9, 5347.95, 4312.5, 6511.25, 279.5, 5720.35, 5918.8, 923.1, 3231.05, 5508.35, 5082.8, 220.45, 1133.7, 1983.15, 134.05, 3801.3, 18.8, 321.7, 7031.3, 7035.6, 1431.65, 314.95, 947.75, 3770.0, 958.1, 6615.15, 1620.2, 5233.25, 323.15, 2928.5, 5692.65, 5969.3, 6130.95, 4162.05, 1421.75, 4698.05, 3268.05, 2614.1, 6526.65, 583.3, 3503.5, 390.85, 6339.45, 4599.15, 2722.2, 954.9, 6770.85, 1588.25, 949.85, 1261.7, 3958.2, 2492.25, 279.2, 755.5, 171.0, 1597.4, 4744.35, 6721.6, 4563.0, 1477.65, 1327.85, 260.7, 962.25, 1382.9, 150.0, 865.05, 6153.85, 5809.75, 415.9, 996.95, 3145.15, 4576.3, 6385.95, 2421.6, 2292.75, 3465.7, 5356.45, 5200.8, 433.75, 2204.35, 6287.25, 3600.65, 422.5, 4941.8, 589.25, 7040.85, 3865.45, 1184.0, 7382.85, 456.85, 6056.15, 2511.3, 128.6, 3966.3, 608.5, 6792.45, 779.2, 772.85, 857.8, 1941.5, 6841.45, 3754.6, 3157.0, 1952.8, 4368.85, 845.6, 854.45, 1716.45, 4837.6, 436.9, 1336.8, 7133.45, 4674.4, 5498.8, 273.25, 5483.9, 1258.35, 383.65, 99.6, 4164.4, 1238.65, 672.2, 1070.7, 1045.25, 3003.55, 7537.5, 7482.1, 3343.15, 5232.9, 225.85, 1309.0, 1108.8, 3211.2, 1246.4, 1013.6, 2088.75, 302.45, 1336.65, 1010.0, 4847.05, 3019.7, 5481.25, 576.65, 5893.15, 5037.55, 6733.15, 593.3, 7288.4, 401.85, 4451.85, 2661.1, 7789.6, 5468.95, 733.55, 3021.45, 5510.65, 2196.3, 203.95, 5064.45, 1140.05, 3251.85, 729.95, 226.8, 1082.75, 6300.85, 160.05, 3467.0, 5552.5, 2835.5, 3591.25, 6046.1, 3923.8, 1682.05, 1445.3, 507.9, 2673.45, 651.55, 407.05, 4903.15, 1306.3, 463.6, 329.75, 2847.4, 5199.8, 1341.5, 4917.9, 599.3, 2509.25, 5333.35, 814.75, 2894.55, 4025.6, 1856.4, 926.0, 682.1, 2656.7, 1689.45, 3942.45, 2791.5, 4016.2, 7317.1, 676.35, 2495.15, 876.75, 4263.45, 1250.85, 678.2, 1425.45, 552.9, 1215.45, 7854.15, 7266.95, 6341.45, 505.45, 1381.8, 2911.5, 6643.5, 5426.85, 2209.15, 6557.75, 5791.85, 3055.5, 5000.05, 562.6, 617.35, 625.05, 7386.05, 369.25, 4354.45, 1143.8, 3297.0, 482.8, 2598.95, 1244.8, 1540.2, 5168.1, 6889.8, 6383.9, 2753.8, 69.25, 5848.6, 595.5, 7396.15, 260.9, 3229.65, 966.25, 1863.8, 1567.55, 6028.95, 1001.5, 6703.5, 259.8, 136.75, 6767.1, 6890.0, 1301.9, 592.65, 2921.75, 854.9, 4174.35, 1454.25, 4765.0, 1201.65, 527.35, 386.5, 1910.75, 2919.85, 2896.4, 717.5, 253.8, 1742.45, 2444.25, 2010.95, 5153.5, 1564.05, 5980.75, 5043.2, 3282.75, 1274.45, 917.15, 1346.9, 3035.8, 1071.6, 684.05, 20.4, 2212.55, 211.95, 2080.1, 1087.45, 1113.95, 1067.15, 3321.35, 707.5, 7112.15, 3094.65, 6518.35, 7244.7, 411.15, 937.5, 970.4, 4911.05, 4820.55, 7472.15, 3043.6, 1506.4, 163.7, 79.05, 1516.6, 2224.5, 353.65, 4532.3, 3990.75, 7475.85, 835.5, 1193.55, 6602.9, 1712.9, 3635.15, 4454.25, 2475.35, 535.05, 324.8, 439.75, 1033.0, 3482.85, 2688.45, 307.0, 2689.35, 71.2, 1498.2, 4178.65, 854.9, 3420.5, 4068.0, 337.9, 1412.4, 3974.7, 5461.45, 5576.3, 1939.35, 2696.55, 5763.3, 184.95, 1096.65, 7210.85, 5264.5, 951.55, 1821.2, 1600.95, 218.55, 1423.35, 6157.6, 1442.65, 1875.55, 8035.95, 579.4, 3066.45, 527.5, 3019.1, 7051.95, 1190.5, 4448.8, 2497.35, 6273.4, 2511.55, 318.6, 7323.15, 7521.95, 2369.7, 2939.8, 4408.45, 3320.75, 3972.25, 1126.75, 2413.05, 1581.95, 5846.65, 6018.65, 2016.45, 683.25, 5685.8, 1992.2, 1007.9, 5036.9, 6521.9, 617.85, 516.3, 2364.0, 2042.05, 4116.8, 1317.95, 4594.65, 6332.75, 3213.75, 4976.15, 7308.95, 4555.2, 6982.5, 741.0, 31.9, 6674.65, 1843.05, 4535.85, 2312.55, 3250.45, 5610.15, 2440.25, 6860.6, 1260.7, 7534.65, 3053.0, 677.05, 295.55, 198.25, 4822.85, 1355.45, 1636.95, 6687.85, 113.5, 2568.15, 5825.5, 4449.75, 310.6, 1623.15, 2498.4, 2448.5, 3128.8, 943.1, 7069.3, 742.9, 6423.0, 2743.45, 6055.55, 296.15, 6029.0, 990.45, 3219.75, 4554.85, 7332.4, 249.55, 4475.9, 1374.35, 3715.65, 2044.75, 2188.45, 1888.65, 2635.0, 2347.85, 2198.9, 190.25, 5163.0, 242.4, 4264.25, 2774.55, 534.7, 947.4, 1476.25, 5903.15, 140.95, 592.65, 2018.1, 943.85, 245.15, 4079.55, 2391.15, 529.5, 28.3, 3581.6, 989.05, 351.55, 1489.3, 34.8, 2177.45, 3950.85, 3913.3, 533.5, 3756.45, 443.9, 3110.1, 4138.9, 5121.75, 4858.7, 3723.65, 4534.9, 1157.05, 2083.1, 7677.4, 259.65, 8109.8, 2386.85, 749.35, 1171.5, 708.8, 791.15, 4639.45, 4029.95, 2658.4, 2230.85, 7281.6, 411.45, 172.35, 4968.0, 3645.5, 5621.85, 593.2, 2763.35, 2640.55, 2911.8, 4126.2, 5373.1, 2898.95, 1893.5, 1654.45, 477.05, 849.9, 3994.05, 1980.3, 4753.85, 3665.55, 272.0, 1544.05, 4059.35, 1187.05, 600.25, 1441.8, 695.85, 4155.95, 395.6, 638.0, 2034.25, 3419.5, 942.95, 6137.0, 3870.0, 595.05, 1908.35, 4309.55, 587.7, 3876.2, 1226.45, 342.3, 4885.85, 405.6, 5743.05, 189.45, 96.8, 4263.4, 3965.05, 3772.65, 1026.35, 5031.85, 326.65, 5471.75, 1061.6, 1971.5, 660.05, 6590.8, 989.45, 4830.25, 3088.25, 3134.7, 6529.25, 3165.6, 543.0, 867.3, 4692.95, 5301.1, 6975.25, 979.05, 4119.4, 605.25, 4267.15, 918.7, 57.4, 4284.65, 7138.65, 1539.75, 2781.85, 2669.45, 1403.1, 877.35, 1696.2, 1032.05, 1992.85, 1714.95, 343.6, 520.1, 7383.7, 4483.95, 1327.4, 5040.2, 422.7, 1699.15, 3563.8, 1927.3, 3021.3, 1264.2, 1523.4, 3435.6, 4549.45, 955.6, 73.1, 3399.85, 6431.05, 5867.0, 196.35, 6449.15, 785.75, 1445.95, 6252.7, 587.1, 798.2, 3045.75, 767.9, 4689.15, 6754.35, 2184.6, 7629.85, 6312.9, 914.6, 1633.0, 2610.65, 1466.1, 8684.8, 7049.5, 860.85, 5012.1, 478.1, 761.85, 2282.95, 1285.8, 4211.55, 7262.0, 700.45, 2966.95, 5290.45, 607.7, 5431.4, 6004.85, 4428.6, 416.45, 6688.1, 4224.7, 4042.2, 357.7, 3182.95, 3704.15, 754.0, 467.15, 373.0, 481.1, 5013.0, 19.85, 666.0, 94.45, 4134.7, 2375.4, 4862.5, 4982.5, 6979.8, 4920.8, 1021.8, 5276.1, 7365.7, 1195.95, 2597.6, 4213.9, 5017.7, 2959.8, 7133.1, 711.95, 2201.75, 806.95, 7344.45, 755.4, 2075.1, 5299.65, 5042.75, 812.4, 3509.4, 2789.7, 7953.25, 3035.35, 4300.8, 2308.6, 3255.35, 173.15, 4510.8, 5317.8, 4140.1, 2530.4, 6880.85, 5329.55, 2209.75, 1174.35, 2606.35, 150.85, 469.65, 548.8, 6405.0, 459.6, 6145.85, 7053.35, 4134.85, 7942.15, 1391.65, 1810.85, 445.3, 1388.75, 185.2, 417.5, 344.5, 5437.1, 3674.95, 4154.55, 847.8, 3030.6, 1031.4, 921.3, 3124.5, 6689.0, 350.1, 452.35, 930.45, 5844.65, 2462.6, 2320.8, 4062.2, 331.3, 1964.6, 7804.15, 4692.55, 6779.05, 4345.0, 1714.55, 2638.1, 946.95, 6363.45, 950.75, 393.15, 5718.2, 280.4, 3478.15, 7238.6, 5703.25, 7397.0, 164.6, 3184.25, 1604.5, 1734.5, 7047.5, 4459.8, 7459.0, 4533.9, 4228.55, 3729.75, 1857.3, 7322.5, 3627.3, 1725.95, 2471.25, 7220.35, 4070.95, 2134.3, 6000.1, 2203.1, 183.15, 7181.95, 2560.1, 2531.4, 6993.65, 5762.95, 1537.85, 2603.3, 2258.25, 4520.15, 7251.9, 6225.4, 1242.25, 99.45, 3462.1, 2813.05, 6314.35, 3187.65, 970.55, 1115.15, 978.6, 84.75, 5639.05, 424.5, 5270.6, 2884.9, 255.6, 644.5, 989.05, 4664.2, 3470.8, 5251.75, 6903.1, 5535.8, 695.05, 5552.05, 4236.6, 3930.55, 6856.95, 2658.8, 4480.7, 1553.2, 219.5, 5311.85, 2405.05, 682.15, 4525.8, 2541.25, 746.75, 3912.9, 368.85, 1654.7, 6179.35, 4589.85, 1342.15, 1216.35, 7578.05, 2603.95, 6056.9, 2983.65, 433.5, 429.55, 488.25, 5166.2, 4914.8, 5445.95, 1007.8, 1004.5, 501.35, 4126.35, 2424.45, 998.1, 1383.6, 864.55, 701.05, 2796.45, 5696.6, 1859.5, 5629.15, 958.45, 403.15, 4392.5, 1096.6, 2343.85, 3471.1, 1930.9, 4304.0, 3472.05, 117.8, 3132.75, 2106.3, 6205.5, 3882.3, 68.2, 1758.9, 7674.55, 228.75, 3416.85, 2283.3, 2333.05, 5890.0, 475.1, 6581.9, 1347.15, 3974.15, 2479.25, 3692.85, 1068.15, 3561.15, 1763.55, 1848.8, 723.3, 124.4, 2961.4, 3264.45, 2815.25, 5757.2, 3836.3, 6001.45, 1336.35, 4295.35, 5785.5, 52.05, 2727.3, 2816.65, 538.5, 470.6, 800.3, 6838.6, 4297.6, 2274.1, 2078.95, 1416.2, 4793.8, 3160.55, 4959.15, 1663.75, 2188.5, 872.65, 1387.35, 304.6, 4368.95, 4653.85, 928.4, 5598.3, 4374.55, 2191.7, 239.75, 5189.75, 5060.9, 7176.55, 3263.9, 1993.2, 129.15, 7491.75, 5835.5, 727.8, 763.1, 4299.2, 1630.4, 264.8, 4541.9, 1595.5, 685.55, 3874.1, 4916.95, 1023.75, 1549.75, 97.5, 5916.45, 6891.45, 3581.4, 727.85, 280.85, 6069.25, 3274.35, 6109.65, 938.95, 3877.95, 25.85, 38.25, 3348.1, 3023.85, 6241.35, 2317.1, 5231.3, 5275.8, 1299.1, 5733.4, 1625.0, 7234.8, 788.05, 1266.35, 688.2, 4983.05, 4113.15, 471.85, 4299.75, 4551.5, 4693.2, 7610.1, 4442.75, 1423.15, 450.65, 2220.1, 3283.05, 4939.25, 335.95, 1119.35, 116.6, 1362.85, 4786.1, 3835.55, 1580.1, 7222.75, 8309.55, 2773.9, 5409.75, 5643.4, 1985.15, 4335.2, 2483.65, 1794.8, 6441.4, 5448.6, 730.1, 5860.7, 1064.95, 5769.6, 2802.3, 184.4, 7475.1, 2862.55, 469.25, 4213.35, 3529.95, 6176.6, 931.9, 776.25, 5243.05, 2540.1, 2484.0, 2619.15, 2790.65, 2276.1, 2029.05, 4653.25, 3431.75, 2587.7, 5125.75, 4801.1, 6219.6, 7862.25, 792.15, 4096.9, 641.25, 345.5, 345.9, 5811.8, 3491.55, 3358.65, 525.55, 934.8, 6816.95, 4138.7, 5764.7, 693.45, 5069.65, 2298.9, 369.6, 5206.55, 3626.1, 7968.85, 2053.05, 3425.35, 6109.75, 411.25, 105.5, 465.45, 1885.15, 2264.5, 693.3, 3824.2, 3886.05, 412.55, 817.95, 1507.0, 5567.55, 7432.05, 1193.05, 1958.45, 3887.85, 1267.0, 633.45, 533.9, 676.15, 3804.4, 5236.4, 1386.8, 5673.7, 997.75, 900.9, 1798.65, 3886.45, 2511.95, 1931.3, 402.6, 7388.45, 1700.9, 2427.1, 3488.15, 2799.0, 6256.2, 5059.75, 3023.65, 7142.5, 332.65, 7110.75, 1958.95, 5528.9, 1463.7, 3815.4, 3014.65, 4839.15, 5139.65, 309.35, 2354.8, 1334.0, 1348.9, 1686.85, 4013.8, 7195.35, 5798.3, 257.0, 2882.25, 2985.25, 2319.8, 5224.5, 6613.65, 7181.25, 3357.9, 4977.2, 2090.25, 4905.75, 2038.7, 4014.0, 2441.7, 7493.05, 3361.05, 3833.95, 294.95, 2651.2, 5720.95, 3251.3, 3088.75, 6770.5, 4730.6, 1151.05, 3342.0, 2780.6, 2208.05, 6418.9, 4871.45, 4947.55, 1525.35, 3726.15, 1588.75, 7113.75, 993.15, 2728.6, 1343.4, 486.2, 727.8, 7544.3, 3316.1, 743.3, 1990.5, 7362.9], \"xaxis\": \"x2\", \"y\": [34, 45, 62, 58, 52, 12, 27, 10, 17, 60, 63, 66, 18, 47, 52, 56, 46, 45, 35, 71, 38, 66, 72, 32, 43, 52, 56, 71, 64, 3, 30, 70, 22, 11, 43, 53, 32, 61, 33, 13, 43, 27, 33, 64, 29, 1, 12, 24, 31, 41, 41, 42, 51, 32, 50, 45, 22, 35, 23, 23, 48, 51, 38, 54, 9, 8, 46, 68, 63, 41, 64, 17, 42, 58, 71, 33, 56, 43, 17, 41, 42, 23, 32, 11, 68, 60, 46, 29, 44, 52, 68, 36, 54, 64, 28, 72, 17, 72, 61, 22, 34, 70, 20, 28, 67, 52, 58, 68, 33, 69, 34, 65, 50, 56, 38, 56, 15, 11, 11, 56, 31, 5, 46, 51, 2, 66, 32, 51, 44, 66, 62, 40, 66, 10, 40, 56, 49, 50, 45, 2, 53, 48, 40, 51, 52, 31, 47, 22, 47, 27, 2, 30, 63, 14, 17, 33, 59, 63, 46, 24, 68, 31, 62, 58, 34, 55, 47, 60, 50, 70, 62, 55, 12, 15, 12, 62, 66, 26, 59, 57, 51, 60, 26, 67, 49, 27, 37, 63, 56, 19, 72, 12, 21, 60, 63, 30, 12, 65, 24, 17, 62, 35, 39, 34, 53, 23, 12, 64, 28, 47, 56, 16, 8, 52, 29, 40, 36, 26, 14, 20, 58, 52, 51, 29, 41, 25, 67, 54, 42, 38, 50, 19, 25, 23, 14, 29, 52, 62, 67, 25, 26, 1, 70, 60, 14, 53, 58, 35, 38, 37, 53, 56, 62, 30, 54, 61, 13, 24, 45, 46, 56, 59, 53, 36, 25, 36, 1, 63, 24, 70, 36, 42, 48, 39, 32, 60, 43, 59, 22, 50, 64, 57, 66, 54, 5, 61, 46, 33, 62, 41, 64, 14, 71, 64, 48, 71, 23, 43, 40, 8, 58, 52, 42, 36, 23, 62, 61, 44, 39, 51, 56, 23, 66, 8, 49, 45, 41, 56, 37, 63, 53, 39, 47, 15, 68, 17, 21, 56, 42, 50, 46, 69, 17, 51, 67, 49, 46, 56, 48, 3, 48, 66, 7, 59, 1, 14, 66, 67, 56, 12, 39, 54, 42, 66, 29, 68, 17, 51, 64, 61, 66, 41, 27, 62, 44, 50, 58, 27, 63, 18, 60, 42, 44, 35, 71, 17, 42, 56, 59, 69, 19, 38, 6, 26, 48, 64, 47, 27, 23, 12, 41, 40, 7, 44, 65, 53, 20, 51, 51, 63, 70, 42, 23, 66, 69, 53, 20, 27, 58, 45, 22, 49, 31, 67, 52, 12, 71, 24, 67, 41, 7, 51, 30, 65, 39, 14, 16, 36, 69, 37, 55, 33, 45, 46, 12, 40, 51, 23, 21, 62, 46, 51, 13, 59, 21, 19, 5, 50, 56, 28, 17, 19, 36, 72, 67, 34, 50, 10, 33, 58, 41, 27, 44, 34, 15, 64, 15, 60, 56, 52, 30, 54, 48, 67, 9, 71, 18, 43, 35, 72, 57, 25, 47, 56, 48, 8, 67, 55, 66, 11, 11, 29, 71, 8, 33, 71, 31, 38, 71, 42, 28, 42, 25, 27, 11, 18, 59, 50, 9, 17, 28, 57, 70, 49, 29, 28, 68, 38, 41, 50, 70, 44, 34, 29, 23, 53, 45, 41, 69, 25, 35, 12, 62, 47, 38, 18, 27, 21, 71, 64, 67, 25, 28, 60, 65, 52, 39, 59, 62, 33, 51, 27, 29, 30, 69, 7, 52, 61, 53, 24, 28, 62, 25, 49, 64, 61, 34, 3, 69, 26, 64, 12, 53, 13, 25, 27, 71, 55, 62, 9, 7, 65, 66, 53, 13, 40, 42, 66, 24, 60, 17, 24, 19, 31, 58, 48, 37, 13, 21, 43, 32, 50, 40, 64, 53, 56, 20, 34, 24, 57, 52, 26, 1, 27, 11, 29, 18, 33, 23, 67, 32, 67, 48, 61, 67, 25, 17, 25, 51, 61, 71, 51, 60, 9, 4, 28, 39, 17, 43, 44, 70, 44, 68, 70, 24, 70, 41, 26, 29, 14, 24, 50, 52, 28, 17, 58, 3, 22, 40, 40, 48, 64, 17, 41, 51, 68, 53, 36, 61, 54, 11, 17, 66, 61, 47, 24, 65, 13, 23, 60, 69, 19, 68, 33, 31, 25, 37, 66, 26, 63, 38, 66, 40, 16, 72, 71, 54, 31, 46, 41, 58, 56, 58, 26, 58, 61, 35, 31, 68, 28, 53, 53, 61, 11, 25, 41, 34, 40, 36, 46, 58, 39, 52, 70, 65, 70, 35, 2, 65, 23, 47, 26, 44, 58, 44, 66, 51, 70, 57, 37, 16, 10, 46, 25, 29, 71, 6, 28, 63, 53, 17, 72, 36, 40, 34, 50, 70, 13, 61, 55, 69, 16, 60, 53, 39, 51, 67, 7, 51, 22, 54, 30, 50, 19, 40, 37, 30, 9, 68, 10, 55, 44, 28, 23, 62, 67, 8, 24, 26, 12, 11, 52, 43, 29, 2, 43, 50, 17, 46, 2, 25, 51, 57, 24, 64, 4, 35, 47, 54, 50, 68, 41, 21, 26, 72, 13, 72, 42, 38, 48, 35, 39, 59, 48, 37, 50, 67, 10, 9, 56, 59, 52, 32, 42, 43, 37, 51, 54, 51, 36, 28, 7, 42, 67, 59, 46, 56, 14, 22, 49, 30, 33, 22, 36, 53, 20, 35, 26, 53, 47, 63, 67, 27, 26, 65, 32, 50, 61, 18, 69, 23, 55, 10, 7, 69, 61, 48, 55, 45, 16, 56, 57, 56, 10, 63, 13, 43, 42, 57, 62, 35, 28, 45, 48, 52, 66, 12, 67, 24, 51, 49, 3, 56, 65, 71, 32, 38, 69, 13, 29, 49, 36, 21, 13, 25, 66, 45, 67, 63, 21, 66, 58, 27, 30, 16, 31, 48, 50, 19, 4, 64, 54, 60, 11, 61, 37, 17, 57, 30, 41, 53, 9, 71, 68, 26, 72, 62, 39, 18, 52, 25, 72, 60, 44, 71, 23, 42, 32, 26, 43, 69, 35, 54, 49, 32, 50, 58, 38, 20, 64, 60, 50, 19, 39, 44, 35, 22, 9, 23, 66, 1, 35, 6, 69, 44, 53, 71, 65, 49, 53, 55, 61, 67, 38, 55, 64, 56, 72, 18, 32, 41, 67, 37, 41, 54, 53, 18, 57, 48, 71, 48, 58, 30, 46, 7, 44, 47, 57, 30, 64, 63, 27, 45, 36, 7, 24, 22, 61, 26, 58, 62, 39, 66, 41, 23, 23, 48, 10, 20, 19, 54, 68, 55, 33, 35, 22, 49, 33, 67, 21, 22, 45, 65, 55, 28, 40, 7, 29, 67, 71, 66, 49, 66, 30, 17, 61, 15, 20, 53, 12, 50, 66, 51, 70, 9, 53, 48, 29, 65, 45, 72, 43, 40, 41, 33, 68, 55, 19, 35, 69, 59, 69, 66, 37, 9, 66, 46, 33, 61, 68, 46, 33, 57, 49, 69, 58, 24, 5, 55, 47, 64, 38, 25, 12, 26, 4, 54, 18, 56, 56, 6, 35, 50, 46, 34, 61, 64, 57, 37, 55, 46, 41, 71, 37, 64, 26, 10, 53, 33, 33, 45, 49, 35, 44, 12, 28, 71, 55, 54, 51, 72, 44, 66, 68, 22, 21, 22, 49, 61, 70, 51, 48, 27, 46, 31, 55, 35, 15, 13, 45, 68, 20, 64, 39, 20, 64, 28, 39, 44, 35, 43, 49, 4, 40, 34, 58, 43, 4, 33, 70, 12, 32, 40, 32, 59, 22, 68, 23, 44, 37, 39, 53, 60, 69, 31, 30, 6, 61, 70, 35, 62, 35, 62, 61, 44, 53, 3, 34, 46, 23, 11, 33, 70, 52, 26, 27, 20, 56, 42, 62, 22, 36, 12, 17, 15, 57, 65, 52, 67, 60, 39, 15, 50, 54, 68, 41, 34, 7, 66, 53, 37, 38, 58, 39, 7, 59, 64, 10, 65, 55, 26, 21, 4, 52, 66, 48, 14, 17, 65, 57, 56, 50, 39, 1, 2, 36, 32, 61, 44, 50, 47, 13, 68, 21, 69, 29, 25, 15, 62, 70, 26, 51, 70, 59, 69, 45, 25, 22, 27, 54, 57, 15, 23, 6, 26, 59, 39, 31, 64, 71, 60, 55, 54, 30, 40, 28, 47, 60, 55, 38, 61, 10, 65, 38, 10, 70, 38, 8, 41, 54, 60, 15, 43, 63, 58, 31, 32, 52, 52, 41, 67, 67, 31, 58, 60, 58, 66, 17, 59, 14, 8, 18, 60, 53, 37, 26, 17, 67, 70, 63, 15, 49, 63, 18, 53, 35, 70, 34, 62, 63, 18, 6, 23, 34, 45, 10, 49, 54, 22, 43, 26, 64, 66, 22, 29, 48, 59, 7, 24, 10, 69, 50, 28, 61, 51, 49, 47, 36, 36, 43, 11, 67, 39, 30, 40, 28, 59, 50, 48, 67, 15, 68, 52, 70, 43, 56, 51, 51, 71, 14, 38, 56, 14, 19, 43, 70, 67, 13, 42, 48, 45, 63, 62, 71, 53, 48, 22, 51, 30, 56, 35, 69, 33, 53, 15, 48, 58, 35, 61, 68, 47, 32, 38, 49, 50, 56, 53, 51, 37, 35, 20, 71, 43, 41, 67, 23, 12, 72, 55, 12, 24, 72], \"yaxis\": \"y2\"}, {\"hovertemplate\": \"Contract=Two year<br>TotalCharges=%{x}<br>tenure=%{y}<extra></extra>\", \"legendgroup\": \"\", \"marker\": {\"color\": \"#636efa\", \"symbol\": \"circle\"}, \"mode\": \"markers\", \"name\": \"\", \"showlegend\": false, \"type\": \"scattergl\", \"x\": [326.8, 7895.15, 7382.25, 3505.1, 6369.45, 6766.95, 7251.7, 4872.35, 4861.45, 4217.8, 4254.1, 894.3, 7853.7, 2962.0, 2497.2, 930.9, 7099.0, 1424.6, 973.35, 1057.0, 927.1, 5714.25, 7459.05, 1107.2, 7611.85, 1363.25, 3423.5, 1126.35, 835.15, 3027.65, 1723.95, 3260.1, 1188.2, 1277.75, 1170.55, 6425.65, 5971.25, 1756.2, 6416.7, 5215.25, 1024.0, 251.6, 3958.25, 1363.45, 6254.45, 1181.75, 1375.4, 8129.3, 1192.7, 587.4, 8041.65, 7405.5, 4179.2, 1124.2, 3139.8, 3789.2, 5324.5, 1836.9, 4107.25, 5760.65, 1566.9, 299.05, 284.35, 6350.5, 7878.3, 4103.9, 7008.15, 1520.1, 5526.75, 1195.25, 1099.6, 1732.95, 3450.15, 5436.45, 4109.0, 1229.1, 2054.4, 4895.1, 1355.1, 4264.0, 4176.7, 739.35, 4759.85, 6148.45, 6223.8, 1303.5, 2278.75, 6823.4, 3959.15, 945.7, 8126.65, 830.8, 5308.7, 4732.35, 5067.45, 5965.95, 419.4, 1468.75, 6858.9, 1024.7, 4784.45, 899.45, 8468.2, 1270.25, 7611.55, 1417.9, 2369.3, 8404.9, 2799.75, 6538.45, 868.1, 225.75, 6130.85, 6201.95, 6597.25, 1397.65, 5676.0, 5502.55, 8399.15, 686.95, 5706.3, 490.65, 1360.25, 4946.7, 8248.5, 7966.9, 8220.4, 1153.25, 514.75, 5861.75, 4973.4, 5357.75, 1103.25, 2754.0, 4747.65, 3342.45, 7422.1, 6668.05, 8071.05, 5435.0, 916.15, 1414.45, 4903.2, 6094.25, 3084.9, 8306.05, 1357.1, 3418.2, 406.95, 7943.45, 6562.9, 3109.9, 4911.35, 1620.2, 655.3, 6132.7, 4459.15, 1167.6, 4039.3, 1336.1, 7246.15, 4616.05, 6316.2, 4811.6, 4189.7, 3739.8, 1519.0, 1710.9, 4145.9, 1305.95, 605.9, 4805.65, 5730.7, 7085.5, 6697.35, 2879.9, 1551.6, 7882.25, 8196.4, 855.1, 5600.15, 1253.8, 6563.4, 4758.8, 1292.6, 8065.65, 5154.5, 3983.6, 4908.25, 3590.2, 146.6, 2339.3, 5411.4, 903.8, 3009.5, 5468.45, 7616.0, 7250.15, 1108.2, 5986.45, 3566.6, 1563.95, 963.95, 905.55, 7589.8, 5459.2, 6782.15, 6510.45, 8476.5, 4461.85, 1424.9, 6309.65, 4719.75, 5822.3, 2337.45, 121.25, 7015.9, 1269.1, 4634.35, 8310.55, 5682.25, 5398.6, 7984.15, 1798.9, 4807.45, 7039.45, 2651.1, 1304.8, 4919.7, 759.35, 1813.35, 4054.2, 5550.1, 4048.95, 4542.35, 7532.15, 808.95, 1679.25, 4513.65, 1423.85, 555.4, 225.55, 268.45, 1492.1, 784.25, 4145.25, 5585.4, 6668.35, 1416.75, 5924.4, 1697.7, 7849.85, 8046.85, 973.1, 1304.85, 4590.35, 614.45, 4523.25, 7159.7, 6253.0, 1641.8, 1678.05, 2424.5, 6293.45, 2200.7, 4577.75, 4144.8, 515.75, 8333.95, 1209.25, 1396.25, 1161.75, 1138.8, 5264.25, 1005.7, 5831.2, 8093.15, 3593.8, 1971.15, 7413.55, 2490.15, 3510.3, 5538.35, 844.45, 1505.05, 1412.65, 1090.6, 4447.75, 1830.05, 4729.3, 1685.9, 5744.35, 4805.3, 6110.75, 1046.2, 6671.7, 4818.8, 7159.05, 1574.5, 6638.35, 3112.05, 7168.25, 1326.25, 8317.95, 7544.0, 1188.25, 1240.15, 5899.85, 5193.2, 7530.8, 5460.2, 7962.2, 3810.8, 3533.6, 1396.9, 202.3, 1710.15, 1496.45, 1713.1, 609.1, 141.6, 373.5, 4322.85, 4549.05, 6474.4, 4421.95, 538.2, 3858.05, 854.8, 5815.15, 3058.15, 4904.25, 5632.55, 1643.25, 4888.2, 797.1, 1673.8, 343.45, 6078.75, 3166.9, 1177.05, 7869.05, 1088.25, 4507.15, 3834.4, 5941.05, 6998.95, 4754.3, 7213.75, 243.65, 3794.5, 1008.7, 5727.15, 1372.9, 1215.1, 1493.75, 1057.85, 1436.95, 5388.15, 5730.15, 1434.1, 937.1, 6536.5, 1128.1, 566.5, 2471.6, 5480.25, 478.75, 3517.9, 7508.55, 1245.05, 1263.85, 1638.7, 4473.45, 520.55, 5717.85, 1218.65, 7447.7, 3121.45, 6468.6, 3521.7, 1110.35, 5553.25, 5129.45, 4741.45, 3707.6, 5746.75, 6230.1, 1185.95, 4859.95, 174.65, 5016.65, 611.45, 153.3, 1849.2, 6083.1, 426.65, 804.85, 1161.75, 8375.05, 4707.85, 6152.4, 943.0, 6743.55, 2093.9, 1725.4, 967.85, 1421.9, 100.35, 3618.7, 8100.55, 1583.5, 1119.9, 8013.55, 1102.4, 4304.5, 6827.5, 4362.05, 1386.9, 1513.6, 4676.7, 8078.1, 1292.65, 7108.2, 1802.55, 1859.1, 6392.85, 1134.25, 1769.6, 6293.75, 578.5, 280.0, 1901.25, 4720.0, 930.95, 258.35, 1502.25, 6929.4, 3244.4, 1401.15, 696.8, 116.95, 6937.95, 1415.85, 1083.0, 936.85, 3857.1, 1378.45, 1734.65, 804.25, 5011.15, 3574.5, 8086.4, 6362.35, 3953.7, 5882.75, 76.65, 6441.85, 1399.35, 7657.4, 6352.4, 5931.75, 726.1, 4194.85, 265.3, 908.15, 1500.95, 6885.75, 7261.25, 3237.05, 5728.55, 390.4, 3894.4, 886.4, 6398.05, 1662.05, 4627.65, 6717.9, 2460.55, 5464.65, 5731.85, 743.5, 6825.65, 8477.7, 331.6, 6404.0, 165.35, 7455.45, 3377.8, 1346.2, 6224.8, 6325.25, 1683.6, 1514.85, 6302.8, 5981.65, 1932.75, 970.85, 5810.9, 980.35, 711.9, 8477.6, 4528.0, 1210.3, 5229.45, 2032.3, 313.0, 3871.85, 2181.75, 1498.85, 498.1, 4845.4, 369.1, 6096.9, 6994.8, 4985.9, 1284.2, 7550.3, 1110.05, 6707.15, 5873.75, 862.4, 8564.75, 1718.2, 5956.85, 4824.45, 1345.85, 7028.5, 274.7, 3370.2, 5958.85, 5999.85, 5753.25, 4492.9, 813.45, 7349.35, 929.2, 754.5, 1414.2, 2545.7, 6448.85, 1468.9, 7240.65, 830.25, 5360.75, 6735.05, 161.65, 7711.25, 8124.2, 827.3, 1789.9, 7318.2, 7576.7, 4965.0, 6151.9, 5420.65, 2627.35, 6589.6, 5229.8, 4464.8, 6688.95, 1211.65, 7030.65, 5597.65, 1024.65, 1322.85, 7843.55, 692.35, 6849.4, 6565.85, 3306.85, 197.4, 3838.2, 1263.9, 8529.5, 6549.45, 7806.5, 6287.3, 7904.25, 892.15, 4984.85, 305.55, 6465.0, 1653.85, 7887.25, 8058.85, 1719.15, 1160.45, 5163.3, 883.35, 1205.05, 1733.15, 4677.1, 5424.25, 5878.9, 4261.2, 1501.75, 3895.35, 388.6, 1354.4, 1778.7, 1816.2, 7069.25, 1841.2, 1054.75, 7334.05, 2839.45, 873.4, 1529.65, 6991.6, 1681.6, 3281.65, 6474.45, 8164.1, 1325.85, 1654.85, 7795.95, 3952.45, 1982.1, 1090.1, 8425.3, 7061.65, 3364.55, 332.5, 5963.95, 278.85, 1871.85, 4303.65, 1753.0, 982.95, 4003.0, 813.3, 1296.15, 7082.85, 5662.25, 5265.2, 7129.45, 8496.7, 261.3, 6697.2, 5564.85, 826.1, 5377.8, 3617.1, 1559.3, 7987.6, 1547.35, 4534.45, 1584.8, 5437.75, 255.55, 5175.3, 3177.25, 5196.1, 8405.0, 828.85, 6029.9, 1842.7, 7334.05, 8277.05, 1414.8, 2719.2, 6365.35, 1887.0, 5064.85, 6733.0, 2618.3, 4084.35, 613.95, 581.85, 3254.35, 4447.55, 7321.05, 4135.0, 697.7, 2513.5, 4868.4, 3297.0, 2809.05, 1851.45, 5551.15, 4317.35, 779.25, 3483.45, 4890.5, 757.95, 1657.4, 3008.55, 8165.1, 875.55, 790.0, 1237.65, 20.45, 3638.25, 4017.45, 810.3, 772.4, 1070.5, 5817.45, 5595.3, 867.3, 3007.25, 6306.5, 7082.5, 5969.85, 1014.25, 1225.65, 1686.15, 6716.45, 7839.85, 1110.05, 348.8, 3888.65, 6843.15, 949.8, 3334.95, 4684.3, 1303.25, 2409.9, 6155.4, 8182.85, 6683.4, 755.6, 6292.7, 1664.3, 6045.9, 7114.25, 907.05, 973.95, 6561.25, 7337.55, 5194.05, 4478.85, 1866.45, 1430.95, 6457.15, 3914.05, 3842.6, 670.35, 7880.25, 2345.55, 210.65, 3566.7, 5186.0, 1672.15, 6339.3, 1688.9, 369.05, 7553.6, 4641.1, 7690.9, 6342.7, 6700.05, 3486.65, 1559.15, 4318.35, 3038.55, 2296.25, 3846.35, 5646.6, 4310.35, 1023.95, 8182.75, 1444.05, 7372.65, 7325.1, 1718.35, 5776.45, 5682.25, 3121.4, 4759.55, 435.25, 1281.25, 3527.0, 561.15, 5129.3, 4285.8, 5894.5, 1160.75, 3632.0, 1035.5, 52.0, 1821.8, 4024.2, 6520.8, 8308.9, 571.75, 5498.2, 1245.6, 452.55, 1267.05, 494.9, 106.9, 8012.75, 5607.75, 1460.85, 292.4, 5071.9, 3068.6, 4690.65, 4671.65, 272.35, 5714.2, 3571.6, 7634.25, 3870.3, 387.9, 1714.95, 212.3, 1079.05, 6161.9, 454.0, 6297.65, 3265.95, 358.15, 4652.4, 1389.35, 1629.2, 6033.1, 1867.7, 6912.7, 6424.7, 3373.4, 1080.55, 1263.05, 7714.65, 130.5, 1875.25, 6480.9, 7104.2, 4214.25, 6859.05, 7689.95, 6239.05, 5714.2, 789.55, 1790.8, 1433.8, 1078.75, 4519.5, 1377.7, 7939.25, 1279.0, 6586.85, 7965.95, 6741.15, 7209.0, 7726.35, 7581.5, 6126.1, 6333.4, 4158.25, 7149.35, 1429.65, 470.0, 290.55, 4674.55, 4220.35, 4055.5, 6129.2, 6652.45, 1379.6, 412.6, 7845.8, 1750.7, 3721.9, 1004.35, 1847.55, 1766.75, 1462.05, 2193.2, 2398.4, 861.85, 6994.6, 2263.45, 3778.2, 7156.2, 761.95, 4059.85, 1356.7, 231.45, 4069.9, 1201.65, 1759.4, 844.45, 7774.05, 7732.65, 3771.5, 3175.85, 2762.75, 5919.35, 8240.85, 1115.6, 890.5, 5154.6, 3119.9, 6110.2, 5930.05, 5638.3, 7297.75, 6301.7, 3822.45, 1048.45, 6393.65, 5763.15, 1031.7, 1319.95, 1740.8, 6144.55, 4089.45, 864.2, 2715.3, 1782.05, 485.9, 1905.7, 1782.0, 8297.5, 4681.75, 7990.05, 1402.25, 8425.15, 7567.2, 6925.9, 223.15, 6758.45, 1874.3, 6172.0, 1328.35, 5536.5, 7806.6, 6296.75, 1441.65, 7511.3, 7919.8, 1423.65, 692.1, 6705.7, 1672.35, 1654.6, 1857.85, 6424.25, 5991.05, 4891.5, 487.05, 4131.2, 4900.65, 5727.45, 743.05, 4804.65, 1414.65, 1443.65, 5309.5, 451.55, 4546.0, 8058.55, 7049.75, 2560.1, 7982.5, 1534.05, 1093.0, 2893.4, 3886.85, 5917.55, 5948.7, 3624.35, 6869.7, 2431.95, 1859.2, 3409.1, 5515.8, 6668.0, 6944.5, 692.55, 5401.9, 1013.2, 6511.8, 7009.5, 6921.7, 4664.15, 1028.75, 6330.4, 1424.2, 3379.25, 1901.0, 3515.25, 4929.55, 8436.25, 987.95, 4575.35, 7922.75, 3778.85, 8349.45, 3948.45, 6590.5, 717.95, 1801.9, 1764.75, 1255.1, 3921.1, 1463.45, 1846.65, 8456.75, 7840.6, 6632.75, 1416.5, 5542.55, 8443.7, 5708.2, 2016.3, 856.5, 1275.85, 7467.5, 7261.75, 1208.15, 2006.95, 8312.4, 6637.9, 6786.1, 1327.15, 1274.05, 3371.0, 1079.45, 6997.3, 3349.1, 1344.5, 1121.05, 521.8, 4566.5, 2603.1, 6322.1, 1898.1, 3273.95, 7746.7, 3103.25, 5330.2, 5038.45, 1192.3, 4995.35, 5034.05, 1387.45, 5974.3, 3046.4, 358.05, 7556.9, 4858.7, 5025.85, 3353.4, 4428.45, 4917.75, 5743.3, 1390.85, 6067.4, 1222.25, 487.95, 2548.55, 835.5, 6218.45, 6333.8, 5950.2, 1614.9, 5375.15, 3090.05, 1493.1, 1784.9, 6075.9, 1230.9, 454.65, 6595.9, 762.45, 1776.0, 5396.25, 5212.65, 6440.25, 6463.15, 3201.55, 1335.2, 7555.0, 5293.4, 1988.05, 8424.9, 387.4, 8100.25, 1432.55, 1372.45, 1212.25, 6237.05, 6310.9, 5031.0, 8672.45, 220.8, 5779.6, 5560.0, 6567.9, 1759.55, 4234.15, 300.7, 4323.35, 1776.45, 2933.95, 4804.75, 8332.15, 1709.15, 777.35, 4820.15, 7875.0, 6725.3, 6293.2, 2434.45, 1042.65, 6058.95, 4854.3, 7748.75, 1334.5, 5655.45, 5265.1, 5174.35, 3346.8, 217.5, 5957.9, 5442.05, 4370.25, 3580.95, 1198.8, 1755.35, 3772.5, 1397.3, 4620.4, 8312.75, 1521.2, 3389.25, 1198.05, 1728.2, 1051.9, 1738.9, 1316.9, 7993.3, 1388.45, 1413.0, 1050.5, 7634.8, 3116.15, 8289.2, 5824.75, 1331.05, 3946.9, 4299.95, 1052.35, 4916.4, 7559.55, 4191.45, 1620.45, 1376.5, 825.4, 1356.3, 6605.55, 6991.9, 590.35, 1123.15, 6065.3, 1067.65, 4136.4, 8022.85, 1158.85, 6954.15, 1672.1, 4307.1, 6141.65, 1054.8, 5430.65, 1086.75, 2692.75, 1389.6, 3753.2, 637.55, 7751.7, 5969.3, 400.0, 554.25, 3522.65, 3656.25, 1873.7, 7346.2, 3708.4, 1385.85, 6042.7, 1730.65, 4664.5, 3496.3, 301.55, 2960.1, 116.85, 5321.25, 1379.8, 810.45, 7782.85, 1797.1, 7624.2, 6981.35, 1275.6, 5893.9, 2390.45, 1493.2, 144.15, 6368.2, 3729.6, 1272.05, 3199.0, 6263.8, 7881.2, 370.5, 4097.05, 8166.8, 3047.15, 4193.4, 486.05, 7623.2, 1261.45, 6347.55, 1123.65, 1388.0, 1114.85, 1777.6, 4124.65, 1149.65, 4539.6, 6397.6, 5711.05, 2198.3, 1189.9, 1914.5, 5336.35, 7998.8, 6555.2, 2313.8, 7852.4, 2763.0, 1538.6, 5563.65, 6725.5, 1411.2, 264.55, 4671.7, 7842.3, 4990.25, 6077.75, 6194.1, 1337.5, 1790.15, 4760.3, 5705.05, 4122.65, 5566.4, 1092.35, 3460.3, 5555.3, 1278.8, 4504.9, 2316.85, 8075.35, 2302.35, 599.25, 2375.2, 5293.2, 1593.1, 3330.1, 5522.7, 4798.4, 8594.4, 7665.8, 3686.05, 1258.15, 1715.1, 1715.15, 1250.1, 3996.8, 5215.1, 7291.75, 4415.75, 2395.05, 638.55, 191.1, 6910.3, 4014.2, 1288.0, 6375.8, 815.55, 5602.25, 8244.3, 741.5, 4375.8, 5968.4, 3901.25, 5661.7, 4759.75, 1498.35, 5411.65, 6895.5, 3766.2, 679.0, 3846.75, 499.4, 6435.25, 5986.55, 5487.0, 6856.45, 4735.2, 1748.55, 1077.95, 3694.45, 1940.85, 5289.8, 6140.85, 309.25, 2553.7, 689.35, 4657.95, 8016.6, 6428.4, 5883.85, 1724.15, 1298.7, 1378.75, 8543.25, 1924.1, 5784.3, 5315.8, 833.55, 6579.05, 7856.0, 1183.05, 2460.15, 265.75, 1698.55, 493.4, 5165.7, 7470.1, 1131.5, 7511.9, 1725.0, 4479.2, 1554.9, 3210.35, 903.7, 879.8, 4390.25, 5329.0, 5737.6, 1809.35, 7752.05, 4060.9, 3952.65, 494.05, 1498.65, 471.35, 1041.8, 7689.8, 1311.3, 1326.35, 6376.55, 935.9, 6989.7, 2779.5, 8331.95, 735.9, 1445.2, 1029.8, 1796.55, 1049.6, 1978.65, 5625.55, 3808.2, 7661.8, 5601.4, 4828.05, 5980.55, 4808.7, 917.45, 6096.45, 475.2, 7932.5, 2768.65, 1663.5, 1094.35, 7719.5, 4932.5, 5443.65, 6631.85, 8250.0, 5234.95, 1709.1, 602.9, 7517.7, 1234.8, 6388.65, 677.9, 921.55, 847.25, 4386.2, 2018.4, 263.65, 948.9, 5897.4, 269.65, 1789.65, 1626.4, 4627.8, 1268.85, 8192.6, 1147.85, 4361.55, 7609.75, 1218.45, 1234.6, 1311.6, 6185.15, 756.4, 740.3, 5706.2, 4855.35, 641.35, 1374.2, 6692.65, 1125.6, 978.0, 746.05, 20.35, 262.05, 8033.1, 1253.65, 1036.0, 4025.5, 6506.15, 609.05, 689.75, 967.9, 809.25, 7723.9, 1016.7, 3126.45, 1070.15, 1401.4, 1510.5, 4976.15, 7542.25, 6891.4, 1548.65, 4226.7, 7074.4, 6849.75, 3263.6, 1252.85, 5750.0, 1810.55, 7467.55, 5484.4, 7854.9, 1447.9, 8547.15, 159.35, 3795.45, 8175.9, 890.35, 3623.95, 4577.9, 1270.55, 7711.45, 2907.55, 3480.35, 1031.1, 6471.85, 6501.35, 165.5, 6614.9, 7430.75, 630.6, 1222.65, 4860.85, 387.7, 845.25, 4230.25, 521.0, 7548.6, 1654.75, 6227.5, 1474.35, 7285.7, 7658.3, 5959.3, 3512.9, 5231.2, 3603.45, 6875.35, 5611.75, 4543.95, 450.4, 1297.35, 4378.35, 558.8, 4237.5, 7188.5, 68.8, 7752.3, 6585.35, 397.0, 1027.25, 4233.95, 1680.25, 7707.7, 1888.25, 3238.4, 1573.05, 2748.7, 6367.2, 4904.2, 7173.15, 7039.05, 730.4, 7279.35, 5886.85, 788.55, 4378.8, 3442.8, 7171.7, 553.0, 96.85, 1482.3, 1240.8, 857.75, 6093.3, 1079.65, 7723.7, 4265.0, 3246.45, 8337.45, 5731.4, 7348.8, 7679.65, 1006.9, 3097.2, 1524.85, 1784.5, 3937.45, 802.35, 343.45, 1191.4, 2554.0, 5589.45, 467.7, 550.1, 3533.6, 1286.0, 705.45, 124.45, 7920.7, 6640.7, 5703.0, 483.15, 770.4, 3457.45, 4630.2, 3221.25, 4746.05, 428.45, 1177.95, 1458.1, 398.55, 2965.75, 3751.15, 8152.3, 130.25, 162.15, 6302.85, 5265.55, 5997.1, 7283.25, 1070.25, 1171.3, 625.65, 1911.5, 5832.65, 4166.35, 7898.45, 1301.1, 958.15, 3845.45, 6129.65, 1118.8, 5574.35, 689.0, 1618.2, 1173.35, 6719.9, 3784.0, 6034.85, 531.6, 467.5, 2288.7, 4627.85, 6460.55, 7758.9, 224.5, 3460.95, 645.8, 5224.95, 1035.7, 7565.35, 1937.4, 1864.2, 5979.7, 3902.45, 902.0, 4481.0, 8349.7, 4953.25, 470.2, 6328.7, 1411.9, 6841.4, 4016.3, 1025.05, 552.1, 1673.4, 8670.1, 916.0, 4438.2, 4819.75, 1567.0, 1183.2, 6876.05, 1790.35, 7767.25, 876.15, 7737.55, 780.1, 107.6, 3801.7, 3147.5, 5102.35, 1872.2, 213.35, 201.7, 125.0, 684.4, 1146.05, 603.0, 4378.9, 3616.25, 1509.9, 7985.9, 564.35, 1311.75, 6185.8, 1208.6, 1787.35, 821.6, 2424.05, 383.65, 7882.5, 1087.7, 6841.3, 819.95, 6052.25, 509.3, 7365.3, 7245.9, 4615.9, 3880.05, 1396.0, 6859.5, 1022.6, 4250.1, 246.7, 1558.65, 4284.2, 5617.95, 5237.4, 5012.35, 6794.75, 4685.55, 5150.55, 1020.75, 826.0, 4326.25, 1419.4, 6844.5], \"xaxis\": \"x3\", \"y\": [16, 69, 71, 58, 72, 71, 72, 70, 63, 52, 69, 34, 72, 72, 31, 50, 64, 62, 49, 48, 46, 66, 72, 52, 68, 72, 64, 36, 41, 33, 72, 67, 43, 64, 57, 72, 61, 71, 65, 62, 16, 10, 53, 69, 72, 14, 69, 72, 59, 24, 72, 71, 72, 61, 72, 66, 65, 71, 47, 54, 72, 10, 16, 72, 72, 67, 61, 31, 61, 50, 59, 71, 57, 71, 68, 52, 29, 43, 71, 72, 69, 35, 43, 68, 71, 70, 37, 64, 41, 47, 72, 24, 61, 72, 48, 66, 20, 72, 70, 40, 72, 41, 72, 52, 72, 61, 30, 72, 70, 64, 44, 11, 72, 72, 63, 70, 71, 69, 72, 35, 56, 24, 70, 60, 72, 72, 72, 55, 23, 59, 71, 71, 60, 47, 61, 52, 72, 71, 72, 63, 16, 65, 46, 72, 38, 72, 66, 50, 20, 72, 72, 31, 68, 68, 35, 68, 65, 57, 70, 53, 65, 61, 72, 72, 66, 65, 58, 72, 71, 61, 22, 65, 72, 70, 72, 47, 61, 72, 72, 48, 70, 66, 72, 72, 65, 72, 71, 72, 72, 60, 8, 34, 70, 39, 46, 72, 71, 70, 42, 70, 43, 62, 38, 44, 72, 65, 72, 72, 72, 52, 68, 72, 72, 64, 62, 3, 72, 66, 45, 71, 53, 67, 71, 72, 72, 68, 33, 72, 72, 35, 71, 56, 71, 58, 59, 71, 40, 72, 56, 58, 22, 10, 13, 72, 37, 71, 71, 60, 62, 71, 66, 68, 72, 47, 22, 59, 32, 70, 71, 63, 69, 69, 60, 71, 39, 52, 70, 26, 72, 63, 71, 13, 45, 70, 53, 71, 72, 46, 39, 71, 35, 47, 66, 42, 60, 69, 54, 64, 72, 61, 70, 56, 55, 72, 47, 69, 64, 62, 63, 62, 55, 71, 72, 72, 72, 59, 64, 72, 62, 67, 70, 72, 66, 45, 69, 11, 71, 72, 69, 31, 8, 19, 67, 72, 72, 51, 27, 45, 39, 72, 70, 48, 64, 72, 72, 35, 66, 8, 65, 58, 63, 70, 45, 41, 36, 60, 69, 72, 71, 13, 68, 54, 71, 67, 63, 72, 59, 69, 69, 72, 72, 46, 63, 60, 22, 31, 72, 23, 65, 68, 48, 63, 62, 48, 27, 70, 65, 72, 51, 72, 67, 53, 69, 54, 68, 63, 68, 72, 58, 68, 8, 72, 23, 6, 72, 72, 23, 40, 60, 72, 63, 71, 47, 69, 30, 71, 46, 72, 6, 45, 72, 67, 56, 72, 54, 50, 72, 54, 68, 58, 63, 71, 68, 65, 72, 72, 68, 57, 72, 71, 30, 7, 36, 72, 36, 12, 72, 72, 61, 72, 32, 4, 65, 71, 55, 46, 65, 71, 72, 41, 72, 43, 72, 72, 67, 68, 4, 72, 69, 72, 72, 70, 37, 59, 13, 46, 71, 67, 72, 60, 72, 21, 57, 45, 69, 35, 67, 67, 54, 57, 70, 38, 62, 72, 15, 71, 7, 69, 71, 69, 72, 71, 66, 64, 67, 72, 50, 50, 72, 34, 30, 71, 72, 55, 67, 42, 12, 54, 30, 68, 24, 57, 15, 72, 70, 62, 67, 72, 53, 71, 56, 46, 71, 69, 71, 56, 52, 69, 12, 70, 66, 71, 72, 71, 23, 70, 45, 36, 23, 67, 72, 56, 69, 40, 72, 72, 8, 70, 72, 40, 72, 69, 72, 54, 72, 69, 48, 71, 57, 72, 72, 49, 71, 63, 49, 72, 68, 14, 71, 72, 49, 9, 67, 62, 72, 64, 69, 71, 71, 45, 60, 7, 57, 30, 72, 72, 71, 47, 50, 48, 60, 67, 67, 53, 69, 56, 61, 39, 18, 72, 72, 71, 64, 72, 52, 64, 34, 47, 72, 72, 71, 67, 70, 72, 34, 65, 70, 72, 52, 56, 72, 71, 66, 13, 65, 15, 72, 42, 71, 48, 57, 37, 62, 65, 71, 72, 72, 72, 13, 72, 71, 33, 63, 55, 63, 70, 36, 56, 64, 70, 14, 61, 66, 66, 72, 42, 71, 46, 72, 72, 72, 68, 71, 72, 54, 72, 62, 56, 32, 27, 43, 66, 67, 42, 31, 25, 67, 38, 25, 72, 50, 57, 43, 60, 58, 39, 68, 62, 72, 41, 39, 63, 1, 60, 66, 41, 41, 52, 64, 66, 42, 47, 70, 66, 57, 42, 64, 68, 72, 67, 43, 6, 71, 72, 35, 52, 72, 68, 49, 72, 69, 68, 31, 55, 68, 71, 72, 46, 40, 59, 65, 59, 72, 72, 67, 71, 35, 55, 33, 72, 62, 9, 54, 59, 67, 72, 67, 17, 68, 72, 71, 71, 65, 50, 64, 47, 52, 45, 46, 68, 71, 50, 72, 56, 72, 72, 69, 68, 72, 69, 64, 21, 51, 72, 27, 64, 45, 71, 58, 66, 58, 3, 68, 50, 72, 72, 24, 70, 63, 24, 65, 26, 5, 72, 68, 72, 14, 65, 55, 49, 67, 13, 72, 42, 69, 48, 15, 64, 12, 55, 68, 23, 68, 57, 19, 52, 71, 68, 72, 72, 62, 68, 42, 56, 67, 70, 2, 47, 69, 72, 70, 70, 72, 71, 67, 30, 72, 70, 52, 59, 68, 70, 53, 60, 72, 64, 71, 72, 72, 71, 70, 61, 68, 62, 27, 16, 63, 41, 69, 72, 72, 71, 17, 72, 72, 49, 39, 71, 71, 70, 38, 49, 37, 71, 24, 71, 67, 27, 69, 69, 11, 69, 62, 23, 25, 72, 72, 48, 55, 42, 72, 72, 57, 47, 66, 55, 54, 66, 61, 69, 72, 50, 53, 58, 72, 52, 65, 64, 58, 51, 46, 26, 70, 19, 26, 51, 71, 71, 68, 56, 72, 67, 60, 11, 60, 72, 71, 70, 70, 72, 63, 68, 68, 72, 72, 25, 63, 66, 71, 72, 66, 70, 70, 24, 69, 45, 72, 38, 72, 72, 55, 63, 23, 72, 72, 63, 56, 72, 59, 60, 46, 59, 70, 64, 58, 72, 54, 72, 54, 68, 68, 70, 29, 72, 50, 72, 67, 72, 70, 51, 63, 56, 36, 71, 71, 65, 72, 39, 72, 72, 61, 72, 68, 62, 36, 71, 70, 52, 65, 72, 24, 72, 72, 72, 71, 69, 72, 71, 33, 46, 63, 68, 69, 24, 70, 72, 72, 72, 56, 64, 45, 54, 64, 45, 66, 45, 29, 72, 33, 69, 71, 54, 72, 52, 68, 50, 59, 63, 63, 71, 68, 55, 17, 72, 70, 72, 71, 66, 49, 70, 37, 60, 51, 28, 43, 42, 63, 60, 70, 68, 68, 57, 59, 67, 66, 54, 18, 72, 39, 72, 72, 70, 72, 72, 39, 67, 71, 67, 72, 72, 19, 71, 72, 71, 58, 70, 71, 69, 72, 10, 57, 68, 56, 67, 63, 11, 55, 72, 65, 72, 72, 72, 40, 65, 72, 65, 70, 67, 51, 72, 46, 72, 52, 59, 66, 49, 56, 6, 65, 64, 66, 72, 60, 46, 69, 71, 56, 72, 72, 56, 64, 68, 56, 72, 37, 71, 71, 62, 53, 72, 59, 72, 72, 52, 34, 54, 53, 58, 72, 54, 67, 69, 20, 69, 64, 63, 13, 57, 72, 50, 66, 72, 58, 72, 71, 51, 72, 14, 72, 51, 70, 71, 62, 30, 72, 71, 20, 29, 47, 68, 71, 72, 66, 56, 72, 71, 72, 47, 16, 69, 6, 61, 72, 41, 71, 72, 72, 66, 53, 72, 44, 71, 7, 67, 53, 57, 49, 71, 72, 18, 66, 71, 46, 66, 25, 71, 50, 65, 62, 55, 16, 72, 57, 54, 68, 72, 68, 23, 60, 72, 72, 72, 59, 37, 72, 72, 61, 58, 65, 70, 12, 72, 70, 52, 54, 69, 69, 70, 72, 71, 71, 53, 54, 43, 69, 61, 70, 32, 72, 37, 30, 44, 49, 37, 52, 71, 66, 72, 69, 53, 60, 65, 70, 62, 66, 65, 71, 58, 63, 31, 9, 71, 63, 51, 64, 14, 72, 70, 38, 68, 65, 51, 72, 70, 61, 62, 67, 60, 34, 62, 25, 71, 72, 52, 69, 54, 65, 43, 60, 70, 70, 67, 18, 45, 31, 55, 71, 61, 67, 70, 63, 70, 72, 35, 72, 70, 42, 70, 68, 48, 46, 13, 65, 6, 72, 72, 58, 70, 65, 63, 61, 64, 45, 41, 72, 72, 72, 72, 70, 49, 69, 24, 27, 18, 47, 70, 67, 71, 72, 48, 67, 69, 72, 38, 61, 47, 69, 53, 48, 57, 65, 71, 69, 58, 72, 72, 46, 72, 25, 72, 47, 71, 57, 72, 61, 48, 65, 70, 66, 72, 30, 72, 63, 71, 35, 47, 44, 65, 33, 14, 47, 69, 12, 71, 71, 52, 69, 72, 59, 67, 72, 62, 51, 61, 72, 38, 33, 70, 72, 33, 66, 64, 57, 53, 38, 1, 12, 72, 62, 48, 35, 71, 24, 33, 51, 35, 70, 47, 41, 43, 70, 59, 61, 72, 62, 64, 61, 68, 72, 71, 57, 72, 71, 69, 64, 72, 69, 72, 8, 58, 71, 46, 67, 69, 60, 72, 60, 45, 54, 66, 72, 8, 72, 69, 25, 59, 61, 19, 44, 58, 10, 72, 65, 72, 58, 72, 72, 72, 54, 60, 60, 69, 60, 60, 13, 62, 44, 29, 62, 70, 4, 67, 71, 21, 48, 52, 67, 71, 71, 48, 63, 62, 70, 46, 68, 67, 35, 68, 72, 27, 64, 70, 67, 24, 4, 72, 66, 23, 72, 58, 71, 72, 54, 72, 52, 69, 72, 40, 67, 21, 72, 72, 41, 17, 58, 52, 70, 19, 27, 50, 59, 35, 6, 72, 60, 61, 24, 21, 56, 46, 63, 72, 18, 55, 70, 19, 68, 61, 70, 8, 8, 68, 70, 72, 71, 50, 45, 23, 68, 71, 57, 72, 71, 46, 64, 72, 57, 71, 36, 63, 48, 72, 72, 59, 27, 19, 60, 48, 69, 72, 12, 37, 8, 71, 54, 72, 72, 72, 70, 49, 46, 64, 72, 68, 24, 71, 67, 63, 52, 52, 12, 69, 72, 48, 57, 62, 72, 21, 61, 67, 72, 43, 70, 40, 6, 39, 64, 72, 72, 3, 8, 8, 35, 53, 15, 66, 38, 58, 71, 8, 67, 68, 64, 72, 35, 54, 25, 70, 57, 72, 44, 72, 27, 71, 65, 67, 72, 68, 70, 49, 67, 13, 24, 62, 70, 72, 57, 64, 72, 62, 51, 39, 68, 72, 66], \"yaxis\": \"y3\"}],\n",
       "                        {\"annotations\": [{\"font\": {}, \"showarrow\": false, \"text\": \"Contract=Month-to-month\", \"x\": 0.15999999999999998, \"xanchor\": \"center\", \"xref\": \"paper\", \"y\": 1.0, \"yanchor\": \"bottom\", \"yref\": \"paper\"}, {\"font\": {}, \"showarrow\": false, \"text\": \"Contract=One year\", \"x\": 0.49999999999999994, \"xanchor\": \"center\", \"xref\": \"paper\", \"y\": 1.0, \"yanchor\": \"bottom\", \"yref\": \"paper\"}, {\"font\": {}, \"showarrow\": false, \"text\": \"Contract=Two year\", \"x\": 0.8399999999999999, \"xanchor\": \"center\", \"xref\": \"paper\", \"y\": 1.0, \"yanchor\": \"bottom\", \"yref\": \"paper\"}], \"legend\": {\"tracegroupgap\": 0}, \"margin\": {\"t\": 60}, \"template\": {\"data\": {\"bar\": [{\"error_x\": {\"color\": \"#2a3f5f\"}, \"error_y\": {\"color\": \"#2a3f5f\"}, \"marker\": {\"line\": {\"color\": \"#E5ECF6\", \"width\": 0.5}}, \"type\": \"bar\"}], \"barpolar\": [{\"marker\": {\"line\": {\"color\": \"#E5ECF6\", \"width\": 0.5}}, \"type\": \"barpolar\"}], \"carpet\": [{\"aaxis\": {\"endlinecolor\": \"#2a3f5f\", \"gridcolor\": \"white\", \"linecolor\": \"white\", \"minorgridcolor\": \"white\", \"startlinecolor\": \"#2a3f5f\"}, \"baxis\": {\"endlinecolor\": \"#2a3f5f\", \"gridcolor\": \"white\", \"linecolor\": \"white\", \"minorgridcolor\": \"white\", \"startlinecolor\": \"#2a3f5f\"}, \"type\": \"carpet\"}], \"choropleth\": [{\"colorbar\": {\"outlinewidth\": 0, \"ticks\": \"\"}, \"type\": \"choropleth\"}], \"contour\": [{\"colorbar\": {\"outlinewidth\": 0, \"ticks\": \"\"}, \"colorscale\": [[0.0, \"#0d0887\"], [0.1111111111111111, \"#46039f\"], [0.2222222222222222, \"#7201a8\"], [0.3333333333333333, \"#9c179e\"], [0.4444444444444444, \"#bd3786\"], [0.5555555555555556, \"#d8576b\"], [0.6666666666666666, \"#ed7953\"], [0.7777777777777778, \"#fb9f3a\"], [0.8888888888888888, \"#fdca26\"], [1.0, \"#f0f921\"]], \"type\": \"contour\"}], \"contourcarpet\": [{\"colorbar\": {\"outlinewidth\": 0, \"ticks\": \"\"}, \"type\": \"contourcarpet\"}], \"heatmap\": [{\"colorbar\": {\"outlinewidth\": 0, \"ticks\": \"\"}, \"colorscale\": [[0.0, \"#0d0887\"], [0.1111111111111111, \"#46039f\"], [0.2222222222222222, \"#7201a8\"], [0.3333333333333333, \"#9c179e\"], [0.4444444444444444, \"#bd3786\"], [0.5555555555555556, \"#d8576b\"], [0.6666666666666666, \"#ed7953\"], [0.7777777777777778, \"#fb9f3a\"], [0.8888888888888888, \"#fdca26\"], [1.0, \"#f0f921\"]], \"type\": \"heatmap\"}], \"heatmapgl\": [{\"colorbar\": {\"outlinewidth\": 0, \"ticks\": \"\"}, \"colorscale\": [[0.0, \"#0d0887\"], [0.1111111111111111, \"#46039f\"], [0.2222222222222222, \"#7201a8\"], [0.3333333333333333, \"#9c179e\"], [0.4444444444444444, \"#bd3786\"], [0.5555555555555556, \"#d8576b\"], [0.6666666666666666, \"#ed7953\"], [0.7777777777777778, \"#fb9f3a\"], [0.8888888888888888, \"#fdca26\"], [1.0, \"#f0f921\"]], \"type\": \"heatmapgl\"}], \"histogram\": [{\"marker\": {\"colorbar\": {\"outlinewidth\": 0, \"ticks\": \"\"}}, \"type\": \"histogram\"}], \"histogram2d\": [{\"colorbar\": {\"outlinewidth\": 0, \"ticks\": \"\"}, \"colorscale\": [[0.0, \"#0d0887\"], [0.1111111111111111, \"#46039f\"], [0.2222222222222222, \"#7201a8\"], [0.3333333333333333, \"#9c179e\"], [0.4444444444444444, \"#bd3786\"], [0.5555555555555556, \"#d8576b\"], [0.6666666666666666, \"#ed7953\"], [0.7777777777777778, \"#fb9f3a\"], [0.8888888888888888, \"#fdca26\"], [1.0, \"#f0f921\"]], \"type\": \"histogram2d\"}], \"histogram2dcontour\": [{\"colorbar\": {\"outlinewidth\": 0, \"ticks\": \"\"}, \"colorscale\": [[0.0, \"#0d0887\"], [0.1111111111111111, \"#46039f\"], [0.2222222222222222, \"#7201a8\"], [0.3333333333333333, \"#9c179e\"], [0.4444444444444444, \"#bd3786\"], [0.5555555555555556, \"#d8576b\"], [0.6666666666666666, \"#ed7953\"], [0.7777777777777778, \"#fb9f3a\"], [0.8888888888888888, \"#fdca26\"], [1.0, \"#f0f921\"]], \"type\": \"histogram2dcontour\"}], \"mesh3d\": [{\"colorbar\": {\"outlinewidth\": 0, \"ticks\": \"\"}, \"type\": \"mesh3d\"}], \"parcoords\": [{\"line\": {\"colorbar\": {\"outlinewidth\": 0, \"ticks\": \"\"}}, \"type\": \"parcoords\"}], \"pie\": [{\"automargin\": true, \"type\": \"pie\"}], \"scatter\": [{\"marker\": {\"colorbar\": {\"outlinewidth\": 0, \"ticks\": \"\"}}, \"type\": \"scatter\"}], \"scatter3d\": [{\"line\": {\"colorbar\": {\"outlinewidth\": 0, \"ticks\": \"\"}}, \"marker\": {\"colorbar\": {\"outlinewidth\": 0, \"ticks\": \"\"}}, \"type\": \"scatter3d\"}], \"scattercarpet\": [{\"marker\": {\"colorbar\": {\"outlinewidth\": 0, \"ticks\": \"\"}}, \"type\": \"scattercarpet\"}], \"scattergeo\": [{\"marker\": {\"colorbar\": {\"outlinewidth\": 0, \"ticks\": \"\"}}, \"type\": \"scattergeo\"}], \"scattergl\": [{\"marker\": {\"colorbar\": {\"outlinewidth\": 0, \"ticks\": \"\"}}, \"type\": \"scattergl\"}], \"scattermapbox\": [{\"marker\": {\"colorbar\": {\"outlinewidth\": 0, \"ticks\": \"\"}}, \"type\": \"scattermapbox\"}], \"scatterpolar\": [{\"marker\": {\"colorbar\": {\"outlinewidth\": 0, \"ticks\": \"\"}}, \"type\": \"scatterpolar\"}], \"scatterpolargl\": [{\"marker\": {\"colorbar\": {\"outlinewidth\": 0, \"ticks\": \"\"}}, \"type\": \"scatterpolargl\"}], \"scatterternary\": [{\"marker\": {\"colorbar\": {\"outlinewidth\": 0, \"ticks\": \"\"}}, \"type\": \"scatterternary\"}], \"surface\": [{\"colorbar\": {\"outlinewidth\": 0, \"ticks\": \"\"}, \"colorscale\": [[0.0, \"#0d0887\"], [0.1111111111111111, \"#46039f\"], [0.2222222222222222, \"#7201a8\"], [0.3333333333333333, \"#9c179e\"], [0.4444444444444444, \"#bd3786\"], [0.5555555555555556, \"#d8576b\"], [0.6666666666666666, \"#ed7953\"], [0.7777777777777778, \"#fb9f3a\"], [0.8888888888888888, \"#fdca26\"], [1.0, \"#f0f921\"]], \"type\": \"surface\"}], \"table\": [{\"cells\": {\"fill\": {\"color\": \"#EBF0F8\"}, \"line\": {\"color\": \"white\"}}, \"header\": {\"fill\": {\"color\": \"#C8D4E3\"}, \"line\": {\"color\": \"white\"}}, \"type\": \"table\"}]}, \"layout\": {\"annotationdefaults\": {\"arrowcolor\": \"#2a3f5f\", \"arrowhead\": 0, \"arrowwidth\": 1}, \"coloraxis\": {\"colorbar\": {\"outlinewidth\": 0, \"ticks\": \"\"}}, \"colorscale\": {\"diverging\": [[0, \"#8e0152\"], [0.1, \"#c51b7d\"], [0.2, \"#de77ae\"], [0.3, \"#f1b6da\"], [0.4, \"#fde0ef\"], [0.5, \"#f7f7f7\"], [0.6, \"#e6f5d0\"], [0.7, \"#b8e186\"], [0.8, \"#7fbc41\"], [0.9, \"#4d9221\"], [1, \"#276419\"]], \"sequential\": [[0.0, \"#0d0887\"], [0.1111111111111111, \"#46039f\"], [0.2222222222222222, \"#7201a8\"], [0.3333333333333333, \"#9c179e\"], [0.4444444444444444, \"#bd3786\"], [0.5555555555555556, \"#d8576b\"], [0.6666666666666666, \"#ed7953\"], [0.7777777777777778, \"#fb9f3a\"], [0.8888888888888888, \"#fdca26\"], [1.0, \"#f0f921\"]], \"sequentialminus\": [[0.0, \"#0d0887\"], [0.1111111111111111, \"#46039f\"], [0.2222222222222222, \"#7201a8\"], [0.3333333333333333, \"#9c179e\"], [0.4444444444444444, \"#bd3786\"], [0.5555555555555556, \"#d8576b\"], [0.6666666666666666, \"#ed7953\"], [0.7777777777777778, \"#fb9f3a\"], [0.8888888888888888, \"#fdca26\"], [1.0, \"#f0f921\"]]}, \"colorway\": [\"#636efa\", \"#EF553B\", \"#00cc96\", \"#ab63fa\", \"#FFA15A\", \"#19d3f3\", \"#FF6692\", \"#B6E880\", \"#FF97FF\", \"#FECB52\"], \"font\": {\"color\": \"#2a3f5f\"}, \"geo\": {\"bgcolor\": \"white\", \"lakecolor\": \"white\", \"landcolor\": \"#E5ECF6\", \"showlakes\": true, \"showland\": true, \"subunitcolor\": \"white\"}, \"hoverlabel\": {\"align\": \"left\"}, \"hovermode\": \"closest\", \"mapbox\": {\"style\": \"light\"}, \"paper_bgcolor\": \"white\", \"plot_bgcolor\": \"#E5ECF6\", \"polar\": {\"angularaxis\": {\"gridcolor\": \"white\", \"linecolor\": \"white\", \"ticks\": \"\"}, \"bgcolor\": \"#E5ECF6\", \"radialaxis\": {\"gridcolor\": \"white\", \"linecolor\": \"white\", \"ticks\": \"\"}}, \"scene\": {\"xaxis\": {\"backgroundcolor\": \"#E5ECF6\", \"gridcolor\": \"white\", \"gridwidth\": 2, \"linecolor\": \"white\", \"showbackground\": true, \"ticks\": \"\", \"zerolinecolor\": \"white\"}, \"yaxis\": {\"backgroundcolor\": \"#E5ECF6\", \"gridcolor\": \"white\", \"gridwidth\": 2, \"linecolor\": \"white\", \"showbackground\": true, \"ticks\": \"\", \"zerolinecolor\": \"white\"}, \"zaxis\": {\"backgroundcolor\": \"#E5ECF6\", \"gridcolor\": \"white\", \"gridwidth\": 2, \"linecolor\": \"white\", \"showbackground\": true, \"ticks\": \"\", \"zerolinecolor\": \"white\"}}, \"shapedefaults\": {\"line\": {\"color\": \"#2a3f5f\"}}, \"ternary\": {\"aaxis\": {\"gridcolor\": \"white\", \"linecolor\": \"white\", \"ticks\": \"\"}, \"baxis\": {\"gridcolor\": \"white\", \"linecolor\": \"white\", \"ticks\": \"\"}, \"bgcolor\": \"#E5ECF6\", \"caxis\": {\"gridcolor\": \"white\", \"linecolor\": \"white\", \"ticks\": \"\"}}, \"title\": {\"x\": 0.05}, \"xaxis\": {\"automargin\": true, \"gridcolor\": \"white\", \"linecolor\": \"white\", \"ticks\": \"\", \"title\": {\"standoff\": 15}, \"zerolinecolor\": \"white\", \"zerolinewidth\": 2}, \"yaxis\": {\"automargin\": true, \"gridcolor\": \"white\", \"linecolor\": \"white\", \"ticks\": \"\", \"title\": {\"standoff\": 15}, \"zerolinecolor\": \"white\", \"zerolinewidth\": 2}}}, \"xaxis\": {\"anchor\": \"y\", \"domain\": [0.0, 0.31999999999999995], \"title\": {\"text\": \"TotalCharges\"}}, \"xaxis2\": {\"anchor\": \"y2\", \"domain\": [0.33999999999999997, 0.6599999999999999], \"matches\": \"x\", \"title\": {\"text\": \"TotalCharges\"}}, \"xaxis3\": {\"anchor\": \"y3\", \"domain\": [0.6799999999999999, 0.9999999999999999], \"matches\": \"x\", \"title\": {\"text\": \"TotalCharges\"}}, \"yaxis\": {\"anchor\": \"x\", \"domain\": [0.0, 1.0], \"title\": {\"text\": \"tenure\"}}, \"yaxis2\": {\"anchor\": \"x2\", \"domain\": [0.0, 1.0], \"matches\": \"y\", \"showticklabels\": false}, \"yaxis3\": {\"anchor\": \"x3\", \"domain\": [0.0, 1.0], \"matches\": \"y\", \"showticklabels\": false}},\n",
       "                        {\"responsive\": true}\n",
       "                    ).then(function(){\n",
       "                            \n",
       "var gd = document.getElementById('6f03af22-851d-487c-823e-4e3c4b3a17ab');\n",
       "var x = new MutationObserver(function (mutations, observer) {{\n",
       "        var display = window.getComputedStyle(gd).display;\n",
       "        if (!display || display === 'none') {{\n",
       "            console.log([gd, 'removed!']);\n",
       "            Plotly.purge(gd);\n",
       "            observer.disconnect();\n",
       "        }}\n",
       "}});\n",
       "\n",
       "// Listen for the removal of the full notebook cells\n",
       "var notebookContainer = gd.closest('#notebook-container');\n",
       "if (notebookContainer) {{\n",
       "    x.observe(notebookContainer, {childList: true});\n",
       "}}\n",
       "\n",
       "// Listen for the clearing of the current output cell\n",
       "var outputEl = gd.closest('.output');\n",
       "if (outputEl) {{\n",
       "    x.observe(outputEl, {childList: true});\n",
       "}}\n",
       "\n",
       "                        })\n",
       "                };\n",
       "                });\n",
       "            </script>\n",
       "        </div>"
      ]
     },
     "metadata": {},
     "output_type": "display_data"
    }
   ],
   "source": [
    "cont = data.groupby('Contract').mean()\n",
    "cont.reset_index(inplace=True)\n",
    "px.scatter(data,x='TotalCharges',y='tenure',facet_col='Contract')"
   ]
  },
  {
   "cell_type": "code",
   "execution_count": 20,
   "metadata": {
    "execution": {
     "iopub.execute_input": "2020-09-11T16:25:59.022289Z",
     "iopub.status.busy": "2020-09-11T16:25:59.014567Z",
     "iopub.status.idle": "2020-09-11T16:25:59.102018Z",
     "shell.execute_reply": "2020-09-11T16:25:59.101201Z"
    },
    "id": "hglYiwr8UgS3",
    "outputId": "cda84fbb-8e75-48a2-de9b-10c841b8df6c",
    "papermill": {
     "duration": 0.153591,
     "end_time": "2020-09-11T16:25:59.102183",
     "exception": false,
     "start_time": "2020-09-11T16:25:58.948592",
     "status": "completed"
    },
    "tags": []
   },
   "outputs": [
    {
     "name": "stdout",
     "output_type": "stream",
     "text": [
      "gender  :  ['Female' 'Male']\n",
      "Male      3549\n",
      "Female    3483\n",
      "Name: gender, dtype: int64\n",
      "\n",
      "\n",
      "SeniorCitizen  :  ['No' 'Yes']\n",
      "No     5890\n",
      "Yes    1142\n",
      "Name: SeniorCitizen, dtype: int64\n",
      "\n",
      "\n",
      "Partner  :  ['Yes' 'No']\n",
      "No     3639\n",
      "Yes    3393\n",
      "Name: Partner, dtype: int64\n",
      "\n",
      "\n",
      "Dependents  :  ['No' 'Yes']\n",
      "No     4933\n",
      "Yes    2099\n",
      "Name: Dependents, dtype: int64\n",
      "\n",
      "\n",
      "tenure  :  [ 1 34  2 45  8 22 10 28 62 13 16 58 49 25 69 52 71 21 12 30 47 72 17 27\n",
      "  5 46 11 70 63 43 15 60 18 66  9  3 31 50 64 56  7 42 35 48 29 65 38 68\n",
      " 32 55 37 36 41  6  4 33 67 23 57 61 14 20 53 40 59 24 44 19 54 51 26 39]\n",
      "1     613\n",
      "72    362\n",
      "2     238\n",
      "3     200\n",
      "4     176\n",
      "     ... \n",
      "38     59\n",
      "28     57\n",
      "39     56\n",
      "44     51\n",
      "36     50\n",
      "Name: tenure, Length: 72, dtype: int64\n",
      "\n",
      "\n",
      "PhoneService  :  ['No' 'Yes']\n",
      "Yes    6352\n",
      "No      680\n",
      "Name: PhoneService, dtype: int64\n",
      "\n",
      "\n",
      "MultipleLines  :  ['No phone service' 'No' 'Yes']\n",
      "No                  3385\n",
      "Yes                 2967\n",
      "No phone service     680\n",
      "Name: MultipleLines, dtype: int64\n",
      "\n",
      "\n",
      "InternetService  :  ['DSL' 'Fiber optic' 'No']\n",
      "Fiber optic    3096\n",
      "DSL            2416\n",
      "No             1520\n",
      "Name: InternetService, dtype: int64\n",
      "\n",
      "\n",
      "OnlineSecurity  :  ['No' 'Yes' 'No internet service']\n",
      "No                     3497\n",
      "Yes                    2015\n",
      "No internet service    1520\n",
      "Name: OnlineSecurity, dtype: int64\n",
      "\n",
      "\n",
      "OnlineBackup  :  ['Yes' 'No' 'No internet service']\n",
      "No                     3087\n",
      "Yes                    2425\n",
      "No internet service    1520\n",
      "Name: OnlineBackup, dtype: int64\n",
      "\n",
      "\n",
      "DeviceProtection  :  ['No' 'Yes' 'No internet service']\n",
      "No                     3094\n",
      "Yes                    2418\n",
      "No internet service    1520\n",
      "Name: DeviceProtection, dtype: int64\n",
      "\n",
      "\n",
      "TechSupport  :  ['No' 'Yes' 'No internet service']\n",
      "No                     3472\n",
      "Yes                    2040\n",
      "No internet service    1520\n",
      "Name: TechSupport, dtype: int64\n",
      "\n",
      "\n",
      "StreamingTV  :  ['No' 'Yes' 'No internet service']\n",
      "No                     2809\n",
      "Yes                    2703\n",
      "No internet service    1520\n",
      "Name: StreamingTV, dtype: int64\n",
      "\n",
      "\n",
      "StreamingMovies  :  ['No' 'Yes' 'No internet service']\n",
      "No                     2781\n",
      "Yes                    2731\n",
      "No internet service    1520\n",
      "Name: StreamingMovies, dtype: int64\n",
      "\n",
      "\n",
      "Contract  :  ['Month-to-month' 'One year' 'Two year']\n",
      "Month-to-month    3875\n",
      "Two year          1685\n",
      "One year          1472\n",
      "Name: Contract, dtype: int64\n",
      "\n",
      "\n",
      "PaperlessBilling  :  ['Yes' 'No']\n",
      "Yes    4168\n",
      "No     2864\n",
      "Name: PaperlessBilling, dtype: int64\n",
      "\n",
      "\n",
      "PaymentMethod  :  ['Electronic check' 'Mailed check' 'Bank transfer (automatic)'\n",
      " 'Credit card (automatic)']\n",
      "Electronic check             2365\n",
      "Mailed check                 1604\n",
      "Bank transfer (automatic)    1542\n",
      "Credit card (automatic)      1521\n",
      "Name: PaymentMethod, dtype: int64\n",
      "\n",
      "\n",
      "MonthlyCharges  :  [29.85 56.95 53.85 ... 63.1  44.2  78.7 ]\n",
      "20.05     61\n",
      "19.85     44\n",
      "19.90     44\n",
      "19.95     44\n",
      "19.65     43\n",
      "          ..\n",
      "92.35      1\n",
      "35.60      1\n",
      "72.85      1\n",
      "67.70      1\n",
      "113.30     1\n",
      "Name: MonthlyCharges, Length: 1584, dtype: int64\n",
      "\n",
      "\n",
      "TotalCharges  :  [  29.85 1889.5   108.15 ...  346.45  306.6  6844.5 ]\n",
      "20.20      11\n",
      "19.75       9\n",
      "19.65       8\n",
      "20.05       8\n",
      "19.90       8\n",
      "           ..\n",
      "1066.15     1\n",
      "249.95      1\n",
      "8333.95     1\n",
      "7171.70     1\n",
      "1024.00     1\n",
      "Name: TotalCharges, Length: 6530, dtype: int64\n",
      "\n",
      "\n"
     ]
    }
   ],
   "source": [
    "for x in data.columns:\n",
    "    print(x ,' : ' ,data[x].unique())\n",
    "    print(data[x].value_counts())\n",
    "    print('\\n')"
   ]
  },
  {
   "cell_type": "code",
   "execution_count": 21,
   "metadata": {
    "execution": {
     "iopub.execute_input": "2020-09-11T16:25:59.227630Z",
     "iopub.status.busy": "2020-09-11T16:25:59.226625Z",
     "iopub.status.idle": "2020-09-11T16:25:59.231414Z",
     "shell.execute_reply": "2020-09-11T16:25:59.230867Z"
    },
    "id": "Byt4z-Jw7b7y",
    "outputId": "de840bee-740e-4ad7-d8af-907b68bf6839",
    "papermill": {
     "duration": 0.06925,
     "end_time": "2020-09-11T16:25:59.231535",
     "exception": false,
     "start_time": "2020-09-11T16:25:59.162285",
     "status": "completed"
    },
    "tags": []
   },
   "outputs": [
    {
     "data": {
      "text/plain": [
       "(7032, 19)"
      ]
     },
     "execution_count": 21,
     "metadata": {},
     "output_type": "execute_result"
    }
   ],
   "source": [
    "data.shape"
   ]
  },
  {
   "cell_type": "markdown",
   "metadata": {
    "id": "zJ0xQyPIEGgu",
    "papermill": {
     "duration": 0.059617,
     "end_time": "2020-09-11T16:25:59.351019",
     "exception": false,
     "start_time": "2020-09-11T16:25:59.291402",
     "status": "completed"
    },
    "tags": []
   },
   "source": [
    "## Linear Regression"
   ]
  },
  {
   "cell_type": "code",
   "execution_count": 22,
   "metadata": {
    "execution": {
     "iopub.execute_input": "2020-09-11T16:25:59.480515Z",
     "iopub.status.busy": "2020-09-11T16:25:59.479833Z",
     "iopub.status.idle": "2020-09-11T16:25:59.491903Z",
     "shell.execute_reply": "2020-09-11T16:25:59.491216Z"
    },
    "id": "LPAq86UdDrts",
    "papermill": {
     "duration": 0.080447,
     "end_time": "2020-09-11T16:25:59.492016",
     "exception": false,
     "start_time": "2020-09-11T16:25:59.411569",
     "status": "completed"
    },
    "tags": []
   },
   "outputs": [],
   "source": [
    "noweb = data[data['InternetService'] =='No']\n",
    "nophone = data[data['MultipleLines'] =='No phone service']\n",
    "\n",
    "data.drop(index=noweb.index,axis=0,inplace=True)\n",
    "data.drop(index=nophone.index,axis=0,inplace=True)\n",
    "data.drop(columns=['MonthlyCharges'],inplace=True,axis=1)"
   ]
  },
  {
   "cell_type": "code",
   "execution_count": 23,
   "metadata": {
    "execution": {
     "iopub.execute_input": "2020-09-11T16:25:59.635718Z",
     "iopub.status.busy": "2020-09-11T16:25:59.625077Z",
     "iopub.status.idle": "2020-09-11T16:25:59.640679Z",
     "shell.execute_reply": "2020-09-11T16:25:59.640038Z"
    },
    "id": "FCJZB3vHh5ee",
    "outputId": "cc7dad3a-9256-44ce-cbb7-f5182daa99e6",
    "papermill": {
     "duration": 0.088733,
     "end_time": "2020-09-11T16:25:59.640794",
     "exception": false,
     "start_time": "2020-09-11T16:25:59.552061",
     "status": "completed"
    },
    "tags": []
   },
   "outputs": [
    {
     "data": {
      "text/html": [
       "<div>\n",
       "<style scoped>\n",
       "    .dataframe tbody tr th:only-of-type {\n",
       "        vertical-align: middle;\n",
       "    }\n",
       "\n",
       "    .dataframe tbody tr th {\n",
       "        vertical-align: top;\n",
       "    }\n",
       "\n",
       "    .dataframe thead th {\n",
       "        text-align: right;\n",
       "    }\n",
       "</style>\n",
       "<table border=\"1\" class=\"dataframe\">\n",
       "  <thead>\n",
       "    <tr style=\"text-align: right;\">\n",
       "      <th></th>\n",
       "      <th>gender</th>\n",
       "      <th>SeniorCitizen</th>\n",
       "      <th>Partner</th>\n",
       "      <th>Dependents</th>\n",
       "      <th>tenure</th>\n",
       "      <th>PhoneService</th>\n",
       "      <th>MultipleLines</th>\n",
       "      <th>InternetService</th>\n",
       "      <th>OnlineSecurity</th>\n",
       "      <th>OnlineBackup</th>\n",
       "      <th>DeviceProtection</th>\n",
       "      <th>TechSupport</th>\n",
       "      <th>StreamingTV</th>\n",
       "      <th>StreamingMovies</th>\n",
       "      <th>Contract</th>\n",
       "      <th>PaperlessBilling</th>\n",
       "      <th>PaymentMethod</th>\n",
       "      <th>TotalCharges</th>\n",
       "    </tr>\n",
       "  </thead>\n",
       "  <tbody>\n",
       "    <tr>\n",
       "      <th>1</th>\n",
       "      <td>Male</td>\n",
       "      <td>No</td>\n",
       "      <td>No</td>\n",
       "      <td>No</td>\n",
       "      <td>34</td>\n",
       "      <td>Yes</td>\n",
       "      <td>No</td>\n",
       "      <td>DSL</td>\n",
       "      <td>Yes</td>\n",
       "      <td>No</td>\n",
       "      <td>Yes</td>\n",
       "      <td>No</td>\n",
       "      <td>No</td>\n",
       "      <td>No</td>\n",
       "      <td>One year</td>\n",
       "      <td>No</td>\n",
       "      <td>Mailed check</td>\n",
       "      <td>1889.50</td>\n",
       "    </tr>\n",
       "    <tr>\n",
       "      <th>2</th>\n",
       "      <td>Male</td>\n",
       "      <td>No</td>\n",
       "      <td>No</td>\n",
       "      <td>No</td>\n",
       "      <td>2</td>\n",
       "      <td>Yes</td>\n",
       "      <td>No</td>\n",
       "      <td>DSL</td>\n",
       "      <td>Yes</td>\n",
       "      <td>Yes</td>\n",
       "      <td>No</td>\n",
       "      <td>No</td>\n",
       "      <td>No</td>\n",
       "      <td>No</td>\n",
       "      <td>Month-to-month</td>\n",
       "      <td>Yes</td>\n",
       "      <td>Mailed check</td>\n",
       "      <td>108.15</td>\n",
       "    </tr>\n",
       "    <tr>\n",
       "      <th>4</th>\n",
       "      <td>Female</td>\n",
       "      <td>No</td>\n",
       "      <td>No</td>\n",
       "      <td>No</td>\n",
       "      <td>2</td>\n",
       "      <td>Yes</td>\n",
       "      <td>No</td>\n",
       "      <td>Fiber optic</td>\n",
       "      <td>No</td>\n",
       "      <td>No</td>\n",
       "      <td>No</td>\n",
       "      <td>No</td>\n",
       "      <td>No</td>\n",
       "      <td>No</td>\n",
       "      <td>Month-to-month</td>\n",
       "      <td>Yes</td>\n",
       "      <td>Electronic check</td>\n",
       "      <td>151.65</td>\n",
       "    </tr>\n",
       "    <tr>\n",
       "      <th>5</th>\n",
       "      <td>Female</td>\n",
       "      <td>No</td>\n",
       "      <td>No</td>\n",
       "      <td>No</td>\n",
       "      <td>8</td>\n",
       "      <td>Yes</td>\n",
       "      <td>Yes</td>\n",
       "      <td>Fiber optic</td>\n",
       "      <td>No</td>\n",
       "      <td>No</td>\n",
       "      <td>Yes</td>\n",
       "      <td>No</td>\n",
       "      <td>Yes</td>\n",
       "      <td>Yes</td>\n",
       "      <td>Month-to-month</td>\n",
       "      <td>Yes</td>\n",
       "      <td>Electronic check</td>\n",
       "      <td>820.50</td>\n",
       "    </tr>\n",
       "    <tr>\n",
       "      <th>6</th>\n",
       "      <td>Male</td>\n",
       "      <td>No</td>\n",
       "      <td>No</td>\n",
       "      <td>Yes</td>\n",
       "      <td>22</td>\n",
       "      <td>Yes</td>\n",
       "      <td>Yes</td>\n",
       "      <td>Fiber optic</td>\n",
       "      <td>No</td>\n",
       "      <td>Yes</td>\n",
       "      <td>No</td>\n",
       "      <td>No</td>\n",
       "      <td>Yes</td>\n",
       "      <td>No</td>\n",
       "      <td>Month-to-month</td>\n",
       "      <td>Yes</td>\n",
       "      <td>Credit card (automatic)</td>\n",
       "      <td>1949.40</td>\n",
       "    </tr>\n",
       "  </tbody>\n",
       "</table>\n",
       "</div>"
      ],
      "text/plain": [
       "   gender SeniorCitizen Partner Dependents  tenure PhoneService MultipleLines  \\\n",
       "1    Male            No      No         No      34          Yes            No   \n",
       "2    Male            No      No         No       2          Yes            No   \n",
       "4  Female            No      No         No       2          Yes            No   \n",
       "5  Female            No      No         No       8          Yes           Yes   \n",
       "6    Male            No      No        Yes      22          Yes           Yes   \n",
       "\n",
       "  InternetService OnlineSecurity OnlineBackup DeviceProtection TechSupport  \\\n",
       "1             DSL            Yes           No              Yes          No   \n",
       "2             DSL            Yes          Yes               No          No   \n",
       "4     Fiber optic             No           No               No          No   \n",
       "5     Fiber optic             No           No              Yes          No   \n",
       "6     Fiber optic             No          Yes               No          No   \n",
       "\n",
       "  StreamingTV StreamingMovies        Contract PaperlessBilling  \\\n",
       "1          No              No        One year               No   \n",
       "2          No              No  Month-to-month              Yes   \n",
       "4          No              No  Month-to-month              Yes   \n",
       "5         Yes             Yes  Month-to-month              Yes   \n",
       "6         Yes              No  Month-to-month              Yes   \n",
       "\n",
       "             PaymentMethod  TotalCharges  \n",
       "1             Mailed check       1889.50  \n",
       "2             Mailed check        108.15  \n",
       "4         Electronic check        151.65  \n",
       "5         Electronic check        820.50  \n",
       "6  Credit card (automatic)       1949.40  "
      ]
     },
     "execution_count": 23,
     "metadata": {},
     "output_type": "execute_result"
    }
   ],
   "source": [
    "data.head()"
   ]
  },
  {
   "cell_type": "code",
   "execution_count": 24,
   "metadata": {
    "execution": {
     "iopub.execute_input": "2020-09-11T16:25:59.774160Z",
     "iopub.status.busy": "2020-09-11T16:25:59.773441Z",
     "iopub.status.idle": "2020-09-11T16:25:59.823750Z",
     "shell.execute_reply": "2020-09-11T16:25:59.823196Z"
    },
    "id": "2V5PomrjWOVw",
    "outputId": "5a5c2c72-4e05-42b6-8d58-f13c75a0cff8",
    "papermill": {
     "duration": 0.121772,
     "end_time": "2020-09-11T16:25:59.823870",
     "exception": false,
     "start_time": "2020-09-11T16:25:59.702098",
     "status": "completed"
    },
    "tags": []
   },
   "outputs": [
    {
     "data": {
      "text/html": [
       "<div>\n",
       "<style scoped>\n",
       "    .dataframe tbody tr th:only-of-type {\n",
       "        vertical-align: middle;\n",
       "    }\n",
       "\n",
       "    .dataframe tbody tr th {\n",
       "        vertical-align: top;\n",
       "    }\n",
       "\n",
       "    .dataframe thead th {\n",
       "        text-align: right;\n",
       "    }\n",
       "</style>\n",
       "<table border=\"1\" class=\"dataframe\">\n",
       "  <thead>\n",
       "    <tr style=\"text-align: right;\">\n",
       "      <th></th>\n",
       "      <th>gender</th>\n",
       "      <th>SeniorCitizen</th>\n",
       "      <th>Partner</th>\n",
       "      <th>Dependents</th>\n",
       "      <th>tenure</th>\n",
       "      <th>PhoneService</th>\n",
       "      <th>MultipleLines</th>\n",
       "      <th>OnlineSecurity</th>\n",
       "      <th>OnlineBackup</th>\n",
       "      <th>DeviceProtection</th>\n",
       "      <th>...</th>\n",
       "      <th>StreamingTV</th>\n",
       "      <th>StreamingMovies</th>\n",
       "      <th>PaperlessBilling</th>\n",
       "      <th>TotalCharges</th>\n",
       "      <th>InternetService_Fiber optic</th>\n",
       "      <th>Contract_One year</th>\n",
       "      <th>Contract_Two year</th>\n",
       "      <th>PaymentMethod_Credit card (automatic)</th>\n",
       "      <th>PaymentMethod_Electronic check</th>\n",
       "      <th>PaymentMethod_Mailed check</th>\n",
       "    </tr>\n",
       "  </thead>\n",
       "  <tbody>\n",
       "    <tr>\n",
       "      <th>1</th>\n",
       "      <td>0</td>\n",
       "      <td>0</td>\n",
       "      <td>0</td>\n",
       "      <td>0</td>\n",
       "      <td>34</td>\n",
       "      <td>1</td>\n",
       "      <td>0</td>\n",
       "      <td>1</td>\n",
       "      <td>0</td>\n",
       "      <td>1</td>\n",
       "      <td>...</td>\n",
       "      <td>0</td>\n",
       "      <td>0</td>\n",
       "      <td>0</td>\n",
       "      <td>1889.50</td>\n",
       "      <td>0</td>\n",
       "      <td>1</td>\n",
       "      <td>0</td>\n",
       "      <td>0</td>\n",
       "      <td>0</td>\n",
       "      <td>1</td>\n",
       "    </tr>\n",
       "    <tr>\n",
       "      <th>2</th>\n",
       "      <td>0</td>\n",
       "      <td>0</td>\n",
       "      <td>0</td>\n",
       "      <td>0</td>\n",
       "      <td>2</td>\n",
       "      <td>1</td>\n",
       "      <td>0</td>\n",
       "      <td>1</td>\n",
       "      <td>1</td>\n",
       "      <td>0</td>\n",
       "      <td>...</td>\n",
       "      <td>0</td>\n",
       "      <td>0</td>\n",
       "      <td>1</td>\n",
       "      <td>108.15</td>\n",
       "      <td>0</td>\n",
       "      <td>0</td>\n",
       "      <td>0</td>\n",
       "      <td>0</td>\n",
       "      <td>0</td>\n",
       "      <td>1</td>\n",
       "    </tr>\n",
       "    <tr>\n",
       "      <th>4</th>\n",
       "      <td>1</td>\n",
       "      <td>0</td>\n",
       "      <td>0</td>\n",
       "      <td>0</td>\n",
       "      <td>2</td>\n",
       "      <td>1</td>\n",
       "      <td>0</td>\n",
       "      <td>0</td>\n",
       "      <td>0</td>\n",
       "      <td>0</td>\n",
       "      <td>...</td>\n",
       "      <td>0</td>\n",
       "      <td>0</td>\n",
       "      <td>1</td>\n",
       "      <td>151.65</td>\n",
       "      <td>1</td>\n",
       "      <td>0</td>\n",
       "      <td>0</td>\n",
       "      <td>0</td>\n",
       "      <td>1</td>\n",
       "      <td>0</td>\n",
       "    </tr>\n",
       "    <tr>\n",
       "      <th>5</th>\n",
       "      <td>1</td>\n",
       "      <td>0</td>\n",
       "      <td>0</td>\n",
       "      <td>0</td>\n",
       "      <td>8</td>\n",
       "      <td>1</td>\n",
       "      <td>1</td>\n",
       "      <td>0</td>\n",
       "      <td>0</td>\n",
       "      <td>1</td>\n",
       "      <td>...</td>\n",
       "      <td>1</td>\n",
       "      <td>1</td>\n",
       "      <td>1</td>\n",
       "      <td>820.50</td>\n",
       "      <td>1</td>\n",
       "      <td>0</td>\n",
       "      <td>0</td>\n",
       "      <td>0</td>\n",
       "      <td>1</td>\n",
       "      <td>0</td>\n",
       "    </tr>\n",
       "    <tr>\n",
       "      <th>6</th>\n",
       "      <td>0</td>\n",
       "      <td>0</td>\n",
       "      <td>0</td>\n",
       "      <td>1</td>\n",
       "      <td>22</td>\n",
       "      <td>1</td>\n",
       "      <td>1</td>\n",
       "      <td>0</td>\n",
       "      <td>1</td>\n",
       "      <td>0</td>\n",
       "      <td>...</td>\n",
       "      <td>1</td>\n",
       "      <td>0</td>\n",
       "      <td>1</td>\n",
       "      <td>1949.40</td>\n",
       "      <td>1</td>\n",
       "      <td>0</td>\n",
       "      <td>0</td>\n",
       "      <td>1</td>\n",
       "      <td>0</td>\n",
       "      <td>0</td>\n",
       "    </tr>\n",
       "  </tbody>\n",
       "</table>\n",
       "<p>5 rows × 21 columns</p>\n",
       "</div>"
      ],
      "text/plain": [
       "  gender SeniorCitizen Partner Dependents  tenure PhoneService MultipleLines  \\\n",
       "1      0             0       0          0      34            1             0   \n",
       "2      0             0       0          0       2            1             0   \n",
       "4      1             0       0          0       2            1             0   \n",
       "5      1             0       0          0       8            1             1   \n",
       "6      0             0       0          1      22            1             1   \n",
       "\n",
       "  OnlineSecurity OnlineBackup DeviceProtection  ... StreamingTV  \\\n",
       "1              1            0                1  ...           0   \n",
       "2              1            1                0  ...           0   \n",
       "4              0            0                0  ...           0   \n",
       "5              0            0                1  ...           1   \n",
       "6              0            1                0  ...           1   \n",
       "\n",
       "  StreamingMovies PaperlessBilling TotalCharges  InternetService_Fiber optic  \\\n",
       "1               0                0      1889.50                            0   \n",
       "2               0                1       108.15                            0   \n",
       "4               0                1       151.65                            1   \n",
       "5               1                1       820.50                            1   \n",
       "6               0                1      1949.40                            1   \n",
       "\n",
       "   Contract_One year  Contract_Two year  \\\n",
       "1                  1                  0   \n",
       "2                  0                  0   \n",
       "4                  0                  0   \n",
       "5                  0                  0   \n",
       "6                  0                  0   \n",
       "\n",
       "   PaymentMethod_Credit card (automatic)  PaymentMethod_Electronic check  \\\n",
       "1                                      0                               0   \n",
       "2                                      0                               0   \n",
       "4                                      0                               1   \n",
       "5                                      0                               1   \n",
       "6                                      1                               0   \n",
       "\n",
       "   PaymentMethod_Mailed check  \n",
       "1                           1  \n",
       "2                           1  \n",
       "4                           0  \n",
       "5                           0  \n",
       "6                           0  \n",
       "\n",
       "[5 rows x 21 columns]"
      ]
     },
     "execution_count": 24,
     "metadata": {},
     "output_type": "execute_result"
    }
   ],
   "source": [
    "data_mod = pd.get_dummies(data,columns=['InternetService','Contract','PaymentMethod'],drop_first=True)\n",
    "#'Gender','Partner','Dependents','Phone Service','Multiple Lines','Internet Service','Online Security'\n",
    "data_mod.replace(to_replace='No',value='0',inplace=True)\n",
    "data_mod.replace(to_replace='Yes',value='1',inplace=True)\n",
    "data_mod['gender'].replace(to_replace='Female',value='1',inplace=True)\n",
    "data_mod['gender'].replace(to_replace='Male',value='0',inplace=True)\n",
    "data_mod.head()\n"
   ]
  },
  {
   "cell_type": "code",
   "execution_count": 25,
   "metadata": {
    "execution": {
     "iopub.execute_input": "2020-09-11T16:25:59.956169Z",
     "iopub.status.busy": "2020-09-11T16:25:59.955510Z",
     "iopub.status.idle": "2020-09-11T16:25:59.973700Z",
     "shell.execute_reply": "2020-09-11T16:25:59.974378Z"
    },
    "id": "4_eRPmOPEz0L",
    "outputId": "ff9b0964-ed76-45bc-bd79-a458385c5cf4",
    "papermill": {
     "duration": 0.088845,
     "end_time": "2020-09-11T16:25:59.974522",
     "exception": false,
     "start_time": "2020-09-11T16:25:59.885677",
     "status": "completed"
    },
    "tags": []
   },
   "outputs": [
    {
     "data": {
      "text/html": [
       "<div>\n",
       "<style scoped>\n",
       "    .dataframe tbody tr th:only-of-type {\n",
       "        vertical-align: middle;\n",
       "    }\n",
       "\n",
       "    .dataframe tbody tr th {\n",
       "        vertical-align: top;\n",
       "    }\n",
       "\n",
       "    .dataframe thead th {\n",
       "        text-align: right;\n",
       "    }\n",
       "</style>\n",
       "<table border=\"1\" class=\"dataframe\">\n",
       "  <thead>\n",
       "    <tr style=\"text-align: right;\">\n",
       "      <th></th>\n",
       "      <th>tenure</th>\n",
       "      <th>TotalCharges</th>\n",
       "      <th>InternetService_Fiber optic</th>\n",
       "      <th>Contract_One year</th>\n",
       "      <th>Contract_Two year</th>\n",
       "      <th>PaymentMethod_Credit card (automatic)</th>\n",
       "      <th>PaymentMethod_Electronic check</th>\n",
       "      <th>PaymentMethod_Mailed check</th>\n",
       "    </tr>\n",
       "  </thead>\n",
       "  <tbody>\n",
       "    <tr>\n",
       "      <th>tenure</th>\n",
       "      <td>1.000000</td>\n",
       "      <td>0.957923</td>\n",
       "      <td>-0.007522</td>\n",
       "      <td>0.284634</td>\n",
       "      <td>0.578096</td>\n",
       "      <td>0.246812</td>\n",
       "      <td>-0.270290</td>\n",
       "      <td>-0.178309</td>\n",
       "    </tr>\n",
       "    <tr>\n",
       "      <th>TotalCharges</th>\n",
       "      <td>0.957923</td>\n",
       "      <td>1.000000</td>\n",
       "      <td>0.167439</td>\n",
       "      <td>0.252455</td>\n",
       "      <td>0.559846</td>\n",
       "      <td>0.224252</td>\n",
       "      <td>-0.215479</td>\n",
       "      <td>-0.203806</td>\n",
       "    </tr>\n",
       "    <tr>\n",
       "      <th>InternetService_Fiber optic</th>\n",
       "      <td>-0.007522</td>\n",
       "      <td>0.167439</td>\n",
       "      <td>1.000000</td>\n",
       "      <td>-0.084906</td>\n",
       "      <td>-0.159106</td>\n",
       "      <td>-0.070851</td>\n",
       "      <td>0.264729</td>\n",
       "      <td>-0.239912</td>\n",
       "    </tr>\n",
       "    <tr>\n",
       "      <th>Contract_One year</th>\n",
       "      <td>0.284634</td>\n",
       "      <td>0.252455</td>\n",
       "      <td>-0.084906</td>\n",
       "      <td>1.000000</td>\n",
       "      <td>-0.237699</td>\n",
       "      <td>0.089704</td>\n",
       "      <td>-0.130637</td>\n",
       "      <td>-0.002410</td>\n",
       "    </tr>\n",
       "    <tr>\n",
       "      <th>Contract_Two year</th>\n",
       "      <td>0.578096</td>\n",
       "      <td>0.559846</td>\n",
       "      <td>-0.159106</td>\n",
       "      <td>-0.237699</td>\n",
       "      <td>1.000000</td>\n",
       "      <td>0.190070</td>\n",
       "      <td>-0.259236</td>\n",
       "      <td>-0.056046</td>\n",
       "    </tr>\n",
       "    <tr>\n",
       "      <th>PaymentMethod_Credit card (automatic)</th>\n",
       "      <td>0.246812</td>\n",
       "      <td>0.224252</td>\n",
       "      <td>-0.070851</td>\n",
       "      <td>0.089704</td>\n",
       "      <td>0.190070</td>\n",
       "      <td>1.000000</td>\n",
       "      <td>-0.442484</td>\n",
       "      <td>-0.216950</td>\n",
       "    </tr>\n",
       "    <tr>\n",
       "      <th>PaymentMethod_Electronic check</th>\n",
       "      <td>-0.270290</td>\n",
       "      <td>-0.215479</td>\n",
       "      <td>0.264729</td>\n",
       "      <td>-0.130637</td>\n",
       "      <td>-0.259236</td>\n",
       "      <td>-0.442484</td>\n",
       "      <td>1.000000</td>\n",
       "      <td>-0.351309</td>\n",
       "    </tr>\n",
       "    <tr>\n",
       "      <th>PaymentMethod_Mailed check</th>\n",
       "      <td>-0.178309</td>\n",
       "      <td>-0.203806</td>\n",
       "      <td>-0.239912</td>\n",
       "      <td>-0.002410</td>\n",
       "      <td>-0.056046</td>\n",
       "      <td>-0.216950</td>\n",
       "      <td>-0.351309</td>\n",
       "      <td>1.000000</td>\n",
       "    </tr>\n",
       "  </tbody>\n",
       "</table>\n",
       "</div>"
      ],
      "text/plain": [
       "                                         tenure  TotalCharges  \\\n",
       "tenure                                 1.000000      0.957923   \n",
       "TotalCharges                           0.957923      1.000000   \n",
       "InternetService_Fiber optic           -0.007522      0.167439   \n",
       "Contract_One year                      0.284634      0.252455   \n",
       "Contract_Two year                      0.578096      0.559846   \n",
       "PaymentMethod_Credit card (automatic)  0.246812      0.224252   \n",
       "PaymentMethod_Electronic check        -0.270290     -0.215479   \n",
       "PaymentMethod_Mailed check            -0.178309     -0.203806   \n",
       "\n",
       "                                       InternetService_Fiber optic  \\\n",
       "tenure                                                   -0.007522   \n",
       "TotalCharges                                              0.167439   \n",
       "InternetService_Fiber optic                               1.000000   \n",
       "Contract_One year                                        -0.084906   \n",
       "Contract_Two year                                        -0.159106   \n",
       "PaymentMethod_Credit card (automatic)                    -0.070851   \n",
       "PaymentMethod_Electronic check                            0.264729   \n",
       "PaymentMethod_Mailed check                               -0.239912   \n",
       "\n",
       "                                       Contract_One year  Contract_Two year  \\\n",
       "tenure                                          0.284634           0.578096   \n",
       "TotalCharges                                    0.252455           0.559846   \n",
       "InternetService_Fiber optic                    -0.084906          -0.159106   \n",
       "Contract_One year                               1.000000          -0.237699   \n",
       "Contract_Two year                              -0.237699           1.000000   \n",
       "PaymentMethod_Credit card (automatic)           0.089704           0.190070   \n",
       "PaymentMethod_Electronic check                 -0.130637          -0.259236   \n",
       "PaymentMethod_Mailed check                     -0.002410          -0.056046   \n",
       "\n",
       "                                       PaymentMethod_Credit card (automatic)  \\\n",
       "tenure                                                              0.246812   \n",
       "TotalCharges                                                        0.224252   \n",
       "InternetService_Fiber optic                                        -0.070851   \n",
       "Contract_One year                                                   0.089704   \n",
       "Contract_Two year                                                   0.190070   \n",
       "PaymentMethod_Credit card (automatic)                               1.000000   \n",
       "PaymentMethod_Electronic check                                     -0.442484   \n",
       "PaymentMethod_Mailed check                                         -0.216950   \n",
       "\n",
       "                                       PaymentMethod_Electronic check  \\\n",
       "tenure                                                      -0.270290   \n",
       "TotalCharges                                                -0.215479   \n",
       "InternetService_Fiber optic                                  0.264729   \n",
       "Contract_One year                                           -0.130637   \n",
       "Contract_Two year                                           -0.259236   \n",
       "PaymentMethod_Credit card (automatic)                       -0.442484   \n",
       "PaymentMethod_Electronic check                               1.000000   \n",
       "PaymentMethod_Mailed check                                  -0.351309   \n",
       "\n",
       "                                       PaymentMethod_Mailed check  \n",
       "tenure                                                  -0.178309  \n",
       "TotalCharges                                            -0.203806  \n",
       "InternetService_Fiber optic                             -0.239912  \n",
       "Contract_One year                                       -0.002410  \n",
       "Contract_Two year                                       -0.056046  \n",
       "PaymentMethod_Credit card (automatic)                   -0.216950  \n",
       "PaymentMethod_Electronic check                          -0.351309  \n",
       "PaymentMethod_Mailed check                               1.000000  "
      ]
     },
     "execution_count": 25,
     "metadata": {},
     "output_type": "execute_result"
    }
   ],
   "source": [
    "#cor = \n",
    "data_mod.corr()\n",
    "#plt.figure(figsize=(40,40))\n",
    "#sns.heatmap(cor, annot=True)\n",
    "#plt.rcParams['figure.figsize'] = [40, 40]\n",
    "#plt.rcParams['figure.dpi'] = 100\n",
    "#data_mod.corr()"
   ]
  },
  {
   "cell_type": "code",
   "execution_count": 26,
   "metadata": {
    "execution": {
     "iopub.execute_input": "2020-09-11T16:26:00.104108Z",
     "iopub.status.busy": "2020-09-11T16:26:00.103410Z",
     "iopub.status.idle": "2020-09-11T16:26:00.113292Z",
     "shell.execute_reply": "2020-09-11T16:26:00.112737Z"
    },
    "id": "pSnabYc78Zlu",
    "papermill": {
     "duration": 0.075712,
     "end_time": "2020-09-11T16:26:00.113424",
     "exception": false,
     "start_time": "2020-09-11T16:26:00.037712",
     "status": "completed"
    },
    "tags": []
   },
   "outputs": [],
   "source": [
    "data_mod.drop(index=data.loc[data_mod['TotalCharges'].isna()].index,axis=0,inplace=True)\n",
    "x = data_mod.drop(columns='TotalCharges',axis=1)\n",
    "y = data_mod['TotalCharges']"
   ]
  },
  {
   "cell_type": "code",
   "execution_count": 27,
   "metadata": {
    "execution": {
     "iopub.execute_input": "2020-09-11T16:26:00.250964Z",
     "iopub.status.busy": "2020-09-11T16:26:00.250284Z",
     "iopub.status.idle": "2020-09-11T16:26:00.257471Z",
     "shell.execute_reply": "2020-09-11T16:26:00.256831Z"
    },
    "id": "05q14VAUCTpL",
    "outputId": "d1cd014a-184a-4386-b6bc-19652f704b94",
    "papermill": {
     "duration": 0.081356,
     "end_time": "2020-09-11T16:26:00.257593",
     "exception": false,
     "start_time": "2020-09-11T16:26:00.176237",
     "status": "completed"
    },
    "tags": []
   },
   "outputs": [
    {
     "data": {
      "text/plain": [
       "0"
      ]
     },
     "execution_count": 27,
     "metadata": {},
     "output_type": "execute_result"
    }
   ],
   "source": [
    "x.isna().sum()\n",
    "y.isna().sum()"
   ]
  },
  {
   "cell_type": "code",
   "execution_count": 28,
   "metadata": {
    "execution": {
     "iopub.execute_input": "2020-09-11T16:26:00.391645Z",
     "iopub.status.busy": "2020-09-11T16:26:00.390580Z",
     "iopub.status.idle": "2020-09-11T16:26:00.397031Z",
     "shell.execute_reply": "2020-09-11T16:26:00.396426Z"
    },
    "id": "bwZRn75-_AR-",
    "papermill": {
     "duration": 0.075611,
     "end_time": "2020-09-11T16:26:00.397147",
     "exception": false,
     "start_time": "2020-09-11T16:26:00.321536",
     "status": "completed"
    },
    "tags": []
   },
   "outputs": [],
   "source": [
    "x_train,x_test,y_train,y_test = train_test_split(x,y,test_size=0.3,random_state=123)"
   ]
  },
  {
   "cell_type": "code",
   "execution_count": 29,
   "metadata": {
    "execution": {
     "iopub.execute_input": "2020-09-11T16:26:00.527064Z",
     "iopub.status.busy": "2020-09-11T16:26:00.526413Z",
     "iopub.status.idle": "2020-09-11T16:26:00.674871Z",
     "shell.execute_reply": "2020-09-11T16:26:00.674103Z"
    },
    "id": "2NWvKjzZAMMQ",
    "outputId": "a91affb4-72fb-4d12-c589-2849ace3437a",
    "papermill": {
     "duration": 0.21418,
     "end_time": "2020-09-11T16:26:00.675046",
     "exception": false,
     "start_time": "2020-09-11T16:26:00.460866",
     "status": "completed"
    },
    "tags": []
   },
   "outputs": [
    {
     "name": "stdout",
     "output_type": "stream",
     "text": [
      "                            OLS Regression Results                            \n",
      "==============================================================================\n",
      "Dep. Variable:           TotalCharges   R-squared:                       0.968\n",
      "Model:                            OLS   Adj. R-squared:                  0.968\n",
      "Method:                 Least Squares   F-statistic:                     5364.\n",
      "Date:                Fri, 11 Sep 2020   Prob (F-statistic):               0.00\n",
      "Time:                        16:26:00   Log-Likelihood:                -25314.\n",
      "No. Observations:                3382   AIC:                         5.067e+04\n",
      "Df Residuals:                    3362   BIC:                         5.079e+04\n",
      "Df Model:                          19                                         \n",
      "Covariance Type:            nonrobust                                         \n",
      "=========================================================================================================\n",
      "                                            coef    std err          t      P>|t|      [0.025      0.975]\n",
      "---------------------------------------------------------------------------------------------------------\n",
      "gender                                  -21.7213     14.926     -1.455      0.146     -50.986       7.544\n",
      "SeniorCitizen                           -29.3369     19.547     -1.501      0.133     -67.663       8.989\n",
      "Partner                                 -17.7616     17.603     -1.009      0.313     -52.276      16.753\n",
      "Dependents                              -17.0743     19.388     -0.881      0.379     -55.089      20.940\n",
      "tenure                                   82.5763      0.531    155.446      0.000      81.535      83.618\n",
      "PhoneService                          -1098.5414     28.023    -39.202      0.000   -1153.485   -1043.598\n",
      "MultipleLines                           157.8487     16.676      9.465      0.000     125.152     190.546\n",
      "OnlineSecurity                          146.3935     17.795      8.227      0.000     111.503     181.284\n",
      "OnlineBackup                            189.7916     16.563     11.458      0.000     157.316     222.267\n",
      "DeviceProtection                        177.0835     16.958     10.443      0.000     143.835     210.332\n",
      "TechSupport                             175.9857     17.902      9.830      0.000     140.885     211.086\n",
      "StreamingTV                             330.3822     17.403     18.984      0.000     296.261     364.503\n",
      "StreamingMovies                         315.5811     17.406     18.131      0.000     281.454     349.708\n",
      "PaperlessBilling                         22.0657     16.862      1.309      0.191     -10.994      55.126\n",
      "InternetService_Fiber optic             847.8290     18.235     46.495      0.000     812.077     883.581\n",
      "Contract_One year                       -12.7978     23.992     -0.533      0.594     -59.839      34.243\n",
      "Contract_Two year                       141.0906     30.368      4.646      0.000      81.549     200.632\n",
      "PaymentMethod_Credit card (automatic)    -0.3522     22.410     -0.016      0.987     -44.290      43.586\n",
      "PaymentMethod_Electronic check           15.7841     20.784      0.759      0.448     -24.966      56.535\n",
      "PaymentMethod_Mailed check              119.5997     26.349      4.539      0.000      67.937     171.262\n",
      "==============================================================================\n",
      "Omnibus:                       89.970   Durbin-Watson:                   1.947\n",
      "Prob(Omnibus):                  0.000   Jarque-Bera (JB):               96.620\n",
      "Skew:                           0.406   Prob(JB):                     1.05e-21\n",
      "Kurtosis:                       3.167   Cond. No.                         217.\n",
      "==============================================================================\n",
      "\n",
      "Warnings:\n",
      "[1] Standard Errors assume that the covariance matrix of the errors is correctly specified.\n"
     ]
    }
   ],
   "source": [
    "model = sm.OLS(y_train.astype(float),sm.add_constant(x_train.astype(float))).fit()\n",
    "print(model.summary()) "
   ]
  },
  {
   "cell_type": "markdown",
   "metadata": {
    "id": "GlAPfx_eQVaC",
    "papermill": {
     "duration": 0.063832,
     "end_time": "2020-09-11T16:26:00.803263",
     "exception": false,
     "start_time": "2020-09-11T16:26:00.739431",
     "status": "completed"
    },
    "tags": []
   },
   "source": [
    "## Back Propagation to select significant variables"
   ]
  },
  {
   "cell_type": "code",
   "execution_count": 30,
   "metadata": {
    "execution": {
     "iopub.execute_input": "2020-09-11T16:26:00.942674Z",
     "iopub.status.busy": "2020-09-11T16:26:00.941932Z",
     "iopub.status.idle": "2020-09-11T16:26:00.945443Z",
     "shell.execute_reply": "2020-09-11T16:26:00.944918Z"
    },
    "id": "dH4K0kIsEvya",
    "papermill": {
     "duration": 0.078239,
     "end_time": "2020-09-11T16:26:00.945569",
     "exception": false,
     "start_time": "2020-09-11T16:26:00.867330",
     "status": "completed"
    },
    "tags": []
   },
   "outputs": [],
   "source": [
    "def backward_regression(X, y,\n",
    "                           initial_list=[], \n",
    "                           threshold_in=0.01, \n",
    "                           threshold_out = 0.05, \n",
    "                           verbose=True):\n",
    "    included=list(X.columns)\n",
    "    while True:\n",
    "        changed=False\n",
    "        model = sm.OLS(y.astype(float), sm.add_constant(pd.DataFrame(X[included].astype(float)))).fit()\n",
    "        # use all coefs except intercept\n",
    "        pvalues = model.pvalues.iloc[1:]\n",
    "        worst_pval = pvalues.max() # null if pvalues is empty\n",
    "        if worst_pval > threshold_out:\n",
    "            changed=True\n",
    "            worst_feature = pvalues.idxmax()\n",
    "            included.remove(worst_feature)\n",
    "            if verbose:\n",
    "                print('Drop {} with p-value {} '.format(worst_feature, worst_pval))\n",
    "        if not changed:\n",
    "            break\n",
    "    return included"
   ]
  },
  {
   "cell_type": "code",
   "execution_count": 31,
   "metadata": {
    "execution": {
     "iopub.execute_input": "2020-09-11T16:26:01.089942Z",
     "iopub.status.busy": "2020-09-11T16:26:01.080008Z",
     "iopub.status.idle": "2020-09-11T16:26:01.248735Z",
     "shell.execute_reply": "2020-09-11T16:26:01.247981Z"
    },
    "id": "TXwViwFXE0Om",
    "outputId": "7811b994-e4c5-42f3-ad7a-3984faae53ef",
    "papermill": {
     "duration": 0.239149,
     "end_time": "2020-09-11T16:26:01.248915",
     "exception": false,
     "start_time": "2020-09-11T16:26:01.009766",
     "status": "completed"
    },
    "tags": []
   },
   "outputs": [
    {
     "name": "stdout",
     "output_type": "stream",
     "text": [
      "Drop Contract_One year with p-value 0.7393029296676181 \n",
      "Drop PaymentMethod_Credit card (automatic) with p-value 0.7002469669494795 \n",
      "Drop PaymentMethod_Electronic check with p-value 0.7497228888656782 \n",
      "Drop SeniorCitizen with p-value 0.3307159921026457 \n",
      "Drop PaperlessBilling with p-value 0.30868970966254633 \n",
      "Drop Partner with p-value 0.2703842891807341 \n",
      "Drop Dependents with p-value 0.06649723954680571 \n"
     ]
    },
    {
     "data": {
      "text/plain": [
       "['gender',\n",
       " 'tenure',\n",
       " 'PhoneService',\n",
       " 'MultipleLines',\n",
       " 'OnlineSecurity',\n",
       " 'OnlineBackup',\n",
       " 'DeviceProtection',\n",
       " 'TechSupport',\n",
       " 'StreamingTV',\n",
       " 'StreamingMovies',\n",
       " 'InternetService_Fiber optic',\n",
       " 'Contract_Two year',\n",
       " 'PaymentMethod_Mailed check']"
      ]
     },
     "execution_count": 31,
     "metadata": {},
     "output_type": "execute_result"
    }
   ],
   "source": [
    "backward_regression(x,y)"
   ]
  },
  {
   "cell_type": "code",
   "execution_count": 32,
   "metadata": {
    "execution": {
     "iopub.execute_input": "2020-09-11T16:26:01.388803Z",
     "iopub.status.busy": "2020-09-11T16:26:01.387462Z",
     "iopub.status.idle": "2020-09-11T16:26:01.403395Z",
     "shell.execute_reply": "2020-09-11T16:26:01.402787Z"
    },
    "id": "KIlnqdKO6DS1",
    "papermill": {
     "duration": 0.089717,
     "end_time": "2020-09-11T16:26:01.403572",
     "exception": false,
     "start_time": "2020-09-11T16:26:01.313855",
     "status": "completed"
    },
    "tags": []
   },
   "outputs": [],
   "source": [
    "data_mod.drop(columns='PaymentMethod_Credit card (automatic)',axis=1,inplace=True)\n",
    "data_mod.drop(columns='Contract_One year',axis=1,inplace=True) \n",
    "data_mod.drop(columns='PaymentMethod_Electronic check',axis=1,inplace=True) \n",
    "data_mod.drop(columns='SeniorCitizen',axis=1,inplace=True) \n",
    "data_mod.drop(columns='Partner',axis=1,inplace=True) \n",
    "data_mod.drop(columns='PaperlessBilling',axis=1,inplace=True) \n",
    "data_mod.drop(columns='Dependents',axis=1,inplace=True)"
   ]
  },
  {
   "cell_type": "code",
   "execution_count": 33,
   "metadata": {
    "execution": {
     "iopub.execute_input": "2020-09-11T16:26:01.593381Z",
     "iopub.status.busy": "2020-09-11T16:26:01.592491Z",
     "iopub.status.idle": "2020-09-11T16:26:01.598495Z",
     "shell.execute_reply": "2020-09-11T16:26:01.597826Z"
    },
    "id": "-BdrRm_QQMZw",
    "papermill": {
     "duration": 0.081236,
     "end_time": "2020-09-11T16:26:01.598612",
     "exception": false,
     "start_time": "2020-09-11T16:26:01.517376",
     "status": "completed"
    },
    "tags": []
   },
   "outputs": [],
   "source": [
    "x = data_mod.drop(columns='TotalCharges',axis=1)\n",
    "y = data_mod['TotalCharges']\n",
    "x_train,x_test,y_train,y_test = train_test_split(x,y,test_size=0.3,random_state=123)"
   ]
  },
  {
   "cell_type": "code",
   "execution_count": 34,
   "metadata": {
    "execution": {
     "iopub.execute_input": "2020-09-11T16:26:01.742703Z",
     "iopub.status.busy": "2020-09-11T16:26:01.741948Z",
     "iopub.status.idle": "2020-09-11T16:26:01.768525Z",
     "shell.execute_reply": "2020-09-11T16:26:01.767803Z"
    },
    "id": "RAPteU6xQDVY",
    "outputId": "a7521dca-d13d-48fd-ed00-caa45e6d7c5f",
    "papermill": {
     "duration": 0.104317,
     "end_time": "2020-09-11T16:26:01.768644",
     "exception": false,
     "start_time": "2020-09-11T16:26:01.664327",
     "status": "completed"
    },
    "tags": []
   },
   "outputs": [
    {
     "name": "stdout",
     "output_type": "stream",
     "text": [
      "                            OLS Regression Results                            \n",
      "==============================================================================\n",
      "Dep. Variable:           TotalCharges   R-squared:                       0.968\n",
      "Model:                            OLS   Adj. R-squared:                  0.968\n",
      "Method:                 Least Squares   F-statistic:                     8490.\n",
      "Date:                Fri, 11 Sep 2020   Prob (F-statistic):               0.00\n",
      "Time:                        16:26:01   Log-Likelihood:                -25318.\n",
      "No. Observations:                3382   AIC:                         5.066e+04\n",
      "Df Residuals:                    3369   BIC:                         5.074e+04\n",
      "Df Model:                          12                                         \n",
      "Covariance Type:            nonrobust                                         \n",
      "===============================================================================================\n",
      "                                  coef    std err          t      P>|t|      [0.025      0.975]\n",
      "-----------------------------------------------------------------------------------------------\n",
      "gender                        -20.2757     14.892     -1.362      0.173     -49.474       8.922\n",
      "tenure                         82.1734      0.460    178.460      0.000      81.271      83.076\n",
      "PhoneService                -1088.2240     20.860    -52.167      0.000   -1129.124   -1047.324\n",
      "MultipleLines                 157.4524     16.581      9.496      0.000     124.943     189.962\n",
      "OnlineSecurity                143.2261     17.652      8.114      0.000     108.616     177.837\n",
      "OnlineBackup                  189.8427     16.552     11.470      0.000     157.391     222.295\n",
      "DeviceProtection              174.8178     16.882     10.355      0.000     141.718     207.917\n",
      "TechSupport                   175.7093     17.723      9.914      0.000     140.960     210.458\n",
      "StreamingTV                   331.6399     17.293     19.178      0.000     297.735     365.545\n",
      "StreamingMovies               316.3550     17.357     18.227      0.000     282.324     350.385\n",
      "InternetService_Fiber optic   853.7769     17.573     48.584      0.000     819.322     888.232\n",
      "Contract_Two year             148.7854     24.681      6.028      0.000     100.394     197.177\n",
      "PaymentMethod_Mailed check    111.4599     22.266      5.006      0.000      67.803     155.117\n",
      "==============================================================================\n",
      "Omnibus:                       93.258   Durbin-Watson:                   1.950\n",
      "Prob(Omnibus):                  0.000   Jarque-Bera (JB):              100.442\n",
      "Skew:                           0.413   Prob(JB):                     1.55e-22\n",
      "Kurtosis:                       3.174   Cond. No.                         153.\n",
      "==============================================================================\n",
      "\n",
      "Warnings:\n",
      "[1] Standard Errors assume that the covariance matrix of the errors is correctly specified.\n"
     ]
    }
   ],
   "source": [
    "model = sm.OLS(y_train.astype(float),sm.add_constant(x_train.astype(float))).fit()\n",
    "print(model.summary()) "
   ]
  },
  {
   "cell_type": "markdown",
   "metadata": {
    "id": "-WqvkY3xQsVi",
    "papermill": {
     "duration": 0.068436,
     "end_time": "2020-09-11T16:26:01.905739",
     "exception": false,
     "start_time": "2020-09-11T16:26:01.837303",
     "status": "completed"
    },
    "tags": []
   },
   "source": [
    "## Model accuracy\n"
   ]
  },
  {
   "cell_type": "code",
   "execution_count": 35,
   "metadata": {
    "execution": {
     "iopub.execute_input": "2020-09-11T16:26:02.043754Z",
     "iopub.status.busy": "2020-09-11T16:26:02.042748Z",
     "iopub.status.idle": "2020-09-11T16:26:02.072335Z",
     "shell.execute_reply": "2020-09-11T16:26:02.072877Z"
    },
    "id": "MDj8OzDVF91P",
    "outputId": "4260e308-c39d-417d-cbac-22b0015252a9",
    "papermill": {
     "duration": 0.099852,
     "end_time": "2020-09-11T16:26:02.073040",
     "exception": false,
     "start_time": "2020-09-11T16:26:01.973188",
     "status": "completed"
    },
    "tags": []
   },
   "outputs": [
    {
     "name": "stdout",
     "output_type": "stream",
     "text": [
      "0.9649555170852671\n"
     ]
    }
   ],
   "source": [
    "model1 = LinearRegression()\n",
    "model1.fit(x_train,y_train)\n",
    "predict = model1.predict(x_test)\n",
    "\n",
    "print(r2_score(y_test,predict))\n",
    "\n"
   ]
  },
  {
   "cell_type": "markdown",
   "metadata": {
    "id": "aQIu1o6lOOR-",
    "papermill": {
     "duration": 0.067948,
     "end_time": "2020-09-11T16:26:02.208694",
     "exception": false,
     "start_time": "2020-09-11T16:26:02.140746",
     "status": "completed"
    },
    "tags": []
   },
   "source": [
    "## Regression when there is no internet service"
   ]
  },
  {
   "cell_type": "code",
   "execution_count": 36,
   "metadata": {
    "execution": {
     "iopub.execute_input": "2020-09-11T16:26:02.376061Z",
     "iopub.status.busy": "2020-09-11T16:26:02.353419Z",
     "iopub.status.idle": "2020-09-11T16:26:02.382088Z",
     "shell.execute_reply": "2020-09-11T16:26:02.382585Z"
    },
    "id": "JUGbd6wZFhU9",
    "outputId": "5b69c15f-ff28-45f3-e32a-0b8d3871d1ea",
    "papermill": {
     "duration": 0.10276,
     "end_time": "2020-09-11T16:26:02.382740",
     "exception": false,
     "start_time": "2020-09-11T16:26:02.279980",
     "status": "completed"
    },
    "tags": []
   },
   "outputs": [
    {
     "name": "stderr",
     "output_type": "stream",
     "text": [
      "/opt/conda/lib/python3.7/site-packages/pandas/core/frame.py:4167: SettingWithCopyWarning:\n",
      "\n",
      "\n",
      "A value is trying to be set on a copy of a slice from a DataFrame\n",
      "\n",
      "See the caveats in the documentation: https://pandas.pydata.org/pandas-docs/stable/user_guide/indexing.html#returning-a-view-versus-a-copy\n",
      "\n"
     ]
    },
    {
     "data": {
      "text/html": [
       "<div>\n",
       "<style scoped>\n",
       "    .dataframe tbody tr th:only-of-type {\n",
       "        vertical-align: middle;\n",
       "    }\n",
       "\n",
       "    .dataframe tbody tr th {\n",
       "        vertical-align: top;\n",
       "    }\n",
       "\n",
       "    .dataframe thead th {\n",
       "        text-align: right;\n",
       "    }\n",
       "</style>\n",
       "<table border=\"1\" class=\"dataframe\">\n",
       "  <thead>\n",
       "    <tr style=\"text-align: right;\">\n",
       "      <th></th>\n",
       "      <th>gender</th>\n",
       "      <th>SeniorCitizen</th>\n",
       "      <th>Partner</th>\n",
       "      <th>Dependents</th>\n",
       "      <th>tenure</th>\n",
       "      <th>PhoneService</th>\n",
       "      <th>MultipleLines</th>\n",
       "      <th>Contract</th>\n",
       "      <th>PaperlessBilling</th>\n",
       "      <th>PaymentMethod</th>\n",
       "      <th>TotalCharges</th>\n",
       "    </tr>\n",
       "  </thead>\n",
       "  <tbody>\n",
       "    <tr>\n",
       "      <th>11</th>\n",
       "      <td>Male</td>\n",
       "      <td>No</td>\n",
       "      <td>No</td>\n",
       "      <td>No</td>\n",
       "      <td>16</td>\n",
       "      <td>Yes</td>\n",
       "      <td>No</td>\n",
       "      <td>Two year</td>\n",
       "      <td>No</td>\n",
       "      <td>Credit card (automatic)</td>\n",
       "      <td>326.80</td>\n",
       "    </tr>\n",
       "    <tr>\n",
       "      <th>16</th>\n",
       "      <td>Female</td>\n",
       "      <td>No</td>\n",
       "      <td>No</td>\n",
       "      <td>No</td>\n",
       "      <td>52</td>\n",
       "      <td>Yes</td>\n",
       "      <td>No</td>\n",
       "      <td>One year</td>\n",
       "      <td>No</td>\n",
       "      <td>Mailed check</td>\n",
       "      <td>1022.95</td>\n",
       "    </tr>\n",
       "    <tr>\n",
       "      <th>21</th>\n",
       "      <td>Male</td>\n",
       "      <td>No</td>\n",
       "      <td>Yes</td>\n",
       "      <td>No</td>\n",
       "      <td>12</td>\n",
       "      <td>Yes</td>\n",
       "      <td>No</td>\n",
       "      <td>One year</td>\n",
       "      <td>No</td>\n",
       "      <td>Bank transfer (automatic)</td>\n",
       "      <td>202.25</td>\n",
       "    </tr>\n",
       "    <tr>\n",
       "      <th>22</th>\n",
       "      <td>Male</td>\n",
       "      <td>No</td>\n",
       "      <td>No</td>\n",
       "      <td>No</td>\n",
       "      <td>1</td>\n",
       "      <td>Yes</td>\n",
       "      <td>No</td>\n",
       "      <td>Month-to-month</td>\n",
       "      <td>No</td>\n",
       "      <td>Mailed check</td>\n",
       "      <td>20.15</td>\n",
       "    </tr>\n",
       "    <tr>\n",
       "      <th>33</th>\n",
       "      <td>Male</td>\n",
       "      <td>No</td>\n",
       "      <td>No</td>\n",
       "      <td>No</td>\n",
       "      <td>1</td>\n",
       "      <td>Yes</td>\n",
       "      <td>No</td>\n",
       "      <td>Month-to-month</td>\n",
       "      <td>No</td>\n",
       "      <td>Bank transfer (automatic)</td>\n",
       "      <td>20.20</td>\n",
       "    </tr>\n",
       "    <tr>\n",
       "      <th>...</th>\n",
       "      <td>...</td>\n",
       "      <td>...</td>\n",
       "      <td>...</td>\n",
       "      <td>...</td>\n",
       "      <td>...</td>\n",
       "      <td>...</td>\n",
       "      <td>...</td>\n",
       "      <td>...</td>\n",
       "      <td>...</td>\n",
       "      <td>...</td>\n",
       "      <td>...</td>\n",
       "    </tr>\n",
       "    <tr>\n",
       "      <th>7017</th>\n",
       "      <td>Female</td>\n",
       "      <td>No</td>\n",
       "      <td>No</td>\n",
       "      <td>No</td>\n",
       "      <td>51</td>\n",
       "      <td>Yes</td>\n",
       "      <td>No</td>\n",
       "      <td>Two year</td>\n",
       "      <td>No</td>\n",
       "      <td>Bank transfer (automatic)</td>\n",
       "      <td>1020.75</td>\n",
       "    </tr>\n",
       "    <tr>\n",
       "      <th>7019</th>\n",
       "      <td>Female</td>\n",
       "      <td>No</td>\n",
       "      <td>No</td>\n",
       "      <td>No</td>\n",
       "      <td>39</td>\n",
       "      <td>Yes</td>\n",
       "      <td>No</td>\n",
       "      <td>Two year</td>\n",
       "      <td>No</td>\n",
       "      <td>Mailed check</td>\n",
       "      <td>826.00</td>\n",
       "    </tr>\n",
       "    <tr>\n",
       "      <th>7020</th>\n",
       "      <td>Male</td>\n",
       "      <td>No</td>\n",
       "      <td>Yes</td>\n",
       "      <td>Yes</td>\n",
       "      <td>12</td>\n",
       "      <td>Yes</td>\n",
       "      <td>No</td>\n",
       "      <td>Month-to-month</td>\n",
       "      <td>Yes</td>\n",
       "      <td>Electronic check</td>\n",
       "      <td>239.00</td>\n",
       "    </tr>\n",
       "    <tr>\n",
       "      <th>7030</th>\n",
       "      <td>Female</td>\n",
       "      <td>No</td>\n",
       "      <td>No</td>\n",
       "      <td>No</td>\n",
       "      <td>2</td>\n",
       "      <td>Yes</td>\n",
       "      <td>No</td>\n",
       "      <td>Month-to-month</td>\n",
       "      <td>Yes</td>\n",
       "      <td>Mailed check</td>\n",
       "      <td>39.25</td>\n",
       "    </tr>\n",
       "    <tr>\n",
       "      <th>7037</th>\n",
       "      <td>Female</td>\n",
       "      <td>No</td>\n",
       "      <td>No</td>\n",
       "      <td>No</td>\n",
       "      <td>72</td>\n",
       "      <td>Yes</td>\n",
       "      <td>No</td>\n",
       "      <td>Two year</td>\n",
       "      <td>Yes</td>\n",
       "      <td>Bank transfer (automatic)</td>\n",
       "      <td>1419.40</td>\n",
       "    </tr>\n",
       "  </tbody>\n",
       "</table>\n",
       "<p>1520 rows × 11 columns</p>\n",
       "</div>"
      ],
      "text/plain": [
       "      gender SeniorCitizen Partner Dependents  tenure PhoneService  \\\n",
       "11      Male            No      No         No      16          Yes   \n",
       "16    Female            No      No         No      52          Yes   \n",
       "21      Male            No     Yes         No      12          Yes   \n",
       "22      Male            No      No         No       1          Yes   \n",
       "33      Male            No      No         No       1          Yes   \n",
       "...      ...           ...     ...        ...     ...          ...   \n",
       "7017  Female            No      No         No      51          Yes   \n",
       "7019  Female            No      No         No      39          Yes   \n",
       "7020    Male            No     Yes        Yes      12          Yes   \n",
       "7030  Female            No      No         No       2          Yes   \n",
       "7037  Female            No      No         No      72          Yes   \n",
       "\n",
       "     MultipleLines        Contract PaperlessBilling  \\\n",
       "11              No        Two year               No   \n",
       "16              No        One year               No   \n",
       "21              No        One year               No   \n",
       "22              No  Month-to-month               No   \n",
       "33              No  Month-to-month               No   \n",
       "...            ...             ...              ...   \n",
       "7017            No        Two year               No   \n",
       "7019            No        Two year               No   \n",
       "7020            No  Month-to-month              Yes   \n",
       "7030            No  Month-to-month              Yes   \n",
       "7037            No        Two year              Yes   \n",
       "\n",
       "                  PaymentMethod  TotalCharges  \n",
       "11      Credit card (automatic)        326.80  \n",
       "16                 Mailed check       1022.95  \n",
       "21    Bank transfer (automatic)        202.25  \n",
       "22                 Mailed check         20.15  \n",
       "33    Bank transfer (automatic)         20.20  \n",
       "...                         ...           ...  \n",
       "7017  Bank transfer (automatic)       1020.75  \n",
       "7019               Mailed check        826.00  \n",
       "7020           Electronic check        239.00  \n",
       "7030               Mailed check         39.25  \n",
       "7037  Bank transfer (automatic)       1419.40  \n",
       "\n",
       "[1520 rows x 11 columns]"
      ]
     },
     "execution_count": 36,
     "metadata": {},
     "output_type": "execute_result"
    }
   ],
   "source": [
    "noweb.drop(noweb.iloc[:,7:14],axis=1,inplace=True)\n",
    "noweb.drop(columns='MonthlyCharges',axis=1,inplace=True)\n",
    "noweb"
   ]
  },
  {
   "cell_type": "code",
   "execution_count": 37,
   "metadata": {
    "execution": {
     "iopub.execute_input": "2020-09-11T16:26:02.522303Z",
     "iopub.status.busy": "2020-09-11T16:26:02.521683Z",
     "iopub.status.idle": "2020-09-11T16:26:02.569722Z",
     "shell.execute_reply": "2020-09-11T16:26:02.570244Z"
    },
    "id": "JbxXV_HwHP6B",
    "outputId": "9d646046-0ebc-40f6-d553-4c6779569b6b",
    "papermill": {
     "duration": 0.118542,
     "end_time": "2020-09-11T16:26:02.570412",
     "exception": false,
     "start_time": "2020-09-11T16:26:02.451870",
     "status": "completed"
    },
    "tags": []
   },
   "outputs": [
    {
     "name": "stderr",
     "output_type": "stream",
     "text": [
      "/opt/conda/lib/python3.7/site-packages/pandas/core/frame.py:4382: SettingWithCopyWarning:\n",
      "\n",
      "\n",
      "A value is trying to be set on a copy of a slice from a DataFrame\n",
      "\n",
      "See the caveats in the documentation: https://pandas.pydata.org/pandas-docs/stable/user_guide/indexing.html#returning-a-view-versus-a-copy\n",
      "\n"
     ]
    },
    {
     "data": {
      "text/html": [
       "<div>\n",
       "<style scoped>\n",
       "    .dataframe tbody tr th:only-of-type {\n",
       "        vertical-align: middle;\n",
       "    }\n",
       "\n",
       "    .dataframe tbody tr th {\n",
       "        vertical-align: top;\n",
       "    }\n",
       "\n",
       "    .dataframe thead th {\n",
       "        text-align: right;\n",
       "    }\n",
       "</style>\n",
       "<table border=\"1\" class=\"dataframe\">\n",
       "  <thead>\n",
       "    <tr style=\"text-align: right;\">\n",
       "      <th></th>\n",
       "      <th>gender</th>\n",
       "      <th>SeniorCitizen</th>\n",
       "      <th>Partner</th>\n",
       "      <th>Dependents</th>\n",
       "      <th>tenure</th>\n",
       "      <th>PhoneService</th>\n",
       "      <th>MultipleLines</th>\n",
       "      <th>PaperlessBilling</th>\n",
       "      <th>TotalCharges</th>\n",
       "      <th>Contract_One year</th>\n",
       "      <th>Contract_Two year</th>\n",
       "      <th>PaymentMethod_Credit card (automatic)</th>\n",
       "      <th>PaymentMethod_Electronic check</th>\n",
       "      <th>PaymentMethod_Mailed check</th>\n",
       "    </tr>\n",
       "  </thead>\n",
       "  <tbody>\n",
       "    <tr>\n",
       "      <th>11</th>\n",
       "      <td>1</td>\n",
       "      <td>0</td>\n",
       "      <td>0</td>\n",
       "      <td>0</td>\n",
       "      <td>16</td>\n",
       "      <td>1</td>\n",
       "      <td>0</td>\n",
       "      <td>0</td>\n",
       "      <td>326.80</td>\n",
       "      <td>0</td>\n",
       "      <td>1</td>\n",
       "      <td>1</td>\n",
       "      <td>0</td>\n",
       "      <td>0</td>\n",
       "    </tr>\n",
       "    <tr>\n",
       "      <th>16</th>\n",
       "      <td>0</td>\n",
       "      <td>0</td>\n",
       "      <td>0</td>\n",
       "      <td>0</td>\n",
       "      <td>52</td>\n",
       "      <td>1</td>\n",
       "      <td>0</td>\n",
       "      <td>0</td>\n",
       "      <td>1022.95</td>\n",
       "      <td>1</td>\n",
       "      <td>0</td>\n",
       "      <td>0</td>\n",
       "      <td>0</td>\n",
       "      <td>1</td>\n",
       "    </tr>\n",
       "    <tr>\n",
       "      <th>21</th>\n",
       "      <td>1</td>\n",
       "      <td>0</td>\n",
       "      <td>1</td>\n",
       "      <td>0</td>\n",
       "      <td>12</td>\n",
       "      <td>1</td>\n",
       "      <td>0</td>\n",
       "      <td>0</td>\n",
       "      <td>202.25</td>\n",
       "      <td>1</td>\n",
       "      <td>0</td>\n",
       "      <td>0</td>\n",
       "      <td>0</td>\n",
       "      <td>0</td>\n",
       "    </tr>\n",
       "    <tr>\n",
       "      <th>22</th>\n",
       "      <td>1</td>\n",
       "      <td>0</td>\n",
       "      <td>0</td>\n",
       "      <td>0</td>\n",
       "      <td>1</td>\n",
       "      <td>1</td>\n",
       "      <td>0</td>\n",
       "      <td>0</td>\n",
       "      <td>20.15</td>\n",
       "      <td>0</td>\n",
       "      <td>0</td>\n",
       "      <td>0</td>\n",
       "      <td>0</td>\n",
       "      <td>1</td>\n",
       "    </tr>\n",
       "    <tr>\n",
       "      <th>33</th>\n",
       "      <td>1</td>\n",
       "      <td>0</td>\n",
       "      <td>0</td>\n",
       "      <td>0</td>\n",
       "      <td>1</td>\n",
       "      <td>1</td>\n",
       "      <td>0</td>\n",
       "      <td>0</td>\n",
       "      <td>20.20</td>\n",
       "      <td>0</td>\n",
       "      <td>0</td>\n",
       "      <td>0</td>\n",
       "      <td>0</td>\n",
       "      <td>0</td>\n",
       "    </tr>\n",
       "    <tr>\n",
       "      <th>...</th>\n",
       "      <td>...</td>\n",
       "      <td>...</td>\n",
       "      <td>...</td>\n",
       "      <td>...</td>\n",
       "      <td>...</td>\n",
       "      <td>...</td>\n",
       "      <td>...</td>\n",
       "      <td>...</td>\n",
       "      <td>...</td>\n",
       "      <td>...</td>\n",
       "      <td>...</td>\n",
       "      <td>...</td>\n",
       "      <td>...</td>\n",
       "      <td>...</td>\n",
       "    </tr>\n",
       "    <tr>\n",
       "      <th>7017</th>\n",
       "      <td>0</td>\n",
       "      <td>0</td>\n",
       "      <td>0</td>\n",
       "      <td>0</td>\n",
       "      <td>51</td>\n",
       "      <td>1</td>\n",
       "      <td>0</td>\n",
       "      <td>0</td>\n",
       "      <td>1020.75</td>\n",
       "      <td>0</td>\n",
       "      <td>1</td>\n",
       "      <td>0</td>\n",
       "      <td>0</td>\n",
       "      <td>0</td>\n",
       "    </tr>\n",
       "    <tr>\n",
       "      <th>7019</th>\n",
       "      <td>0</td>\n",
       "      <td>0</td>\n",
       "      <td>0</td>\n",
       "      <td>0</td>\n",
       "      <td>39</td>\n",
       "      <td>1</td>\n",
       "      <td>0</td>\n",
       "      <td>0</td>\n",
       "      <td>826.00</td>\n",
       "      <td>0</td>\n",
       "      <td>1</td>\n",
       "      <td>0</td>\n",
       "      <td>0</td>\n",
       "      <td>1</td>\n",
       "    </tr>\n",
       "    <tr>\n",
       "      <th>7020</th>\n",
       "      <td>1</td>\n",
       "      <td>0</td>\n",
       "      <td>1</td>\n",
       "      <td>1</td>\n",
       "      <td>12</td>\n",
       "      <td>1</td>\n",
       "      <td>0</td>\n",
       "      <td>1</td>\n",
       "      <td>239.00</td>\n",
       "      <td>0</td>\n",
       "      <td>0</td>\n",
       "      <td>0</td>\n",
       "      <td>1</td>\n",
       "      <td>0</td>\n",
       "    </tr>\n",
       "    <tr>\n",
       "      <th>7030</th>\n",
       "      <td>0</td>\n",
       "      <td>0</td>\n",
       "      <td>0</td>\n",
       "      <td>0</td>\n",
       "      <td>2</td>\n",
       "      <td>1</td>\n",
       "      <td>0</td>\n",
       "      <td>1</td>\n",
       "      <td>39.25</td>\n",
       "      <td>0</td>\n",
       "      <td>0</td>\n",
       "      <td>0</td>\n",
       "      <td>0</td>\n",
       "      <td>1</td>\n",
       "    </tr>\n",
       "    <tr>\n",
       "      <th>7037</th>\n",
       "      <td>0</td>\n",
       "      <td>0</td>\n",
       "      <td>0</td>\n",
       "      <td>0</td>\n",
       "      <td>72</td>\n",
       "      <td>1</td>\n",
       "      <td>0</td>\n",
       "      <td>1</td>\n",
       "      <td>1419.40</td>\n",
       "      <td>0</td>\n",
       "      <td>1</td>\n",
       "      <td>0</td>\n",
       "      <td>0</td>\n",
       "      <td>0</td>\n",
       "    </tr>\n",
       "  </tbody>\n",
       "</table>\n",
       "<p>1520 rows × 14 columns</p>\n",
       "</div>"
      ],
      "text/plain": [
       "     gender SeniorCitizen Partner Dependents  tenure PhoneService  \\\n",
       "11        1             0       0          0      16            1   \n",
       "16        0             0       0          0      52            1   \n",
       "21        1             0       1          0      12            1   \n",
       "22        1             0       0          0       1            1   \n",
       "33        1             0       0          0       1            1   \n",
       "...     ...           ...     ...        ...     ...          ...   \n",
       "7017      0             0       0          0      51            1   \n",
       "7019      0             0       0          0      39            1   \n",
       "7020      1             0       1          1      12            1   \n",
       "7030      0             0       0          0       2            1   \n",
       "7037      0             0       0          0      72            1   \n",
       "\n",
       "     MultipleLines PaperlessBilling  TotalCharges  Contract_One year  \\\n",
       "11               0                0        326.80                  0   \n",
       "16               0                0       1022.95                  1   \n",
       "21               0                0        202.25                  1   \n",
       "22               0                0         20.15                  0   \n",
       "33               0                0         20.20                  0   \n",
       "...            ...              ...           ...                ...   \n",
       "7017             0                0       1020.75                  0   \n",
       "7019             0                0        826.00                  0   \n",
       "7020             0                1        239.00                  0   \n",
       "7030             0                1         39.25                  0   \n",
       "7037             0                1       1419.40                  0   \n",
       "\n",
       "      Contract_Two year  PaymentMethod_Credit card (automatic)  \\\n",
       "11                    1                                      1   \n",
       "16                    0                                      0   \n",
       "21                    0                                      0   \n",
       "22                    0                                      0   \n",
       "33                    0                                      0   \n",
       "...                 ...                                    ...   \n",
       "7017                  1                                      0   \n",
       "7019                  1                                      0   \n",
       "7020                  0                                      0   \n",
       "7030                  0                                      0   \n",
       "7037                  1                                      0   \n",
       "\n",
       "      PaymentMethod_Electronic check  PaymentMethod_Mailed check  \n",
       "11                                 0                           0  \n",
       "16                                 0                           1  \n",
       "21                                 0                           0  \n",
       "22                                 0                           1  \n",
       "33                                 0                           0  \n",
       "...                              ...                         ...  \n",
       "7017                               0                           0  \n",
       "7019                               0                           1  \n",
       "7020                               1                           0  \n",
       "7030                               0                           1  \n",
       "7037                               0                           0  \n",
       "\n",
       "[1520 rows x 14 columns]"
      ]
     },
     "execution_count": 37,
     "metadata": {},
     "output_type": "execute_result"
    }
   ],
   "source": [
    "noweb.replace(to_replace='No',value='0',inplace=True)\n",
    "noweb.replace(to_replace='Yes',value='1',inplace=True)\n",
    "\n",
    "noweb.replace(to_replace='Male',value='1',inplace=True)\n",
    "noweb.replace(to_replace='Female',value='0',inplace=True)\n",
    "noweb_mod = pd.get_dummies(noweb,columns=['Contract','PaymentMethod'],drop_first=True)\n",
    "noweb_mod"
   ]
  },
  {
   "cell_type": "code",
   "execution_count": 38,
   "metadata": {
    "execution": {
     "iopub.execute_input": "2020-09-11T16:26:02.714563Z",
     "iopub.status.busy": "2020-09-11T16:26:02.713297Z",
     "iopub.status.idle": "2020-09-11T16:26:03.165441Z",
     "shell.execute_reply": "2020-09-11T16:26:03.164870Z"
    },
    "id": "EJeq-uFjKYBO",
    "outputId": "51f24a6e-7612-411c-8b47-7916517197d6",
    "papermill": {
     "duration": 0.526185,
     "end_time": "2020-09-11T16:26:03.165577",
     "exception": false,
     "start_time": "2020-09-11T16:26:02.639392",
     "status": "completed"
    },
    "tags": []
   },
   "outputs": [
    {
     "data": {
      "text/plain": [
       "<matplotlib.axes._subplots.AxesSubplot at 0x7f2d12a5cdd0>"
      ]
     },
     "execution_count": 38,
     "metadata": {},
     "output_type": "execute_result"
    },
    {
     "data": {
      "image/png": "[encoded data removed]",
      "text/plain": [
       "<Figure size 432x288 with 2 Axes>"
      ]
     },
     "metadata": {
      "needs_background": "light"
     },
     "output_type": "display_data"
    }
   ],
   "source": [
    "corr1 = noweb_mod.corr()\n",
    "sns.heatmap(corr1,annot=True)"
   ]
  },
  {
   "cell_type": "code",
   "execution_count": 39,
   "metadata": {
    "execution": {
     "iopub.execute_input": "2020-09-11T16:26:03.314494Z",
     "iopub.status.busy": "2020-09-11T16:26:03.313757Z",
     "iopub.status.idle": "2020-09-11T16:26:03.317148Z",
     "shell.execute_reply": "2020-09-11T16:26:03.316633Z"
    },
    "id": "Ju5aR9BGKqoY",
    "papermill": {
     "duration": 0.080608,
     "end_time": "2020-09-11T16:26:03.317264",
     "exception": false,
     "start_time": "2020-09-11T16:26:03.236656",
     "status": "completed"
    },
    "tags": []
   },
   "outputs": [],
   "source": [
    "x9 = noweb_mod.drop(columns='TotalCharges')\n",
    "y9 = noweb_mod['TotalCharges']"
   ]
  },
  {
   "cell_type": "code",
   "execution_count": 40,
   "metadata": {
    "execution": {
     "iopub.execute_input": "2020-09-11T16:26:03.466745Z",
     "iopub.status.busy": "2020-09-11T16:26:03.466058Z",
     "iopub.status.idle": "2020-09-11T16:26:03.472005Z",
     "shell.execute_reply": "2020-09-11T16:26:03.471456Z"
    },
    "id": "KPFHVoh0K-1z",
    "papermill": {
     "duration": 0.083944,
     "end_time": "2020-09-11T16:26:03.472118",
     "exception": false,
     "start_time": "2020-09-11T16:26:03.388174",
     "status": "completed"
    },
    "tags": []
   },
   "outputs": [],
   "source": [
    "x_train5,x_test5,y_train5,y_test5=train_test_split(x9,y9,test_size=0.3,random_state=125)"
   ]
  },
  {
   "cell_type": "code",
   "execution_count": 41,
   "metadata": {
    "execution": {
     "iopub.execute_input": "2020-09-11T16:26:03.625758Z",
     "iopub.status.busy": "2020-09-11T16:26:03.621410Z",
     "iopub.status.idle": "2020-09-11T16:26:03.646482Z",
     "shell.execute_reply": "2020-09-11T16:26:03.647184Z"
    },
    "id": "cErE8qL2MBz5",
    "outputId": "baf7f941-fc12-4293-8835-0ebf5eb2e5e2",
    "papermill": {
     "duration": 0.104106,
     "end_time": "2020-09-11T16:26:03.647407",
     "exception": false,
     "start_time": "2020-09-11T16:26:03.543301",
     "status": "completed"
    },
    "tags": []
   },
   "outputs": [
    {
     "name": "stdout",
     "output_type": "stream",
     "text": [
      "                            OLS Regression Results                            \n",
      "==============================================================================\n",
      "Dep. Variable:           TotalCharges   R-squared:                       0.986\n",
      "Model:                            OLS   Adj. R-squared:                  0.986\n",
      "Method:                 Least Squares   F-statistic:                     6291.\n",
      "Date:                Fri, 11 Sep 2020   Prob (F-statistic):               0.00\n",
      "Time:                        16:26:03   Log-Likelihood:                -5946.0\n",
      "No. Observations:                1064   AIC:                         1.192e+04\n",
      "Df Residuals:                    1051   BIC:                         1.198e+04\n",
      "Df Model:                          12                                         \n",
      "Covariance Type:            nonrobust                                         \n",
      "=========================================================================================================\n",
      "                                            coef    std err          t      P>|t|      [0.025      0.975]\n",
      "---------------------------------------------------------------------------------------------------------\n",
      "gender                                   -0.3340      4.039     -0.083      0.934      -8.260       7.592\n",
      "SeniorCitizen                             2.5828     10.779      0.240      0.811     -18.569      23.734\n",
      "Partner                                   3.3901      5.252      0.645      0.519      -6.916      13.697\n",
      "Dependents                              -16.6428      5.077     -3.278      0.001     -26.605      -6.680\n",
      "tenure                                   21.2619      0.130    163.463      0.000      21.007      21.517\n",
      "PhoneService                            -26.0546      6.685     -3.898      0.000     -39.172     -12.937\n",
      "MultipleLines                           215.6233      5.129     42.042      0.000     205.560     225.687\n",
      "PaperlessBilling                         -1.5267      4.378     -0.349      0.727     -10.118       7.064\n",
      "Contract_One year                       -16.9077      5.802     -2.914      0.004     -28.292      -5.523\n",
      "Contract_Two year                       -11.6473      6.814     -1.709      0.088     -25.018       1.724\n",
      "PaymentMethod_Credit card (automatic)     8.4973      6.049      1.405      0.160      -3.373      20.368\n",
      "PaymentMethod_Electronic check           -6.7160      8.406     -0.799      0.424     -23.210       9.778\n",
      "PaymentMethod_Mailed check                8.3321      5.523      1.509      0.132      -2.506      19.170\n",
      "==============================================================================\n",
      "Omnibus:                       46.776   Durbin-Watson:                   1.918\n",
      "Prob(Omnibus):                  0.000   Jarque-Bera (JB):              131.018\n",
      "Skew:                          -0.131   Prob(JB):                     3.55e-29\n",
      "Kurtosis:                       4.699   Cond. No.                         215.\n",
      "==============================================================================\n",
      "\n",
      "Warnings:\n",
      "[1] Standard Errors assume that the covariance matrix of the errors is correctly specified.\n"
     ]
    }
   ],
   "source": [
    "model2 = sm.OLS(y_train5.astype(float),sm.add_constant(x_train5.astype(float))).fit()\n",
    "print(model2.summary())"
   ]
  },
  {
   "cell_type": "code",
   "execution_count": 42,
   "metadata": {
    "execution": {
     "iopub.execute_input": "2020-09-11T16:26:03.796124Z",
     "iopub.status.busy": "2020-09-11T16:26:03.795409Z",
     "iopub.status.idle": "2020-09-11T16:26:03.814692Z",
     "shell.execute_reply": "2020-09-11T16:26:03.813677Z"
    },
    "id": "ebi98JzPOf7K",
    "outputId": "5841732e-50c3-4973-e02b-9ab6feaad15e",
    "papermill": {
     "duration": 0.094682,
     "end_time": "2020-09-11T16:26:03.814896",
     "exception": false,
     "start_time": "2020-09-11T16:26:03.720214",
     "status": "completed"
    },
    "tags": []
   },
   "outputs": [
    {
     "name": "stdout",
     "output_type": "stream",
     "text": [
      "0.9874234811809572\n"
     ]
    }
   ],
   "source": [
    "model5 = LinearRegression()\n",
    "model5.fit(x_train5,y_train5)\n",
    "predict = model5.predict(x_test5)\n",
    "\n",
    "print(r2_score(y_test5,predict))"
   ]
  },
  {
   "cell_type": "markdown",
   "metadata": {
    "id": "zplQNdrt1F0h",
    "papermill": {
     "duration": 0.074085,
     "end_time": "2020-09-11T16:26:03.963146",
     "exception": false,
     "start_time": "2020-09-11T16:26:03.889061",
     "status": "completed"
    },
    "tags": []
   },
   "source": [
    "## Knn"
   ]
  },
  {
   "cell_type": "code",
   "execution_count": 43,
   "metadata": {
    "execution": {
     "iopub.execute_input": "2020-09-11T16:26:04.111513Z",
     "iopub.status.busy": "2020-09-11T16:26:04.110851Z",
     "iopub.status.idle": "2020-09-11T16:26:04.170781Z",
     "shell.execute_reply": "2020-09-11T16:26:04.171289Z"
    },
    "id": "rm29HJrDl0GQ",
    "outputId": "b8e9077d-bde0-46e5-a51f-91abf3dda575",
    "papermill": {
     "duration": 0.135537,
     "end_time": "2020-09-11T16:26:04.171461",
     "exception": false,
     "start_time": "2020-09-11T16:26:04.035924",
     "status": "completed"
    },
    "tags": []
   },
   "outputs": [
    {
     "data": {
      "text/html": [
       "<div>\n",
       "<style scoped>\n",
       "    .dataframe tbody tr th:only-of-type {\n",
       "        vertical-align: middle;\n",
       "    }\n",
       "\n",
       "    .dataframe tbody tr th {\n",
       "        vertical-align: top;\n",
       "    }\n",
       "\n",
       "    .dataframe thead th {\n",
       "        text-align: right;\n",
       "    }\n",
       "</style>\n",
       "<table border=\"1\" class=\"dataframe\">\n",
       "  <thead>\n",
       "    <tr style=\"text-align: right;\">\n",
       "      <th></th>\n",
       "      <th>gender</th>\n",
       "      <th>SeniorCitizen</th>\n",
       "      <th>Partner</th>\n",
       "      <th>Dependents</th>\n",
       "      <th>tenure</th>\n",
       "      <th>PaperlessBilling</th>\n",
       "      <th>MonthlyCharges</th>\n",
       "      <th>TotalCharges</th>\n",
       "      <th>InternetService_DSL</th>\n",
       "      <th>InternetService_Fiber optic</th>\n",
       "      <th>...</th>\n",
       "      <th>DeviceProtection_Yes</th>\n",
       "      <th>TechSupport_No</th>\n",
       "      <th>TechSupport_No internet service</th>\n",
       "      <th>TechSupport_Yes</th>\n",
       "      <th>StreamingTV_No</th>\n",
       "      <th>StreamingTV_No internet service</th>\n",
       "      <th>StreamingTV_Yes</th>\n",
       "      <th>StreamingMovies_No</th>\n",
       "      <th>StreamingMovies_No internet service</th>\n",
       "      <th>StreamingMovies_Yes</th>\n",
       "    </tr>\n",
       "  </thead>\n",
       "  <tbody>\n",
       "    <tr>\n",
       "      <th>0</th>\n",
       "      <td>1</td>\n",
       "      <td>0</td>\n",
       "      <td>1</td>\n",
       "      <td>0</td>\n",
       "      <td>1</td>\n",
       "      <td>1</td>\n",
       "      <td>29.85</td>\n",
       "      <td>29.85</td>\n",
       "      <td>1</td>\n",
       "      <td>0</td>\n",
       "      <td>...</td>\n",
       "      <td>0</td>\n",
       "      <td>1</td>\n",
       "      <td>0</td>\n",
       "      <td>0</td>\n",
       "      <td>1</td>\n",
       "      <td>0</td>\n",
       "      <td>0</td>\n",
       "      <td>1</td>\n",
       "      <td>0</td>\n",
       "      <td>0</td>\n",
       "    </tr>\n",
       "    <tr>\n",
       "      <th>1</th>\n",
       "      <td>0</td>\n",
       "      <td>0</td>\n",
       "      <td>0</td>\n",
       "      <td>0</td>\n",
       "      <td>34</td>\n",
       "      <td>0</td>\n",
       "      <td>56.95</td>\n",
       "      <td>1889.50</td>\n",
       "      <td>1</td>\n",
       "      <td>0</td>\n",
       "      <td>...</td>\n",
       "      <td>1</td>\n",
       "      <td>1</td>\n",
       "      <td>0</td>\n",
       "      <td>0</td>\n",
       "      <td>1</td>\n",
       "      <td>0</td>\n",
       "      <td>0</td>\n",
       "      <td>1</td>\n",
       "      <td>0</td>\n",
       "      <td>0</td>\n",
       "    </tr>\n",
       "    <tr>\n",
       "      <th>2</th>\n",
       "      <td>0</td>\n",
       "      <td>0</td>\n",
       "      <td>0</td>\n",
       "      <td>0</td>\n",
       "      <td>2</td>\n",
       "      <td>1</td>\n",
       "      <td>53.85</td>\n",
       "      <td>108.15</td>\n",
       "      <td>1</td>\n",
       "      <td>0</td>\n",
       "      <td>...</td>\n",
       "      <td>0</td>\n",
       "      <td>1</td>\n",
       "      <td>0</td>\n",
       "      <td>0</td>\n",
       "      <td>1</td>\n",
       "      <td>0</td>\n",
       "      <td>0</td>\n",
       "      <td>1</td>\n",
       "      <td>0</td>\n",
       "      <td>0</td>\n",
       "    </tr>\n",
       "    <tr>\n",
       "      <th>3</th>\n",
       "      <td>0</td>\n",
       "      <td>0</td>\n",
       "      <td>0</td>\n",
       "      <td>0</td>\n",
       "      <td>45</td>\n",
       "      <td>0</td>\n",
       "      <td>42.30</td>\n",
       "      <td>1840.75</td>\n",
       "      <td>1</td>\n",
       "      <td>0</td>\n",
       "      <td>...</td>\n",
       "      <td>1</td>\n",
       "      <td>0</td>\n",
       "      <td>0</td>\n",
       "      <td>1</td>\n",
       "      <td>1</td>\n",
       "      <td>0</td>\n",
       "      <td>0</td>\n",
       "      <td>1</td>\n",
       "      <td>0</td>\n",
       "      <td>0</td>\n",
       "    </tr>\n",
       "    <tr>\n",
       "      <th>4</th>\n",
       "      <td>1</td>\n",
       "      <td>0</td>\n",
       "      <td>0</td>\n",
       "      <td>0</td>\n",
       "      <td>2</td>\n",
       "      <td>1</td>\n",
       "      <td>70.70</td>\n",
       "      <td>151.65</td>\n",
       "      <td>0</td>\n",
       "      <td>1</td>\n",
       "      <td>...</td>\n",
       "      <td>0</td>\n",
       "      <td>1</td>\n",
       "      <td>0</td>\n",
       "      <td>0</td>\n",
       "      <td>1</td>\n",
       "      <td>0</td>\n",
       "      <td>0</td>\n",
       "      <td>1</td>\n",
       "      <td>0</td>\n",
       "      <td>0</td>\n",
       "    </tr>\n",
       "  </tbody>\n",
       "</table>\n",
       "<p>5 rows × 41 columns</p>\n",
       "</div>"
      ],
      "text/plain": [
       "  gender SeniorCitizen Partner Dependents  tenure PaperlessBilling  \\\n",
       "0      1             0       1          0       1                1   \n",
       "1      0             0       0          0      34                0   \n",
       "2      0             0       0          0       2                1   \n",
       "3      0             0       0          0      45                0   \n",
       "4      1             0       0          0       2                1   \n",
       "\n",
       "   MonthlyCharges  TotalCharges  InternetService_DSL  \\\n",
       "0           29.85         29.85                    1   \n",
       "1           56.95       1889.50                    1   \n",
       "2           53.85        108.15                    1   \n",
       "3           42.30       1840.75                    1   \n",
       "4           70.70        151.65                    0   \n",
       "\n",
       "   InternetService_Fiber optic  ...  DeviceProtection_Yes  TechSupport_No  \\\n",
       "0                            0  ...                     0               1   \n",
       "1                            0  ...                     1               1   \n",
       "2                            0  ...                     0               1   \n",
       "3                            0  ...                     1               0   \n",
       "4                            1  ...                     0               1   \n",
       "\n",
       "   TechSupport_No internet service  TechSupport_Yes  StreamingTV_No  \\\n",
       "0                                0                0               1   \n",
       "1                                0                0               1   \n",
       "2                                0                0               1   \n",
       "3                                0                1               1   \n",
       "4                                0                0               1   \n",
       "\n",
       "   StreamingTV_No internet service  StreamingTV_Yes  StreamingMovies_No  \\\n",
       "0                                0                0                   1   \n",
       "1                                0                0                   1   \n",
       "2                                0                0                   1   \n",
       "3                                0                0                   1   \n",
       "4                                0                0                   1   \n",
       "\n",
       "   StreamingMovies_No internet service  StreamingMovies_Yes  \n",
       "0                                    0                    0  \n",
       "1                                    0                    0  \n",
       "2                                    0                    0  \n",
       "3                                    0                    0  \n",
       "4                                    0                    0  \n",
       "\n",
       "[5 rows x 41 columns]"
      ]
     },
     "execution_count": 43,
     "metadata": {},
     "output_type": "execute_result"
    }
   ],
   "source": [
    "data_mod1 = pd.get_dummies(data1,columns=['InternetService','Contract','PaymentMethod','MultipleLines','PhoneService','OnlineSecurity','OnlineBackup','DeviceProtection','TechSupport','StreamingTV','StreamingMovies'])\n",
    "#'Gender','Partner','Dependents','Phone Service','Multiple Lines','Internet Service','Online Security'\n",
    "data_mod1.replace(to_replace='No',value='0',inplace=True)\n",
    "data_mod1.replace(to_replace='Yes',value='1',inplace=True)\n",
    "data_mod1['gender'].replace(to_replace='Female',value='1',inplace=True)\n",
    "data_mod1['gender'].replace(to_replace='Male',value='0',inplace=True)\n",
    "data_mod1.head()"
   ]
  },
  {
   "cell_type": "code",
   "execution_count": 44,
   "metadata": {
    "execution": {
     "iopub.execute_input": "2020-09-11T16:26:04.324228Z",
     "iopub.status.busy": "2020-09-11T16:26:04.323568Z",
     "iopub.status.idle": "2020-09-11T16:26:04.327851Z",
     "shell.execute_reply": "2020-09-11T16:26:04.328317Z"
    },
    "id": "3cMFDusPeoVq",
    "papermill": {
     "duration": 0.084236,
     "end_time": "2020-09-11T16:26:04.328482",
     "exception": false,
     "start_time": "2020-09-11T16:26:04.244246",
     "status": "completed"
    },
    "tags": []
   },
   "outputs": [],
   "source": [
    "x1 = data_mod1.drop(columns=['TotalCharges'],axis=1)\n",
    "y1 = data_mod1['TotalCharges']"
   ]
  },
  {
   "cell_type": "code",
   "execution_count": 45,
   "metadata": {
    "execution": {
     "iopub.execute_input": "2020-09-11T16:26:04.479856Z",
     "iopub.status.busy": "2020-09-11T16:26:04.479197Z",
     "iopub.status.idle": "2020-09-11T16:26:04.489104Z",
     "shell.execute_reply": "2020-09-11T16:26:04.489700Z"
    },
    "id": "AA4bpBhGxFDX",
    "outputId": "795bde4e-a454-4dac-f23d-7689f1d33793",
    "papermill": {
     "duration": 0.086456,
     "end_time": "2020-09-11T16:26:04.489861",
     "exception": false,
     "start_time": "2020-09-11T16:26:04.403405",
     "status": "completed"
    },
    "tags": []
   },
   "outputs": [
    {
     "data": {
      "text/plain": [
       "(2110,)"
      ]
     },
     "execution_count": 45,
     "metadata": {},
     "output_type": "execute_result"
    }
   ],
   "source": [
    "x_train1,x_test1,y_train1,y_test1 = train_test_split(x1,y1,test_size=0.3,random_state=122)\n",
    "x_train1.shape\n",
    "x_test1.shape\n",
    "y_train1.shape\n",
    "y_test1.shape"
   ]
  },
  {
   "cell_type": "code",
   "execution_count": 46,
   "metadata": {
    "execution": {
     "iopub.execute_input": "2020-09-11T16:26:04.642013Z",
     "iopub.status.busy": "2020-09-11T16:26:04.641275Z",
     "iopub.status.idle": "2020-09-11T16:26:04.731098Z",
     "shell.execute_reply": "2020-09-11T16:26:04.731660Z"
    },
    "id": "2sZ2LJQ-i2rL",
    "papermill": {
     "duration": 0.167544,
     "end_time": "2020-09-11T16:26:04.731822",
     "exception": false,
     "start_time": "2020-09-11T16:26:04.564278",
     "status": "completed"
    },
    "tags": []
   },
   "outputs": [],
   "source": [
    "scaler = MinMaxScaler()\n",
    "x_train_stand = scaler.fit_transform(x_train1)\n",
    "x_test_stand = scaler.fit_transform(x_test1)"
   ]
  },
  {
   "cell_type": "code",
   "execution_count": 47,
   "metadata": {
    "execution": {
     "iopub.execute_input": "2020-09-11T16:26:04.884240Z",
     "iopub.status.busy": "2020-09-11T16:26:04.883511Z",
     "iopub.status.idle": "2020-09-11T16:26:43.801877Z",
     "shell.execute_reply": "2020-09-11T16:26:43.801010Z"
    },
    "id": "NuPJ0U8rkfCP",
    "papermill": {
     "duration": 38.996363,
     "end_time": "2020-09-11T16:26:43.802080",
     "exception": false,
     "start_time": "2020-09-11T16:26:04.805717",
     "status": "completed"
    },
    "tags": []
   },
   "outputs": [],
   "source": [
    "mse1 = []\n",
    "r2 = []\n",
    "for x in range(1,27):\n",
    "  kNN = Knn(n_neighbors=x,p=2,metric='minkowski')\n",
    "  kNN.fit(x_train_stand,y_train1)\n",
    "  predictKnn = kNN.predict(x_test_stand)\n",
    "  #mse1.append(mse(y_test1,predictKnn))\n",
    "  r2.append(kNN.score(x_test_stand,y_test1))"
   ]
  },
  {
   "cell_type": "code",
   "execution_count": 48,
   "metadata": {
    "execution": {
     "iopub.execute_input": "2020-09-11T16:26:43.962920Z",
     "iopub.status.busy": "2020-09-11T16:26:43.962236Z",
     "iopub.status.idle": "2020-09-11T16:26:44.175141Z",
     "shell.execute_reply": "2020-09-11T16:26:44.174103Z"
    },
    "id": "iMcvQB4SljPw",
    "outputId": "1add65b9-ede9-4498-e78d-c9383b635af2",
    "papermill": {
     "duration": 0.295997,
     "end_time": "2020-09-11T16:26:44.175309",
     "exception": false,
     "start_time": "2020-09-11T16:26:43.879312",
     "status": "completed"
    },
    "tags": []
   },
   "outputs": [
    {
     "name": "stdout",
     "output_type": "stream",
     "text": [
      "0     0.747615\n",
      "1     0.817171\n",
      "2     0.834858\n",
      "3     0.842906\n",
      "4     0.846478\n",
      "5     0.848381\n",
      "6     0.849937\n",
      "7     0.851656\n",
      "8     0.854207\n",
      "9     0.856258\n",
      "10    0.857879\n",
      "11    0.860510\n",
      "12    0.861482\n",
      "13    0.860461\n",
      "14    0.859514\n",
      "15    0.858893\n",
      "16    0.859433\n",
      "17    0.859772\n",
      "18    0.860015\n",
      "19    0.859817\n",
      "20    0.859703\n",
      "21    0.860279\n",
      "22    0.860424\n",
      "23    0.860104\n",
      "24    0.860015\n",
      "25    0.859966\n",
      "dtype: float64\n"
     ]
    },
    {
     "data": {
      "image/png": "[encoded data removed]",
      "text/plain": [
       "<Figure size 432x288 with 1 Axes>"
      ]
     },
     "metadata": {
      "needs_background": "light"
     },
     "output_type": "display_data"
    }
   ],
   "source": [
    "\n",
    "values = pd.Series(r2)\n",
    "#knnvalue = np.hstack((index,values))\n",
    "#values = np.array(values)\n",
    "print(values)\n",
    "plt.plot(values.index,values)\n",
    "plt.xticks(range(0,28))\n",
    "plt.show()"
   ]
  },
  {
   "cell_type": "code",
   "execution_count": 49,
   "metadata": {
    "execution": {
     "iopub.execute_input": "2020-09-11T16:26:44.337738Z",
     "iopub.status.busy": "2020-09-11T16:26:44.336990Z",
     "iopub.status.idle": "2020-09-11T16:26:45.105393Z",
     "shell.execute_reply": "2020-09-11T16:26:45.104647Z"
    },
    "id": "tCzUa5_oz1_e",
    "papermill": {
     "duration": 0.851599,
     "end_time": "2020-09-11T16:26:45.105525",
     "exception": false,
     "start_time": "2020-09-11T16:26:44.253926",
     "status": "completed"
    },
    "tags": []
   },
   "outputs": [],
   "source": [
    "kNN = Knn(n_neighbors=11,p=2)\n",
    "kNN.fit(x_train_stand,y_train1)\n",
    "predictKnn = kNN.predict(x_test_stand)"
   ]
  },
  {
   "cell_type": "code",
   "execution_count": 50,
   "metadata": {
    "execution": {
     "iopub.execute_input": "2020-09-11T16:26:45.267526Z",
     "iopub.status.busy": "2020-09-11T16:26:45.266765Z",
     "iopub.status.idle": "2020-09-11T16:26:45.272150Z",
     "shell.execute_reply": "2020-09-11T16:26:45.271546Z"
    },
    "id": "6EpXw1CB1T6Z",
    "outputId": "b4fe2635-7c1d-4cb8-92b8-649173b728c6",
    "papermill": {
     "duration": 0.088169,
     "end_time": "2020-09-11T16:26:45.272272",
     "exception": false,
     "start_time": "2020-09-11T16:26:45.184103",
     "status": "completed"
    },
    "tags": []
   },
   "outputs": [
    {
     "data": {
      "text/plain": [
       "0.8578785630549868"
      ]
     },
     "execution_count": 50,
     "metadata": {},
     "output_type": "execute_result"
    }
   ],
   "source": [
    "r2_score(y_test1,predictKnn)"
   ]
  },
  {
   "cell_type": "markdown",
   "metadata": {
    "id": "uBTScn9X1ApH",
    "papermill": {
     "duration": 0.078631,
     "end_time": "2020-09-11T16:26:45.427819",
     "exception": false,
     "start_time": "2020-09-11T16:26:45.349188",
     "status": "completed"
    },
    "tags": []
   },
   "source": [
    "## Decision Tree\n"
   ]
  },
  {
   "cell_type": "code",
   "execution_count": 51,
   "metadata": {
    "execution": {
     "iopub.execute_input": "2020-09-11T16:26:45.585395Z",
     "iopub.status.busy": "2020-09-11T16:26:45.584339Z",
     "iopub.status.idle": "2020-09-11T16:26:45.641198Z",
     "shell.execute_reply": "2020-09-11T16:26:45.641825Z"
    },
    "id": "7NCq6EKd58dk",
    "outputId": "2a5fe748-6148-44d2-8aa5-bd96e4be2140",
    "papermill": {
     "duration": 0.137215,
     "end_time": "2020-09-11T16:26:45.641976",
     "exception": false,
     "start_time": "2020-09-11T16:26:45.504761",
     "status": "completed"
    },
    "tags": []
   },
   "outputs": [
    {
     "data": {
      "text/html": [
       "<div>\n",
       "<style scoped>\n",
       "    .dataframe tbody tr th:only-of-type {\n",
       "        vertical-align: middle;\n",
       "    }\n",
       "\n",
       "    .dataframe tbody tr th {\n",
       "        vertical-align: top;\n",
       "    }\n",
       "\n",
       "    .dataframe thead th {\n",
       "        text-align: right;\n",
       "    }\n",
       "</style>\n",
       "<table border=\"1\" class=\"dataframe\">\n",
       "  <thead>\n",
       "    <tr style=\"text-align: right;\">\n",
       "      <th></th>\n",
       "      <th>gender</th>\n",
       "      <th>SeniorCitizen</th>\n",
       "      <th>Partner</th>\n",
       "      <th>Dependents</th>\n",
       "      <th>tenure</th>\n",
       "      <th>PaperlessBilling</th>\n",
       "      <th>TotalCharges</th>\n",
       "      <th>InternetService_DSL</th>\n",
       "      <th>InternetService_Fiber optic</th>\n",
       "      <th>Contract_Month-to-month</th>\n",
       "      <th>...</th>\n",
       "      <th>OnlineBackup_No</th>\n",
       "      <th>OnlineBackup_Yes</th>\n",
       "      <th>DeviceProtection_No</th>\n",
       "      <th>DeviceProtection_Yes</th>\n",
       "      <th>TechSupport_No</th>\n",
       "      <th>TechSupport_Yes</th>\n",
       "      <th>StreamingTV_No</th>\n",
       "      <th>StreamingTV_Yes</th>\n",
       "      <th>StreamingMovies_No</th>\n",
       "      <th>StreamingMovies_Yes</th>\n",
       "    </tr>\n",
       "  </thead>\n",
       "  <tbody>\n",
       "    <tr>\n",
       "      <th>1</th>\n",
       "      <td>0</td>\n",
       "      <td>0</td>\n",
       "      <td>0</td>\n",
       "      <td>0</td>\n",
       "      <td>34</td>\n",
       "      <td>0</td>\n",
       "      <td>1889.50</td>\n",
       "      <td>1</td>\n",
       "      <td>0</td>\n",
       "      <td>0</td>\n",
       "      <td>...</td>\n",
       "      <td>1</td>\n",
       "      <td>0</td>\n",
       "      <td>0</td>\n",
       "      <td>1</td>\n",
       "      <td>1</td>\n",
       "      <td>0</td>\n",
       "      <td>1</td>\n",
       "      <td>0</td>\n",
       "      <td>1</td>\n",
       "      <td>0</td>\n",
       "    </tr>\n",
       "    <tr>\n",
       "      <th>2</th>\n",
       "      <td>0</td>\n",
       "      <td>0</td>\n",
       "      <td>0</td>\n",
       "      <td>0</td>\n",
       "      <td>2</td>\n",
       "      <td>1</td>\n",
       "      <td>108.15</td>\n",
       "      <td>1</td>\n",
       "      <td>0</td>\n",
       "      <td>1</td>\n",
       "      <td>...</td>\n",
       "      <td>0</td>\n",
       "      <td>1</td>\n",
       "      <td>1</td>\n",
       "      <td>0</td>\n",
       "      <td>1</td>\n",
       "      <td>0</td>\n",
       "      <td>1</td>\n",
       "      <td>0</td>\n",
       "      <td>1</td>\n",
       "      <td>0</td>\n",
       "    </tr>\n",
       "    <tr>\n",
       "      <th>4</th>\n",
       "      <td>1</td>\n",
       "      <td>0</td>\n",
       "      <td>0</td>\n",
       "      <td>0</td>\n",
       "      <td>2</td>\n",
       "      <td>1</td>\n",
       "      <td>151.65</td>\n",
       "      <td>0</td>\n",
       "      <td>1</td>\n",
       "      <td>1</td>\n",
       "      <td>...</td>\n",
       "      <td>1</td>\n",
       "      <td>0</td>\n",
       "      <td>1</td>\n",
       "      <td>0</td>\n",
       "      <td>1</td>\n",
       "      <td>0</td>\n",
       "      <td>1</td>\n",
       "      <td>0</td>\n",
       "      <td>1</td>\n",
       "      <td>0</td>\n",
       "    </tr>\n",
       "    <tr>\n",
       "      <th>5</th>\n",
       "      <td>1</td>\n",
       "      <td>0</td>\n",
       "      <td>0</td>\n",
       "      <td>0</td>\n",
       "      <td>8</td>\n",
       "      <td>1</td>\n",
       "      <td>820.50</td>\n",
       "      <td>0</td>\n",
       "      <td>1</td>\n",
       "      <td>1</td>\n",
       "      <td>...</td>\n",
       "      <td>1</td>\n",
       "      <td>0</td>\n",
       "      <td>0</td>\n",
       "      <td>1</td>\n",
       "      <td>1</td>\n",
       "      <td>0</td>\n",
       "      <td>0</td>\n",
       "      <td>1</td>\n",
       "      <td>0</td>\n",
       "      <td>1</td>\n",
       "    </tr>\n",
       "    <tr>\n",
       "      <th>6</th>\n",
       "      <td>0</td>\n",
       "      <td>0</td>\n",
       "      <td>0</td>\n",
       "      <td>1</td>\n",
       "      <td>22</td>\n",
       "      <td>1</td>\n",
       "      <td>1949.40</td>\n",
       "      <td>0</td>\n",
       "      <td>1</td>\n",
       "      <td>1</td>\n",
       "      <td>...</td>\n",
       "      <td>0</td>\n",
       "      <td>1</td>\n",
       "      <td>1</td>\n",
       "      <td>0</td>\n",
       "      <td>1</td>\n",
       "      <td>0</td>\n",
       "      <td>0</td>\n",
       "      <td>1</td>\n",
       "      <td>1</td>\n",
       "      <td>0</td>\n",
       "    </tr>\n",
       "  </tbody>\n",
       "</table>\n",
       "<p>5 rows × 31 columns</p>\n",
       "</div>"
      ],
      "text/plain": [
       "  gender SeniorCitizen Partner Dependents  tenure PaperlessBilling  \\\n",
       "1      0             0       0          0      34                0   \n",
       "2      0             0       0          0       2                1   \n",
       "4      1             0       0          0       2                1   \n",
       "5      1             0       0          0       8                1   \n",
       "6      0             0       0          1      22                1   \n",
       "\n",
       "   TotalCharges  InternetService_DSL  InternetService_Fiber optic  \\\n",
       "1       1889.50                    1                            0   \n",
       "2        108.15                    1                            0   \n",
       "4        151.65                    0                            1   \n",
       "5        820.50                    0                            1   \n",
       "6       1949.40                    0                            1   \n",
       "\n",
       "   Contract_Month-to-month  ...  OnlineBackup_No  OnlineBackup_Yes  \\\n",
       "1                        0  ...                1                 0   \n",
       "2                        1  ...                0                 1   \n",
       "4                        1  ...                1                 0   \n",
       "5                        1  ...                1                 0   \n",
       "6                        1  ...                0                 1   \n",
       "\n",
       "   DeviceProtection_No  DeviceProtection_Yes  TechSupport_No  TechSupport_Yes  \\\n",
       "1                    0                     1               1                0   \n",
       "2                    1                     0               1                0   \n",
       "4                    1                     0               1                0   \n",
       "5                    0                     1               1                0   \n",
       "6                    1                     0               1                0   \n",
       "\n",
       "   StreamingTV_No  StreamingTV_Yes  StreamingMovies_No  StreamingMovies_Yes  \n",
       "1               1                0                   1                    0  \n",
       "2               1                0                   1                    0  \n",
       "4               1                0                   1                    0  \n",
       "5               0                1                   0                    1  \n",
       "6               0                1                   1                    0  \n",
       "\n",
       "[5 rows x 31 columns]"
      ]
     },
     "execution_count": 51,
     "metadata": {},
     "output_type": "execute_result"
    }
   ],
   "source": [
    "data_mod2 = pd.get_dummies(data,columns=['InternetService','Contract','PaymentMethod','MultipleLines','PhoneService','OnlineSecurity','OnlineBackup','DeviceProtection','TechSupport','StreamingTV','StreamingMovies'])\n",
    "data_mod2.replace(to_replace='No',value='0',inplace=True)\n",
    "data_mod2.replace(to_replace='Yes',value='1',inplace=True)\n",
    "data_mod2['gender'].replace(to_replace='Female',value='1',inplace=True)\n",
    "data_mod2['gender'].replace(to_replace='Male',value='0',inplace=True)\n",
    "data_mod2.head()\n",
    "#data_mod2.drop(columns=['Monthly Charges'],axis=1,inplace=True)"
   ]
  },
  {
   "cell_type": "code",
   "execution_count": 52,
   "metadata": {
    "execution": {
     "iopub.execute_input": "2020-09-11T16:26:45.804068Z",
     "iopub.status.busy": "2020-09-11T16:26:45.802997Z",
     "iopub.status.idle": "2020-09-11T16:26:45.810678Z",
     "shell.execute_reply": "2020-09-11T16:26:45.811236Z"
    },
    "id": "zTNrl1lu2an6",
    "papermill": {
     "duration": 0.089178,
     "end_time": "2020-09-11T16:26:45.811402",
     "exception": false,
     "start_time": "2020-09-11T16:26:45.722224",
     "status": "completed"
    },
    "tags": []
   },
   "outputs": [],
   "source": [
    "x3= data_mod2.drop(columns='TotalCharges',axis=1)\n",
    "y3 = data_mod2['TotalCharges']"
   ]
  },
  {
   "cell_type": "code",
   "execution_count": 53,
   "metadata": {
    "execution": {
     "iopub.execute_input": "2020-09-11T16:26:45.973977Z",
     "iopub.status.busy": "2020-09-11T16:26:45.972923Z",
     "iopub.status.idle": "2020-09-11T16:26:45.981285Z",
     "shell.execute_reply": "2020-09-11T16:26:45.981796Z"
    },
    "id": "XUlPG6zV3HZG",
    "papermill": {
     "duration": 0.090108,
     "end_time": "2020-09-11T16:26:45.981958",
     "exception": false,
     "start_time": "2020-09-11T16:26:45.891850",
     "status": "completed"
    },
    "tags": []
   },
   "outputs": [],
   "source": [
    "x_train3,x_test3,y_train3,y_test3 = train_test_split(x3,y3,test_size=0.3,random_state=121)"
   ]
  },
  {
   "cell_type": "code",
   "execution_count": 54,
   "metadata": {
    "execution": {
     "iopub.execute_input": "2020-09-11T16:26:46.143544Z",
     "iopub.status.busy": "2020-09-11T16:26:46.142748Z",
     "iopub.status.idle": "2020-09-11T16:26:46.196478Z",
     "shell.execute_reply": "2020-09-11T16:26:46.195779Z"
    },
    "id": "bwW9QVIU6M1m",
    "outputId": "e2ce9f14-da1a-4218-8bd8-9961c6923ab4",
    "papermill": {
     "duration": 0.135883,
     "end_time": "2020-09-11T16:26:46.196601",
     "exception": false,
     "start_time": "2020-09-11T16:26:46.060718",
     "status": "completed"
    },
    "tags": []
   },
   "outputs": [
    {
     "data": {
      "text/plain": [
       "0.9890266912327079"
      ]
     },
     "execution_count": 54,
     "metadata": {},
     "output_type": "execute_result"
    }
   ],
   "source": [
    "tree1 = DecisionTreeRegressor()\n",
    "tree1.fit(x_train3,y_train3)\n",
    "predict3 = tree1.predict(x_test3)\n",
    "r2_score(y_test3,predict3)"
   ]
  },
  {
   "cell_type": "code",
   "execution_count": 55,
   "metadata": {
    "execution": {
     "iopub.execute_input": "2020-09-11T16:26:46.367698Z",
     "iopub.status.busy": "2020-09-11T16:26:46.366860Z",
     "iopub.status.idle": "2020-09-11T16:26:46.427395Z",
     "shell.execute_reply": "2020-09-11T16:26:46.426710Z"
    },
    "id": "i5TX11jx7XKe",
    "outputId": "4ff27b9c-b15e-4683-9c2e-1f5b5f66b126",
    "papermill": {
     "duration": 0.150803,
     "end_time": "2020-09-11T16:26:46.427527",
     "exception": false,
     "start_time": "2020-09-11T16:26:46.276724",
     "status": "completed"
    },
    "tags": []
   },
   "outputs": [
    {
     "data": {
      "text/html": [
       "<div>\n",
       "        \n",
       "        \n",
       "            <div id=\"2a7443c6-ba0b-4241-a550-860336252dd9\" class=\"plotly-graph-div\" style=\"height:525px; width:100%;\"></div>\n",
       "            <script type=\"text/javascript\">\n",
       "                require([\"plotly\"], function(Plotly) {\n",
       "                    window.PLOTLYENV=window.PLOTLYENV || {};\n",
       "                    \n",
       "                if (document.getElementById(\"2a7443c6-ba0b-4241-a550-860336252dd9\")) {\n",
       "                    Plotly.newPlot(\n",
       "                        '2a7443c6-ba0b-4241-a550-860336252dd9',\n",
       "                        [{\"alignmentgroup\": \"True\", \"hovertemplate\": \"x=%{x}<br>Score=%{y}<extra></extra>\", \"legendgroup\": \"\", \"marker\": {\"color\": \"#636efa\"}, \"name\": \"\", \"offsetgroup\": \"\", \"orientation\": \"v\", \"showlegend\": false, \"textposition\": \"auto\", \"type\": \"bar\", \"x\": [\"tenure\", \"InternetService_Fiber optic\", \"InternetService_DSL\", \"StreamingMovies_Yes\", \"StreamingTV_No\", \"StreamingMovies_No\", \"StreamingTV_Yes\", \"TechSupport_Yes\", \"DeviceProtection_Yes\", \"OnlineBackup_No\", \"OnlineSecurity_Yes\", \"DeviceProtection_No\", \"OnlineSecurity_No\", \"MultipleLines_No\", \"OnlineBackup_Yes\", \"TechSupport_No\", \"MultipleLines_Yes\", \"SeniorCitizen\", \"Partner\", \"PaymentMethod_Electronic check\", \"gender\", \"Dependents\", \"TotalCharges\", \"PaymentMethod_Credit card (automatic)\", \"PaymentMethod_Bank transfer (automatic)\", \"PaymentMethod_Mailed check\", \"Contract_One year\", \"Contract_Two year\", \"Contract_Month-to-month\", \"PhoneService_Yes\"], \"xaxis\": \"x\", \"y\": [0.9241101438803834, 0.03221992826104896, 0.013398176149060652, 0.00889549079828773, 0.006082361308972869, 0.003624994515400207, 0.002670374498841894, 0.001367143882971281, 0.0009002286665247318, 0.0007583870735433629, 0.0006859700999863399, 0.0005821603913311978, 0.0005666973162603375, 0.0005534920970478748, 0.0005437755896139797, 0.0004704715618220683, 0.00027202608204518366, 0.000261762406616703, 0.000223012007188915, 0.00021925193776778642, 0.00021588968523567328, 0.00020189969477503382, 0.0001934070916092694, 0.00019310068038784638, 0.00018732219568277846, 0.00016580755416860588, 0.0001575388290262656, 0.0001528508033818012, 0.00012633494101709573, 0.0], \"yaxis\": \"y\"}],\n",
       "                        {\"barmode\": \"relative\", \"legend\": {\"tracegroupgap\": 0}, \"template\": {\"data\": {\"bar\": [{\"error_x\": {\"color\": \"#2a3f5f\"}, \"error_y\": {\"color\": \"#2a3f5f\"}, \"marker\": {\"line\": {\"color\": \"#E5ECF6\", \"width\": 0.5}}, \"type\": \"bar\"}], \"barpolar\": [{\"marker\": {\"line\": {\"color\": \"#E5ECF6\", \"width\": 0.5}}, \"type\": \"barpolar\"}], \"carpet\": [{\"aaxis\": {\"endlinecolor\": \"#2a3f5f\", \"gridcolor\": \"white\", \"linecolor\": \"white\", \"minorgridcolor\": \"white\", \"startlinecolor\": \"#2a3f5f\"}, \"baxis\": {\"endlinecolor\": \"#2a3f5f\", \"gridcolor\": \"white\", \"linecolor\": \"white\", \"minorgridcolor\": \"white\", \"startlinecolor\": \"#2a3f5f\"}, \"type\": \"carpet\"}], \"choropleth\": [{\"colorbar\": {\"outlinewidth\": 0, \"ticks\": \"\"}, \"type\": \"choropleth\"}], \"contour\": [{\"colorbar\": {\"outlinewidth\": 0, \"ticks\": \"\"}, \"colorscale\": [[0.0, \"#0d0887\"], [0.1111111111111111, \"#46039f\"], [0.2222222222222222, \"#7201a8\"], [0.3333333333333333, \"#9c179e\"], [0.4444444444444444, \"#bd3786\"], [0.5555555555555556, \"#d8576b\"], [0.6666666666666666, \"#ed7953\"], [0.7777777777777778, \"#fb9f3a\"], [0.8888888888888888, \"#fdca26\"], [1.0, \"#f0f921\"]], \"type\": \"contour\"}], \"contourcarpet\": [{\"colorbar\": {\"outlinewidth\": 0, \"ticks\": \"\"}, \"type\": \"contourcarpet\"}], \"heatmap\": [{\"colorbar\": {\"outlinewidth\": 0, \"ticks\": \"\"}, \"colorscale\": [[0.0, \"#0d0887\"], [0.1111111111111111, \"#46039f\"], [0.2222222222222222, \"#7201a8\"], [0.3333333333333333, \"#9c179e\"], [0.4444444444444444, \"#bd3786\"], [0.5555555555555556, \"#d8576b\"], [0.6666666666666666, \"#ed7953\"], [0.7777777777777778, \"#fb9f3a\"], [0.8888888888888888, \"#fdca26\"], [1.0, \"#f0f921\"]], \"type\": \"heatmap\"}], \"heatmapgl\": [{\"colorbar\": {\"outlinewidth\": 0, \"ticks\": \"\"}, \"colorscale\": [[0.0, \"#0d0887\"], [0.1111111111111111, \"#46039f\"], [0.2222222222222222, \"#7201a8\"], [0.3333333333333333, \"#9c179e\"], [0.4444444444444444, \"#bd3786\"], [0.5555555555555556, \"#d8576b\"], [0.6666666666666666, \"#ed7953\"], [0.7777777777777778, \"#fb9f3a\"], [0.8888888888888888, \"#fdca26\"], [1.0, \"#f0f921\"]], \"type\": \"heatmapgl\"}], \"histogram\": [{\"marker\": {\"colorbar\": {\"outlinewidth\": 0, \"ticks\": \"\"}}, \"type\": \"histogram\"}], \"histogram2d\": [{\"colorbar\": {\"outlinewidth\": 0, \"ticks\": \"\"}, \"colorscale\": [[0.0, \"#0d0887\"], [0.1111111111111111, \"#46039f\"], [0.2222222222222222, \"#7201a8\"], [0.3333333333333333, \"#9c179e\"], [0.4444444444444444, \"#bd3786\"], [0.5555555555555556, \"#d8576b\"], [0.6666666666666666, \"#ed7953\"], [0.7777777777777778, \"#fb9f3a\"], [0.8888888888888888, \"#fdca26\"], [1.0, \"#f0f921\"]], \"type\": \"histogram2d\"}], \"histogram2dcontour\": [{\"colorbar\": {\"outlinewidth\": 0, \"ticks\": \"\"}, \"colorscale\": [[0.0, \"#0d0887\"], [0.1111111111111111, \"#46039f\"], [0.2222222222222222, \"#7201a8\"], [0.3333333333333333, \"#9c179e\"], [0.4444444444444444, \"#bd3786\"], [0.5555555555555556, \"#d8576b\"], [0.6666666666666666, \"#ed7953\"], [0.7777777777777778, \"#fb9f3a\"], [0.8888888888888888, \"#fdca26\"], [1.0, \"#f0f921\"]], \"type\": \"histogram2dcontour\"}], \"mesh3d\": [{\"colorbar\": {\"outlinewidth\": 0, \"ticks\": \"\"}, \"type\": \"mesh3d\"}], \"parcoords\": [{\"line\": {\"colorbar\": {\"outlinewidth\": 0, \"ticks\": \"\"}}, \"type\": \"parcoords\"}], \"pie\": [{\"automargin\": true, \"type\": \"pie\"}], \"scatter\": [{\"marker\": {\"colorbar\": {\"outlinewidth\": 0, \"ticks\": \"\"}}, \"type\": \"scatter\"}], \"scatter3d\": [{\"line\": {\"colorbar\": {\"outlinewidth\": 0, \"ticks\": \"\"}}, \"marker\": {\"colorbar\": {\"outlinewidth\": 0, \"ticks\": \"\"}}, \"type\": \"scatter3d\"}], \"scattercarpet\": [{\"marker\": {\"colorbar\": {\"outlinewidth\": 0, \"ticks\": \"\"}}, \"type\": \"scattercarpet\"}], \"scattergeo\": [{\"marker\": {\"colorbar\": {\"outlinewidth\": 0, \"ticks\": \"\"}}, \"type\": \"scattergeo\"}], \"scattergl\": [{\"marker\": {\"colorbar\": {\"outlinewidth\": 0, \"ticks\": \"\"}}, \"type\": \"scattergl\"}], \"scattermapbox\": [{\"marker\": {\"colorbar\": {\"outlinewidth\": 0, \"ticks\": \"\"}}, \"type\": \"scattermapbox\"}], \"scatterpolar\": [{\"marker\": {\"colorbar\": {\"outlinewidth\": 0, \"ticks\": \"\"}}, \"type\": \"scatterpolar\"}], \"scatterpolargl\": [{\"marker\": {\"colorbar\": {\"outlinewidth\": 0, \"ticks\": \"\"}}, \"type\": \"scatterpolargl\"}], \"scatterternary\": [{\"marker\": {\"colorbar\": {\"outlinewidth\": 0, \"ticks\": \"\"}}, \"type\": \"scatterternary\"}], \"surface\": [{\"colorbar\": {\"outlinewidth\": 0, \"ticks\": \"\"}, \"colorscale\": [[0.0, \"#0d0887\"], [0.1111111111111111, \"#46039f\"], [0.2222222222222222, \"#7201a8\"], [0.3333333333333333, \"#9c179e\"], [0.4444444444444444, \"#bd3786\"], [0.5555555555555556, \"#d8576b\"], [0.6666666666666666, \"#ed7953\"], [0.7777777777777778, \"#fb9f3a\"], [0.8888888888888888, \"#fdca26\"], [1.0, \"#f0f921\"]], \"type\": \"surface\"}], \"table\": [{\"cells\": {\"fill\": {\"color\": \"#EBF0F8\"}, \"line\": {\"color\": \"white\"}}, \"header\": {\"fill\": {\"color\": \"#C8D4E3\"}, \"line\": {\"color\": \"white\"}}, \"type\": \"table\"}]}, \"layout\": {\"annotationdefaults\": {\"arrowcolor\": \"#2a3f5f\", \"arrowhead\": 0, \"arrowwidth\": 1}, \"coloraxis\": {\"colorbar\": {\"outlinewidth\": 0, \"ticks\": \"\"}}, \"colorscale\": {\"diverging\": [[0, \"#8e0152\"], [0.1, \"#c51b7d\"], [0.2, \"#de77ae\"], [0.3, \"#f1b6da\"], [0.4, \"#fde0ef\"], [0.5, \"#f7f7f7\"], [0.6, \"#e6f5d0\"], [0.7, \"#b8e186\"], [0.8, \"#7fbc41\"], [0.9, \"#4d9221\"], [1, \"#276419\"]], \"sequential\": [[0.0, \"#0d0887\"], [0.1111111111111111, \"#46039f\"], [0.2222222222222222, \"#7201a8\"], [0.3333333333333333, \"#9c179e\"], [0.4444444444444444, \"#bd3786\"], [0.5555555555555556, \"#d8576b\"], [0.6666666666666666, \"#ed7953\"], [0.7777777777777778, \"#fb9f3a\"], [0.8888888888888888, \"#fdca26\"], [1.0, \"#f0f921\"]], \"sequentialminus\": [[0.0, \"#0d0887\"], [0.1111111111111111, \"#46039f\"], [0.2222222222222222, \"#7201a8\"], [0.3333333333333333, \"#9c179e\"], [0.4444444444444444, \"#bd3786\"], [0.5555555555555556, \"#d8576b\"], [0.6666666666666666, \"#ed7953\"], [0.7777777777777778, \"#fb9f3a\"], [0.8888888888888888, \"#fdca26\"], [1.0, \"#f0f921\"]]}, \"colorway\": [\"#636efa\", \"#EF553B\", \"#00cc96\", \"#ab63fa\", \"#FFA15A\", \"#19d3f3\", \"#FF6692\", \"#B6E880\", \"#FF97FF\", \"#FECB52\"], \"font\": {\"color\": \"#2a3f5f\"}, \"geo\": {\"bgcolor\": \"white\", \"lakecolor\": \"white\", \"landcolor\": \"#E5ECF6\", \"showlakes\": true, \"showland\": true, \"subunitcolor\": \"white\"}, \"hoverlabel\": {\"align\": \"left\"}, \"hovermode\": \"closest\", \"mapbox\": {\"style\": \"light\"}, \"paper_bgcolor\": \"white\", \"plot_bgcolor\": \"#E5ECF6\", \"polar\": {\"angularaxis\": {\"gridcolor\": \"white\", \"linecolor\": \"white\", \"ticks\": \"\"}, \"bgcolor\": \"#E5ECF6\", \"radialaxis\": {\"gridcolor\": \"white\", \"linecolor\": \"white\", \"ticks\": \"\"}}, \"scene\": {\"xaxis\": {\"backgroundcolor\": \"#E5ECF6\", \"gridcolor\": \"white\", \"gridwidth\": 2, \"linecolor\": \"white\", \"showbackground\": true, \"ticks\": \"\", \"zerolinecolor\": \"white\"}, \"yaxis\": {\"backgroundcolor\": \"#E5ECF6\", \"gridcolor\": \"white\", \"gridwidth\": 2, \"linecolor\": \"white\", \"showbackground\": true, \"ticks\": \"\", \"zerolinecolor\": \"white\"}, \"zaxis\": {\"backgroundcolor\": \"#E5ECF6\", \"gridcolor\": \"white\", \"gridwidth\": 2, \"linecolor\": \"white\", \"showbackground\": true, \"ticks\": \"\", \"zerolinecolor\": \"white\"}}, \"shapedefaults\": {\"line\": {\"color\": \"#2a3f5f\"}}, \"ternary\": {\"aaxis\": {\"gridcolor\": \"white\", \"linecolor\": \"white\", \"ticks\": \"\"}, \"baxis\": {\"gridcolor\": \"white\", \"linecolor\": \"white\", \"ticks\": \"\"}, \"bgcolor\": \"#E5ECF6\", \"caxis\": {\"gridcolor\": \"white\", \"linecolor\": \"white\", \"ticks\": \"\"}}, \"title\": {\"x\": 0.05}, \"xaxis\": {\"automargin\": true, \"gridcolor\": \"white\", \"linecolor\": \"white\", \"ticks\": \"\", \"title\": {\"standoff\": 15}, \"zerolinecolor\": \"white\", \"zerolinewidth\": 2}, \"yaxis\": {\"automargin\": true, \"gridcolor\": \"white\", \"linecolor\": \"white\", \"ticks\": \"\", \"title\": {\"standoff\": 15}, \"zerolinecolor\": \"white\", \"zerolinewidth\": 2}}}, \"title\": {\"text\": \"Feature importance with Tenure included\"}, \"xaxis\": {\"anchor\": \"y\", \"domain\": [0.0, 1.0], \"title\": {\"text\": \"x\"}}, \"yaxis\": {\"anchor\": \"x\", \"domain\": [0.0, 1.0], \"title\": {\"text\": \"Score\"}}},\n",
       "                        {\"responsive\": true}\n",
       "                    ).then(function(){\n",
       "                            \n",
       "var gd = document.getElementById('2a7443c6-ba0b-4241-a550-860336252dd9');\n",
       "var x = new MutationObserver(function (mutations, observer) {{\n",
       "        var display = window.getComputedStyle(gd).display;\n",
       "        if (!display || display === 'none') {{\n",
       "            console.log([gd, 'removed!']);\n",
       "            Plotly.purge(gd);\n",
       "            observer.disconnect();\n",
       "        }}\n",
       "}});\n",
       "\n",
       "// Listen for the removal of the full notebook cells\n",
       "var notebookContainer = gd.closest('#notebook-container');\n",
       "if (notebookContainer) {{\n",
       "    x.observe(notebookContainer, {childList: true});\n",
       "}}\n",
       "\n",
       "// Listen for the clearing of the current output cell\n",
       "var outputEl = gd.closest('.output');\n",
       "if (outputEl) {{\n",
       "    x.observe(outputEl, {childList: true});\n",
       "}}\n",
       "\n",
       "                        })\n",
       "                };\n",
       "                });\n",
       "            </script>\n",
       "        </div>"
      ]
     },
     "metadata": {},
     "output_type": "display_data"
    }
   ],
   "source": [
    "x = pd.DataFrame(data_mod2.columns)\n",
    "x.columns=['Feature']\n",
    "x.reset_index(inplace=True)\n",
    "x.drop(columns='index',axis=1,inplace=True)\n",
    "x.drop(index=5,inplace=True)\n",
    "tree1.feature_importances_.shape\n",
    "x['Importance']=tree1.feature_importances_\n",
    "x.sort_values(by='Importance',ascending=False,inplace=True)\n",
    "px.bar(x=x.Feature,y=x.Importance,labels={'y':'Score'},title=\"Feature importance with Tenure included\")"
   ]
  },
  {
   "cell_type": "code",
   "execution_count": 56,
   "metadata": {
    "execution": {
     "iopub.execute_input": "2020-09-11T16:26:46.598844Z",
     "iopub.status.busy": "2020-09-11T16:26:46.596585Z",
     "iopub.status.idle": "2020-09-11T16:26:46.627848Z",
     "shell.execute_reply": "2020-09-11T16:26:46.628398Z"
    },
    "id": "kI3fdN2PG4HI",
    "papermill": {
     "duration": 0.121784,
     "end_time": "2020-09-11T16:26:46.628568",
     "exception": false,
     "start_time": "2020-09-11T16:26:46.506784",
     "status": "completed"
    },
    "tags": []
   },
   "outputs": [],
   "source": [
    "data_mod3 = pd.get_dummies(data,columns=['InternetService','Contract','PaymentMethod','MultipleLines','PhoneService','OnlineSecurity','OnlineBackup','DeviceProtection','TechSupport','StreamingTV','StreamingMovies'])\n",
    "data_mod3.replace(to_replace='No',value='0',inplace=True)\n",
    "data_mod3.replace(to_replace='Yes',value='1',inplace=True)\n",
    "data_mod3['gender'].replace(to_replace='Female',value='1',inplace=True)\n",
    "data_mod3['gender'].replace(to_replace='Male',value='0',inplace=True)\n",
    "data_mod3.head()\n",
    "data_mod3.drop(columns='tenure',axis=1,inplace=True)"
   ]
  },
  {
   "cell_type": "code",
   "execution_count": 57,
   "metadata": {
    "execution": {
     "iopub.execute_input": "2020-09-11T16:26:46.791479Z",
     "iopub.status.busy": "2020-09-11T16:26:46.790802Z",
     "iopub.status.idle": "2020-09-11T16:26:46.796890Z",
     "shell.execute_reply": "2020-09-11T16:26:46.797478Z"
    },
    "id": "Uq93a3D8HHlB",
    "papermill": {
     "duration": 0.08933,
     "end_time": "2020-09-11T16:26:46.797630",
     "exception": false,
     "start_time": "2020-09-11T16:26:46.708300",
     "status": "completed"
    },
    "tags": []
   },
   "outputs": [],
   "source": [
    "x4= data_mod3.drop(columns='TotalCharges',axis=1)\n",
    "y4 = data_mod3['TotalCharges']"
   ]
  },
  {
   "cell_type": "code",
   "execution_count": 58,
   "metadata": {
    "execution": {
     "iopub.execute_input": "2020-09-11T16:26:46.960592Z",
     "iopub.status.busy": "2020-09-11T16:26:46.959886Z",
     "iopub.status.idle": "2020-09-11T16:26:46.969491Z",
     "shell.execute_reply": "2020-09-11T16:26:46.970054Z"
    },
    "id": "EDpkbHaQHQ2A",
    "outputId": "0fb73f99-c024-4c2b-a9ad-5d3def206e07",
    "papermill": {
     "duration": 0.093149,
     "end_time": "2020-09-11T16:26:46.970213",
     "exception": false,
     "start_time": "2020-09-11T16:26:46.877064",
     "status": "completed"
    },
    "tags": []
   },
   "outputs": [
    {
     "data": {
      "text/plain": [
       "(1450,)"
      ]
     },
     "execution_count": 58,
     "metadata": {},
     "output_type": "execute_result"
    }
   ],
   "source": [
    "x_train4,x_test4,y_train4,y_test4 = train_test_split(x4,y4,test_size=0.3,random_state=121)\n",
    "x_train4.shape\n",
    "x_test4.shape\n",
    "y_train4.shape\n",
    "y_test4.shape"
   ]
  },
  {
   "cell_type": "code",
   "execution_count": 59,
   "metadata": {
    "execution": {
     "iopub.execute_input": "2020-09-11T16:26:47.136493Z",
     "iopub.status.busy": "2020-09-11T16:26:47.134194Z",
     "iopub.status.idle": "2020-09-11T16:26:47.179732Z",
     "shell.execute_reply": "2020-09-11T16:26:47.180325Z"
    },
    "id": "xxyEjUm4HWF9",
    "outputId": "5e9c25f4-4a5f-43f9-a724-03f58d4d145e",
    "papermill": {
     "duration": 0.130655,
     "end_time": "2020-09-11T16:26:47.180505",
     "exception": false,
     "start_time": "2020-09-11T16:26:47.049850",
     "status": "completed"
    },
    "tags": []
   },
   "outputs": [
    {
     "data": {
      "text/plain": [
       "0.5151798483419545"
      ]
     },
     "execution_count": 59,
     "metadata": {},
     "output_type": "execute_result"
    }
   ],
   "source": [
    "tree2 = DecisionTreeRegressor()\n",
    "tree2.fit(x_train4,y_train4)\n",
    "predict4 = tree2.predict(x_test4)\n",
    "r2_score(y_test4,predict4)"
   ]
  },
  {
   "cell_type": "code",
   "execution_count": 60,
   "metadata": {
    "execution": {
     "iopub.execute_input": "2020-09-11T16:26:47.347228Z",
     "iopub.status.busy": "2020-09-11T16:26:47.346158Z",
     "iopub.status.idle": "2020-09-11T16:26:47.409969Z",
     "shell.execute_reply": "2020-09-11T16:26:47.410456Z"
    },
    "id": "XN796N0-IsFg",
    "outputId": "0baa684b-458d-4fc2-d29a-6c1aea8ea122",
    "papermill": {
     "duration": 0.148616,
     "end_time": "2020-09-11T16:26:47.410610",
     "exception": false,
     "start_time": "2020-09-11T16:26:47.261994",
     "status": "completed"
    },
    "tags": []
   },
   "outputs": [
    {
     "data": {
      "text/html": [
       "<div>\n",
       "        \n",
       "        \n",
       "            <div id=\"e88285c5-691e-41b8-9a63-5d9d056ec144\" class=\"plotly-graph-div\" style=\"height:525px; width:100%;\"></div>\n",
       "            <script type=\"text/javascript\">\n",
       "                require([\"plotly\"], function(Plotly) {\n",
       "                    window.PLOTLYENV=window.PLOTLYENV || {};\n",
       "                    \n",
       "                if (document.getElementById(\"e88285c5-691e-41b8-9a63-5d9d056ec144\")) {\n",
       "                    Plotly.newPlot(\n",
       "                        'e88285c5-691e-41b8-9a63-5d9d056ec144',\n",
       "                        [{\"alignmentgroup\": \"True\", \"hovertemplate\": \"x=%{x}<br>Score=%{y}<extra></extra>\", \"legendgroup\": \"\", \"marker\": {\"color\": \"#636efa\"}, \"name\": \"\", \"offsetgroup\": \"\", \"orientation\": \"v\", \"showlegend\": false, \"textposition\": \"auto\", \"type\": \"bar\", \"x\": [\"Contract_Month-to-month\", \"InternetService_Fiber optic\", \"MultipleLines_No\", \"Contract_One year\", \"OnlineBackup_No\", \"Partner\", \"gender\", \"StreamingMovies_Yes\", \"SeniorCitizen\", \"OnlineBackup_Yes\", \"DeviceProtection_No\", \"StreamingTV_No\", \"PaymentMethod_Credit card (automatic)\", \"PaperlessBilling\", \"OnlineSecurity_No\", \"Dependents\", \"DeviceProtection_Yes\", \"OnlineSecurity_Yes\", \"StreamingTV_Yes\", \"MultipleLines_Yes\", \"PaymentMethod_Mailed check\", \"TechSupport_Yes\", \"PaymentMethod_Electronic check\", \"PaymentMethod_Bank transfer (automatic)\", \"StreamingMovies_No\", \"TechSupport_No\", \"InternetService_DSL\", \"PhoneService_Yes\", \"Contract_Two year\"], \"xaxis\": \"x\", \"y\": [0.44738320380128854, 0.08786022355757223, 0.06324197001545118, 0.052473180918147934, 0.026706427327304844, 0.026324109694197576, 0.023308146359221547, 0.019968557139783124, 0.019333297093912672, 0.018735441699291693, 0.017277386845467275, 0.016833118628167425, 0.01637758577043793, 0.016358623384223222, 0.01600690635541228, 0.014970782668925986, 0.013707807720720644, 0.012358682206650123, 0.012307461829927509, 0.012194485259057856, 0.01197854608947299, 0.011101978477273103, 0.010704287539257683, 0.010592644455043064, 0.008073306380393955, 0.007992661257518635, 0.005829177525879114, 0.0, 0.0], \"yaxis\": \"y\"}],\n",
       "                        {\"barmode\": \"relative\", \"legend\": {\"tracegroupgap\": 0}, \"template\": {\"data\": {\"bar\": [{\"error_x\": {\"color\": \"#2a3f5f\"}, \"error_y\": {\"color\": \"#2a3f5f\"}, \"marker\": {\"line\": {\"color\": \"#E5ECF6\", \"width\": 0.5}}, \"type\": \"bar\"}], \"barpolar\": [{\"marker\": {\"line\": {\"color\": \"#E5ECF6\", \"width\": 0.5}}, \"type\": \"barpolar\"}], \"carpet\": [{\"aaxis\": {\"endlinecolor\": \"#2a3f5f\", \"gridcolor\": \"white\", \"linecolor\": \"white\", \"minorgridcolor\": \"white\", \"startlinecolor\": \"#2a3f5f\"}, \"baxis\": {\"endlinecolor\": \"#2a3f5f\", \"gridcolor\": \"white\", \"linecolor\": \"white\", \"minorgridcolor\": \"white\", \"startlinecolor\": \"#2a3f5f\"}, \"type\": \"carpet\"}], \"choropleth\": [{\"colorbar\": {\"outlinewidth\": 0, \"ticks\": \"\"}, \"type\": \"choropleth\"}], \"contour\": [{\"colorbar\": {\"outlinewidth\": 0, \"ticks\": \"\"}, \"colorscale\": [[0.0, \"#0d0887\"], [0.1111111111111111, \"#46039f\"], [0.2222222222222222, \"#7201a8\"], [0.3333333333333333, \"#9c179e\"], [0.4444444444444444, \"#bd3786\"], [0.5555555555555556, \"#d8576b\"], [0.6666666666666666, \"#ed7953\"], [0.7777777777777778, \"#fb9f3a\"], [0.8888888888888888, \"#fdca26\"], [1.0, \"#f0f921\"]], \"type\": \"contour\"}], \"contourcarpet\": [{\"colorbar\": {\"outlinewidth\": 0, \"ticks\": \"\"}, \"type\": \"contourcarpet\"}], \"heatmap\": [{\"colorbar\": {\"outlinewidth\": 0, \"ticks\": \"\"}, \"colorscale\": [[0.0, \"#0d0887\"], [0.1111111111111111, \"#46039f\"], [0.2222222222222222, \"#7201a8\"], [0.3333333333333333, \"#9c179e\"], [0.4444444444444444, \"#bd3786\"], [0.5555555555555556, \"#d8576b\"], [0.6666666666666666, \"#ed7953\"], [0.7777777777777778, \"#fb9f3a\"], [0.8888888888888888, \"#fdca26\"], [1.0, \"#f0f921\"]], \"type\": \"heatmap\"}], \"heatmapgl\": [{\"colorbar\": {\"outlinewidth\": 0, \"ticks\": \"\"}, \"colorscale\": [[0.0, \"#0d0887\"], [0.1111111111111111, \"#46039f\"], [0.2222222222222222, \"#7201a8\"], [0.3333333333333333, \"#9c179e\"], [0.4444444444444444, \"#bd3786\"], [0.5555555555555556, \"#d8576b\"], [0.6666666666666666, \"#ed7953\"], [0.7777777777777778, \"#fb9f3a\"], [0.8888888888888888, \"#fdca26\"], [1.0, \"#f0f921\"]], \"type\": \"heatmapgl\"}], \"histogram\": [{\"marker\": {\"colorbar\": {\"outlinewidth\": 0, \"ticks\": \"\"}}, \"type\": \"histogram\"}], \"histogram2d\": [{\"colorbar\": {\"outlinewidth\": 0, \"ticks\": \"\"}, \"colorscale\": [[0.0, \"#0d0887\"], [0.1111111111111111, \"#46039f\"], [0.2222222222222222, \"#7201a8\"], [0.3333333333333333, \"#9c179e\"], [0.4444444444444444, \"#bd3786\"], [0.5555555555555556, \"#d8576b\"], [0.6666666666666666, \"#ed7953\"], [0.7777777777777778, \"#fb9f3a\"], [0.8888888888888888, \"#fdca26\"], [1.0, \"#f0f921\"]], \"type\": \"histogram2d\"}], \"histogram2dcontour\": [{\"colorbar\": {\"outlinewidth\": 0, \"ticks\": \"\"}, \"colorscale\": [[0.0, \"#0d0887\"], [0.1111111111111111, \"#46039f\"], [0.2222222222222222, \"#7201a8\"], [0.3333333333333333, \"#9c179e\"], [0.4444444444444444, \"#bd3786\"], [0.5555555555555556, \"#d8576b\"], [0.6666666666666666, \"#ed7953\"], [0.7777777777777778, \"#fb9f3a\"], [0.8888888888888888, \"#fdca26\"], [1.0, \"#f0f921\"]], \"type\": \"histogram2dcontour\"}], \"mesh3d\": [{\"colorbar\": {\"outlinewidth\": 0, \"ticks\": \"\"}, \"type\": \"mesh3d\"}], \"parcoords\": [{\"line\": {\"colorbar\": {\"outlinewidth\": 0, \"ticks\": \"\"}}, \"type\": \"parcoords\"}], \"pie\": [{\"automargin\": true, \"type\": \"pie\"}], \"scatter\": [{\"marker\": {\"colorbar\": {\"outlinewidth\": 0, \"ticks\": \"\"}}, \"type\": \"scatter\"}], \"scatter3d\": [{\"line\": {\"colorbar\": {\"outlinewidth\": 0, \"ticks\": \"\"}}, \"marker\": {\"colorbar\": {\"outlinewidth\": 0, \"ticks\": \"\"}}, \"type\": \"scatter3d\"}], \"scattercarpet\": [{\"marker\": {\"colorbar\": {\"outlinewidth\": 0, \"ticks\": \"\"}}, \"type\": \"scattercarpet\"}], \"scattergeo\": [{\"marker\": {\"colorbar\": {\"outlinewidth\": 0, \"ticks\": \"\"}}, \"type\": \"scattergeo\"}], \"scattergl\": [{\"marker\": {\"colorbar\": {\"outlinewidth\": 0, \"ticks\": \"\"}}, \"type\": \"scattergl\"}], \"scattermapbox\": [{\"marker\": {\"colorbar\": {\"outlinewidth\": 0, \"ticks\": \"\"}}, \"type\": \"scattermapbox\"}], \"scatterpolar\": [{\"marker\": {\"colorbar\": {\"outlinewidth\": 0, \"ticks\": \"\"}}, \"type\": \"scatterpolar\"}], \"scatterpolargl\": [{\"marker\": {\"colorbar\": {\"outlinewidth\": 0, \"ticks\": \"\"}}, \"type\": \"scatterpolargl\"}], \"scatterternary\": [{\"marker\": {\"colorbar\": {\"outlinewidth\": 0, \"ticks\": \"\"}}, \"type\": \"scatterternary\"}], \"surface\": [{\"colorbar\": {\"outlinewidth\": 0, \"ticks\": \"\"}, \"colorscale\": [[0.0, \"#0d0887\"], [0.1111111111111111, \"#46039f\"], [0.2222222222222222, \"#7201a8\"], [0.3333333333333333, \"#9c179e\"], [0.4444444444444444, \"#bd3786\"], [0.5555555555555556, \"#d8576b\"], [0.6666666666666666, \"#ed7953\"], [0.7777777777777778, \"#fb9f3a\"], [0.8888888888888888, \"#fdca26\"], [1.0, \"#f0f921\"]], \"type\": \"surface\"}], \"table\": [{\"cells\": {\"fill\": {\"color\": \"#EBF0F8\"}, \"line\": {\"color\": \"white\"}}, \"header\": {\"fill\": {\"color\": \"#C8D4E3\"}, \"line\": {\"color\": \"white\"}}, \"type\": \"table\"}]}, \"layout\": {\"annotationdefaults\": {\"arrowcolor\": \"#2a3f5f\", \"arrowhead\": 0, \"arrowwidth\": 1}, \"coloraxis\": {\"colorbar\": {\"outlinewidth\": 0, \"ticks\": \"\"}}, \"colorscale\": {\"diverging\": [[0, \"#8e0152\"], [0.1, \"#c51b7d\"], [0.2, \"#de77ae\"], [0.3, \"#f1b6da\"], [0.4, \"#fde0ef\"], [0.5, \"#f7f7f7\"], [0.6, \"#e6f5d0\"], [0.7, \"#b8e186\"], [0.8, \"#7fbc41\"], [0.9, \"#4d9221\"], [1, \"#276419\"]], \"sequential\": [[0.0, \"#0d0887\"], [0.1111111111111111, \"#46039f\"], [0.2222222222222222, \"#7201a8\"], [0.3333333333333333, \"#9c179e\"], [0.4444444444444444, \"#bd3786\"], [0.5555555555555556, \"#d8576b\"], [0.6666666666666666, \"#ed7953\"], [0.7777777777777778, \"#fb9f3a\"], [0.8888888888888888, \"#fdca26\"], [1.0, \"#f0f921\"]], \"sequentialminus\": [[0.0, \"#0d0887\"], [0.1111111111111111, \"#46039f\"], [0.2222222222222222, \"#7201a8\"], [0.3333333333333333, \"#9c179e\"], [0.4444444444444444, \"#bd3786\"], [0.5555555555555556, \"#d8576b\"], [0.6666666666666666, \"#ed7953\"], [0.7777777777777778, \"#fb9f3a\"], [0.8888888888888888, \"#fdca26\"], [1.0, \"#f0f921\"]]}, \"colorway\": [\"#636efa\", \"#EF553B\", \"#00cc96\", \"#ab63fa\", \"#FFA15A\", \"#19d3f3\", \"#FF6692\", \"#B6E880\", \"#FF97FF\", \"#FECB52\"], \"font\": {\"color\": \"#2a3f5f\"}, \"geo\": {\"bgcolor\": \"white\", \"lakecolor\": \"white\", \"landcolor\": \"#E5ECF6\", \"showlakes\": true, \"showland\": true, \"subunitcolor\": \"white\"}, \"hoverlabel\": {\"align\": \"left\"}, \"hovermode\": \"closest\", \"mapbox\": {\"style\": \"light\"}, \"paper_bgcolor\": \"white\", \"plot_bgcolor\": \"#E5ECF6\", \"polar\": {\"angularaxis\": {\"gridcolor\": \"white\", \"linecolor\": \"white\", \"ticks\": \"\"}, \"bgcolor\": \"#E5ECF6\", \"radialaxis\": {\"gridcolor\": \"white\", \"linecolor\": \"white\", \"ticks\": \"\"}}, \"scene\": {\"xaxis\": {\"backgroundcolor\": \"#E5ECF6\", \"gridcolor\": \"white\", \"gridwidth\": 2, \"linecolor\": \"white\", \"showbackground\": true, \"ticks\": \"\", \"zerolinecolor\": \"white\"}, \"yaxis\": {\"backgroundcolor\": \"#E5ECF6\", \"gridcolor\": \"white\", \"gridwidth\": 2, \"linecolor\": \"white\", \"showbackground\": true, \"ticks\": \"\", \"zerolinecolor\": \"white\"}, \"zaxis\": {\"backgroundcolor\": \"#E5ECF6\", \"gridcolor\": \"white\", \"gridwidth\": 2, \"linecolor\": \"white\", \"showbackground\": true, \"ticks\": \"\", \"zerolinecolor\": \"white\"}}, \"shapedefaults\": {\"line\": {\"color\": \"#2a3f5f\"}}, \"ternary\": {\"aaxis\": {\"gridcolor\": \"white\", \"linecolor\": \"white\", \"ticks\": \"\"}, \"baxis\": {\"gridcolor\": \"white\", \"linecolor\": \"white\", \"ticks\": \"\"}, \"bgcolor\": \"#E5ECF6\", \"caxis\": {\"gridcolor\": \"white\", \"linecolor\": \"white\", \"ticks\": \"\"}}, \"title\": {\"x\": 0.05}, \"xaxis\": {\"automargin\": true, \"gridcolor\": \"white\", \"linecolor\": \"white\", \"ticks\": \"\", \"title\": {\"standoff\": 15}, \"zerolinecolor\": \"white\", \"zerolinewidth\": 2}, \"yaxis\": {\"automargin\": true, \"gridcolor\": \"white\", \"linecolor\": \"white\", \"ticks\": \"\", \"title\": {\"standoff\": 15}, \"zerolinecolor\": \"white\", \"zerolinewidth\": 2}}}, \"title\": {\"text\": \"Feature importance without Tenure\"}, \"xaxis\": {\"anchor\": \"y\", \"domain\": [0.0, 1.0], \"title\": {\"text\": \"x\"}}, \"yaxis\": {\"anchor\": \"x\", \"domain\": [0.0, 1.0], \"title\": {\"text\": \"Score\"}}},\n",
       "                        {\"responsive\": true}\n",
       "                    ).then(function(){\n",
       "                            \n",
       "var gd = document.getElementById('e88285c5-691e-41b8-9a63-5d9d056ec144');\n",
       "var x = new MutationObserver(function (mutations, observer) {{\n",
       "        var display = window.getComputedStyle(gd).display;\n",
       "        if (!display || display === 'none') {{\n",
       "            console.log([gd, 'removed!']);\n",
       "            Plotly.purge(gd);\n",
       "            observer.disconnect();\n",
       "        }}\n",
       "}});\n",
       "\n",
       "// Listen for the removal of the full notebook cells\n",
       "var notebookContainer = gd.closest('#notebook-container');\n",
       "if (notebookContainer) {{\n",
       "    x.observe(notebookContainer, {childList: true});\n",
       "}}\n",
       "\n",
       "// Listen for the clearing of the current output cell\n",
       "var outputEl = gd.closest('.output');\n",
       "if (outputEl) {{\n",
       "    x.observe(outputEl, {childList: true});\n",
       "}}\n",
       "\n",
       "                        })\n",
       "                };\n",
       "                });\n",
       "            </script>\n",
       "        </div>"
      ]
     },
     "metadata": {},
     "output_type": "display_data"
    }
   ],
   "source": [
    "x1 = pd.DataFrame(data_mod3.columns)\n",
    "x1.columns=['Feature']\n",
    "x1.reset_index(inplace=True)\n",
    "x1.drop(columns='index',axis=1,inplace=True)\n",
    "x1.drop(index=5,inplace=True)\n",
    "tree2.feature_importances_.shape\n",
    "x1['Importance']=tree2.feature_importances_\n",
    "x1.sort_values(by='Importance',ascending=False,inplace=True)\n",
    "px.bar(x=x1.Feature,y=x1.Importance,labels={'y':'Score'},title=\"Feature importance without Tenure\")"
   ]
  },
  {
   "cell_type": "markdown",
   "metadata": {
    "id": "wqDfkZvXRC1r",
    "papermill": {
     "duration": 0.080418,
     "end_time": "2020-09-11T16:26:47.574419",
     "exception": false,
     "start_time": "2020-09-11T16:26:47.494001",
     "status": "completed"
    },
    "tags": []
   },
   "source": [
    "## Conclusion\n",
    "\n",
    "We have predicted the Total Charges based on the given data and we see that linear regression gives the best prediction accuracy score among the models.\n",
    "\n",
    "**Decision Tree:**<br>\n",
    "We have an accuracy score of **0.98** with this model.\n",
    "We find the feature importance with Tenure and Monthly charges included and also with them being neglected.\n",
    "\n",
    "With Tenure and Monthly charges included they dominate the other features and they highly influence the output variable.\n",
    "\n",
    "with Tenure and Monthly Charges removed we can actually discover the other features which are important.\n",
    "We find people having month to month contract seem to be contributing to the total charges, the next important feature in line being people opting Optic Fiber for thier internet connection.\n",
    "\n",
    "**Knn:**<br>\n",
    "With Knn we see we get a food prediction accuracy at **k = 11**. We see an accuracy of **0.86**. This model is not much interpretable.\n",
    "\n",
    "**Linear Regression:**<br>\n",
    "with Linear Regression we find Fiber optic connection has higher weightage followed by streaming Tv and Streaming Movies. \n",
    "Phone connection has the highest negative relation with output. \n",
    "We also find that the model is giving an accuracy of **0.96** which is pretty good.\n",
    "\n",
    "When I run the model with no Internet connection I have Multiple phone connection contributing the highest to the total charges, followed by the tenure and payment method with check.\n",
    "\n",
    "**Verdict:**<br>\n",
    "With the models outputs and accuray levels I would prefer going with the Linear Regression model to predict the output because of :\n",
    "<br>\n",
    "The model is highly interpretable.<br>\n",
    "Changes in the input can be observed with the output to a high degree."
   ]
  },
  {
   "cell_type": "markdown",
   "metadata": {
    "id": "2IraH73HETHi",
    "papermill": {
     "duration": 0.080737,
     "end_time": "2020-09-11T16:26:47.737471",
     "exception": false,
     "start_time": "2020-09-11T16:26:47.656734",
     "status": "completed"
    },
    "tags": []
   },
   "source": []
  }
 ],
 "metadata": {
  "kernelspec": {
   "display_name": "Python 3",
   "language": "python",
   "name": "python3"
  },
  "language_info": {
   "codemirror_mode": {
    "name": "ipython",
    "version": 3
   },
   "file_extension": ".py",
   "mimetype": "text/x-python",
   "name": "python",
   "nbconvert_exporter": "python",
   "pygments_lexer": "ipython3",
   "version": "3.7.6"
  },
  "papermill": {
   "duration": 61.648947,
   "end_time": "2020-09-11T16:26:47.926944",
   "environment_variables": {},
   "exception": null,
   "input_path": "__notebook__.ipynb",
   "output_path": "__notebook__.ipynb",
   "parameters": {},
   "start_time": "2020-09-11T16:25:46.277997",
   "version": "2.1.0"
  }
 },
 "nbformat": 4,
 "nbformat_minor": 4
}
